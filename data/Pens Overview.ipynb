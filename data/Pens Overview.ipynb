{
 "cells": [
  {
   "cell_type": "code",
   "execution_count": 2,
   "metadata": {},
   "outputs": [],
   "source": [
    "import mysql.connector as sql\n",
    "import pandas as pd\n",
    "import datetime as dt\n",
    "import numpy as np\n",
    "from sorted_months_weekdays import *\n",
    "from sort_dataframeby_monthorweek import *\n",
    "import matplotlib.pyplot as plt\n",
    "import math"
   ]
  },
  {
   "cell_type": "code",
   "execution_count": 8,
   "metadata": {},
   "outputs": [],
   "source": [
    "db_connection = sql.connect(host='localhost', database='collection_visits', user='pandas', password='password')\n",
    "\n",
    "pens = pd.read_sql('SELECT * FROM Pens', con=db_connection)\n",
    "pens['note'] = pens['note'].astype('category')\n",
    "pens['registered'].replace(0, np.nan, inplace=True)\n",
    "pens['registered'] = pd.to_datetime(pens['registered'], unit='s')\n",
    "pens['lastmodified'].replace(0, np.nan, inplace=True)\n",
    "pens['lastmodified'] = pd.to_datetime(pens['lastmodified'], unit='s')\n",
    "pens['disabled'].replace(0, np.nan, inplace=True)\n",
    "pens['disabled'] = pd.to_datetime(pens['disabled'], unit='s')\n",
    "pens['retired'].replace(0, np.nan, inplace=True)\n",
    "pens['retired'] = pd.to_datetime(pens['retired'], unit='s')\n",
    "\n",
    "pens.sort_values(by='registered', inplace=True)"
   ]
  },
  {
   "cell_type": "code",
   "execution_count": 9,
   "metadata": {},
   "outputs": [],
   "source": [
    "pd.set_option('display.max_rows', 200)\n",
    "pd.set_option('display.max_columns', 50)\n",
    "pd.set_option(\"max_colwidth\", 300)"
   ]
  },
  {
   "cell_type": "code",
   "execution_count": 10,
   "metadata": {},
   "outputs": [
    {
     "data": {
      "text/html": [
       "<div>\n",
       "<style scoped>\n",
       "    .dataframe tbody tr th:only-of-type {\n",
       "        vertical-align: middle;\n",
       "    }\n",
       "\n",
       "    .dataframe tbody tr th {\n",
       "        vertical-align: top;\n",
       "    }\n",
       "\n",
       "    .dataframe thead th {\n",
       "        text-align: right;\n",
       "    }\n",
       "</style>\n",
       "<table border=\"1\" class=\"dataframe\">\n",
       "  <thead>\n",
       "    <tr style=\"text-align: right;\">\n",
       "      <th></th>\n",
       "      <th>id</th>\n",
       "      <th>registered_by_user_id</th>\n",
       "      <th>registered_by_api_key</th>\n",
       "      <th>registered</th>\n",
       "      <th>lastmodified</th>\n",
       "      <th>disabled</th>\n",
       "      <th>retired</th>\n",
       "      <th>note</th>\n",
       "      <th>uid</th>\n",
       "      <th>retired_by_user_id</th>\n",
       "      <th>disabled_by_user_id</th>\n",
       "    </tr>\n",
       "  </thead>\n",
       "  <tbody>\n",
       "    <tr>\n",
       "      <th>0</th>\n",
       "      <td>1</td>\n",
       "      <td>3</td>\n",
       "      <td>777677</td>\n",
       "      <td>2014-05-22 16:07:20</td>\n",
       "      <td>2015-01-30 23:21:37</td>\n",
       "      <td>2015-01-30 23:21:37</td>\n",
       "      <td>2015-01-30 23:21:37</td>\n",
       "      <td>millerfox</td>\n",
       "      <td>6b6bb53fb257abdf</td>\n",
       "      <td>3</td>\n",
       "      <td>3</td>\n",
       "    </tr>\n",
       "    <tr>\n",
       "      <th>1</th>\n",
       "      <td>2</td>\n",
       "      <td>3</td>\n",
       "      <td>777677</td>\n",
       "      <td>2014-05-22 16:07:29</td>\n",
       "      <td>2015-01-30 23:24:15</td>\n",
       "      <td>2015-01-30 23:24:15</td>\n",
       "      <td>NaT</td>\n",
       "      <td>millerfox</td>\n",
       "      <td>533dcbd9d4ed45f0</td>\n",
       "      <td>0</td>\n",
       "      <td>3</td>\n",
       "    </tr>\n",
       "    <tr>\n",
       "      <th>2</th>\n",
       "      <td>3</td>\n",
       "      <td>3</td>\n",
       "      <td>777677</td>\n",
       "      <td>2014-05-22 16:07:53</td>\n",
       "      <td>2014-11-14 23:34:05</td>\n",
       "      <td>NaT</td>\n",
       "      <td>NaT</td>\n",
       "      <td>millerfox</td>\n",
       "      <td>fc83486cd48f21d5</td>\n",
       "      <td>0</td>\n",
       "      <td>0</td>\n",
       "    </tr>\n",
       "    <tr>\n",
       "      <th>3</th>\n",
       "      <td>4</td>\n",
       "      <td>3</td>\n",
       "      <td>777677</td>\n",
       "      <td>2014-05-22 16:07:59</td>\n",
       "      <td>2014-11-14 23:34:05</td>\n",
       "      <td>NaT</td>\n",
       "      <td>NaT</td>\n",
       "      <td>millerfox</td>\n",
       "      <td>29835c28eed2bf63</td>\n",
       "      <td>0</td>\n",
       "      <td>0</td>\n",
       "    </tr>\n",
       "    <tr>\n",
       "      <th>4</th>\n",
       "      <td>5</td>\n",
       "      <td>3</td>\n",
       "      <td>777677</td>\n",
       "      <td>2014-05-22 16:08:09</td>\n",
       "      <td>2014-11-14 23:34:05</td>\n",
       "      <td>NaT</td>\n",
       "      <td>NaT</td>\n",
       "      <td>millerfox</td>\n",
       "      <td>c780a4881f6e3d2a</td>\n",
       "      <td>0</td>\n",
       "      <td>0</td>\n",
       "    </tr>\n",
       "    <tr>\n",
       "      <th>...</th>\n",
       "      <td>...</td>\n",
       "      <td>...</td>\n",
       "      <td>...</td>\n",
       "      <td>...</td>\n",
       "      <td>...</td>\n",
       "      <td>...</td>\n",
       "      <td>...</td>\n",
       "      <td>...</td>\n",
       "      <td>...</td>\n",
       "      <td>...</td>\n",
       "      <td>...</td>\n",
       "    </tr>\n",
       "    <tr>\n",
       "      <th>3248</th>\n",
       "      <td>3860039</td>\n",
       "      <td>3</td>\n",
       "      <td>0</td>\n",
       "      <td>2015-04-03 19:09:07</td>\n",
       "      <td>NaT</td>\n",
       "      <td>NaT</td>\n",
       "      <td>NaT</td>\n",
       "      <td>production 20150301</td>\n",
       "      <td>91FF826F17001D00</td>\n",
       "      <td>0</td>\n",
       "      <td>0</td>\n",
       "    </tr>\n",
       "    <tr>\n",
       "      <th>3246</th>\n",
       "      <td>3860035</td>\n",
       "      <td>3</td>\n",
       "      <td>0</td>\n",
       "      <td>2015-04-03 19:09:07</td>\n",
       "      <td>NaT</td>\n",
       "      <td>NaT</td>\n",
       "      <td>NaT</td>\n",
       "      <td>production 20150301</td>\n",
       "      <td>91FF826F1A002600</td>\n",
       "      <td>0</td>\n",
       "      <td>0</td>\n",
       "    </tr>\n",
       "    <tr>\n",
       "      <th>3254</th>\n",
       "      <td>3860071</td>\n",
       "      <td>3</td>\n",
       "      <td>0</td>\n",
       "      <td>2015-04-03 19:09:07</td>\n",
       "      <td>NaT</td>\n",
       "      <td>NaT</td>\n",
       "      <td>NaT</td>\n",
       "      <td>production 20150301</td>\n",
       "      <td>91FF826F19001100</td>\n",
       "      <td>0</td>\n",
       "      <td>0</td>\n",
       "    </tr>\n",
       "    <tr>\n",
       "      <th>3249</th>\n",
       "      <td>3860041</td>\n",
       "      <td>3</td>\n",
       "      <td>0</td>\n",
       "      <td>2015-04-03 19:09:07</td>\n",
       "      <td>NaT</td>\n",
       "      <td>NaT</td>\n",
       "      <td>NaT</td>\n",
       "      <td>production 20150301</td>\n",
       "      <td>91FF826F19000100</td>\n",
       "      <td>0</td>\n",
       "      <td>0</td>\n",
       "    </tr>\n",
       "    <tr>\n",
       "      <th>3255</th>\n",
       "      <td>3860073</td>\n",
       "      <td>3</td>\n",
       "      <td>0</td>\n",
       "      <td>2015-04-03 19:09:08</td>\n",
       "      <td>NaT</td>\n",
       "      <td>NaT</td>\n",
       "      <td>NaT</td>\n",
       "      <td>production 20150301</td>\n",
       "      <td>90FF826F12000300</td>\n",
       "      <td>0</td>\n",
       "      <td>0</td>\n",
       "    </tr>\n",
       "  </tbody>\n",
       "</table>\n",
       "<p>3256 rows × 11 columns</p>\n",
       "</div>"
      ],
      "text/plain": [
       "           id  registered_by_user_id  registered_by_api_key  \\\n",
       "0           1                      3                 777677   \n",
       "1           2                      3                 777677   \n",
       "2           3                      3                 777677   \n",
       "3           4                      3                 777677   \n",
       "4           5                      3                 777677   \n",
       "...       ...                    ...                    ...   \n",
       "3248  3860039                      3                      0   \n",
       "3246  3860035                      3                      0   \n",
       "3254  3860071                      3                      0   \n",
       "3249  3860041                      3                      0   \n",
       "3255  3860073                      3                      0   \n",
       "\n",
       "              registered        lastmodified            disabled  \\\n",
       "0    2014-05-22 16:07:20 2015-01-30 23:21:37 2015-01-30 23:21:37   \n",
       "1    2014-05-22 16:07:29 2015-01-30 23:24:15 2015-01-30 23:24:15   \n",
       "2    2014-05-22 16:07:53 2014-11-14 23:34:05                 NaT   \n",
       "3    2014-05-22 16:07:59 2014-11-14 23:34:05                 NaT   \n",
       "4    2014-05-22 16:08:09 2014-11-14 23:34:05                 NaT   \n",
       "...                  ...                 ...                 ...   \n",
       "3248 2015-04-03 19:09:07                 NaT                 NaT   \n",
       "3246 2015-04-03 19:09:07                 NaT                 NaT   \n",
       "3254 2015-04-03 19:09:07                 NaT                 NaT   \n",
       "3249 2015-04-03 19:09:07                 NaT                 NaT   \n",
       "3255 2015-04-03 19:09:08                 NaT                 NaT   \n",
       "\n",
       "                 retired                 note               uid  \\\n",
       "0    2015-01-30 23:21:37            millerfox  6b6bb53fb257abdf   \n",
       "1                    NaT            millerfox  533dcbd9d4ed45f0   \n",
       "2                    NaT            millerfox  fc83486cd48f21d5   \n",
       "3                    NaT            millerfox  29835c28eed2bf63   \n",
       "4                    NaT            millerfox  c780a4881f6e3d2a   \n",
       "...                  ...                  ...               ...   \n",
       "3248                 NaT  production 20150301  91FF826F17001D00   \n",
       "3246                 NaT  production 20150301  91FF826F1A002600   \n",
       "3254                 NaT  production 20150301  91FF826F19001100   \n",
       "3249                 NaT  production 20150301  91FF826F19000100   \n",
       "3255                 NaT  production 20150301  90FF826F12000300   \n",
       "\n",
       "      retired_by_user_id  disabled_by_user_id  \n",
       "0                      3                    3  \n",
       "1                      0                    3  \n",
       "2                      0                    0  \n",
       "3                      0                    0  \n",
       "4                      0                    0  \n",
       "...                  ...                  ...  \n",
       "3248                   0                    0  \n",
       "3246                   0                    0  \n",
       "3254                   0                    0  \n",
       "3249                   0                    0  \n",
       "3255                   0                    0  \n",
       "\n",
       "[3256 rows x 11 columns]"
      ]
     },
     "execution_count": 10,
     "metadata": {},
     "output_type": "execute_result"
    }
   ],
   "source": [
    "pens"
   ]
  },
  {
   "cell_type": "code",
   "execution_count": 7,
   "metadata": {},
   "outputs": [
    {
     "name": "stdout",
     "output_type": "stream",
     "text": [
      "<class 'pandas.core.frame.DataFrame'>\n",
      "RangeIndex: 3256 entries, 0 to 3255\n",
      "Data columns (total 11 columns):\n",
      " #   Column                 Non-Null Count  Dtype         \n",
      "---  ------                 --------------  -----         \n",
      " 0   id                     3256 non-null   int64         \n",
      " 1   registered_by_user_id  3256 non-null   int64         \n",
      " 2   registered_by_api_key  3256 non-null   int64         \n",
      " 3   registered             3256 non-null   datetime64[ns]\n",
      " 4   lastmodified           2985 non-null   datetime64[ns]\n",
      " 5   disabled               2 non-null      datetime64[ns]\n",
      " 6   retired                1 non-null      datetime64[ns]\n",
      " 7   note                   3256 non-null   category      \n",
      " 8   uid                    3256 non-null   object        \n",
      " 9   retired_by_user_id     3256 non-null   int64         \n",
      " 10  disabled_by_user_id    3256 non-null   int64         \n",
      "dtypes: category(1), datetime64[ns](4), int64(5), object(1)\n",
      "memory usage: 258.4+ KB\n"
     ]
    }
   ],
   "source": [
    "pens.info()"
   ]
  },
  {
   "cell_type": "code",
   "execution_count": 12,
   "metadata": {},
   "outputs": [
    {
     "data": {
      "text/html": [
       "<div>\n",
       "<style scoped>\n",
       "    .dataframe tbody tr th:only-of-type {\n",
       "        vertical-align: middle;\n",
       "    }\n",
       "\n",
       "    .dataframe tbody tr th {\n",
       "        vertical-align: top;\n",
       "    }\n",
       "\n",
       "    .dataframe thead th {\n",
       "        text-align: right;\n",
       "    }\n",
       "</style>\n",
       "<table border=\"1\" class=\"dataframe\">\n",
       "  <thead>\n",
       "    <tr style=\"text-align: right;\">\n",
       "      <th></th>\n",
       "      <th>id</th>\n",
       "      <th>registered_by_user_id</th>\n",
       "      <th>registered_by_api_key</th>\n",
       "      <th>registered</th>\n",
       "      <th>lastmodified</th>\n",
       "      <th>disabled</th>\n",
       "      <th>retired</th>\n",
       "      <th>note</th>\n",
       "      <th>uid</th>\n",
       "      <th>retired_by_user_id</th>\n",
       "      <th>disabled_by_user_id</th>\n",
       "    </tr>\n",
       "  </thead>\n",
       "  <tbody>\n",
       "  </tbody>\n",
       "</table>\n",
       "</div>"
      ],
      "text/plain": [
       "Empty DataFrame\n",
       "Columns: [id, registered_by_user_id, registered_by_api_key, registered, lastmodified, disabled, retired, note, uid, retired_by_user_id, disabled_by_user_id]\n",
       "Index: []"
      ]
     },
     "execution_count": 12,
     "metadata": {},
     "output_type": "execute_result"
    }
   ],
   "source": [
    "pens[pens['id'].duplicated()]"
   ]
  },
  {
   "cell_type": "code",
   "execution_count": null,
   "metadata": {},
   "outputs": [],
   "source": [
    "#total 3256 pens were registered \n",
    "#the last one in 2015-04"
   ]
  },
  {
   "cell_type": "code",
   "execution_count": 16,
   "metadata": {},
   "outputs": [
    {
     "data": {
      "text/plain": [
       "<matplotlib.legend.Legend at 0x7f9416c69dd0>"
      ]
     },
     "execution_count": 16,
     "metadata": {},
     "output_type": "execute_result"
    },
    {
     "data": {
      "image/png": "[encoded data removed]",
      "text/plain": [
       "<Figure size 360x360 with 1 Axes>"
      ]
     },
     "metadata": {},
     "output_type": "display_data"
    }
   ],
   "source": [
    "pen_regitered = pens['registered'].groupby(pens.registered.dt.to_period(\"Y\")).agg('count')\n",
    "\n",
    "plt.figure(figsize=(8,5))\n",
    "plt.title('What year was with most new pens?', fontdict={'fontweight': 'bold', 'fontsize':18})\n",
    "pen_regitered.plot.pie(y='start', figsize=(5, 5),autopct='%1.1f%%', startangle=90, cmap='Blues_r')\n",
    "plt.ylabel('Values percentage')\n",
    "plt.legend()\n",
    "# plt.savefig('yearly_checkouts.png', dpi=300)"
   ]
  },
  {
   "cell_type": "code",
   "execution_count": 20,
   "metadata": {},
   "outputs": [
    {
     "data": {
      "text/plain": [
       "registered\n",
       "2015-02    3177\n",
       "2015-04      26\n",
       "2014-12      23\n",
       "2014-11      10\n",
       "2015-03      10\n",
       "Freq: M, Name: registered, dtype: int64"
      ]
     },
     "execution_count": 20,
     "metadata": {},
     "output_type": "execute_result"
    }
   ],
   "source": [
    "pen_regitered_monthly = pens['registered'].groupby(pens.registered.dt.to_period(\"M\")).agg('count')\n",
    "pen_regitered_monthly.nlargest()\n"
   ]
  },
  {
   "cell_type": "code",
   "execution_count": 17,
   "metadata": {},
   "outputs": [
    {
     "data": {
      "text/plain": [
       "<matplotlib.legend.Legend at 0x7f94179c5e90>"
      ]
     },
     "execution_count": 17,
     "metadata": {},
     "output_type": "execute_result"
    },
    {
     "data": {
      "image/png": "[encoded data removed]",
      "text/plain": [
       "<Figure size 360x360 with 1 Axes>"
      ]
     },
     "metadata": {},
     "output_type": "display_data"
    }
   ],
   "source": [
    "plt.figure(figsize=(8,5))\n",
    "plt.title('What month was with most new pens?', fontdict={'fontweight': 'bold', 'fontsize':18})\n",
    "pen_regitered_monthly.plot.pie(y='start', figsize=(5, 5),autopct='%1.1f%%', startangle=90)\n",
    "plt.ylabel('Values percentage')\n",
    "plt.legend()"
   ]
  },
  {
   "cell_type": "markdown",
   "metadata": {},
   "source": [
    "## summerize findings"
   ]
  },
  {
   "cell_type": "code",
   "execution_count": 23,
   "metadata": {},
   "outputs": [],
   "source": [
    "findings = [{'total_registered_pens': '3,256', 'last_register':'2015-05', 'top_year': '2015 with 98.7%', \n",
    "            'top_month': '2015-02 with 97.6%, which is 3,177 pens'}]\n",
    "\n",
    "pens_finding = pd.DataFrame(findings)"
   ]
  },
  {
   "cell_type": "code",
   "execution_count": 25,
   "metadata": {},
   "outputs": [
    {
     "data": {
      "text/html": [
       "<div>\n",
       "<style scoped>\n",
       "    .dataframe tbody tr th:only-of-type {\n",
       "        vertical-align: middle;\n",
       "    }\n",
       "\n",
       "    .dataframe tbody tr th {\n",
       "        vertical-align: top;\n",
       "    }\n",
       "\n",
       "    .dataframe thead th {\n",
       "        text-align: right;\n",
       "    }\n",
       "</style>\n",
       "<table border=\"1\" class=\"dataframe\">\n",
       "  <thead>\n",
       "    <tr style=\"text-align: right;\">\n",
       "      <th></th>\n",
       "      <th>0</th>\n",
       "    </tr>\n",
       "  </thead>\n",
       "  <tbody>\n",
       "    <tr>\n",
       "      <th>total_registered_pens</th>\n",
       "      <td>3,256</td>\n",
       "    </tr>\n",
       "    <tr>\n",
       "      <th>last_register</th>\n",
       "      <td>2015-05</td>\n",
       "    </tr>\n",
       "    <tr>\n",
       "      <th>top_year</th>\n",
       "      <td>2015 with 98.7%</td>\n",
       "    </tr>\n",
       "    <tr>\n",
       "      <th>top_month</th>\n",
       "      <td>2015-02 with 97.6%, which is 3,177 pens</td>\n",
       "    </tr>\n",
       "  </tbody>\n",
       "</table>\n",
       "</div>"
      ],
      "text/plain": [
       "                                                             0\n",
       "total_registered_pens                                    3,256\n",
       "last_register                                          2015-05\n",
       "top_year                                       2015 with 98.7%\n",
       "top_month              2015-02 with 97.6%, which is 3,177 pens"
      ]
     },
     "execution_count": 25,
     "metadata": {},
     "output_type": "execute_result"
    }
   ],
   "source": [
    "pens_finding.transpose()"
   ]
  },
  {
   "cell_type": "code",
   "execution_count": null,
   "metadata": {},
   "outputs": [],
   "source": []
  }
 ],
 "metadata": {
  "kernelspec": {
   "display_name": "Python 3",
   "language": "python",
   "name": "python3"
  },
  "language_info": {
   "codemirror_mode": {
    "name": "ipython",
    "version": 3
   },
   "file_extension": ".py",
   "mimetype": "text/x-python",
   "name": "python",
   "nbconvert_exporter": "python",
   "pygments_lexer": "ipython3",
   "version": "3.7.6"
  }
 },
 "nbformat": 4,
 "nbformat_minor": 4
}
