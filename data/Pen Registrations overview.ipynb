{
 "cells": [
  {
   "cell_type": "code",
   "execution_count": 1,
   "metadata": {},
   "outputs": [],
   "source": [
    "import mysql.connector as sql\n",
    "import pandas as pd\n",
    "import datetime as dt\n",
    "import numpy as np\n",
    "from sorted_months_weekdays import *\n",
    "from sort_dataframeby_monthorweek import *\n",
    "import matplotlib.pyplot as plt\n",
    "import math"
   ]
  },
  {
   "cell_type": "code",
   "execution_count": 2,
   "metadata": {},
   "outputs": [],
   "source": [
    "db_connection = sql.connect(host='localhost', database='collection_visits', user='pandas', password='password')\n",
    "\n",
    "pensRegisters = pd.read_sql('SELECT * FROM PensRegisters', con=db_connection)\n",
    "pensRegisters['created'] = pd.to_datetime(pensRegisters['created'], unit='s')\n",
    "pensRegisters['registers'].replace(r'^\\s*$', np.NaN, regex=True, inplace=True)\n",
    "pensRegisters['registers'].replace('None', np.NaN, regex=True, inplace=True)\n",
    "pensRegisters.set_index('id', inplace=True)"
   ]
  },
  {
   "cell_type": "code",
   "execution_count": 3,
   "metadata": {},
   "outputs": [
    {
     "data": {
      "text/html": [
       "<div>\n",
       "<style scoped>\n",
       "    .dataframe tbody tr th:only-of-type {\n",
       "        vertical-align: middle;\n",
       "    }\n",
       "\n",
       "    .dataframe tbody tr th {\n",
       "        vertical-align: top;\n",
       "    }\n",
       "\n",
       "    .dataframe thead th {\n",
       "        text-align: right;\n",
       "    }\n",
       "</style>\n",
       "<table border=\"1\" class=\"dataframe\">\n",
       "  <thead>\n",
       "    <tr style=\"text-align: right;\">\n",
       "      <th></th>\n",
       "      <th>pen_id</th>\n",
       "      <th>visit_id</th>\n",
       "      <th>registers</th>\n",
       "      <th>created</th>\n",
       "    </tr>\n",
       "    <tr>\n",
       "      <th>id</th>\n",
       "      <th></th>\n",
       "      <th></th>\n",
       "      <th></th>\n",
       "      <th></th>\n",
       "    </tr>\n",
       "  </thead>\n",
       "  <tbody>\n",
       "    <tr>\n",
       "      <th>0</th>\n",
       "      <td>1523211</td>\n",
       "      <td>1652511</td>\n",
       "      <td>{\"company\":\"0x0\",\"low_battery_level_reached_si...</td>\n",
       "      <td>2015-03-07 03:44:22</td>\n",
       "    </tr>\n",
       "    <tr>\n",
       "      <th>793417</th>\n",
       "      <td>8</td>\n",
       "      <td>793401</td>\n",
       "      <td>{\"vibra_on\":1,\"tag_counter_after_low_battery_l...</td>\n",
       "      <td>2014-10-23 15:45:29</td>\n",
       "    </tr>\n",
       "    <tr>\n",
       "      <th>796509</th>\n",
       "      <td>6</td>\n",
       "      <td>796261</td>\n",
       "      <td>{\"vibra_on\":1,\"tag_counter_after_low_battery_l...</td>\n",
       "      <td>2014-11-03 21:35:45</td>\n",
       "    </tr>\n",
       "    <tr>\n",
       "      <th>797847</th>\n",
       "      <td>9</td>\n",
       "      <td>797837</td>\n",
       "      <td>{\"vibra_on\":1,\"tag_counter_after_low_battery_l...</td>\n",
       "      <td>2014-11-04 20:33:11</td>\n",
       "    </tr>\n",
       "    <tr>\n",
       "      <th>798025</th>\n",
       "      <td>7</td>\n",
       "      <td>797915</td>\n",
       "      <td>{\"vibra_on\":1,\"tag_counter_after_low_battery_l...</td>\n",
       "      <td>2014-11-04 23:37:59</td>\n",
       "    </tr>\n",
       "    <tr>\n",
       "      <th>...</th>\n",
       "      <td>...</td>\n",
       "      <td>...</td>\n",
       "      <td>...</td>\n",
       "      <td>...</td>\n",
       "    </tr>\n",
       "    <tr>\n",
       "      <th>132777689</th>\n",
       "      <td>1524473</td>\n",
       "      <td>132777683</td>\n",
       "      <td>NaN</td>\n",
       "      <td>2020-07-02 20:22:39</td>\n",
       "    </tr>\n",
       "    <tr>\n",
       "      <th>132794707</th>\n",
       "      <td>1524473</td>\n",
       "      <td>132794701</td>\n",
       "      <td>NaN</td>\n",
       "      <td>2020-07-06 17:42:37</td>\n",
       "    </tr>\n",
       "    <tr>\n",
       "      <th>132806725</th>\n",
       "      <td>1524473</td>\n",
       "      <td>132806719</td>\n",
       "      <td>NaN</td>\n",
       "      <td>2020-07-09 13:12:38</td>\n",
       "    </tr>\n",
       "    <tr>\n",
       "      <th>132806733</th>\n",
       "      <td>1524473</td>\n",
       "      <td>132806727</td>\n",
       "      <td>NaN</td>\n",
       "      <td>2020-07-09 13:16:52</td>\n",
       "    </tr>\n",
       "    <tr>\n",
       "      <th>132806741</th>\n",
       "      <td>1524473</td>\n",
       "      <td>132806735</td>\n",
       "      <td>NaN</td>\n",
       "      <td>2020-07-09 13:20:09</td>\n",
       "    </tr>\n",
       "  </tbody>\n",
       "</table>\n",
       "<p>891118 rows × 4 columns</p>\n",
       "</div>"
      ],
      "text/plain": [
       "            pen_id   visit_id  \\\n",
       "id                              \n",
       "0          1523211    1652511   \n",
       "793417           8     793401   \n",
       "796509           6     796261   \n",
       "797847           9     797837   \n",
       "798025           7     797915   \n",
       "...            ...        ...   \n",
       "132777689  1524473  132777683   \n",
       "132794707  1524473  132794701   \n",
       "132806725  1524473  132806719   \n",
       "132806733  1524473  132806727   \n",
       "132806741  1524473  132806735   \n",
       "\n",
       "                                                   registers  \\\n",
       "id                                                             \n",
       "0          {\"company\":\"0x0\",\"low_battery_level_reached_si...   \n",
       "793417     {\"vibra_on\":1,\"tag_counter_after_low_battery_l...   \n",
       "796509     {\"vibra_on\":1,\"tag_counter_after_low_battery_l...   \n",
       "797847     {\"vibra_on\":1,\"tag_counter_after_low_battery_l...   \n",
       "798025     {\"vibra_on\":1,\"tag_counter_after_low_battery_l...   \n",
       "...                                                      ...   \n",
       "132777689                                                NaN   \n",
       "132794707                                                NaN   \n",
       "132806725                                                NaN   \n",
       "132806733                                                NaN   \n",
       "132806741                                                NaN   \n",
       "\n",
       "                      created  \n",
       "id                             \n",
       "0         2015-03-07 03:44:22  \n",
       "793417    2014-10-23 15:45:29  \n",
       "796509    2014-11-03 21:35:45  \n",
       "797847    2014-11-04 20:33:11  \n",
       "798025    2014-11-04 23:37:59  \n",
       "...                       ...  \n",
       "132777689 2020-07-02 20:22:39  \n",
       "132794707 2020-07-06 17:42:37  \n",
       "132806725 2020-07-09 13:12:38  \n",
       "132806733 2020-07-09 13:16:52  \n",
       "132806741 2020-07-09 13:20:09  \n",
       "\n",
       "[891118 rows x 4 columns]"
      ]
     },
     "execution_count": 3,
     "metadata": {},
     "output_type": "execute_result"
    }
   ],
   "source": [
    "pensRegisters.sort_index()"
   ]
  },
  {
   "cell_type": "code",
   "execution_count": 4,
   "metadata": {},
   "outputs": [
    {
     "name": "stdout",
     "output_type": "stream",
     "text": [
      "<class 'pandas.core.frame.DataFrame'>\n",
      "Int64Index: 891118 entries, 0 to 132806741\n",
      "Data columns (total 4 columns):\n",
      " #   Column     Non-Null Count   Dtype         \n",
      "---  ------     --------------   -----         \n",
      " 0   pen_id     891118 non-null  int64         \n",
      " 1   visit_id   891118 non-null  int64         \n",
      " 2   registers  891060 non-null  object        \n",
      " 3   created    891118 non-null  datetime64[ns]\n",
      "dtypes: datetime64[ns](1), int64(2), object(1)\n",
      "memory usage: 34.0+ MB\n"
     ]
    }
   ],
   "source": [
    "pensRegisters.info()"
   ]
  },
  {
   "cell_type": "code",
   "execution_count": 5,
   "metadata": {},
   "outputs": [
    {
     "data": {
      "text/plain": [
       "pen_id       891118\n",
       "visit_id     891118\n",
       "registers    891060\n",
       "created      891118\n",
       "dtype: int64"
      ]
     },
     "execution_count": 5,
     "metadata": {},
     "output_type": "execute_result"
    }
   ],
   "source": [
    "pensRegisters.count()\n",
    "#891,118 registrations "
   ]
  },
  {
   "cell_type": "code",
   "execution_count": 7,
   "metadata": {},
   "outputs": [
    {
     "data": {
      "text/plain": [
       "<matplotlib.legend.Legend at 0x7feb5bae1d90>"
      ]
     },
     "execution_count": 7,
     "metadata": {},
     "output_type": "execute_result"
    },
    {
     "data": {
      "image/png": "[encoded data removed]",
      "text/plain": [
       "<Figure size 576x360 with 1 Axes>"
      ]
     },
     "metadata": {
      "needs_background": "light"
     },
     "output_type": "display_data"
    }
   ],
   "source": [
    "register_by_month = pensRegisters['created'].groupby(pensRegisters.created.dt.to_period(\"M\")).agg('count')\n",
    "\n",
    "plt.figure(figsize=(8,5))\n",
    "plt.title('What month was with most registrations?', fontdict={'fontweight': 'bold', 'fontsize':18})\n",
    "register_by_month.plot()\n",
    "plt.xlabel('Dates')\n",
    "plt.ylabel('Values count')\n",
    "plt.legend()\n",
    "# plt.savefig('monthly_registers.png', dpi=300)\n",
    "#the most registrations occurred in 2016"
   ]
  },
  {
   "cell_type": "code",
   "execution_count": 8,
   "metadata": {},
   "outputs": [
    {
     "data": {
      "text/plain": [
       "<matplotlib.legend.Legend at 0x7feb5c301590>"
      ]
     },
     "execution_count": 8,
     "metadata": {},
     "output_type": "execute_result"
    },
    {
     "data": {
      "image/png": "[encoded data removed]",
      "text/plain": [
       "<Figure size 576x360 with 1 Axes>"
      ]
     },
     "metadata": {
      "needs_background": "light"
     },
     "output_type": "display_data"
    }
   ],
   "source": [
    "register_by_week = pensRegisters['created'].groupby(pensRegisters.created.dt.to_period(\"W\")).agg('count')\n",
    "\n",
    "plt.figure(figsize=(8,5))\n",
    "plt.title('What week was with most registrations?', fontdict={'fontweight': 'bold', 'fontsize':18})\n",
    "register_by_week.plot()\n",
    "plt.xlabel('Dates')\n",
    "plt.ylabel('Values count')\n",
    "plt.legend()\n",
    "# plt.savefig('weekly_registers.png', dpi=300)\n"
   ]
  },
  {
   "cell_type": "code",
   "execution_count": 9,
   "metadata": {},
   "outputs": [
    {
     "data": {
      "text/plain": [
       "created\n",
       "2016-07    35452\n",
       "2016-04    31712\n",
       "2016-05    30202\n",
       "2016-08    29969\n",
       "2016-03    27622\n",
       "2016-06    26663\n",
       "2015-03    22021\n",
       "2016-02    21589\n",
       "2017-07    21586\n",
       "2016-10    21016\n",
       "2016-12    20587\n",
       "2017-04    20382\n",
       "Freq: M, Name: created, dtype: int64"
      ]
     },
     "execution_count": 9,
     "metadata": {},
     "output_type": "execute_result"
    }
   ],
   "source": [
    "pensRegisters['created'].groupby(pensRegisters.created.dt.to_period(\"M\")).agg('count').nlargest(12)"
   ]
  },
  {
   "cell_type": "code",
   "execution_count": 10,
   "metadata": {},
   "outputs": [
    {
     "data": {
      "text/plain": [
       "<matplotlib.legend.Legend at 0x7feb5cb00d90>"
      ]
     },
     "execution_count": 10,
     "metadata": {},
     "output_type": "execute_result"
    },
    {
     "data": {
      "image/png": "[encoded data removed]",
      "text/plain": [
       "<Figure size 576x360 with 1 Axes>"
      ]
     },
     "metadata": {
      "needs_background": "light"
     },
     "output_type": "display_data"
    }
   ],
   "source": [
    "register_by_day = pensRegisters['created'].groupby(pensRegisters.created.dt.to_period(\"D\")).agg('count')\n",
    "\n",
    "plt.figure(figsize=(8,5))\n",
    "plt.title('What day was with most registrations?', fontdict={'fontweight': 'bold', 'fontsize':18})\n",
    "register_by_day.plot()\n",
    "plt.xlabel('Dates')\n",
    "plt.ylabel('Values count')\n",
    "plt.legend()\n",
    "# plt.savefig('daily_registers.png', dpi=300)"
   ]
  },
  {
   "cell_type": "code",
   "execution_count": 11,
   "metadata": {},
   "outputs": [
    {
     "data": {
      "text/plain": [
       "created\n",
       "2018-08-30    4635\n",
       "2016-01-03    2138\n",
       "2016-03-12    2100\n",
       "2015-03-08    2053\n",
       "2016-04-23    2032\n",
       "2017-09-23    2030\n",
       "2015-04-03    1997\n",
       "2016-09-24    1969\n",
       "2016-07-23    1920\n",
       "2016-01-17    1790\n",
       "Freq: D, Name: created, dtype: int64"
      ]
     },
     "execution_count": 11,
     "metadata": {},
     "output_type": "execute_result"
    }
   ],
   "source": [
    "pensRegisters['created'].groupby(pensRegisters.created.dt.to_period(\"D\")).agg('count').nlargest(10)\n",
    "#unique day in 2018 - but most of the days where in 2016\n",
    "#what happened in 2018-08-30- August 2018 -  \"we got contractors to help to fix Pens and registration stations in 2018\" "
   ]
  },
  {
   "cell_type": "markdown",
   "metadata": {},
   "source": [
    "### Cleaning the fixing day at August 30 2018"
   ]
  },
  {
   "cell_type": "code",
   "execution_count": 15,
   "metadata": {},
   "outputs": [
    {
     "ename": "AttributeError",
     "evalue": "'PeriodProperties' object has no attribute 'to_period'",
     "output_type": "error",
     "traceback": [
      "\u001b[0;31m---------------------------------------------------------------------------\u001b[0m",
      "\u001b[0;31mAttributeError\u001b[0m                            Traceback (most recent call last)",
      "\u001b[0;32m<ipython-input-15-1f3fb063d103>\u001b[0m in \u001b[0;36m<module>\u001b[0;34m\u001b[0m\n\u001b[0;32m----> 1\u001b[0;31m \u001b[0mpensRegisters\u001b[0m\u001b[0;34m[\u001b[0m\u001b[0;34m'created'\u001b[0m\u001b[0;34m]\u001b[0m \u001b[0;34m=\u001b[0m \u001b[0mpensRegisters\u001b[0m\u001b[0;34m[\u001b[0m\u001b[0;34m'created'\u001b[0m\u001b[0;34m]\u001b[0m\u001b[0;34m.\u001b[0m\u001b[0mdt\u001b[0m\u001b[0;34m.\u001b[0m\u001b[0mto_period\u001b[0m\u001b[0;34m(\u001b[0m\u001b[0;34m'D'\u001b[0m\u001b[0;34m)\u001b[0m\u001b[0;34m\u001b[0m\u001b[0;34m\u001b[0m\u001b[0m\n\u001b[0m\u001b[1;32m      2\u001b[0m \u001b[0mpensRegisters\u001b[0m\u001b[0;34m[\u001b[0m\u001b[0;34m~\u001b[0m\u001b[0mpensRegisters\u001b[0m\u001b[0;34m[\u001b[0m\u001b[0;34m'created'\u001b[0m\u001b[0;34m]\u001b[0m \u001b[0;34m==\u001b[0m \u001b[0;34m'2018-08-30'\u001b[0m\u001b[0;34m]\u001b[0m\u001b[0;34m\u001b[0m\u001b[0;34m\u001b[0m\u001b[0m\n",
      "\u001b[0;31mAttributeError\u001b[0m: 'PeriodProperties' object has no attribute 'to_period'"
     ]
    }
   ],
   "source": [
    "pensRegisters['created'] = pensRegisters['created'].dt.to_period('D')"
   ]
  },
  {
   "cell_type": "code",
   "execution_count": 28,
   "metadata": {},
   "outputs": [
    {
     "data": {
      "text/plain": [
       "created\n",
       "2016-01-03    2138\n",
       "2016-03-12    2100\n",
       "2015-03-08    2053\n",
       "2016-04-23    2032\n",
       "2017-09-23    2030\n",
       "2015-04-03    1997\n",
       "2016-09-24    1969\n",
       "2016-07-23    1920\n",
       "2016-01-17    1790\n",
       "2016-05-21    1785\n",
       "Freq: D, Name: created, dtype: int64"
      ]
     },
     "execution_count": 28,
     "metadata": {},
     "output_type": "execute_result"
    }
   ],
   "source": [
    "mask2018 = pensRegisters['created'] != '2018-08-30'\n",
    "df = pensRegisters[mask2018]\n",
    "df['created'].groupby(df.created).agg('count').nlargest(10)"
   ]
  },
  {
   "cell_type": "code",
   "execution_count": 32,
   "metadata": {},
   "outputs": [
    {
     "data": {
      "text/plain": [
       "<matplotlib.legend.Legend at 0x7f868036f590>"
      ]
     },
     "execution_count": 32,
     "metadata": {},
     "output_type": "execute_result"
    },
    {
     "data": {
      "image/png": "[encoded data removed]",
      "text/plain": [
       "<Figure size 576x360 with 1 Axes>"
      ]
     },
     "metadata": {
      "needs_background": "light"
     },
     "output_type": "display_data"
    }
   ],
   "source": [
    "register_by_clean_day = df['created'].groupby(df.created).agg('count')\n",
    "\n",
    "plt.figure(figsize=(8,5))\n",
    "plt.title('What day was with most registrations (without Aug 30)?', fontdict={'fontweight': 'bold', 'fontsize':18})\n",
    "register_by_clean_day.plot()\n",
    "plt.xlabel('Dates')\n",
    "plt.ylabel('Values count')\n",
    "plt.legend()\n",
    "# plt.savefig('daily_registers.png', dpi=300)"
   ]
  },
  {
   "cell_type": "code",
   "execution_count": 12,
   "metadata": {},
   "outputs": [
    {
     "data": {
      "text/plain": [
       "created\n",
       "5    198480\n",
       "6    180864\n",
       "4    116344\n",
       "0    106429\n",
       "3    100037\n",
       "1     99386\n",
       "2     89578\n",
       "Name: created, dtype: int64"
      ]
     },
     "execution_count": 12,
     "metadata": {},
     "output_type": "execute_result"
    }
   ],
   "source": [
    "pensRegisters['created'].groupby(pensRegisters.created.dt.weekday).agg('count').sort_values(ascending=False)\n",
    "#Thursday and Friday were the most popular days"
   ]
  },
  {
   "cell_type": "code",
   "execution_count": 13,
   "metadata": {},
   "outputs": [
    {
     "data": {
      "text/plain": [
       "<matplotlib.legend.Legend at 0x7feb5d27e510>"
      ]
     },
     "execution_count": 13,
     "metadata": {},
     "output_type": "execute_result"
    },
    {
     "data": {
      "image/png": "[encoded data removed]",
      "text/plain": [
       "<Figure size 576x360 with 1 Axes>"
      ]
     },
     "metadata": {},
     "output_type": "display_data"
    }
   ],
   "source": [
    "popular_days = pensRegisters['created'].groupby(pensRegisters.created.dt.weekday).agg('count').sort_values(ascending=False)\n",
    "\n",
    "plt.figure(figsize=(8,5))\n",
    "plt.title('What day was with most registration?', fontdict={'fontweight': 'bold', 'fontsize':18})\n",
    "popular_days.plot.pie(y='created', figsize=(8, 5),autopct='%1.1f%%', startangle=90)\n",
    "                      \n",
    "plt.ylabel('Values percentage')\n",
    "plt.legend()\n",
    "# plt.savefig('daily_registeration.png', dpi=300)"
   ]
  },
  {
   "cell_type": "code",
   "execution_count": 14,
   "metadata": {},
   "outputs": [
    {
     "data": {
      "text/html": [
       "<div>\n",
       "<style scoped>\n",
       "    .dataframe tbody tr th:only-of-type {\n",
       "        vertical-align: middle;\n",
       "    }\n",
       "\n",
       "    .dataframe tbody tr th {\n",
       "        vertical-align: top;\n",
       "    }\n",
       "\n",
       "    .dataframe thead th {\n",
       "        text-align: right;\n",
       "    }\n",
       "</style>\n",
       "<table border=\"1\" class=\"dataframe\">\n",
       "  <thead>\n",
       "    <tr style=\"text-align: right;\">\n",
       "      <th></th>\n",
       "      <th>pen_id</th>\n",
       "      <th>visit_id</th>\n",
       "      <th>registers</th>\n",
       "      <th>created</th>\n",
       "    </tr>\n",
       "    <tr>\n",
       "      <th>id</th>\n",
       "      <th></th>\n",
       "      <th></th>\n",
       "      <th></th>\n",
       "      <th></th>\n",
       "    </tr>\n",
       "  </thead>\n",
       "  <tbody>\n",
       "    <tr>\n",
       "      <th>91914589</th>\n",
       "      <td>1523917</td>\n",
       "      <td>91336643</td>\n",
       "      <td>{\"vibra_on\":1,\"low_battery_level_reached_since...</td>\n",
       "      <td>2016-01-01 03:00:07</td>\n",
       "    </tr>\n",
       "    <tr>\n",
       "      <th>91914603</th>\n",
       "      <td>1524691</td>\n",
       "      <td>91900813</td>\n",
       "      <td>{\"vibra_on\":1,\"low_battery_level_reached_since...</td>\n",
       "      <td>2016-01-01 03:00:08</td>\n",
       "    </tr>\n",
       "    <tr>\n",
       "      <th>91914659</th>\n",
       "      <td>1525465</td>\n",
       "      <td>91826455</td>\n",
       "      <td>{\"vibra_on\":1,\"low_battery_level_reached_since...</td>\n",
       "      <td>2016-01-01 03:00:09</td>\n",
       "    </tr>\n",
       "    <tr>\n",
       "      <th>91914681</th>\n",
       "      <td>1523031</td>\n",
       "      <td>91728611</td>\n",
       "      <td>{\"vibra_on\":1,\"low_battery_level_reached_since...</td>\n",
       "      <td>2016-01-01 03:00:11</td>\n",
       "    </tr>\n",
       "    <tr>\n",
       "      <th>91914683</th>\n",
       "      <td>1525213</td>\n",
       "      <td>91708083</td>\n",
       "      <td>{\"vibra_on\":1,\"low_battery_level_reached_since...</td>\n",
       "      <td>2016-01-01 03:00:11</td>\n",
       "    </tr>\n",
       "    <tr>\n",
       "      <th>...</th>\n",
       "      <td>...</td>\n",
       "      <td>...</td>\n",
       "      <td>...</td>\n",
       "      <td>...</td>\n",
       "    </tr>\n",
       "    <tr>\n",
       "      <th>111425577</th>\n",
       "      <td>1525133</td>\n",
       "      <td>111404055</td>\n",
       "      <td>{\"vibra_on\":1,\"low_battery_level_reached_since...</td>\n",
       "      <td>2016-12-30 22:54:01</td>\n",
       "    </tr>\n",
       "    <tr>\n",
       "      <th>111425659</th>\n",
       "      <td>1522349</td>\n",
       "      <td>111405957</td>\n",
       "      <td>{\"vibra_on\":1,\"low_battery_level_reached_since...</td>\n",
       "      <td>2016-12-30 22:54:10</td>\n",
       "    </tr>\n",
       "    <tr>\n",
       "      <th>111425699</th>\n",
       "      <td>1521621</td>\n",
       "      <td>111407185</td>\n",
       "      <td>{\"vibra_on\":1,\"low_battery_level_reached_since...</td>\n",
       "      <td>2016-12-30 22:54:24</td>\n",
       "    </tr>\n",
       "    <tr>\n",
       "      <th>111426121</th>\n",
       "      <td>1522845</td>\n",
       "      <td>111413399</td>\n",
       "      <td>{\"vibra_on\":1,\"low_battery_level_reached_since...</td>\n",
       "      <td>2016-12-30 22:58:07</td>\n",
       "    </tr>\n",
       "    <tr>\n",
       "      <th>111426135</th>\n",
       "      <td>1524783</td>\n",
       "      <td>111413403</td>\n",
       "      <td>{\"vibra_on\":1,\"low_battery_level_reached_since...</td>\n",
       "      <td>2016-12-30 22:58:11</td>\n",
       "    </tr>\n",
       "  </tbody>\n",
       "</table>\n",
       "<p>303055 rows × 4 columns</p>\n",
       "</div>"
      ],
      "text/plain": [
       "            pen_id   visit_id  \\\n",
       "id                              \n",
       "91914589   1523917   91336643   \n",
       "91914603   1524691   91900813   \n",
       "91914659   1525465   91826455   \n",
       "91914681   1523031   91728611   \n",
       "91914683   1525213   91708083   \n",
       "...            ...        ...   \n",
       "111425577  1525133  111404055   \n",
       "111425659  1522349  111405957   \n",
       "111425699  1521621  111407185   \n",
       "111426121  1522845  111413399   \n",
       "111426135  1524783  111413403   \n",
       "\n",
       "                                                   registers  \\\n",
       "id                                                             \n",
       "91914589   {\"vibra_on\":1,\"low_battery_level_reached_since...   \n",
       "91914603   {\"vibra_on\":1,\"low_battery_level_reached_since...   \n",
       "91914659   {\"vibra_on\":1,\"low_battery_level_reached_since...   \n",
       "91914681   {\"vibra_on\":1,\"low_battery_level_reached_since...   \n",
       "91914683   {\"vibra_on\":1,\"low_battery_level_reached_since...   \n",
       "...                                                      ...   \n",
       "111425577  {\"vibra_on\":1,\"low_battery_level_reached_since...   \n",
       "111425659  {\"vibra_on\":1,\"low_battery_level_reached_since...   \n",
       "111425699  {\"vibra_on\":1,\"low_battery_level_reached_since...   \n",
       "111426121  {\"vibra_on\":1,\"low_battery_level_reached_since...   \n",
       "111426135  {\"vibra_on\":1,\"low_battery_level_reached_since...   \n",
       "\n",
       "                      created  \n",
       "id                             \n",
       "91914589  2016-01-01 03:00:07  \n",
       "91914603  2016-01-01 03:00:08  \n",
       "91914659  2016-01-01 03:00:09  \n",
       "91914681  2016-01-01 03:00:11  \n",
       "91914683  2016-01-01 03:00:11  \n",
       "...                       ...  \n",
       "111425577 2016-12-30 22:54:01  \n",
       "111425659 2016-12-30 22:54:10  \n",
       "111425699 2016-12-30 22:54:24  \n",
       "111426121 2016-12-30 22:58:07  \n",
       "111426135 2016-12-30 22:58:11  \n",
       "\n",
       "[303055 rows x 4 columns]"
      ]
     },
     "execution_count": 14,
     "metadata": {},
     "output_type": "execute_result"
    }
   ],
   "source": [
    "#Zooming into 2016\n",
    "start_date = '01-01-2016'\n",
    "end_date = '31-12-2016'\n",
    "mask = (pensRegisters['created'] > start_date) & (pensRegisters['created'] <= end_date)\n",
    "sixthteen = pensRegisters.loc[mask]\n",
    "sixthteen"
   ]
  },
  {
   "cell_type": "code",
   "execution_count": 15,
   "metadata": {},
   "outputs": [
    {
     "data": {
      "text/plain": [
       "created\n",
       "2016-07    35452\n",
       "2016-04    31712\n",
       "2016-05    30202\n",
       "2016-08    29969\n",
       "2016-03    27622\n",
       "2016-06    26663\n",
       "2016-02    21589\n",
       "2016-10    21016\n",
       "2016-09    20046\n",
       "2016-12    19811\n",
       "2016-11    19724\n",
       "2016-01    19249\n",
       "Freq: M, Name: created, dtype: int64"
      ]
     },
     "execution_count": 15,
     "metadata": {},
     "output_type": "execute_result"
    }
   ],
   "source": [
    "sixthteen['created'].groupby(sixthteen.created.dt.to_period(\"M\")).agg('count').nlargest(12)\n",
    "#the busiest months in 2016"
   ]
  },
  {
   "cell_type": "code",
   "execution_count": 16,
   "metadata": {},
   "outputs": [
    {
     "data": {
      "text/plain": [
       "created\n",
       "5    71366\n",
       "6    63189\n",
       "4    39724\n",
       "0    34634\n",
       "3    32358\n",
       "1    32166\n",
       "2    29618\n",
       "Name: created, dtype: int64"
      ]
     },
     "execution_count": 16,
     "metadata": {},
     "output_type": "execute_result"
    }
   ],
   "source": [
    "sixthteen['created'].groupby(sixthteen.created.dt.weekday).agg('count').sort_values(ascending=False)\n",
    "#the busiest days in 2016"
   ]
  },
  {
   "cell_type": "markdown",
   "metadata": {},
   "source": [
    "## how many ppl registered the pen?\n"
   ]
  },
  {
   "cell_type": "code",
   "execution_count": 20,
   "metadata": {},
   "outputs": [
    {
     "data": {
      "text/plain": [
       "526231"
      ]
     },
     "execution_count": 20,
     "metadata": {},
     "output_type": "execute_result"
    }
   ],
   "source": [
    "pensRegisters['visit_id'].value_counts().count()"
   ]
  },
  {
   "cell_type": "code",
   "execution_count": 18,
   "metadata": {},
   "outputs": [
    {
     "data": {
      "text/html": [
       "<div>\n",
       "<style scoped>\n",
       "    .dataframe tbody tr th:only-of-type {\n",
       "        vertical-align: middle;\n",
       "    }\n",
       "\n",
       "    .dataframe tbody tr th {\n",
       "        vertical-align: top;\n",
       "    }\n",
       "\n",
       "    .dataframe thead th {\n",
       "        text-align: right;\n",
       "    }\n",
       "</style>\n",
       "<table border=\"1\" class=\"dataframe\">\n",
       "  <thead>\n",
       "    <tr style=\"text-align: right;\">\n",
       "      <th></th>\n",
       "      <th>pen_id</th>\n",
       "      <th>visit_id</th>\n",
       "      <th>registers</th>\n",
       "      <th>created</th>\n",
       "    </tr>\n",
       "    <tr>\n",
       "      <th>id</th>\n",
       "      <th></th>\n",
       "      <th></th>\n",
       "      <th></th>\n",
       "      <th></th>\n",
       "    </tr>\n",
       "  </thead>\n",
       "  <tbody>\n",
       "    <tr>\n",
       "      <th>0</th>\n",
       "      <td>1523211</td>\n",
       "      <td>1652511</td>\n",
       "      <td>{\"company\":\"0x0\",\"low_battery_level_reached_si...</td>\n",
       "      <td>2015-03-07 03:44:22</td>\n",
       "    </tr>\n",
       "    <tr>\n",
       "      <th>793417</th>\n",
       "      <td>8</td>\n",
       "      <td>793401</td>\n",
       "      <td>{\"vibra_on\":1,\"tag_counter_after_low_battery_l...</td>\n",
       "      <td>2014-10-23 15:45:29</td>\n",
       "    </tr>\n",
       "    <tr>\n",
       "      <th>796509</th>\n",
       "      <td>6</td>\n",
       "      <td>796261</td>\n",
       "      <td>{\"vibra_on\":1,\"tag_counter_after_low_battery_l...</td>\n",
       "      <td>2014-11-03 21:35:45</td>\n",
       "    </tr>\n",
       "    <tr>\n",
       "      <th>797847</th>\n",
       "      <td>9</td>\n",
       "      <td>797837</td>\n",
       "      <td>{\"vibra_on\":1,\"tag_counter_after_low_battery_l...</td>\n",
       "      <td>2014-11-04 20:33:11</td>\n",
       "    </tr>\n",
       "    <tr>\n",
       "      <th>798025</th>\n",
       "      <td>7</td>\n",
       "      <td>797915</td>\n",
       "      <td>{\"vibra_on\":1,\"tag_counter_after_low_battery_l...</td>\n",
       "      <td>2014-11-04 23:37:59</td>\n",
       "    </tr>\n",
       "    <tr>\n",
       "      <th>...</th>\n",
       "      <td>...</td>\n",
       "      <td>...</td>\n",
       "      <td>...</td>\n",
       "      <td>...</td>\n",
       "    </tr>\n",
       "    <tr>\n",
       "      <th>132777689</th>\n",
       "      <td>1524473</td>\n",
       "      <td>132777683</td>\n",
       "      <td>NaN</td>\n",
       "      <td>2020-07-02 20:22:39</td>\n",
       "    </tr>\n",
       "    <tr>\n",
       "      <th>132794707</th>\n",
       "      <td>1524473</td>\n",
       "      <td>132794701</td>\n",
       "      <td>NaN</td>\n",
       "      <td>2020-07-06 17:42:37</td>\n",
       "    </tr>\n",
       "    <tr>\n",
       "      <th>132806725</th>\n",
       "      <td>1524473</td>\n",
       "      <td>132806719</td>\n",
       "      <td>NaN</td>\n",
       "      <td>2020-07-09 13:12:38</td>\n",
       "    </tr>\n",
       "    <tr>\n",
       "      <th>132806733</th>\n",
       "      <td>1524473</td>\n",
       "      <td>132806727</td>\n",
       "      <td>NaN</td>\n",
       "      <td>2020-07-09 13:16:52</td>\n",
       "    </tr>\n",
       "    <tr>\n",
       "      <th>132806741</th>\n",
       "      <td>1524473</td>\n",
       "      <td>132806735</td>\n",
       "      <td>NaN</td>\n",
       "      <td>2020-07-09 13:20:09</td>\n",
       "    </tr>\n",
       "  </tbody>\n",
       "</table>\n",
       "<p>526231 rows × 4 columns</p>\n",
       "</div>"
      ],
      "text/plain": [
       "            pen_id   visit_id  \\\n",
       "id                              \n",
       "0          1523211    1652511   \n",
       "793417           8     793401   \n",
       "796509           6     796261   \n",
       "797847           9     797837   \n",
       "798025           7     797915   \n",
       "...            ...        ...   \n",
       "132777689  1524473  132777683   \n",
       "132794707  1524473  132794701   \n",
       "132806725  1524473  132806719   \n",
       "132806733  1524473  132806727   \n",
       "132806741  1524473  132806735   \n",
       "\n",
       "                                                   registers  \\\n",
       "id                                                             \n",
       "0          {\"company\":\"0x0\",\"low_battery_level_reached_si...   \n",
       "793417     {\"vibra_on\":1,\"tag_counter_after_low_battery_l...   \n",
       "796509     {\"vibra_on\":1,\"tag_counter_after_low_battery_l...   \n",
       "797847     {\"vibra_on\":1,\"tag_counter_after_low_battery_l...   \n",
       "798025     {\"vibra_on\":1,\"tag_counter_after_low_battery_l...   \n",
       "...                                                      ...   \n",
       "132777689                                                NaN   \n",
       "132794707                                                NaN   \n",
       "132806725                                                NaN   \n",
       "132806733                                                NaN   \n",
       "132806741                                                NaN   \n",
       "\n",
       "                      created  \n",
       "id                             \n",
       "0         2015-03-07 03:44:22  \n",
       "793417    2014-10-23 15:45:29  \n",
       "796509    2014-11-03 21:35:45  \n",
       "797847    2014-11-04 20:33:11  \n",
       "798025    2014-11-04 23:37:59  \n",
       "...                       ...  \n",
       "132777689 2020-07-02 20:22:39  \n",
       "132794707 2020-07-06 17:42:37  \n",
       "132806725 2020-07-09 13:12:38  \n",
       "132806733 2020-07-09 13:16:52  \n",
       "132806741 2020-07-09 13:20:09  \n",
       "\n",
       "[526231 rows x 4 columns]"
      ]
     },
     "execution_count": 18,
     "metadata": {},
     "output_type": "execute_result"
    }
   ],
   "source": [
    "pensRegisters[~pensRegisters['visit_id'].duplicated()]"
   ]
  },
  {
   "cell_type": "code",
   "execution_count": 21,
   "metadata": {},
   "outputs": [
    {
     "data": {
      "text/plain": [
       "1523211    2528\n",
       "1525511    1279\n",
       "1523121    1189\n",
       "1521555    1094\n",
       "1519959    1092\n",
       "           ... \n",
       "1521673       1\n",
       "1525029       1\n",
       "1509679       1\n",
       "1524519       1\n",
       "1520715       1\n",
       "Name: pen_id, Length: 3007, dtype: int64"
      ]
     },
     "execution_count": 21,
     "metadata": {},
     "output_type": "execute_result"
    }
   ],
   "source": [
    "pensRegisters['pen_id'].value_counts()"
   ]
  },
  {
   "cell_type": "markdown",
   "metadata": {},
   "source": [
    "## summerize findings"
   ]
  },
  {
   "cell_type": "code",
   "execution_count": 4,
   "metadata": {},
   "outputs": [],
   "source": [
    "findings = [{'total_registrations': '891,118', 'how_many_visitors_registered':'526231', 'top_pen': '1523211','most_registeres_in_month': '2016-07 with 35,452',\n",
    "            'most_register_in_day': '2016-01-03 with 2,138'},\n",
    "            {'top_pen': '1525511', 'most_registeres_in_month': '2016-04 with 31,712', 'most_register_in_day': '2016-03-12 with 2,100'},\n",
    "           {'top_pen': '1523121', 'most_registeres_in_month': '2016-05 with 30,202', 'most_register_in_day': '2015-03-08 with 2,053'}] \n",
    "\n",
    "\n",
    "registration_finding = pd.DataFrame(findings)"
   ]
  },
  {
   "cell_type": "code",
   "execution_count": 5,
   "metadata": {},
   "outputs": [
    {
     "data": {
      "text/html": [
       "<div>\n",
       "<style scoped>\n",
       "    .dataframe tbody tr th:only-of-type {\n",
       "        vertical-align: middle;\n",
       "    }\n",
       "\n",
       "    .dataframe tbody tr th {\n",
       "        vertical-align: top;\n",
       "    }\n",
       "\n",
       "    .dataframe thead th {\n",
       "        text-align: right;\n",
       "    }\n",
       "</style>\n",
       "<table border=\"1\" class=\"dataframe\">\n",
       "  <thead>\n",
       "    <tr style=\"text-align: right;\">\n",
       "      <th></th>\n",
       "      <th>0</th>\n",
       "      <th>1</th>\n",
       "      <th>2</th>\n",
       "    </tr>\n",
       "  </thead>\n",
       "  <tbody>\n",
       "    <tr>\n",
       "      <th>total_registrations</th>\n",
       "      <td>891,118</td>\n",
       "      <td>NaN</td>\n",
       "      <td>NaN</td>\n",
       "    </tr>\n",
       "    <tr>\n",
       "      <th>how_many_visitors_registered</th>\n",
       "      <td>526231</td>\n",
       "      <td>NaN</td>\n",
       "      <td>NaN</td>\n",
       "    </tr>\n",
       "    <tr>\n",
       "      <th>top_pen</th>\n",
       "      <td>1523211</td>\n",
       "      <td>1525511</td>\n",
       "      <td>1523121</td>\n",
       "    </tr>\n",
       "    <tr>\n",
       "      <th>most_registeres_in_month</th>\n",
       "      <td>2016-07 with 35,452</td>\n",
       "      <td>2016-04 with 31,712</td>\n",
       "      <td>2016-05 with 30,202</td>\n",
       "    </tr>\n",
       "    <tr>\n",
       "      <th>most_register_in_day</th>\n",
       "      <td>2016-01-03 with 2,138</td>\n",
       "      <td>2016-03-12 with 2,100</td>\n",
       "      <td>2015-03-08 with 2,053</td>\n",
       "    </tr>\n",
       "  </tbody>\n",
       "</table>\n",
       "</div>"
      ],
      "text/plain": [
       "                                                  0                      1  \\\n",
       "total_registrations                         891,118                    NaN   \n",
       "how_many_visitors_registered                 526231                    NaN   \n",
       "top_pen                                     1523211                1525511   \n",
       "most_registeres_in_month        2016-07 with 35,452    2016-04 with 31,712   \n",
       "most_register_in_day          2016-01-03 with 2,138  2016-03-12 with 2,100   \n",
       "\n",
       "                                                  2  \n",
       "total_registrations                             NaN  \n",
       "how_many_visitors_registered                    NaN  \n",
       "top_pen                                     1523121  \n",
       "most_registeres_in_month        2016-05 with 30,202  \n",
       "most_register_in_day          2015-03-08 with 2,053  "
      ]
     },
     "execution_count": 5,
     "metadata": {},
     "output_type": "execute_result"
    }
   ],
   "source": [
    "registration_finding.transpose()"
   ]
  },
  {
   "cell_type": "code",
   "execution_count": null,
   "metadata": {},
   "outputs": [],
   "source": []
  }
 ],
 "metadata": {
  "kernelspec": {
   "display_name": "Python 3",
   "language": "python",
   "name": "python3"
  },
  "language_info": {
   "codemirror_mode": {
    "name": "ipython",
    "version": 3
   },
   "file_extension": ".py",
   "mimetype": "text/x-python",
   "name": "python",
   "nbconvert_exporter": "python",
   "pygments_lexer": "ipython3",
   "version": "3.7.6"
  }
 },
 "nbformat": 4,
 "nbformat_minor": 4
}
