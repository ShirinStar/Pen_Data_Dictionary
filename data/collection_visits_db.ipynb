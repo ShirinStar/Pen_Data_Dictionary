{
 "cells": [
  {
   "cell_type": "code",
   "execution_count": 1,
   "metadata": {},
   "outputs": [],
   "source": [
    "import mysql.connector as sql\n",
    "import pandas as pd"
   ]
  },
  {
   "cell_type": "code",
   "execution_count": 24,
   "metadata": {},
   "outputs": [],
   "source": [
    "db_connection = sql.connect(host='localhost', database='collection_visits', user='pandas', password='password')\n",
    "Pens = pd.read_sql('SELECT * FROM Pens', con=db_connection)\n",
    "PensActivity = pd.read_sql('SELECT * FROM PensActivity', con=db_connection)\n",
    "PensCheckouts = pd.read_sql('SELECT * FROM PensCheckouts', con=db_connection)\n",
    "PensRegisters = pd.read_sql('SELECT * FROM PensRegisters', con=db_connection)\n",
    "ProjectsComponents = pd.read_sql('SELECT * FROM ProjectsComponents', con=db_connection)\n",
    "ProjectsComponentsStats = pd.read_sql('SELECT * FROM ProjectsComponentsStats', con=db_connection)\n",
    "ProjectsQueue = pd.read_sql('SELECT * FROM ProjectsQueue', con=db_connection)\n",
    "ProjectsStats = pd.read_sql('SELECT * FROM ProjectsStats', con=db_connection)\n",
    "Visits = pd.read_sql('SELECT * FROM Visits', con=db_connection)\n",
    "VisitsItems = pd.read_sql('SELECT * FROM VisitsItems', con=db_connection)\n",
    "VisitsItemsRenditions = pd.read_sql('SELECT * FROM VisitsItemsRenditions', con=db_connection)\n",
    "VisitsStats = pd.read_sql('SELECT * FROM VisitsStats', con=db_connection)"
   ]
  },
  {
   "cell_type": "code",
   "execution_count": null,
   "metadata": {},
   "outputs": [],
   "source": []
  },
  {
   "cell_type": "code",
   "execution_count": null,
   "metadata": {},
   "outputs": [],
   "source": []
  }
 ],
 "metadata": {
  "kernelspec": {
   "display_name": "Python 3",
   "language": "python",
   "name": "python3"
  },
  "language_info": {
   "codemirror_mode": {
    "name": "ipython",
    "version": 3
   },
   "file_extension": ".py",
   "mimetype": "text/x-python",
   "name": "python",
   "nbconvert_exporter": "python",
   "pygments_lexer": "ipython3",
   "version": "3.7.6"
  }
 },
 "nbformat": 4,
 "nbformat_minor": 4
}
