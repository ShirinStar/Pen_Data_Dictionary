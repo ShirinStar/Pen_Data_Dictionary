{
 "cells": [
  {
   "cell_type": "code",
   "execution_count": 1,
   "metadata": {},
   "outputs": [],
   "source": [
    "import mysql.connector as sql\n",
    "import pandas as pd\n",
    "import datetime as dt\n",
    "import numpy as np"
   ]
  },
  {
   "cell_type": "code",
   "execution_count": 3,
   "metadata": {},
   "outputs": [],
   "source": [
    "# db_connection = sql.connect(host='localhost', database='collection_visits', user='pandas', password='password')\n",
    "# visits = pd.read_sql('SELECT * FROM Visits', con=db_connection)\n",
    "# visitsItems = pd.read_sql('SELECT * FROM VisitsItems', con=db_connection)\n",
    "# visitsItemsRenditions = pd.read_sql('SELECT * FROM VisitsItemsRenditions', con=db_connection)\n",
    "# visitsStats = pd.read_sql('SELECT * FROM VisitsStats', con=db_connection)"
   ]
  },
  {
   "cell_type": "code",
   "execution_count": null,
   "metadata": {},
   "outputs": [],
   "source": []
  }
 ],
 "metadata": {
  "kernelspec": {
   "display_name": "Python 3",
   "language": "python",
   "name": "python3"
  },
  "language_info": {
   "codemirror_mode": {
    "name": "ipython",
    "version": 3
   },
   "file_extension": ".py",
   "mimetype": "text/x-python",
   "name": "python",
   "nbconvert_exporter": "python",
   "pygments_lexer": "ipython3",
   "version": "3.7.6"
  }
 },
 "nbformat": 4,
 "nbformat_minor": 4
}
