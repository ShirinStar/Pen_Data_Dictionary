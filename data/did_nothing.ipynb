{
 "cells": [
  {
   "cell_type": "code",
   "execution_count": 1,
   "metadata": {},
   "outputs": [],
   "source": [
    "import mysql.connector as sql\n",
    "import pandas as pd\n",
    "import datetime as dt\n",
    "import numpy as np\n",
    "from sorted_months_weekdays import *\n",
    "from sort_dataframeby_monthorweek import *\n",
    "import matplotlib.pyplot as plt\n",
    "import math\n",
    "import json\n",
    "from pandas.io.json import json_normalize\n",
    "import requests\n",
    "import matplotlib.dates as mdates\n",
    "from datetime import date, timedelta"
   ]
  },
  {
   "cell_type": "code",
   "execution_count": 2,
   "metadata": {},
   "outputs": [],
   "source": [
    "db_connection = sql.connect(host='localhost', database='collection_visits', user='pandas', password='password')\n",
    "\n",
    "pensActivity = pd.read_sql('SELECT * FROM PensActivity', con=db_connection)\n",
    "pensActivity['created'] = pd.to_datetime(pensActivity['created'], unit='s')\n",
    "pensActivity['lastmodified'] = pd.to_datetime(pensActivity['lastmodified'], unit='s')\n",
    "pensActivity['created'].replace(0, np.nan, inplace=True)\n",
    "pensActivity['lastmodified'].replace(0, np.nan, inplace=True)\n",
    "pensActivity['notes'].replace(r'^\\s*$', np.NaN, regex=True, inplace=True)\n",
    "pensActivity['notes'] = pensActivity['notes'].astype('category')\n",
    "pensActivity.sort_values(by='created', inplace=True)\n",
    "\n",
    "pensCheckouts = pd.read_sql('SELECT * FROM PensCheckouts', con=db_connection)\n",
    "pensCheckouts['start'] = pd.to_datetime(pensCheckouts['start'], unit='s')\n",
    "pensCheckouts['start'].replace(0, np.nan, inplace=True)\n",
    "pensCheckouts['end'].replace(0, np.nan, inplace=True)\n",
    "pensCheckouts['end'] = pd.to_datetime(pensCheckouts['end'], unit='s')\n",
    "pensCheckouts['start_ip'].replace(0, np.nan, inplace=True)\n",
    "pensCheckouts['end_ip'].replace(0, np.nan, inplace=True)\n",
    "pensCheckouts['start_ip'] = pensCheckouts['start_ip'].astype('category')\n",
    "pensCheckouts['end_ip'] = pensCheckouts['end_ip'].astype('category')\n",
    "pensCheckouts.set_index('id', inplace=True)\n",
    "pensCheckouts.sort_index(inplace=True)\n",
    "###DROPED COLUMNS####\n",
    "pensCheckouts.drop(['start_ip', 'end_ip'], axis=1, inplace=True)"
   ]
  },
  {
   "cell_type": "code",
   "execution_count": 67,
   "metadata": {},
   "outputs": [],
   "source": [
    "pensCheckouts.set_index(['visit_id'], inplace=True)"
   ]
  },
  {
   "cell_type": "code",
   "execution_count": 68,
   "metadata": {},
   "outputs": [],
   "source": [
    "pensActivity.set_index(['visit_id'], inplace=True)"
   ]
  },
  {
   "cell_type": "code",
   "execution_count": 69,
   "metadata": {},
   "outputs": [],
   "source": [
    "checkout_activity = pensCheckouts.join(pensActivity, how='left', lsuffix='_checkout', rsuffix='_activity')"
   ]
  },
  {
   "cell_type": "code",
   "execution_count": 70,
   "metadata": {},
   "outputs": [
    {
     "data": {
      "text/html": [
       "<div>\n",
       "<style scoped>\n",
       "    .dataframe tbody tr th:only-of-type {\n",
       "        vertical-align: middle;\n",
       "    }\n",
       "\n",
       "    .dataframe tbody tr th {\n",
       "        vertical-align: top;\n",
       "    }\n",
       "\n",
       "    .dataframe thead th {\n",
       "        text-align: right;\n",
       "    }\n",
       "</style>\n",
       "<table border=\"1\" class=\"dataframe\">\n",
       "  <thead>\n",
       "    <tr style=\"text-align: right;\">\n",
       "      <th></th>\n",
       "      <th>pen_id_checkout</th>\n",
       "      <th>start</th>\n",
       "      <th>end</th>\n",
       "      <th>pen_id_activity</th>\n",
       "      <th>fingerprint</th>\n",
       "      <th>activity</th>\n",
       "      <th>notes</th>\n",
       "      <th>status_id</th>\n",
       "      <th>created</th>\n",
       "      <th>lastmodified</th>\n",
       "      <th>time_to_process</th>\n",
       "      <th>count_items</th>\n",
       "    </tr>\n",
       "    <tr>\n",
       "      <th>visit_id</th>\n",
       "      <th></th>\n",
       "      <th></th>\n",
       "      <th></th>\n",
       "      <th></th>\n",
       "      <th></th>\n",
       "      <th></th>\n",
       "      <th></th>\n",
       "      <th></th>\n",
       "      <th></th>\n",
       "      <th></th>\n",
       "      <th></th>\n",
       "      <th></th>\n",
       "    </tr>\n",
       "  </thead>\n",
       "  <tbody>\n",
       "    <tr>\n",
       "      <th>793401</th>\n",
       "      <td>8</td>\n",
       "      <td>2014-10-23 15:36:51</td>\n",
       "      <td>2014-10-25 00:44:42</td>\n",
       "      <td>NaN</td>\n",
       "      <td>NaN</td>\n",
       "      <td>NaN</td>\n",
       "      <td>NaN</td>\n",
       "      <td>NaN</td>\n",
       "      <td>NaT</td>\n",
       "      <td>NaT</td>\n",
       "      <td>NaN</td>\n",
       "      <td>NaN</td>\n",
       "    </tr>\n",
       "    <tr>\n",
       "      <th>793449</th>\n",
       "      <td>3</td>\n",
       "      <td>2014-10-23 16:25:42</td>\n",
       "      <td>2014-10-25 00:44:42</td>\n",
       "      <td>NaN</td>\n",
       "      <td>NaN</td>\n",
       "      <td>NaN</td>\n",
       "      <td>NaN</td>\n",
       "      <td>NaN</td>\n",
       "      <td>NaT</td>\n",
       "      <td>NaT</td>\n",
       "      <td>NaN</td>\n",
       "      <td>NaN</td>\n",
       "    </tr>\n",
       "    <tr>\n",
       "      <th>793527</th>\n",
       "      <td>9</td>\n",
       "      <td>2014-10-24 02:04:59</td>\n",
       "      <td>2014-10-25 00:44:42</td>\n",
       "      <td>NaN</td>\n",
       "      <td>NaN</td>\n",
       "      <td>NaN</td>\n",
       "      <td>NaN</td>\n",
       "      <td>NaN</td>\n",
       "      <td>NaT</td>\n",
       "      <td>NaT</td>\n",
       "      <td>NaN</td>\n",
       "      <td>NaN</td>\n",
       "    </tr>\n",
       "    <tr>\n",
       "      <th>793571</th>\n",
       "      <td>2</td>\n",
       "      <td>2014-10-24 15:05:23</td>\n",
       "      <td>2014-10-27 17:53:29</td>\n",
       "      <td>NaN</td>\n",
       "      <td>NaN</td>\n",
       "      <td>NaN</td>\n",
       "      <td>NaN</td>\n",
       "      <td>NaN</td>\n",
       "      <td>NaT</td>\n",
       "      <td>NaT</td>\n",
       "      <td>NaN</td>\n",
       "      <td>NaN</td>\n",
       "    </tr>\n",
       "    <tr>\n",
       "      <th>793681</th>\n",
       "      <td>7</td>\n",
       "      <td>2014-10-25 00:02:19</td>\n",
       "      <td>2014-10-27 17:53:29</td>\n",
       "      <td>NaN</td>\n",
       "      <td>NaN</td>\n",
       "      <td>NaN</td>\n",
       "      <td>NaN</td>\n",
       "      <td>NaN</td>\n",
       "      <td>NaT</td>\n",
       "      <td>NaT</td>\n",
       "      <td>NaN</td>\n",
       "      <td>NaN</td>\n",
       "    </tr>\n",
       "    <tr>\n",
       "      <th>...</th>\n",
       "      <td>...</td>\n",
       "      <td>...</td>\n",
       "      <td>...</td>\n",
       "      <td>...</td>\n",
       "      <td>...</td>\n",
       "      <td>...</td>\n",
       "      <td>...</td>\n",
       "      <td>...</td>\n",
       "      <td>...</td>\n",
       "      <td>...</td>\n",
       "      <td>...</td>\n",
       "      <td>...</td>\n",
       "    </tr>\n",
       "    <tr>\n",
       "      <th>132777683</th>\n",
       "      <td>1520099</td>\n",
       "      <td>2020-07-02 20:22:28</td>\n",
       "      <td>2020-07-02 20:22:44</td>\n",
       "      <td>1524473.0</td>\n",
       "      <td>8de20189e64f86c4f892b98ca7d30077b00b3874</td>\n",
       "      <td>{\"ticket_id\":\"tzctj\",\"registers\":\"None\",\"colle...</td>\n",
       "      <td>NaN</td>\n",
       "      <td>1.0</td>\n",
       "      <td>2020-07-02 20:22:39</td>\n",
       "      <td>2020-07-02 20:22:39</td>\n",
       "      <td>161.0</td>\n",
       "      <td>1.0</td>\n",
       "    </tr>\n",
       "    <tr>\n",
       "      <th>132794701</th>\n",
       "      <td>1520099</td>\n",
       "      <td>2020-07-06 17:42:18</td>\n",
       "      <td>2020-07-06 17:43:00</td>\n",
       "      <td>1524473.0</td>\n",
       "      <td>c24003e782909cd4a8385fd84970943237aa605b</td>\n",
       "      <td>{\"ticket_id\":\"gz65\",\"registers\":\"None\",\"collec...</td>\n",
       "      <td>NaN</td>\n",
       "      <td>1.0</td>\n",
       "      <td>2020-07-06 17:42:37</td>\n",
       "      <td>2020-07-06 17:42:37</td>\n",
       "      <td>159.0</td>\n",
       "      <td>1.0</td>\n",
       "    </tr>\n",
       "    <tr>\n",
       "      <th>132806719</th>\n",
       "      <td>1520099</td>\n",
       "      <td>2020-07-09 13:12:28</td>\n",
       "      <td>2020-07-09 13:12:46</td>\n",
       "      <td>1524473.0</td>\n",
       "      <td>513e424fc16895f97ae6e70e9bb74f9a58c59229</td>\n",
       "      <td>{\"ticket_id\":\"56bs6\",\"registers\":\"None\",\"colle...</td>\n",
       "      <td>NaN</td>\n",
       "      <td>1.0</td>\n",
       "      <td>2020-07-09 13:12:38</td>\n",
       "      <td>2020-07-09 13:12:38</td>\n",
       "      <td>172.0</td>\n",
       "      <td>1.0</td>\n",
       "    </tr>\n",
       "    <tr>\n",
       "      <th>132806727</th>\n",
       "      <td>1520099</td>\n",
       "      <td>2020-07-09 13:16:41</td>\n",
       "      <td>2020-07-09 13:17:00</td>\n",
       "      <td>1524473.0</td>\n",
       "      <td>ab224c85d1194f9136c2903b41c6f56a34d7875b</td>\n",
       "      <td>{\"ticket_id\":\"cvszd\",\"registers\":\"None\",\"colle...</td>\n",
       "      <td>NaN</td>\n",
       "      <td>1.0</td>\n",
       "      <td>2020-07-09 13:16:52</td>\n",
       "      <td>2020-07-09 13:16:52</td>\n",
       "      <td>122.0</td>\n",
       "      <td>1.0</td>\n",
       "    </tr>\n",
       "    <tr>\n",
       "      <th>132806735</th>\n",
       "      <td>1520099</td>\n",
       "      <td>2020-07-09 13:20:03</td>\n",
       "      <td>2020-07-09 13:20:15</td>\n",
       "      <td>1524473.0</td>\n",
       "      <td>c7d1bf485fde66a2c244381971f3ea1151cbf42c</td>\n",
       "      <td>{\"ticket_id\":\"zrbqg\",\"registers\":\"None\",\"colle...</td>\n",
       "      <td>NaN</td>\n",
       "      <td>1.0</td>\n",
       "      <td>2020-07-09 13:20:09</td>\n",
       "      <td>2020-07-09 13:20:09</td>\n",
       "      <td>164.0</td>\n",
       "      <td>1.0</td>\n",
       "    </tr>\n",
       "  </tbody>\n",
       "</table>\n",
       "<p>859205 rows × 12 columns</p>\n",
       "</div>"
      ],
      "text/plain": [
       "           pen_id_checkout               start                 end  \\\n",
       "visit_id                                                             \n",
       "793401                   8 2014-10-23 15:36:51 2014-10-25 00:44:42   \n",
       "793449                   3 2014-10-23 16:25:42 2014-10-25 00:44:42   \n",
       "793527                   9 2014-10-24 02:04:59 2014-10-25 00:44:42   \n",
       "793571                   2 2014-10-24 15:05:23 2014-10-27 17:53:29   \n",
       "793681                   7 2014-10-25 00:02:19 2014-10-27 17:53:29   \n",
       "...                    ...                 ...                 ...   \n",
       "132777683          1520099 2020-07-02 20:22:28 2020-07-02 20:22:44   \n",
       "132794701          1520099 2020-07-06 17:42:18 2020-07-06 17:43:00   \n",
       "132806719          1520099 2020-07-09 13:12:28 2020-07-09 13:12:46   \n",
       "132806727          1520099 2020-07-09 13:16:41 2020-07-09 13:17:00   \n",
       "132806735          1520099 2020-07-09 13:20:03 2020-07-09 13:20:15   \n",
       "\n",
       "           pen_id_activity                               fingerprint  \\\n",
       "visit_id                                                               \n",
       "793401                 NaN                                       NaN   \n",
       "793449                 NaN                                       NaN   \n",
       "793527                 NaN                                       NaN   \n",
       "793571                 NaN                                       NaN   \n",
       "793681                 NaN                                       NaN   \n",
       "...                    ...                                       ...   \n",
       "132777683        1524473.0  8de20189e64f86c4f892b98ca7d30077b00b3874   \n",
       "132794701        1524473.0  c24003e782909cd4a8385fd84970943237aa605b   \n",
       "132806719        1524473.0  513e424fc16895f97ae6e70e9bb74f9a58c59229   \n",
       "132806727        1524473.0  ab224c85d1194f9136c2903b41c6f56a34d7875b   \n",
       "132806735        1524473.0  c7d1bf485fde66a2c244381971f3ea1151cbf42c   \n",
       "\n",
       "                                                    activity notes  status_id  \\\n",
       "visit_id                                                                        \n",
       "793401                                                   NaN   NaN        NaN   \n",
       "793449                                                   NaN   NaN        NaN   \n",
       "793527                                                   NaN   NaN        NaN   \n",
       "793571                                                   NaN   NaN        NaN   \n",
       "793681                                                   NaN   NaN        NaN   \n",
       "...                                                      ...   ...        ...   \n",
       "132777683  {\"ticket_id\":\"tzctj\",\"registers\":\"None\",\"colle...   NaN        1.0   \n",
       "132794701  {\"ticket_id\":\"gz65\",\"registers\":\"None\",\"collec...   NaN        1.0   \n",
       "132806719  {\"ticket_id\":\"56bs6\",\"registers\":\"None\",\"colle...   NaN        1.0   \n",
       "132806727  {\"ticket_id\":\"cvszd\",\"registers\":\"None\",\"colle...   NaN        1.0   \n",
       "132806735  {\"ticket_id\":\"zrbqg\",\"registers\":\"None\",\"colle...   NaN        1.0   \n",
       "\n",
       "                      created        lastmodified  time_to_process  \\\n",
       "visit_id                                                             \n",
       "793401                    NaT                 NaT              NaN   \n",
       "793449                    NaT                 NaT              NaN   \n",
       "793527                    NaT                 NaT              NaN   \n",
       "793571                    NaT                 NaT              NaN   \n",
       "793681                    NaT                 NaT              NaN   \n",
       "...                       ...                 ...              ...   \n",
       "132777683 2020-07-02 20:22:39 2020-07-02 20:22:39            161.0   \n",
       "132794701 2020-07-06 17:42:37 2020-07-06 17:42:37            159.0   \n",
       "132806719 2020-07-09 13:12:38 2020-07-09 13:12:38            172.0   \n",
       "132806727 2020-07-09 13:16:52 2020-07-09 13:16:52            122.0   \n",
       "132806735 2020-07-09 13:20:09 2020-07-09 13:20:09            164.0   \n",
       "\n",
       "           count_items  \n",
       "visit_id                \n",
       "793401             NaN  \n",
       "793449             NaN  \n",
       "793527             NaN  \n",
       "793571             NaN  \n",
       "793681             NaN  \n",
       "...                ...  \n",
       "132777683          1.0  \n",
       "132794701          1.0  \n",
       "132806719          1.0  \n",
       "132806727          1.0  \n",
       "132806735          1.0  \n",
       "\n",
       "[859205 rows x 12 columns]"
      ]
     },
     "execution_count": 70,
     "metadata": {},
     "output_type": "execute_result"
    }
   ],
   "source": [
    "checkout_activity"
   ]
  },
  {
   "cell_type": "code",
   "execution_count": 75,
   "metadata": {},
   "outputs": [],
   "source": [
    "checkout_activity_na = checkout_activity[checkout_activity['pen_id_activity'].isna()]"
   ]
  },
  {
   "cell_type": "code",
   "execution_count": 83,
   "metadata": {},
   "outputs": [
    {
     "data": {
      "text/plain": [
       "149417"
      ]
     },
     "execution_count": 83,
     "metadata": {},
     "output_type": "execute_result"
    }
   ],
   "source": [
    "checkout_activity_na['pen_id_checkout'].count()"
   ]
  },
  {
   "cell_type": "code",
   "execution_count": 88,
   "metadata": {},
   "outputs": [
    {
     "data": {
      "text/plain": [
       "start\n",
       "2014      177\n",
       "2015    30074\n",
       "2016    27851\n",
       "2017    24293\n",
       "2018    35602\n",
       "2019    25781\n",
       "2020     5639\n",
       "Freq: A-DEC, Name: start, dtype: int64"
      ]
     },
     "execution_count": 88,
     "metadata": {},
     "output_type": "execute_result"
    }
   ],
   "source": [
    "checkout_activity_na_yealry = checkout_activity_na['start'].groupby(checkout_activity_na.start.dt.to_period('Y')).agg('count')\n",
    "checkout_activity_na_yealry"
   ]
  },
  {
   "cell_type": "code",
   "execution_count": 91,
   "metadata": {},
   "outputs": [
    {
     "data": {
      "text/plain": [
       "<matplotlib.legend.Legend at 0x7fe578c76b50>"
      ]
     },
     "execution_count": 91,
     "metadata": {},
     "output_type": "execute_result"
    },
    {
     "data": {
      "image/png": "[encoded data removed]",
      "text/plain": [
       "<Figure size 360x360 with 1 Axes>"
      ]
     },
     "metadata": {},
     "output_type": "display_data"
    }
   ],
   "source": [
    "checkout_activity_na_yealry.plot.pie(y='start', figsize=(5, 5),autopct='%1.1f%%', startangle=90)\n",
    "plt.title('did nothing by year?', fontdict={'fontweight': 'bold', 'fontsize':18})\n",
    "plt.ylabel('Values count')\n",
    "plt.legend()"
   ]
  },
  {
   "cell_type": "code",
   "execution_count": 94,
   "metadata": {},
   "outputs": [
    {
     "data": {
      "text/plain": [
       "<matplotlib.legend.Legend at 0x7fe57b0081d0>"
      ]
     },
     "execution_count": 94,
     "metadata": {},
     "output_type": "execute_result"
    },
    {
     "data": {
      "image/png": "[encoded data removed]",
      "text/plain": [
       "<Figure size 432x288 with 1 Axes>"
      ]
     },
     "metadata": {
      "needs_background": "light"
     },
     "output_type": "display_data"
    }
   ],
   "source": [
    "checkout_activity_na_month = checkout_activity_na['start'].groupby(checkout_activity_na.start.dt.to_period('M')).agg('count')\n",
    "\n",
    "checkout_activity_na_month.plot()\n",
    "plt.title('did nothing by month?', fontdict={'fontweight': 'bold', 'fontsize':18})\n",
    "plt.ylabel('Values count')\n",
    "plt.legend()"
   ]
  },
  {
   "cell_type": "code",
   "execution_count": 93,
   "metadata": {},
   "outputs": [
    {
     "data": {
      "text/plain": [
       "start\n",
       "2018-06    7770\n",
       "2015-04    4154\n",
       "2018-08    3786\n",
       "2016-09    3782\n",
       "2015-12    3776\n",
       "Freq: M, Name: start, dtype: int64"
      ]
     },
     "execution_count": 93,
     "metadata": {},
     "output_type": "execute_result"
    }
   ],
   "source": [
    "checkout_activity_na_month.nlargest()"
   ]
  },
  {
   "cell_type": "code",
   "execution_count": null,
   "metadata": {},
   "outputs": [],
   "source": []
  }
 ],
 "metadata": {
  "kernelspec": {
   "display_name": "Python 3",
   "language": "python",
   "name": "python3"
  },
  "language_info": {
   "codemirror_mode": {
    "name": "ipython",
    "version": 3
   },
   "file_extension": ".py",
   "mimetype": "text/x-python",
   "name": "python",
   "nbconvert_exporter": "python",
   "pygments_lexer": "ipython3",
   "version": "3.7.6"
  }
 },
 "nbformat": 4,
 "nbformat_minor": 4
}
