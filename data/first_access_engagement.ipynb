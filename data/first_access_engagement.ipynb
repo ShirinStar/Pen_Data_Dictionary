{
 "cells": [
  {
   "cell_type": "code",
   "execution_count": 1,
   "metadata": {},
   "outputs": [],
   "source": [
    "import mysql.connector as sql\n",
    "import pandas as pd\n",
    "import datetime as dt\n",
    "import numpy as np\n",
    "from sorted_months_weekdays import *\n",
    "from sort_dataframeby_monthorweek import *\n",
    "import matplotlib.pyplot as plt\n",
    "import math\n",
    "import json\n",
    "from pandas.io.json import json_normalize"
   ]
  },
  {
   "cell_type": "code",
   "execution_count": 2,
   "metadata": {},
   "outputs": [],
   "source": [
    "db_connection = sql.connect(host='localhost', database='collection_visits', user='pandas', password='password')\n",
    "\n",
    "visits = pd.read_sql('SELECT * FROM Visits', con=db_connection)\n",
    "visits['created'] = pd.to_datetime(visits['created'], unit='s')\n",
    "visits['lastmodified'] = pd.to_datetime(visits['lastmodified'], unit='s')\n",
    "visits['registered'] = visits['registered'].replace(0, np.nan)\n",
    "visits['registered'] = pd.to_datetime(visits['registered'], unit='s')\n",
    "visits['deleted'] = visits['deleted'].replace(0, np.nan)\n",
    "visits['deleted'] = pd.to_datetime(visits['deleted'], unit='s')\n",
    "visits['paired'] = visits['paired'].replace(0, np.nan)\n",
    "visits['paired'] = pd.to_datetime(visits['paired'], unit='s')\n",
    "visits['first_accessed'] = pd.to_datetime(visits['first_accessed'], unit='s')\n",
    "# visits['created_ip'].replace(0, np.nan, inplace=True)\n",
    "# visits['registered_ip'].replace(0, np.nan, inplace=True)\n",
    "# visits['paired_ip'].replace(0, np.nan, inplace=True)\n",
    "# visits['processed'].replace(0, np.nan, inplace=True)\n",
    "visits['exported'].replace(0, np.nan, inplace=True)\n",
    "visits['title'].fillna(value=np.nan, inplace=True)\n",
    "visits['note'].replace(r'^\\s*$', np.NaN, regex=True, inplace=True)"
   ]
  },
  {
   "cell_type": "code",
   "execution_count": 3,
   "metadata": {},
   "outputs": [],
   "source": [
    "pd.set_option('display.max_rows', 500)\n",
    "pd.set_option('display.max_columns', 50)\n",
    "pd.set_option(\"max_colwidth\", 1000)"
   ]
  },
  {
   "cell_type": "code",
   "execution_count": 4,
   "metadata": {},
   "outputs": [
    {
     "data": {
      "text/html": [
       "<div>\n",
       "<style scoped>\n",
       "    .dataframe tbody tr th:only-of-type {\n",
       "        vertical-align: middle;\n",
       "    }\n",
       "\n",
       "    .dataframe tbody tr th {\n",
       "        vertical-align: top;\n",
       "    }\n",
       "\n",
       "    .dataframe thead th {\n",
       "        text-align: right;\n",
       "    }\n",
       "</style>\n",
       "<table border=\"1\" class=\"dataframe\">\n",
       "  <thead>\n",
       "    <tr style=\"text-align: right;\">\n",
       "      <th></th>\n",
       "      <th>id</th>\n",
       "      <th>shortcode</th>\n",
       "      <th>user_id</th>\n",
       "      <th>created</th>\n",
       "      <th>lastmodified</th>\n",
       "      <th>registered</th>\n",
       "      <th>expires</th>\n",
       "      <th>paired</th>\n",
       "      <th>ticket</th>\n",
       "      <th>deleted</th>\n",
       "      <th>created_ip</th>\n",
       "      <th>registered_ip</th>\n",
       "      <th>paired_ip</th>\n",
       "      <th>processed</th>\n",
       "      <th>purchased_by_user_id</th>\n",
       "      <th>note</th>\n",
       "      <th>exported</th>\n",
       "      <th>first_accessed</th>\n",
       "      <th>ignore_first_accessed</th>\n",
       "      <th>title</th>\n",
       "    </tr>\n",
       "  </thead>\n",
       "  <tbody>\n",
       "    <tr>\n",
       "      <th>0</th>\n",
       "      <td>794965</td>\n",
       "      <td>20141029u305</td>\n",
       "      <td>0</td>\n",
       "      <td>2014-10-29 21:10:47</td>\n",
       "      <td>2016-02-23 22:57:37</td>\n",
       "      <td>2014-10-29 21:10:47</td>\n",
       "      <td>0</td>\n",
       "      <td>2014-10-29 21:13:56</td>\n",
       "      <td>{\"tessitura_spoofing\":1,\"ticket_id\":\"794965\",\"performance_id\":\"71\",\"attended\":\"1\",\"date_attended\":\"2014-10-29T17:10:47-04:00\"}</td>\n",
       "      <td>2014-10-29 23:19:52</td>\n",
       "      <td>0</td>\n",
       "      <td>0</td>\n",
       "      <td>0</td>\n",
       "      <td>0</td>\n",
       "      <td>0</td>\n",
       "      <td>NaN</td>\n",
       "      <td>NaN</td>\n",
       "      <td>NaT</td>\n",
       "      <td>1.0</td>\n",
       "      <td>NaN</td>\n",
       "    </tr>\n",
       "    <tr>\n",
       "      <th>1</th>\n",
       "      <td>795317</td>\n",
       "      <td>foo001</td>\n",
       "      <td>0</td>\n",
       "      <td>2014-10-29 23:32:29</td>\n",
       "      <td>2016-02-23 22:57:37</td>\n",
       "      <td>2014-10-29 23:32:29</td>\n",
       "      <td>0</td>\n",
       "      <td>2014-10-29 23:33:06</td>\n",
       "      <td>{\"tessitura_spoofing\":1,\"ticket_id\":\"795317\",\"performance_id\":\"71\",\"attended\":\"1\",\"date_attended\":\"2014-10-29T19:32:29-04:00\"}</td>\n",
       "      <td>2014-10-29 23:35:18</td>\n",
       "      <td>0</td>\n",
       "      <td>0</td>\n",
       "      <td>0</td>\n",
       "      <td>0</td>\n",
       "      <td>0</td>\n",
       "      <td>NaN</td>\n",
       "      <td>NaN</td>\n",
       "      <td>NaT</td>\n",
       "      <td>1.0</td>\n",
       "      <td>NaN</td>\n",
       "    </tr>\n",
       "    <tr>\n",
       "      <th>2</th>\n",
       "      <td>795341</td>\n",
       "      <td>foo002</td>\n",
       "      <td>0</td>\n",
       "      <td>2014-10-29 23:40:51</td>\n",
       "      <td>2016-02-23 22:57:37</td>\n",
       "      <td>2014-10-29 23:40:51</td>\n",
       "      <td>0</td>\n",
       "      <td>2014-10-29 23:41:08</td>\n",
       "      <td>{\"tessitura_spoofing\":1,\"ticket_id\":\"795341\",\"performance_id\":\"71\",\"attended\":\"1\",\"date_attended\":\"2014-10-29T19:40:51-04:00\"}</td>\n",
       "      <td>2014-10-29 23:41:21</td>\n",
       "      <td>0</td>\n",
       "      <td>0</td>\n",
       "      <td>0</td>\n",
       "      <td>0</td>\n",
       "      <td>0</td>\n",
       "      <td>NaN</td>\n",
       "      <td>NaN</td>\n",
       "      <td>NaT</td>\n",
       "      <td>1.0</td>\n",
       "      <td>NaN</td>\n",
       "    </tr>\n",
       "    <tr>\n",
       "      <th>3</th>\n",
       "      <td>795351</td>\n",
       "      <td>foo003</td>\n",
       "      <td>0</td>\n",
       "      <td>2014-10-29 23:43:31</td>\n",
       "      <td>2016-02-23 22:57:37</td>\n",
       "      <td>2014-10-29 23:43:31</td>\n",
       "      <td>0</td>\n",
       "      <td>2014-10-29 23:44:28</td>\n",
       "      <td>{\"tessitura_spoofing\":1,\"ticket_id\":\"795351\",\"performance_id\":\"71\",\"attended\":\"1\",\"date_attended\":\"2014-10-29T19:43:31-04:00\"}</td>\n",
       "      <td>2014-10-29 23:44:34</td>\n",
       "      <td>0</td>\n",
       "      <td>0</td>\n",
       "      <td>0</td>\n",
       "      <td>0</td>\n",
       "      <td>0</td>\n",
       "      <td>NaN</td>\n",
       "      <td>NaN</td>\n",
       "      <td>NaT</td>\n",
       "      <td>1.0</td>\n",
       "      <td>NaN</td>\n",
       "    </tr>\n",
       "    <tr>\n",
       "      <th>4</th>\n",
       "      <td>795405</td>\n",
       "      <td>foo004</td>\n",
       "      <td>0</td>\n",
       "      <td>2014-10-30 00:13:47</td>\n",
       "      <td>2016-02-23 22:57:37</td>\n",
       "      <td>2014-10-30 00:13:47</td>\n",
       "      <td>0</td>\n",
       "      <td>2014-10-30 00:14:13</td>\n",
       "      <td>{\"tessitura_spoofing\":1,\"ticket_id\":\"795405\",\"performance_id\":\"71\",\"attended\":\"1\",\"date_attended\":\"2014-10-29T20:13:47-04:00\"}</td>\n",
       "      <td>2014-10-30 00:14:41</td>\n",
       "      <td>0</td>\n",
       "      <td>0</td>\n",
       "      <td>0</td>\n",
       "      <td>0</td>\n",
       "      <td>0</td>\n",
       "      <td>NaN</td>\n",
       "      <td>NaN</td>\n",
       "      <td>NaT</td>\n",
       "      <td>1.0</td>\n",
       "      <td>NaN</td>\n",
       "    </tr>\n",
       "    <tr>\n",
       "      <th>...</th>\n",
       "      <td>...</td>\n",
       "      <td>...</td>\n",
       "      <td>...</td>\n",
       "      <td>...</td>\n",
       "      <td>...</td>\n",
       "      <td>...</td>\n",
       "      <td>...</td>\n",
       "      <td>...</td>\n",
       "      <td>...</td>\n",
       "      <td>...</td>\n",
       "      <td>...</td>\n",
       "      <td>...</td>\n",
       "      <td>...</td>\n",
       "      <td>...</td>\n",
       "      <td>...</td>\n",
       "      <td>...</td>\n",
       "      <td>...</td>\n",
       "      <td>...</td>\n",
       "      <td>...</td>\n",
       "      <td>...</td>\n",
       "    </tr>\n",
       "    <tr>\n",
       "      <th>716277</th>\n",
       "      <td>132806719</td>\n",
       "      <td>56bs6</td>\n",
       "      <td>0</td>\n",
       "      <td>2020-07-09 13:11:50</td>\n",
       "      <td>2020-07-09 13:22:11</td>\n",
       "      <td>2020-07-09 13:12:12</td>\n",
       "      <td>0</td>\n",
       "      <td>NaT</td>\n",
       "      <td>{\"status\":\"Attendance recorded for ticket: 940560\",\"ticket_id\":\"940560\",\"shortcode\":\"56bs6\",\"performance_id\":\"4254\",\"performance_date\":\"2020-07-09T10:00:00-04:00\",\"date_attended\":\"Jul  9 2020  9:12AM\",\"attended\":\"1\",\"type\":null}</td>\n",
       "      <td>NaT</td>\n",
       "      <td>1198074958</td>\n",
       "      <td>1198074958</td>\n",
       "      <td>0</td>\n",
       "      <td>0</td>\n",
       "      <td>0</td>\n",
       "      <td>NaN</td>\n",
       "      <td>NaN</td>\n",
       "      <td>2020-07-09 13:22:11</td>\n",
       "      <td>NaN</td>\n",
       "      <td>NaN</td>\n",
       "    </tr>\n",
       "    <tr>\n",
       "      <th>716278</th>\n",
       "      <td>132806727</td>\n",
       "      <td>cvszd</td>\n",
       "      <td>0</td>\n",
       "      <td>2020-07-09 13:16:19</td>\n",
       "      <td>2020-07-09 13:22:42</td>\n",
       "      <td>2020-07-09 13:16:32</td>\n",
       "      <td>0</td>\n",
       "      <td>NaT</td>\n",
       "      <td>{\"status\":\"Attendance recorded for ticket: 940561\",\"ticket_id\":\"940561\",\"shortcode\":\"cvszd\",\"performance_id\":\"4254\",\"performance_date\":\"2020-07-09T10:00:00-04:00\",\"date_attended\":\"Jul  9 2020  9:16AM\",\"attended\":\"1\",\"type\":null}</td>\n",
       "      <td>NaT</td>\n",
       "      <td>1198074958</td>\n",
       "      <td>1198074958</td>\n",
       "      <td>0</td>\n",
       "      <td>0</td>\n",
       "      <td>0</td>\n",
       "      <td>NaN</td>\n",
       "      <td>NaN</td>\n",
       "      <td>2020-07-09 13:22:42</td>\n",
       "      <td>NaN</td>\n",
       "      <td>NaN</td>\n",
       "    </tr>\n",
       "    <tr>\n",
       "      <th>716279</th>\n",
       "      <td>132806735</td>\n",
       "      <td>zrbqg</td>\n",
       "      <td>0</td>\n",
       "      <td>2020-07-09 13:19:41</td>\n",
       "      <td>2020-07-09 13:22:54</td>\n",
       "      <td>2020-07-09 13:19:58</td>\n",
       "      <td>0</td>\n",
       "      <td>NaT</td>\n",
       "      <td>{\"status\":\"Attendance recorded for ticket: 940562\",\"ticket_id\":\"940562\",\"shortcode\":\"zrbqg\",\"performance_id\":\"4254\",\"performance_date\":\"2020-07-09T10:00:00-04:00\",\"date_attended\":\"Jul  9 2020  9:19AM\",\"attended\":\"1\",\"type\":null}</td>\n",
       "      <td>NaT</td>\n",
       "      <td>1198074958</td>\n",
       "      <td>1198074958</td>\n",
       "      <td>0</td>\n",
       "      <td>0</td>\n",
       "      <td>0</td>\n",
       "      <td>NaN</td>\n",
       "      <td>NaN</td>\n",
       "      <td>2020-07-09 13:22:54</td>\n",
       "      <td>NaN</td>\n",
       "      <td>NaN</td>\n",
       "    </tr>\n",
       "    <tr>\n",
       "      <th>716280</th>\n",
       "      <td>132806749</td>\n",
       "      <td>Jr656</td>\n",
       "      <td>0</td>\n",
       "      <td>2020-07-09 13:40:43</td>\n",
       "      <td>2020-07-09 13:40:43</td>\n",
       "      <td>2020-07-09 13:40:42</td>\n",
       "      <td>0</td>\n",
       "      <td>NaT</td>\n",
       "      <td>{\"status\":\"Attendance recorded for ticket: 940563\",\"ticket_id\":\"940563\",\"shortcode\":\"Jr656\",\"performance_id\":\"4254\",\"performance_date\":\"2020-07-09T10:00:00-04:00\",\"date_attended\":\"Jul  9 2020  9:40AM\",\"attended\":\"1\",\"type\":null}</td>\n",
       "      <td>NaT</td>\n",
       "      <td>1198074958</td>\n",
       "      <td>1198074958</td>\n",
       "      <td>0</td>\n",
       "      <td>0</td>\n",
       "      <td>0</td>\n",
       "      <td>NaN</td>\n",
       "      <td>NaN</td>\n",
       "      <td>NaT</td>\n",
       "      <td>NaN</td>\n",
       "      <td>NaN</td>\n",
       "    </tr>\n",
       "    <tr>\n",
       "      <th>716281</th>\n",
       "      <td>132806751</td>\n",
       "      <td>3xp65</td>\n",
       "      <td>0</td>\n",
       "      <td>2020-07-09 13:41:06</td>\n",
       "      <td>2020-07-09 13:41:06</td>\n",
       "      <td>NaT</td>\n",
       "      <td>0</td>\n",
       "      <td>NaT</td>\n",
       "      <td>{\"ticket_id\":\"940564\",\"shortcode\":\"3xp65\",\"performance_id\":\"4254\",\"performance_date\":\"2020-07-09T10:00:00-04:00\",\"date_attended\":\"\",\"prepair\":\"0\",\"attended\":\"0\",\"type\":null}</td>\n",
       "      <td>NaT</td>\n",
       "      <td>1198074958</td>\n",
       "      <td>0</td>\n",
       "      <td>0</td>\n",
       "      <td>0</td>\n",
       "      <td>0</td>\n",
       "      <td>NaN</td>\n",
       "      <td>NaN</td>\n",
       "      <td>NaT</td>\n",
       "      <td>NaN</td>\n",
       "      <td>NaN</td>\n",
       "    </tr>\n",
       "  </tbody>\n",
       "</table>\n",
       "<p>716282 rows × 20 columns</p>\n",
       "</div>"
      ],
      "text/plain": [
       "               id     shortcode  user_id             created  \\\n",
       "0          794965  20141029u305        0 2014-10-29 21:10:47   \n",
       "1          795317        foo001        0 2014-10-29 23:32:29   \n",
       "2          795341        foo002        0 2014-10-29 23:40:51   \n",
       "3          795351        foo003        0 2014-10-29 23:43:31   \n",
       "4          795405        foo004        0 2014-10-30 00:13:47   \n",
       "...           ...           ...      ...                 ...   \n",
       "716277  132806719         56bs6        0 2020-07-09 13:11:50   \n",
       "716278  132806727         cvszd        0 2020-07-09 13:16:19   \n",
       "716279  132806735         zrbqg        0 2020-07-09 13:19:41   \n",
       "716280  132806749         Jr656        0 2020-07-09 13:40:43   \n",
       "716281  132806751         3xp65        0 2020-07-09 13:41:06   \n",
       "\n",
       "              lastmodified          registered  expires              paired  \\\n",
       "0      2016-02-23 22:57:37 2014-10-29 21:10:47        0 2014-10-29 21:13:56   \n",
       "1      2016-02-23 22:57:37 2014-10-29 23:32:29        0 2014-10-29 23:33:06   \n",
       "2      2016-02-23 22:57:37 2014-10-29 23:40:51        0 2014-10-29 23:41:08   \n",
       "3      2016-02-23 22:57:37 2014-10-29 23:43:31        0 2014-10-29 23:44:28   \n",
       "4      2016-02-23 22:57:37 2014-10-30 00:13:47        0 2014-10-30 00:14:13   \n",
       "...                    ...                 ...      ...                 ...   \n",
       "716277 2020-07-09 13:22:11 2020-07-09 13:12:12        0                 NaT   \n",
       "716278 2020-07-09 13:22:42 2020-07-09 13:16:32        0                 NaT   \n",
       "716279 2020-07-09 13:22:54 2020-07-09 13:19:58        0                 NaT   \n",
       "716280 2020-07-09 13:40:43 2020-07-09 13:40:42        0                 NaT   \n",
       "716281 2020-07-09 13:41:06                 NaT        0                 NaT   \n",
       "\n",
       "                                                                                                                                                                                                                                      ticket  \\\n",
       "0                                                                                                             {\"tessitura_spoofing\":1,\"ticket_id\":\"794965\",\"performance_id\":\"71\",\"attended\":\"1\",\"date_attended\":\"2014-10-29T17:10:47-04:00\"}   \n",
       "1                                                                                                             {\"tessitura_spoofing\":1,\"ticket_id\":\"795317\",\"performance_id\":\"71\",\"attended\":\"1\",\"date_attended\":\"2014-10-29T19:32:29-04:00\"}   \n",
       "2                                                                                                             {\"tessitura_spoofing\":1,\"ticket_id\":\"795341\",\"performance_id\":\"71\",\"attended\":\"1\",\"date_attended\":\"2014-10-29T19:40:51-04:00\"}   \n",
       "3                                                                                                             {\"tessitura_spoofing\":1,\"ticket_id\":\"795351\",\"performance_id\":\"71\",\"attended\":\"1\",\"date_attended\":\"2014-10-29T19:43:31-04:00\"}   \n",
       "4                                                                                                             {\"tessitura_spoofing\":1,\"ticket_id\":\"795405\",\"performance_id\":\"71\",\"attended\":\"1\",\"date_attended\":\"2014-10-29T20:13:47-04:00\"}   \n",
       "...                                                                                                                                                                                                                                      ...   \n",
       "716277  {\"status\":\"Attendance recorded for ticket: 940560\",\"ticket_id\":\"940560\",\"shortcode\":\"56bs6\",\"performance_id\":\"4254\",\"performance_date\":\"2020-07-09T10:00:00-04:00\",\"date_attended\":\"Jul  9 2020  9:12AM\",\"attended\":\"1\",\"type\":null}   \n",
       "716278  {\"status\":\"Attendance recorded for ticket: 940561\",\"ticket_id\":\"940561\",\"shortcode\":\"cvszd\",\"performance_id\":\"4254\",\"performance_date\":\"2020-07-09T10:00:00-04:00\",\"date_attended\":\"Jul  9 2020  9:16AM\",\"attended\":\"1\",\"type\":null}   \n",
       "716279  {\"status\":\"Attendance recorded for ticket: 940562\",\"ticket_id\":\"940562\",\"shortcode\":\"zrbqg\",\"performance_id\":\"4254\",\"performance_date\":\"2020-07-09T10:00:00-04:00\",\"date_attended\":\"Jul  9 2020  9:19AM\",\"attended\":\"1\",\"type\":null}   \n",
       "716280  {\"status\":\"Attendance recorded for ticket: 940563\",\"ticket_id\":\"940563\",\"shortcode\":\"Jr656\",\"performance_id\":\"4254\",\"performance_date\":\"2020-07-09T10:00:00-04:00\",\"date_attended\":\"Jul  9 2020  9:40AM\",\"attended\":\"1\",\"type\":null}   \n",
       "716281                                                         {\"ticket_id\":\"940564\",\"shortcode\":\"3xp65\",\"performance_id\":\"4254\",\"performance_date\":\"2020-07-09T10:00:00-04:00\",\"date_attended\":\"\",\"prepair\":\"0\",\"attended\":\"0\",\"type\":null}   \n",
       "\n",
       "                   deleted  created_ip  registered_ip  paired_ip  processed  \\\n",
       "0      2014-10-29 23:19:52           0              0          0          0   \n",
       "1      2014-10-29 23:35:18           0              0          0          0   \n",
       "2      2014-10-29 23:41:21           0              0          0          0   \n",
       "3      2014-10-29 23:44:34           0              0          0          0   \n",
       "4      2014-10-30 00:14:41           0              0          0          0   \n",
       "...                    ...         ...            ...        ...        ...   \n",
       "716277                 NaT  1198074958     1198074958          0          0   \n",
       "716278                 NaT  1198074958     1198074958          0          0   \n",
       "716279                 NaT  1198074958     1198074958          0          0   \n",
       "716280                 NaT  1198074958     1198074958          0          0   \n",
       "716281                 NaT  1198074958              0          0          0   \n",
       "\n",
       "        purchased_by_user_id note  exported      first_accessed  \\\n",
       "0                          0  NaN       NaN                 NaT   \n",
       "1                          0  NaN       NaN                 NaT   \n",
       "2                          0  NaN       NaN                 NaT   \n",
       "3                          0  NaN       NaN                 NaT   \n",
       "4                          0  NaN       NaN                 NaT   \n",
       "...                      ...  ...       ...                 ...   \n",
       "716277                     0  NaN       NaN 2020-07-09 13:22:11   \n",
       "716278                     0  NaN       NaN 2020-07-09 13:22:42   \n",
       "716279                     0  NaN       NaN 2020-07-09 13:22:54   \n",
       "716280                     0  NaN       NaN                 NaT   \n",
       "716281                     0  NaN       NaN                 NaT   \n",
       "\n",
       "        ignore_first_accessed title  \n",
       "0                         1.0   NaN  \n",
       "1                         1.0   NaN  \n",
       "2                         1.0   NaN  \n",
       "3                         1.0   NaN  \n",
       "4                         1.0   NaN  \n",
       "...                       ...   ...  \n",
       "716277                    NaN   NaN  \n",
       "716278                    NaN   NaN  \n",
       "716279                    NaN   NaN  \n",
       "716280                    NaN   NaN  \n",
       "716281                    NaN   NaN  \n",
       "\n",
       "[716282 rows x 20 columns]"
      ]
     },
     "execution_count": 4,
     "metadata": {},
     "output_type": "execute_result"
    }
   ],
   "source": [
    "visits"
   ]
  },
  {
   "cell_type": "code",
   "execution_count": 7,
   "metadata": {},
   "outputs": [
    {
     "data": {
      "text/plain": [
       "133970   2016-02-24 14:52:43\n",
       "142658   2016-02-24 14:53:51\n",
       "142668   2016-02-24 15:06:58\n",
       "144219   2016-02-24 15:11:21\n",
       "141261   2016-02-24 15:13:05\n",
       "                 ...        \n",
       "716268                   NaT\n",
       "716271                   NaT\n",
       "716272                   NaT\n",
       "716280                   NaT\n",
       "716281                   NaT\n",
       "Name: first_accessed, Length: 716282, dtype: datetime64[ns]"
      ]
     },
     "execution_count": 7,
     "metadata": {},
     "output_type": "execute_result"
    }
   ],
   "source": [
    "visits['first_accessed'].sort_values()\n",
    "#first log of this column in 2016-02-24"
   ]
  },
  {
   "cell_type": "code",
   "execution_count": 79,
   "metadata": {},
   "outputs": [],
   "source": [
    "visit_accessed = visits[['user_id', 'created', 'first_accessed', 'ignore_first_accessed']]"
   ]
  },
  {
   "cell_type": "code",
   "execution_count": 80,
   "metadata": {},
   "outputs": [],
   "source": [
    "visit_accessed = visit_accessed[visit_accessed['ignore_first_accessed'].isna()]"
   ]
  },
  {
   "cell_type": "code",
   "execution_count": 81,
   "metadata": {},
   "outputs": [],
   "source": [
    "visit_accessed['time_between'] = visit_accessed['first_accessed'] - visit_accessed['created']"
   ]
  },
  {
   "cell_type": "code",
   "execution_count": 82,
   "metadata": {},
   "outputs": [
    {
     "data": {
      "text/html": [
       "<div>\n",
       "<style scoped>\n",
       "    .dataframe tbody tr th:only-of-type {\n",
       "        vertical-align: middle;\n",
       "    }\n",
       "\n",
       "    .dataframe tbody tr th {\n",
       "        vertical-align: top;\n",
       "    }\n",
       "\n",
       "    .dataframe thead th {\n",
       "        text-align: right;\n",
       "    }\n",
       "</style>\n",
       "<table border=\"1\" class=\"dataframe\">\n",
       "  <thead>\n",
       "    <tr style=\"text-align: right;\">\n",
       "      <th></th>\n",
       "      <th>user_id</th>\n",
       "      <th>created</th>\n",
       "      <th>first_accessed</th>\n",
       "      <th>ignore_first_accessed</th>\n",
       "      <th>time_between</th>\n",
       "    </tr>\n",
       "  </thead>\n",
       "  <tbody>\n",
       "    <tr>\n",
       "      <th>144641</th>\n",
       "      <td>0</td>\n",
       "      <td>2016-02-24 14:46:38</td>\n",
       "      <td>NaT</td>\n",
       "      <td>NaN</td>\n",
       "      <td>NaT</td>\n",
       "    </tr>\n",
       "    <tr>\n",
       "      <th>144642</th>\n",
       "      <td>0</td>\n",
       "      <td>2016-02-24 14:55:22</td>\n",
       "      <td>NaT</td>\n",
       "      <td>NaN</td>\n",
       "      <td>NaT</td>\n",
       "    </tr>\n",
       "    <tr>\n",
       "      <th>144643</th>\n",
       "      <td>0</td>\n",
       "      <td>2016-02-24 14:55:58</td>\n",
       "      <td>NaT</td>\n",
       "      <td>NaN</td>\n",
       "      <td>NaT</td>\n",
       "    </tr>\n",
       "    <tr>\n",
       "      <th>144644</th>\n",
       "      <td>0</td>\n",
       "      <td>2016-02-24 14:56:38</td>\n",
       "      <td>NaT</td>\n",
       "      <td>NaN</td>\n",
       "      <td>NaT</td>\n",
       "    </tr>\n",
       "    <tr>\n",
       "      <th>144645</th>\n",
       "      <td>0</td>\n",
       "      <td>2016-02-24 14:57:33</td>\n",
       "      <td>2016-02-25 00:37:53</td>\n",
       "      <td>NaN</td>\n",
       "      <td>09:40:20</td>\n",
       "    </tr>\n",
       "    <tr>\n",
       "      <th>...</th>\n",
       "      <td>...</td>\n",
       "      <td>...</td>\n",
       "      <td>...</td>\n",
       "      <td>...</td>\n",
       "      <td>...</td>\n",
       "    </tr>\n",
       "    <tr>\n",
       "      <th>716277</th>\n",
       "      <td>0</td>\n",
       "      <td>2020-07-09 13:11:50</td>\n",
       "      <td>2020-07-09 13:22:11</td>\n",
       "      <td>NaN</td>\n",
       "      <td>00:10:21</td>\n",
       "    </tr>\n",
       "    <tr>\n",
       "      <th>716278</th>\n",
       "      <td>0</td>\n",
       "      <td>2020-07-09 13:16:19</td>\n",
       "      <td>2020-07-09 13:22:42</td>\n",
       "      <td>NaN</td>\n",
       "      <td>00:06:23</td>\n",
       "    </tr>\n",
       "    <tr>\n",
       "      <th>716279</th>\n",
       "      <td>0</td>\n",
       "      <td>2020-07-09 13:19:41</td>\n",
       "      <td>2020-07-09 13:22:54</td>\n",
       "      <td>NaN</td>\n",
       "      <td>00:03:13</td>\n",
       "    </tr>\n",
       "    <tr>\n",
       "      <th>716280</th>\n",
       "      <td>0</td>\n",
       "      <td>2020-07-09 13:40:43</td>\n",
       "      <td>NaT</td>\n",
       "      <td>NaN</td>\n",
       "      <td>NaT</td>\n",
       "    </tr>\n",
       "    <tr>\n",
       "      <th>716281</th>\n",
       "      <td>0</td>\n",
       "      <td>2020-07-09 13:41:06</td>\n",
       "      <td>NaT</td>\n",
       "      <td>NaN</td>\n",
       "      <td>NaT</td>\n",
       "    </tr>\n",
       "  </tbody>\n",
       "</table>\n",
       "<p>571641 rows × 5 columns</p>\n",
       "</div>"
      ],
      "text/plain": [
       "        user_id             created      first_accessed  \\\n",
       "144641        0 2016-02-24 14:46:38                 NaT   \n",
       "144642        0 2016-02-24 14:55:22                 NaT   \n",
       "144643        0 2016-02-24 14:55:58                 NaT   \n",
       "144644        0 2016-02-24 14:56:38                 NaT   \n",
       "144645        0 2016-02-24 14:57:33 2016-02-25 00:37:53   \n",
       "...         ...                 ...                 ...   \n",
       "716277        0 2020-07-09 13:11:50 2020-07-09 13:22:11   \n",
       "716278        0 2020-07-09 13:16:19 2020-07-09 13:22:42   \n",
       "716279        0 2020-07-09 13:19:41 2020-07-09 13:22:54   \n",
       "716280        0 2020-07-09 13:40:43                 NaT   \n",
       "716281        0 2020-07-09 13:41:06                 NaT   \n",
       "\n",
       "        ignore_first_accessed time_between  \n",
       "144641                    NaN          NaT  \n",
       "144642                    NaN          NaT  \n",
       "144643                    NaN          NaT  \n",
       "144644                    NaN          NaT  \n",
       "144645                    NaN     09:40:20  \n",
       "...                       ...          ...  \n",
       "716277                    NaN     00:10:21  \n",
       "716278                    NaN     00:06:23  \n",
       "716279                    NaN     00:03:13  \n",
       "716280                    NaN          NaT  \n",
       "716281                    NaN          NaT  \n",
       "\n",
       "[571641 rows x 5 columns]"
      ]
     },
     "execution_count": 82,
     "metadata": {},
     "output_type": "execute_result"
    }
   ],
   "source": [
    "visit_accessed"
   ]
  },
  {
   "cell_type": "code",
   "execution_count": 13,
   "metadata": {},
   "outputs": [
    {
     "data": {
      "text/plain": [
       "Timedelta('53 days 00:27:39.603057')"
      ]
     },
     "execution_count": 13,
     "metadata": {},
     "output_type": "execute_result"
    }
   ],
   "source": [
    "visit_accessed['time_between'].mean()\n",
    "#~7.5 weeks\n",
    "#need to keep exploring the post_engagemnt: if the first_access is absolute true, \n",
    "#why the values when claculating first logs in created and bundle not giving the same"
   ]
  },
  {
   "cell_type": "code",
   "execution_count": 14,
   "metadata": {},
   "outputs": [],
   "source": [
    "visit_accessed_notna = visit_accessed[visit_accessed['first_accessed'].notna()]"
   ]
  },
  {
   "cell_type": "code",
   "execution_count": 15,
   "metadata": {},
   "outputs": [
    {
     "data": {
      "text/plain": [
       "114616"
      ]
     },
     "execution_count": 15,
     "metadata": {},
     "output_type": "execute_result"
    }
   ],
   "source": [
    "visit_accessed_notna['first_accessed'].count()\n",
    "#114,616 visits led to retreive information  "
   ]
  },
  {
   "cell_type": "code",
   "execution_count": 16,
   "metadata": {},
   "outputs": [
    {
     "data": {
      "text/plain": [
       "16.001518954825055"
      ]
     },
     "execution_count": 16,
     "metadata": {},
     "output_type": "execute_result"
    }
   ],
   "source": [
    "visit_accessed_notna['first_accessed'].count() / visits['created'].count() * 100\n",
    "#perc of engagment"
   ]
  },
  {
   "cell_type": "markdown",
   "metadata": {},
   "source": [
    "## per time "
   ]
  },
  {
   "cell_type": "code",
   "execution_count": 27,
   "metadata": {},
   "outputs": [
    {
     "data": {
      "text/plain": [
       "first_accessed\n",
       "2016    32684\n",
       "2017    44591\n",
       "2018    18912\n",
       "2019    15261\n",
       "2020     3168\n",
       "Freq: A-DEC, Name: first_accessed, dtype: int64"
      ]
     },
     "execution_count": 27,
     "metadata": {},
     "output_type": "execute_result"
    }
   ],
   "source": [
    "visit_accessed_yealry = visit_accessed['first_accessed'].groupby(visit_accessed.first_accessed.dt.to_period('Y')).agg('count')\n",
    "visit_accessed_yealry\n",
    "#2017 was the most engagement "
   ]
  },
  {
   "cell_type": "code",
   "execution_count": 28,
   "metadata": {},
   "outputs": [
    {
     "data": {
      "text/plain": [
       "<matplotlib.legend.Legend at 0x7fa324458e90>"
      ]
     },
     "execution_count": 28,
     "metadata": {},
     "output_type": "execute_result"
    },
    {
     "data": {
      "image/png": "[encoded data removed]",
      "text/plain": [
       "<Figure size 360x360 with 1 Axes>"
      ]
     },
     "metadata": {},
     "output_type": "display_data"
    }
   ],
   "source": [
    "visit_accessed_yealry.plot.pie(y='start', figsize=(5, 5), startangle=90, cmap='Blues_r')\n",
    "plt.title('yearly post_engagement', fontdict={'fontweight': 'bold', 'fontsize':18})\n",
    "plt.ylabel('Values count')\n",
    "plt.legend()"
   ]
  },
  {
   "cell_type": "code",
   "execution_count": 73,
   "metadata": {},
   "outputs": [
    {
     "data": {
      "text/plain": [
       "created\n",
       "2014       187\n",
       "2015    119850\n",
       "2016    212266\n",
       "2017    140780\n",
       "2018    127028\n",
       "2019     98745\n",
       "2020     17426\n",
       "Freq: A-DEC, Name: created, dtype: int64"
      ]
     },
     "execution_count": 73,
     "metadata": {},
     "output_type": "execute_result"
    }
   ],
   "source": [
    "visit_yearly = visits['created'].groupby(visits.created.dt.to_period('Y')).agg('count')\n",
    "visit_yearly"
   ]
  },
  {
   "cell_type": "code",
   "execution_count": 74,
   "metadata": {},
   "outputs": [
    {
     "data": {
      "text/plain": [
       "15.397661424816034"
      ]
     },
     "execution_count": 74,
     "metadata": {},
     "output_type": "execute_result"
    }
   ],
   "source": [
    "visit_accessed_yealry[0] / visit_yearly[2] * 100"
   ]
  },
  {
   "cell_type": "code",
   "execution_count": 25,
   "metadata": {},
   "outputs": [
    {
     "data": {
      "text/plain": [
       "2.1305854398128115"
      ]
     },
     "execution_count": 25,
     "metadata": {},
     "output_type": "execute_result"
    }
   ],
   "source": [
    "visit_accessed_yealry[3] / visits['created'].count() * 100"
   ]
  },
  {
   "cell_type": "code",
   "execution_count": 75,
   "metadata": {},
   "outputs": [
    {
     "data": {
      "text/html": [
       "<div>\n",
       "<style scoped>\n",
       "    .dataframe tbody tr th:only-of-type {\n",
       "        vertical-align: middle;\n",
       "    }\n",
       "\n",
       "    .dataframe tbody tr th {\n",
       "        vertical-align: top;\n",
       "    }\n",
       "\n",
       "    .dataframe thead th {\n",
       "        text-align: right;\n",
       "    }\n",
       "</style>\n",
       "<table border=\"1\" class=\"dataframe\">\n",
       "  <thead>\n",
       "    <tr style=\"text-align: right;\">\n",
       "      <th></th>\n",
       "      <th>index</th>\n",
       "      <th>percentage_first_access</th>\n",
       "    </tr>\n",
       "  </thead>\n",
       "  <tbody>\n",
       "    <tr>\n",
       "      <th>0</th>\n",
       "      <td>2016</td>\n",
       "      <td>15.397661</td>\n",
       "    </tr>\n",
       "    <tr>\n",
       "      <th>1</th>\n",
       "      <td>2017</td>\n",
       "      <td>31.674244</td>\n",
       "    </tr>\n",
       "    <tr>\n",
       "      <th>2</th>\n",
       "      <td>2018</td>\n",
       "      <td>14.888056</td>\n",
       "    </tr>\n",
       "    <tr>\n",
       "      <th>3</th>\n",
       "      <td>2019</td>\n",
       "      <td>15.454960</td>\n",
       "    </tr>\n",
       "    <tr>\n",
       "      <th>4</th>\n",
       "      <td>2020</td>\n",
       "      <td>18.179731</td>\n",
       "    </tr>\n",
       "  </tbody>\n",
       "</table>\n",
       "</div>"
      ],
      "text/plain": [
       "   index  percentage_first_access\n",
       "0   2016                15.397661\n",
       "1   2017                31.674244\n",
       "2   2018                14.888056\n",
       "3   2019                15.454960\n",
       "4   2020                18.179731"
      ]
     },
     "execution_count": 75,
     "metadata": {},
     "output_type": "execute_result"
    }
   ],
   "source": [
    "per_year = [{2016: visit_accessed_yealry[0] / visit_yearly[2] * 100, 2017: visit_accessed_yealry[1] / visit_yearly[3] * 100,\n",
    "            2018: visit_accessed_yealry[2] / visit_yearly[4] * 100, 2019: visit_accessed_yealry[3] / visit_yearly[5] * 100, \n",
    "            2020: visit_accessed_yealry[4] / visit_yearly[6] * 100}]\n",
    "\n",
    "first_access_per_year = pd.DataFrame(per_year).transpose()\n",
    "first_access_per_year = first_access_per_year.rename({0: 'percentage_first_access'}, axis=1)\n",
    "first_access_per_year.reset_index(inplace=True)\n",
    "first_access_per_year"
   ]
  },
  {
   "cell_type": "code",
   "execution_count": 76,
   "metadata": {},
   "outputs": [
    {
     "data": {
      "text/plain": [
       "Text(0, 0.5, 'percentage')"
      ]
     },
     "execution_count": 76,
     "metadata": {},
     "output_type": "execute_result"
    },
    {
     "data": {
      "image/png": "[encoded data removed]",
      "text/plain": [
       "<Figure size 432x288 with 1 Axes>"
      ]
     },
     "metadata": {
      "needs_background": "light"
     },
     "output_type": "display_data"
    }
   ],
   "source": [
    "first_access_per_year.plot.bar(x='index', y='percentage_first_access', rot=0)\n",
    "plt.title('Yearly percentage of first access', fontdict={'fontweight': 'bold', 'fontsize':18})\n",
    "plt.xticks(rotation=90)\n",
    "plt.xlabel('year')\n",
    "plt.ylabel('percentage')\n",
    "# plt.savefig('Yearly_percentage_of_first_access.png', dpi=300)"
   ]
  },
  {
   "cell_type": "markdown",
   "metadata": {},
   "source": [
    "# how many user ID are connected to first_access\n"
   ]
  },
  {
   "cell_type": "code",
   "execution_count": 89,
   "metadata": {},
   "outputs": [],
   "source": [
    "visit_accessed_notna = visit_accessed[visit_accessed['first_accessed'].notna()]"
   ]
  },
  {
   "cell_type": "code",
   "execution_count": 90,
   "metadata": {},
   "outputs": [
    {
     "data": {
      "text/plain": [
       "144645        0\n",
       "144650    10058\n",
       "144652    10057\n",
       "144672    10043\n",
       "144683    10036\n",
       "          ...  \n",
       "715721    30980\n",
       "715994    30538\n",
       "716005    30587\n",
       "716105    30558\n",
       "716267    28814\n",
       "Name: user_id, Length: 12738, dtype: int64"
      ]
     },
     "execution_count": 90,
     "metadata": {},
     "output_type": "execute_result"
    }
   ],
   "source": [
    "visit_accessed_notna['user_id'].drop_duplicates()\n",
    "#12,738 users retrieved their items"
   ]
  },
  {
   "cell_type": "markdown",
   "metadata": {},
   "source": [
    "# what is the percentage of not opening account\n"
   ]
  },
  {
   "cell_type": "code",
   "execution_count": 134,
   "metadata": {},
   "outputs": [],
   "source": [
    "user_zero_access = visit_accessed_notna[visit_accessed_notna['user_id'] == 0]"
   ]
  },
  {
   "cell_type": "code",
   "execution_count": 140,
   "metadata": {},
   "outputs": [
    {
     "data": {
      "text/plain": [
       "14.082163170371444"
      ]
     },
     "execution_count": 140,
     "metadata": {},
     "output_type": "execute_result"
    }
   ],
   "source": [
    "user_zero_access['user_id'].count() / visits['user_id'].count() * 100\n",
    "#14% of the visiters retreived their information but didn't opened account"
   ]
  },
  {
   "cell_type": "markdown",
   "metadata": {},
   "source": [
    "# what items are associated with the visitors that checked their info"
   ]
  },
  {
   "cell_type": "code",
   "execution_count": 92,
   "metadata": {},
   "outputs": [],
   "source": [
    "db_connection = sql.connect(host='localhost', database='collection_visits', user='pandas', password='password')\n",
    "\n",
    "visitsItems = pd.read_sql('SELECT * FROM VisitsItems', con=db_connection)\n",
    "visitsItems['created'] = pd.to_datetime(visitsItems['created'], unit='s')\n",
    "visitsItems['lastmodified'] = pd.to_datetime(visitsItems['lastmodified'], unit='s')\n",
    "visitsItems['deleted'].replace(0, np.nan, inplace=True)\n",
    "visitsItems['deleted'] = pd.to_datetime(visitsItems['deleted'], unit='s')\n",
    "# visitsItems['status_id'].replace(0, np.nan, inplace=True)\n",
    "visitsItems['processed'].replace(0, np.nan, inplace=True)\n",
    "visitsItems['title'].replace(r'^\\s*$', np.NaN, regex=True, inplace=True)\n",
    "visitsItems['description'].replace(r'^\\s*$', np.NaN, regex=True, inplace=True)\n",
    "visitsItems['title'] = visitsItems['title'].astype('category')\n",
    "visitsItems['description'] = visitsItems['description'].astype('category')"
   ]
  },
  {
   "cell_type": "code",
   "execution_count": 99,
   "metadata": {},
   "outputs": [],
   "source": [
    "access_no_zero = visit_accessed_notna[visit_accessed_notna['user_id'] != 0]\n",
    "visitsItems_clean = visitsItems.drop(['refers_to_id', 'deleted','status_id','description', 'title', 'processed', 'input_id'], axis=1)"
   ]
  },
  {
   "cell_type": "code",
   "execution_count": 127,
   "metadata": {},
   "outputs": [
    {
     "data": {
      "text/html": [
       "<div>\n",
       "<style scoped>\n",
       "    .dataframe tbody tr th:only-of-type {\n",
       "        vertical-align: middle;\n",
       "    }\n",
       "\n",
       "    .dataframe tbody tr th {\n",
       "        vertical-align: top;\n",
       "    }\n",
       "\n",
       "    .dataframe thead th {\n",
       "        text-align: right;\n",
       "    }\n",
       "</style>\n",
       "<table border=\"1\" class=\"dataframe\">\n",
       "  <thead>\n",
       "    <tr style=\"text-align: right;\">\n",
       "      <th></th>\n",
       "      <th>user_id</th>\n",
       "      <th>created_x</th>\n",
       "      <th>first_accessed</th>\n",
       "      <th>ignore_first_accessed</th>\n",
       "      <th>time_between</th>\n",
       "      <th>id</th>\n",
       "      <th>action_id</th>\n",
       "      <th>tool_id</th>\n",
       "      <th>bundle_id</th>\n",
       "      <th>refers_to_uid</th>\n",
       "      <th>created_y</th>\n",
       "      <th>lastmodified</th>\n",
       "    </tr>\n",
       "  </thead>\n",
       "  <tbody>\n",
       "    <tr>\n",
       "      <th>0</th>\n",
       "      <td>10032</td>\n",
       "      <td>2016-02-24 20:31:17</td>\n",
       "      <td>2016-02-24 21:33:59</td>\n",
       "      <td>NaN</td>\n",
       "      <td>01:02:42</td>\n",
       "      <td>94189537</td>\n",
       "      <td>1</td>\n",
       "      <td>0</td>\n",
       "      <td>94183843</td>\n",
       "      <td>69172057</td>\n",
       "      <td>2016-02-24 20:33:21</td>\n",
       "      <td>2016-02-24 21:39:36</td>\n",
       "    </tr>\n",
       "    <tr>\n",
       "      <th>1</th>\n",
       "      <td>10032</td>\n",
       "      <td>2016-02-24 20:31:17</td>\n",
       "      <td>2016-02-24 21:33:59</td>\n",
       "      <td>NaN</td>\n",
       "      <td>01:02:42</td>\n",
       "      <td>94189539</td>\n",
       "      <td>1</td>\n",
       "      <td>0</td>\n",
       "      <td>94183843</td>\n",
       "      <td>69155053</td>\n",
       "      <td>2016-02-24 20:33:52</td>\n",
       "      <td>2016-02-24 21:39:36</td>\n",
       "    </tr>\n",
       "    <tr>\n",
       "      <th>2</th>\n",
       "      <td>10032</td>\n",
       "      <td>2016-02-24 20:31:17</td>\n",
       "      <td>2016-02-24 21:33:59</td>\n",
       "      <td>NaN</td>\n",
       "      <td>01:02:42</td>\n",
       "      <td>94189541</td>\n",
       "      <td>1</td>\n",
       "      <td>0</td>\n",
       "      <td>94183843</td>\n",
       "      <td>69155051</td>\n",
       "      <td>2016-02-24 20:33:52</td>\n",
       "      <td>2016-02-24 21:39:37</td>\n",
       "    </tr>\n",
       "    <tr>\n",
       "      <th>3</th>\n",
       "      <td>10032</td>\n",
       "      <td>2016-02-24 20:31:17</td>\n",
       "      <td>2016-02-24 21:33:59</td>\n",
       "      <td>NaN</td>\n",
       "      <td>01:02:42</td>\n",
       "      <td>94189543</td>\n",
       "      <td>1</td>\n",
       "      <td>0</td>\n",
       "      <td>94183843</td>\n",
       "      <td>69155049</td>\n",
       "      <td>2016-02-24 20:33:52</td>\n",
       "      <td>2016-02-24 21:39:37</td>\n",
       "    </tr>\n",
       "    <tr>\n",
       "      <th>4</th>\n",
       "      <td>10032</td>\n",
       "      <td>2016-02-24 20:31:17</td>\n",
       "      <td>2016-02-24 21:33:59</td>\n",
       "      <td>NaN</td>\n",
       "      <td>01:02:42</td>\n",
       "      <td>94189545</td>\n",
       "      <td>1</td>\n",
       "      <td>0</td>\n",
       "      <td>94183843</td>\n",
       "      <td>69155047</td>\n",
       "      <td>2016-02-24 20:33:52</td>\n",
       "      <td>2016-02-24 21:39:37</td>\n",
       "    </tr>\n",
       "    <tr>\n",
       "      <th>...</th>\n",
       "      <td>...</td>\n",
       "      <td>...</td>\n",
       "      <td>...</td>\n",
       "      <td>...</td>\n",
       "      <td>...</td>\n",
       "      <td>...</td>\n",
       "      <td>...</td>\n",
       "      <td>...</td>\n",
       "      <td>...</td>\n",
       "      <td>...</td>\n",
       "      <td>...</td>\n",
       "      <td>...</td>\n",
       "    </tr>\n",
       "    <tr>\n",
       "      <th>18489759</th>\n",
       "      <td>17704</td>\n",
       "      <td>NaT</td>\n",
       "      <td>NaT</td>\n",
       "      <td>NaN</td>\n",
       "      <td>NaT</td>\n",
       "      <td>115394395</td>\n",
       "      <td>1</td>\n",
       "      <td>0</td>\n",
       "      <td>115394343</td>\n",
       "      <td>18341115</td>\n",
       "      <td>2017-05-30 15:46:55</td>\n",
       "      <td>2017-05-30 15:49:07</td>\n",
       "    </tr>\n",
       "    <tr>\n",
       "      <th>18489760</th>\n",
       "      <td>17704</td>\n",
       "      <td>NaT</td>\n",
       "      <td>NaT</td>\n",
       "      <td>NaN</td>\n",
       "      <td>NaT</td>\n",
       "      <td>115394397</td>\n",
       "      <td>1</td>\n",
       "      <td>0</td>\n",
       "      <td>115394343</td>\n",
       "      <td>18468271</td>\n",
       "      <td>2017-05-30 15:46:58</td>\n",
       "      <td>2017-05-30 15:49:07</td>\n",
       "    </tr>\n",
       "    <tr>\n",
       "      <th>18489761</th>\n",
       "      <td>17704</td>\n",
       "      <td>NaT</td>\n",
       "      <td>NaT</td>\n",
       "      <td>NaN</td>\n",
       "      <td>NaT</td>\n",
       "      <td>115394399</td>\n",
       "      <td>1</td>\n",
       "      <td>0</td>\n",
       "      <td>115394343</td>\n",
       "      <td>18548447</td>\n",
       "      <td>2017-05-30 15:48:10</td>\n",
       "      <td>2017-05-30 15:49:07</td>\n",
       "    </tr>\n",
       "    <tr>\n",
       "      <th>18489762</th>\n",
       "      <td>17704</td>\n",
       "      <td>NaT</td>\n",
       "      <td>NaT</td>\n",
       "      <td>NaN</td>\n",
       "      <td>NaT</td>\n",
       "      <td>115394401</td>\n",
       "      <td>1</td>\n",
       "      <td>0</td>\n",
       "      <td>115394343</td>\n",
       "      <td>18543887</td>\n",
       "      <td>2017-05-30 15:48:15</td>\n",
       "      <td>2017-05-30 15:49:07</td>\n",
       "    </tr>\n",
       "    <tr>\n",
       "      <th>18489763</th>\n",
       "      <td>17704</td>\n",
       "      <td>NaT</td>\n",
       "      <td>NaT</td>\n",
       "      <td>NaN</td>\n",
       "      <td>NaT</td>\n",
       "      <td>115394403</td>\n",
       "      <td>1</td>\n",
       "      <td>0</td>\n",
       "      <td>115394343</td>\n",
       "      <td>420557011</td>\n",
       "      <td>2017-05-30 15:48:21</td>\n",
       "      <td>2017-05-30 15:49:07</td>\n",
       "    </tr>\n",
       "  </tbody>\n",
       "</table>\n",
       "<p>18489764 rows × 12 columns</p>\n",
       "</div>"
      ],
      "text/plain": [
       "          user_id           created_x      first_accessed  \\\n",
       "0           10032 2016-02-24 20:31:17 2016-02-24 21:33:59   \n",
       "1           10032 2016-02-24 20:31:17 2016-02-24 21:33:59   \n",
       "2           10032 2016-02-24 20:31:17 2016-02-24 21:33:59   \n",
       "3           10032 2016-02-24 20:31:17 2016-02-24 21:33:59   \n",
       "4           10032 2016-02-24 20:31:17 2016-02-24 21:33:59   \n",
       "...           ...                 ...                 ...   \n",
       "18489759    17704                 NaT                 NaT   \n",
       "18489760    17704                 NaT                 NaT   \n",
       "18489761    17704                 NaT                 NaT   \n",
       "18489762    17704                 NaT                 NaT   \n",
       "18489763    17704                 NaT                 NaT   \n",
       "\n",
       "          ignore_first_accessed time_between         id  action_id  tool_id  \\\n",
       "0                           NaN     01:02:42   94189537          1        0   \n",
       "1                           NaN     01:02:42   94189539          1        0   \n",
       "2                           NaN     01:02:42   94189541          1        0   \n",
       "3                           NaN     01:02:42   94189543          1        0   \n",
       "4                           NaN     01:02:42   94189545          1        0   \n",
       "...                         ...          ...        ...        ...      ...   \n",
       "18489759                    NaN          NaT  115394395          1        0   \n",
       "18489760                    NaN          NaT  115394397          1        0   \n",
       "18489761                    NaN          NaT  115394399          1        0   \n",
       "18489762                    NaN          NaT  115394401          1        0   \n",
       "18489763                    NaN          NaT  115394403          1        0   \n",
       "\n",
       "          bundle_id  refers_to_uid           created_y        lastmodified  \n",
       "0          94183843       69172057 2016-02-24 20:33:21 2016-02-24 21:39:36  \n",
       "1          94183843       69155053 2016-02-24 20:33:52 2016-02-24 21:39:36  \n",
       "2          94183843       69155051 2016-02-24 20:33:52 2016-02-24 21:39:37  \n",
       "3          94183843       69155049 2016-02-24 20:33:52 2016-02-24 21:39:37  \n",
       "4          94183843       69155047 2016-02-24 20:33:52 2016-02-24 21:39:37  \n",
       "...             ...            ...                 ...                 ...  \n",
       "18489759  115394343       18341115 2017-05-30 15:46:55 2017-05-30 15:49:07  \n",
       "18489760  115394343       18468271 2017-05-30 15:46:58 2017-05-30 15:49:07  \n",
       "18489761  115394343       18548447 2017-05-30 15:48:10 2017-05-30 15:49:07  \n",
       "18489762  115394343       18543887 2017-05-30 15:48:15 2017-05-30 15:49:07  \n",
       "18489763  115394343      420557011 2017-05-30 15:48:21 2017-05-30 15:49:07  \n",
       "\n",
       "[18489764 rows x 12 columns]"
      ]
     },
     "execution_count": 127,
     "metadata": {},
     "output_type": "execute_result"
    }
   ],
   "source": [
    "merged_access_items = access_no_zero.merge(visitsItems_clean, on='user_id', how='right')\n",
    "merged_access_items "
   ]
  },
  {
   "cell_type": "code",
   "execution_count": 119,
   "metadata": {},
   "outputs": [],
   "source": [
    "retrieved_items = merged_access_items['refers_to_uid'].value_counts()"
   ]
  },
  {
   "cell_type": "code",
   "execution_count": 120,
   "metadata": {},
   "outputs": [],
   "source": [
    "retrieved_items = retrieved_items.to_frame()"
   ]
  },
  {
   "cell_type": "code",
   "execution_count": 123,
   "metadata": {},
   "outputs": [],
   "source": [
    "retrieved_items.rename({'refers_to_uid': 'count'}, axis=1, inplace=True)"
   ]
  },
  {
   "cell_type": "code",
   "execution_count": 125,
   "metadata": {},
   "outputs": [],
   "source": [
    "retrieved_items.reset_index(inplace=True)\n",
    "retrieved_items.rename({'index': 'refers_to_uid'}, axis=1, inplace=True)"
   ]
  },
  {
   "cell_type": "code",
   "execution_count": 129,
   "metadata": {},
   "outputs": [
    {
     "data": {
      "text/html": [
       "<div>\n",
       "<style scoped>\n",
       "    .dataframe tbody tr th:only-of-type {\n",
       "        vertical-align: middle;\n",
       "    }\n",
       "\n",
       "    .dataframe tbody tr th {\n",
       "        vertical-align: top;\n",
       "    }\n",
       "\n",
       "    .dataframe thead th {\n",
       "        text-align: right;\n",
       "    }\n",
       "</style>\n",
       "<table border=\"1\" class=\"dataframe\">\n",
       "  <thead>\n",
       "    <tr style=\"text-align: right;\">\n",
       "      <th></th>\n",
       "      <th>refers_to_uid</th>\n",
       "      <th>count</th>\n",
       "    </tr>\n",
       "  </thead>\n",
       "  <tbody>\n",
       "    <tr>\n",
       "      <th>0</th>\n",
       "      <td>18703475</td>\n",
       "      <td>63789</td>\n",
       "    </tr>\n",
       "    <tr>\n",
       "      <th>1</th>\n",
       "      <td>18703473</td>\n",
       "      <td>63259</td>\n",
       "    </tr>\n",
       "    <tr>\n",
       "      <th>2</th>\n",
       "      <td>18703477</td>\n",
       "      <td>60356</td>\n",
       "    </tr>\n",
       "    <tr>\n",
       "      <th>3</th>\n",
       "      <td>18703503</td>\n",
       "      <td>59390</td>\n",
       "    </tr>\n",
       "    <tr>\n",
       "      <th>4</th>\n",
       "      <td>35460287</td>\n",
       "      <td>57869</td>\n",
       "    </tr>\n",
       "    <tr>\n",
       "      <th>...</th>\n",
       "      <td>...</td>\n",
       "      <td>...</td>\n",
       "    </tr>\n",
       "    <tr>\n",
       "      <th>411495</th>\n",
       "      <td>1485044245</td>\n",
       "      <td>1</td>\n",
       "    </tr>\n",
       "    <tr>\n",
       "      <th>411496</th>\n",
       "      <td>1443277503</td>\n",
       "      <td>1</td>\n",
       "    </tr>\n",
       "    <tr>\n",
       "      <th>411497</th>\n",
       "      <td>1489941436</td>\n",
       "      <td>1</td>\n",
       "    </tr>\n",
       "    <tr>\n",
       "      <th>411498</th>\n",
       "      <td>1459008700</td>\n",
       "      <td>1</td>\n",
       "    </tr>\n",
       "    <tr>\n",
       "      <th>411499</th>\n",
       "      <td>1434128169</td>\n",
       "      <td>1</td>\n",
       "    </tr>\n",
       "  </tbody>\n",
       "</table>\n",
       "<p>411500 rows × 2 columns</p>\n",
       "</div>"
      ],
      "text/plain": [
       "        refers_to_uid  count\n",
       "0            18703475  63789\n",
       "1            18703473  63259\n",
       "2            18703477  60356\n",
       "3            18703503  59390\n",
       "4            35460287  57869\n",
       "...               ...    ...\n",
       "411495     1485044245      1\n",
       "411496     1443277503      1\n",
       "411497     1489941436      1\n",
       "411498     1459008700      1\n",
       "411499     1434128169      1\n",
       "\n",
       "[411500 rows x 2 columns]"
      ]
     },
     "execution_count": 129,
     "metadata": {},
     "output_type": "execute_result"
    }
   ],
   "source": [
    "retrieved_items"
   ]
  },
  {
   "cell_type": "markdown",
   "metadata": {},
   "source": [
    "\n"
   ]
  }
 ],
 "metadata": {
  "kernelspec": {
   "display_name": "Python 3",
   "language": "python",
   "name": "python3"
  },
  "language_info": {
   "codemirror_mode": {
    "name": "ipython",
    "version": 3
   },
   "file_extension": ".py",
   "mimetype": "text/x-python",
   "name": "python",
   "nbconvert_exporter": "python",
   "pygments_lexer": "ipython3",
   "version": "3.7.6"
  }
 },
 "nbformat": 4,
 "nbformat_minor": 4
}
