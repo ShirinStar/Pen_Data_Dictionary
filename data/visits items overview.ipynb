{
 "cells": [
  {
   "cell_type": "code",
   "execution_count": 1,
   "metadata": {},
   "outputs": [],
   "source": [
    "import mysql.connector as sql\n",
    "import pandas as pd\n",
    "import datetime as dt\n",
    "import numpy as np\n",
    "from sorted_months_weekdays import *\n",
    "from sort_dataframeby_monthorweek import *\n",
    "import matplotlib.pyplot as plt"
   ]
  },
  {
   "cell_type": "code",
   "execution_count": 2,
   "metadata": {},
   "outputs": [],
   "source": [
    "db_connection = sql.connect(host='localhost', database='collection_visits', user='pandas', password='password')\n",
    "\n",
    "visitsItems = pd.read_sql('SELECT * FROM VisitsItems', con=db_connection)\n",
    "visitsItems['created'] = pd.to_datetime(visitsItems['created'], unit='s')\n",
    "visitsItems['lastmodified'] = pd.to_datetime(visitsItems['lastmodified'], unit='s')\n",
    "visitsItems['deleted'].replace(0, np.nan, inplace=True)\n",
    "visitsItems['deleted'] = pd.to_datetime(visitsItems['deleted'], unit='s')\n",
    "# visitsItems['processed'].replace(0, np.nan, inplace=True)\n",
    "visitsItems['title'].replace(r'^\\s*$', np.NaN, regex=True, inplace=True)\n",
    "visitsItems['description'].replace(r'^\\s*$', np.NaN, regex=True, inplace=True)\n",
    "visitsItems['title'] = visitsItems['title'].astype('category')\n",
    "visitsItems['description'] = visitsItems['description'].astype('category')"
   ]
  },
  {
   "cell_type": "code",
   "execution_count": 3,
   "metadata": {},
   "outputs": [],
   "source": [
    "pd.set_option('display.max_rows', 200)\n",
    "pd.set_option('display.max_columns', 50)\n",
    "pd.set_option(\"max_colwidth\", 1000)"
   ]
  },
  {
   "cell_type": "code",
   "execution_count": 10,
   "metadata": {
    "scrolled": true
   },
   "outputs": [
    {
     "data": {
      "text/html": [
       "<div>\n",
       "<style scoped>\n",
       "    .dataframe tbody tr th:only-of-type {\n",
       "        vertical-align: middle;\n",
       "    }\n",
       "\n",
       "    .dataframe tbody tr th {\n",
       "        vertical-align: top;\n",
       "    }\n",
       "\n",
       "    .dataframe thead th {\n",
       "        text-align: right;\n",
       "    }\n",
       "</style>\n",
       "<table border=\"1\" class=\"dataframe\">\n",
       "  <thead>\n",
       "    <tr style=\"text-align: right;\">\n",
       "      <th></th>\n",
       "      <th>id</th>\n",
       "      <th>user_id</th>\n",
       "      <th>action_id</th>\n",
       "      <th>tool_id</th>\n",
       "      <th>bundle_id</th>\n",
       "      <th>refers_to_id</th>\n",
       "      <th>refers_to_uid</th>\n",
       "      <th>title</th>\n",
       "      <th>description</th>\n",
       "      <th>created</th>\n",
       "      <th>lastmodified</th>\n",
       "    </tr>\n",
       "  </thead>\n",
       "  <tbody>\n",
       "    <tr>\n",
       "      <th>0</th>\n",
       "      <td>793451</td>\n",
       "      <td>0</td>\n",
       "      <td>1</td>\n",
       "      <td>0</td>\n",
       "      <td>793449</td>\n",
       "      <td>1</td>\n",
       "      <td>18356743</td>\n",
       "      <td>own Charles Dawes name well aftermath</td>\n",
       "      <td>different James Monroe feel just carpenter</td>\n",
       "      <td>2014-10-23 16:25:55</td>\n",
       "      <td>2014-10-23 16:25:55</td>\n",
       "    </tr>\n",
       "    <tr>\n",
       "      <th>1</th>\n",
       "      <td>793453</td>\n",
       "      <td>0</td>\n",
       "      <td>2</td>\n",
       "      <td>9</td>\n",
       "      <td>793449</td>\n",
       "      <td>1</td>\n",
       "      <td>18146475</td>\n",
       "      <td>great John C. Breckinridge have very achieve</td>\n",
       "      <td>other Walter Mondale talk when picture</td>\n",
       "      <td>2014-10-23 16:26:15</td>\n",
       "      <td>2014-10-23 16:26:15</td>\n",
       "    </tr>\n",
       "    <tr>\n",
       "      <th>2</th>\n",
       "      <td>793455</td>\n",
       "      <td>0</td>\n",
       "      <td>2</td>\n",
       "      <td>6</td>\n",
       "      <td>793449</td>\n",
       "      <td>1</td>\n",
       "      <td>18311851</td>\n",
       "      <td>first John C. Calhoun think only fuel</td>\n",
       "      <td>old Al Gore walk too year</td>\n",
       "      <td>2014-10-23 16:26:55</td>\n",
       "      <td>2014-10-23 16:26:55</td>\n",
       "    </tr>\n",
       "    <tr>\n",
       "      <th>3</th>\n",
       "      <td>793459</td>\n",
       "      <td>3</td>\n",
       "      <td>2</td>\n",
       "      <td>7</td>\n",
       "      <td>793449</td>\n",
       "      <td>1</td>\n",
       "      <td>18476565</td>\n",
       "      <td>early Henry A. Wallace call out wrist</td>\n",
       "      <td>good John F. Kennedy tell also government</td>\n",
       "      <td>2014-10-23 16:27:59</td>\n",
       "      <td>2014-10-23 16:27:59</td>\n",
       "    </tr>\n",
       "    <tr>\n",
       "      <th>4</th>\n",
       "      <td>793495</td>\n",
       "      <td>3</td>\n",
       "      <td>2</td>\n",
       "      <td>7</td>\n",
       "      <td>793449</td>\n",
       "      <td>1</td>\n",
       "      <td>18628929</td>\n",
       "      <td>same Hubert Humphrey kick very health</td>\n",
       "      <td>next Joe Biden  come when creature</td>\n",
       "      <td>2014-10-23 19:36:56</td>\n",
       "      <td>2014-10-23 19:36:56</td>\n",
       "    </tr>\n",
       "    <tr>\n",
       "      <th>...</th>\n",
       "      <td>...</td>\n",
       "      <td>...</td>\n",
       "      <td>...</td>\n",
       "      <td>...</td>\n",
       "      <td>...</td>\n",
       "      <td>...</td>\n",
       "      <td>...</td>\n",
       "      <td>...</td>\n",
       "      <td>...</td>\n",
       "      <td>...</td>\n",
       "      <td>...</td>\n",
       "    </tr>\n",
       "    <tr>\n",
       "      <th>18479553</th>\n",
       "      <td>132873405</td>\n",
       "      <td>0</td>\n",
       "      <td>2</td>\n",
       "      <td>12</td>\n",
       "      <td>132777661</td>\n",
       "      <td>0</td>\n",
       "      <td>1595449503</td>\n",
       "      <td>My Table</td>\n",
       "      <td>Made at Cooper Hewitt Museum using a Collections Table.</td>\n",
       "      <td>2020-07-22 20:25:03</td>\n",
       "      <td>2020-07-22 20:25:03</td>\n",
       "    </tr>\n",
       "    <tr>\n",
       "      <th>18479554</th>\n",
       "      <td>132873409</td>\n",
       "      <td>28814</td>\n",
       "      <td>2</td>\n",
       "      <td>12</td>\n",
       "      <td>132777661</td>\n",
       "      <td>0</td>\n",
       "      <td>1595449610</td>\n",
       "      <td>My Table</td>\n",
       "      <td>Made at Cooper Hewitt Museum using a Collections Table.</td>\n",
       "      <td>2020-07-22 20:26:50</td>\n",
       "      <td>2020-07-22 20:26:50</td>\n",
       "    </tr>\n",
       "    <tr>\n",
       "      <th>18479555</th>\n",
       "      <td>132873413</td>\n",
       "      <td>28814</td>\n",
       "      <td>2</td>\n",
       "      <td>12</td>\n",
       "      <td>132777661</td>\n",
       "      <td>0</td>\n",
       "      <td>1595449666</td>\n",
       "      <td>My Table</td>\n",
       "      <td>Made at Cooper Hewitt Museum using a Collections Table.</td>\n",
       "      <td>2020-07-22 20:27:46</td>\n",
       "      <td>2020-07-22 20:27:46</td>\n",
       "    </tr>\n",
       "    <tr>\n",
       "      <th>18479556</th>\n",
       "      <td>132873417</td>\n",
       "      <td>28814</td>\n",
       "      <td>2</td>\n",
       "      <td>3</td>\n",
       "      <td>132777661</td>\n",
       "      <td>0</td>\n",
       "      <td>1595450275</td>\n",
       "      <td>My Wallpaper</td>\n",
       "      <td>Made at Cooper Hewitt Museum using a Collections Table.</td>\n",
       "      <td>2020-07-22 20:37:55</td>\n",
       "      <td>2020-07-22 20:37:55</td>\n",
       "    </tr>\n",
       "    <tr>\n",
       "      <th>18479557</th>\n",
       "      <td>132873427</td>\n",
       "      <td>28814</td>\n",
       "      <td>2</td>\n",
       "      <td>14</td>\n",
       "      <td>132777661</td>\n",
       "      <td>0</td>\n",
       "      <td>1595451288</td>\n",
       "      <td>My Chair</td>\n",
       "      <td>Made at Cooper Hewitt Museum using a Collections Table.</td>\n",
       "      <td>2020-07-22 20:54:48</td>\n",
       "      <td>2020-07-22 20:54:48</td>\n",
       "    </tr>\n",
       "  </tbody>\n",
       "</table>\n",
       "<p>18479558 rows × 11 columns</p>\n",
       "</div>"
      ],
      "text/plain": [
       "                 id  user_id  action_id  tool_id  bundle_id  refers_to_id  \\\n",
       "0            793451        0          1        0     793449             1   \n",
       "1            793453        0          2        9     793449             1   \n",
       "2            793455        0          2        6     793449             1   \n",
       "3            793459        3          2        7     793449             1   \n",
       "4            793495        3          2        7     793449             1   \n",
       "...             ...      ...        ...      ...        ...           ...   \n",
       "18479553  132873405        0          2       12  132777661             0   \n",
       "18479554  132873409    28814          2       12  132777661             0   \n",
       "18479555  132873413    28814          2       12  132777661             0   \n",
       "18479556  132873417    28814          2        3  132777661             0   \n",
       "18479557  132873427    28814          2       14  132777661             0   \n",
       "\n",
       "          refers_to_uid                                         title  \\\n",
       "0              18356743         own Charles Dawes name well aftermath   \n",
       "1              18146475  great John C. Breckinridge have very achieve   \n",
       "2              18311851         first John C. Calhoun think only fuel   \n",
       "3              18476565         early Henry A. Wallace call out wrist   \n",
       "4              18628929         same Hubert Humphrey kick very health   \n",
       "...                 ...                                           ...   \n",
       "18479553     1595449503                                      My Table   \n",
       "18479554     1595449610                                      My Table   \n",
       "18479555     1595449666                                      My Table   \n",
       "18479556     1595450275                                  My Wallpaper   \n",
       "18479557     1595451288                                      My Chair   \n",
       "\n",
       "                                                      description  \\\n",
       "0                      different James Monroe feel just carpenter   \n",
       "1                          other Walter Mondale talk when picture   \n",
       "2                                       old Al Gore walk too year   \n",
       "3                       good John F. Kennedy tell also government   \n",
       "4                              next Joe Biden  come when creature   \n",
       "...                                                           ...   \n",
       "18479553  Made at Cooper Hewitt Museum using a Collections Table.   \n",
       "18479554  Made at Cooper Hewitt Museum using a Collections Table.   \n",
       "18479555  Made at Cooper Hewitt Museum using a Collections Table.   \n",
       "18479556  Made at Cooper Hewitt Museum using a Collections Table.   \n",
       "18479557  Made at Cooper Hewitt Museum using a Collections Table.   \n",
       "\n",
       "                     created        lastmodified  \n",
       "0        2014-10-23 16:25:55 2014-10-23 16:25:55  \n",
       "1        2014-10-23 16:26:15 2014-10-23 16:26:15  \n",
       "2        2014-10-23 16:26:55 2014-10-23 16:26:55  \n",
       "3        2014-10-23 16:27:59 2014-10-23 16:27:59  \n",
       "4        2014-10-23 19:36:56 2014-10-23 19:36:56  \n",
       "...                      ...                 ...  \n",
       "18479553 2020-07-22 20:25:03 2020-07-22 20:25:03  \n",
       "18479554 2020-07-22 20:26:50 2020-07-22 20:26:50  \n",
       "18479555 2020-07-22 20:27:46 2020-07-22 20:27:46  \n",
       "18479556 2020-07-22 20:37:55 2020-07-22 20:37:55  \n",
       "18479557 2020-07-22 20:54:48 2020-07-22 20:54:48  \n",
       "\n",
       "[18479558 rows x 11 columns]"
      ]
     },
     "execution_count": 10,
     "metadata": {},
     "output_type": "execute_result"
    }
   ],
   "source": [
    "visitsItems"
   ]
  },
  {
   "cell_type": "code",
   "execution_count": 11,
   "metadata": {},
   "outputs": [
    {
     "name": "stdout",
     "output_type": "stream",
     "text": [
      "<class 'pandas.core.frame.DataFrame'>\n",
      "RangeIndex: 18479558 entries, 0 to 18479557\n",
      "Data columns (total 11 columns):\n",
      " #   Column         Dtype         \n",
      "---  ------         -----         \n",
      " 0   id             int64         \n",
      " 1   user_id        int64         \n",
      " 2   action_id      int64         \n",
      " 3   tool_id        int64         \n",
      " 4   bundle_id      int64         \n",
      " 5   refers_to_id   int64         \n",
      " 6   refers_to_uid  int64         \n",
      " 7   title          category      \n",
      " 8   description    category      \n",
      " 9   created        datetime64[ns]\n",
      " 10  lastmodified   datetime64[ns]\n",
      "dtypes: category(2), datetime64[ns](2), int64(7)\n",
      "memory usage: 1.3 GB\n"
     ]
    }
   ],
   "source": [
    "visitsItems.info()\n",
    "#total items collected and created during visits: 18,479,558 "
   ]
  },
  {
   "cell_type": "code",
   "execution_count": 12,
   "metadata": {
    "collapsed": true
   },
   "outputs": [
    {
     "ename": "KeyError",
     "evalue": "\"['deleted' 'status_id' 'processed' 'input_id'] not found in axis\"",
     "output_type": "error",
     "traceback": [
      "\u001b[0;31m---------------------------------------------------------------------------\u001b[0m",
      "\u001b[0;31mKeyError\u001b[0m                                  Traceback (most recent call last)",
      "\u001b[0;32m<ipython-input-12-749af0c6ff83>\u001b[0m in \u001b[0;36m<module>\u001b[0;34m\u001b[0m\n\u001b[0;32m----> 1\u001b[0;31m \u001b[0mvisitsItems\u001b[0m \u001b[0;34m=\u001b[0m \u001b[0mvisitsItems\u001b[0m\u001b[0;34m.\u001b[0m\u001b[0mdrop\u001b[0m\u001b[0;34m(\u001b[0m\u001b[0;34m[\u001b[0m\u001b[0;34m'deleted'\u001b[0m\u001b[0;34m,\u001b[0m \u001b[0;34m'status_id'\u001b[0m\u001b[0;34m,\u001b[0m \u001b[0;34m'processed'\u001b[0m\u001b[0;34m,\u001b[0m \u001b[0;34m'input_id'\u001b[0m\u001b[0;34m]\u001b[0m\u001b[0;34m,\u001b[0m \u001b[0maxis\u001b[0m\u001b[0;34m=\u001b[0m\u001b[0;36m1\u001b[0m\u001b[0;34m)\u001b[0m\u001b[0;34m\u001b[0m\u001b[0;34m\u001b[0m\u001b[0m\n\u001b[0m",
      "\u001b[0;32m~/opt/anaconda3/lib/python3.7/site-packages/pandas/core/frame.py\u001b[0m in \u001b[0;36mdrop\u001b[0;34m(self, labels, axis, index, columns, level, inplace, errors)\u001b[0m\n\u001b[1;32m   3995\u001b[0m             \u001b[0mlevel\u001b[0m\u001b[0;34m=\u001b[0m\u001b[0mlevel\u001b[0m\u001b[0;34m,\u001b[0m\u001b[0;34m\u001b[0m\u001b[0;34m\u001b[0m\u001b[0m\n\u001b[1;32m   3996\u001b[0m             \u001b[0minplace\u001b[0m\u001b[0;34m=\u001b[0m\u001b[0minplace\u001b[0m\u001b[0;34m,\u001b[0m\u001b[0;34m\u001b[0m\u001b[0;34m\u001b[0m\u001b[0m\n\u001b[0;32m-> 3997\u001b[0;31m             \u001b[0merrors\u001b[0m\u001b[0;34m=\u001b[0m\u001b[0merrors\u001b[0m\u001b[0;34m,\u001b[0m\u001b[0;34m\u001b[0m\u001b[0;34m\u001b[0m\u001b[0m\n\u001b[0m\u001b[1;32m   3998\u001b[0m         )\n\u001b[1;32m   3999\u001b[0m \u001b[0;34m\u001b[0m\u001b[0m\n",
      "\u001b[0;32m~/opt/anaconda3/lib/python3.7/site-packages/pandas/core/generic.py\u001b[0m in \u001b[0;36mdrop\u001b[0;34m(self, labels, axis, index, columns, level, inplace, errors)\u001b[0m\n\u001b[1;32m   3934\u001b[0m         \u001b[0;32mfor\u001b[0m \u001b[0maxis\u001b[0m\u001b[0;34m,\u001b[0m \u001b[0mlabels\u001b[0m \u001b[0;32min\u001b[0m \u001b[0maxes\u001b[0m\u001b[0;34m.\u001b[0m\u001b[0mitems\u001b[0m\u001b[0;34m(\u001b[0m\u001b[0;34m)\u001b[0m\u001b[0;34m:\u001b[0m\u001b[0;34m\u001b[0m\u001b[0;34m\u001b[0m\u001b[0m\n\u001b[1;32m   3935\u001b[0m             \u001b[0;32mif\u001b[0m \u001b[0mlabels\u001b[0m \u001b[0;32mis\u001b[0m \u001b[0;32mnot\u001b[0m \u001b[0;32mNone\u001b[0m\u001b[0;34m:\u001b[0m\u001b[0;34m\u001b[0m\u001b[0;34m\u001b[0m\u001b[0m\n\u001b[0;32m-> 3936\u001b[0;31m                 \u001b[0mobj\u001b[0m \u001b[0;34m=\u001b[0m \u001b[0mobj\u001b[0m\u001b[0;34m.\u001b[0m\u001b[0m_drop_axis\u001b[0m\u001b[0;34m(\u001b[0m\u001b[0mlabels\u001b[0m\u001b[0;34m,\u001b[0m \u001b[0maxis\u001b[0m\u001b[0;34m,\u001b[0m \u001b[0mlevel\u001b[0m\u001b[0;34m=\u001b[0m\u001b[0mlevel\u001b[0m\u001b[0;34m,\u001b[0m \u001b[0merrors\u001b[0m\u001b[0;34m=\u001b[0m\u001b[0merrors\u001b[0m\u001b[0;34m)\u001b[0m\u001b[0;34m\u001b[0m\u001b[0;34m\u001b[0m\u001b[0m\n\u001b[0m\u001b[1;32m   3937\u001b[0m \u001b[0;34m\u001b[0m\u001b[0m\n\u001b[1;32m   3938\u001b[0m         \u001b[0;32mif\u001b[0m \u001b[0minplace\u001b[0m\u001b[0;34m:\u001b[0m\u001b[0;34m\u001b[0m\u001b[0;34m\u001b[0m\u001b[0m\n",
      "\u001b[0;32m~/opt/anaconda3/lib/python3.7/site-packages/pandas/core/generic.py\u001b[0m in \u001b[0;36m_drop_axis\u001b[0;34m(self, labels, axis, level, errors)\u001b[0m\n\u001b[1;32m   3968\u001b[0m                 \u001b[0mnew_axis\u001b[0m \u001b[0;34m=\u001b[0m \u001b[0maxis\u001b[0m\u001b[0;34m.\u001b[0m\u001b[0mdrop\u001b[0m\u001b[0;34m(\u001b[0m\u001b[0mlabels\u001b[0m\u001b[0;34m,\u001b[0m \u001b[0mlevel\u001b[0m\u001b[0;34m=\u001b[0m\u001b[0mlevel\u001b[0m\u001b[0;34m,\u001b[0m \u001b[0merrors\u001b[0m\u001b[0;34m=\u001b[0m\u001b[0merrors\u001b[0m\u001b[0;34m)\u001b[0m\u001b[0;34m\u001b[0m\u001b[0;34m\u001b[0m\u001b[0m\n\u001b[1;32m   3969\u001b[0m             \u001b[0;32melse\u001b[0m\u001b[0;34m:\u001b[0m\u001b[0;34m\u001b[0m\u001b[0;34m\u001b[0m\u001b[0m\n\u001b[0;32m-> 3970\u001b[0;31m                 \u001b[0mnew_axis\u001b[0m \u001b[0;34m=\u001b[0m \u001b[0maxis\u001b[0m\u001b[0;34m.\u001b[0m\u001b[0mdrop\u001b[0m\u001b[0;34m(\u001b[0m\u001b[0mlabels\u001b[0m\u001b[0;34m,\u001b[0m \u001b[0merrors\u001b[0m\u001b[0;34m=\u001b[0m\u001b[0merrors\u001b[0m\u001b[0;34m)\u001b[0m\u001b[0;34m\u001b[0m\u001b[0;34m\u001b[0m\u001b[0m\n\u001b[0m\u001b[1;32m   3971\u001b[0m             \u001b[0mresult\u001b[0m \u001b[0;34m=\u001b[0m \u001b[0mself\u001b[0m\u001b[0;34m.\u001b[0m\u001b[0mreindex\u001b[0m\u001b[0;34m(\u001b[0m\u001b[0;34m**\u001b[0m\u001b[0;34m{\u001b[0m\u001b[0maxis_name\u001b[0m\u001b[0;34m:\u001b[0m \u001b[0mnew_axis\u001b[0m\u001b[0;34m}\u001b[0m\u001b[0;34m)\u001b[0m\u001b[0;34m\u001b[0m\u001b[0;34m\u001b[0m\u001b[0m\n\u001b[1;32m   3972\u001b[0m \u001b[0;34m\u001b[0m\u001b[0m\n",
      "\u001b[0;32m~/opt/anaconda3/lib/python3.7/site-packages/pandas/core/indexes/base.py\u001b[0m in \u001b[0;36mdrop\u001b[0;34m(self, labels, errors)\u001b[0m\n\u001b[1;32m   5016\u001b[0m         \u001b[0;32mif\u001b[0m \u001b[0mmask\u001b[0m\u001b[0;34m.\u001b[0m\u001b[0many\u001b[0m\u001b[0;34m(\u001b[0m\u001b[0;34m)\u001b[0m\u001b[0;34m:\u001b[0m\u001b[0;34m\u001b[0m\u001b[0;34m\u001b[0m\u001b[0m\n\u001b[1;32m   5017\u001b[0m             \u001b[0;32mif\u001b[0m \u001b[0merrors\u001b[0m \u001b[0;34m!=\u001b[0m \u001b[0;34m\"ignore\"\u001b[0m\u001b[0;34m:\u001b[0m\u001b[0;34m\u001b[0m\u001b[0;34m\u001b[0m\u001b[0m\n\u001b[0;32m-> 5018\u001b[0;31m                 \u001b[0;32mraise\u001b[0m \u001b[0mKeyError\u001b[0m\u001b[0;34m(\u001b[0m\u001b[0;34mf\"{labels[mask]} not found in axis\"\u001b[0m\u001b[0;34m)\u001b[0m\u001b[0;34m\u001b[0m\u001b[0;34m\u001b[0m\u001b[0m\n\u001b[0m\u001b[1;32m   5019\u001b[0m             \u001b[0mindexer\u001b[0m \u001b[0;34m=\u001b[0m \u001b[0mindexer\u001b[0m\u001b[0;34m[\u001b[0m\u001b[0;34m~\u001b[0m\u001b[0mmask\u001b[0m\u001b[0;34m]\u001b[0m\u001b[0;34m\u001b[0m\u001b[0;34m\u001b[0m\u001b[0m\n\u001b[1;32m   5020\u001b[0m         \u001b[0;32mreturn\u001b[0m \u001b[0mself\u001b[0m\u001b[0;34m.\u001b[0m\u001b[0mdelete\u001b[0m\u001b[0;34m(\u001b[0m\u001b[0mindexer\u001b[0m\u001b[0;34m)\u001b[0m\u001b[0;34m\u001b[0m\u001b[0;34m\u001b[0m\u001b[0m\n",
      "\u001b[0;31mKeyError\u001b[0m: \"['deleted' 'status_id' 'processed' 'input_id'] not found in axis\""
     ]
    }
   ],
   "source": [
    "visitsItems = visitsItems.drop(['deleted', 'status_id', 'processed', 'input_id'], axis=1)"
   ]
  },
  {
   "cell_type": "code",
   "execution_count": 13,
   "metadata": {},
   "outputs": [
    {
     "data": {
      "text/html": [
       "<div>\n",
       "<style scoped>\n",
       "    .dataframe tbody tr th:only-of-type {\n",
       "        vertical-align: middle;\n",
       "    }\n",
       "\n",
       "    .dataframe tbody tr th {\n",
       "        vertical-align: top;\n",
       "    }\n",
       "\n",
       "    .dataframe thead th {\n",
       "        text-align: right;\n",
       "    }\n",
       "</style>\n",
       "<table border=\"1\" class=\"dataframe\">\n",
       "  <thead>\n",
       "    <tr style=\"text-align: right;\">\n",
       "      <th></th>\n",
       "      <th>id</th>\n",
       "      <th>user_id</th>\n",
       "      <th>action_id</th>\n",
       "      <th>tool_id</th>\n",
       "      <th>bundle_id</th>\n",
       "      <th>refers_to_id</th>\n",
       "      <th>refers_to_uid</th>\n",
       "      <th>title</th>\n",
       "      <th>description</th>\n",
       "      <th>created</th>\n",
       "      <th>lastmodified</th>\n",
       "    </tr>\n",
       "  </thead>\n",
       "  <tbody>\n",
       "    <tr>\n",
       "      <th>0</th>\n",
       "      <td>793451</td>\n",
       "      <td>0</td>\n",
       "      <td>1</td>\n",
       "      <td>0</td>\n",
       "      <td>793449</td>\n",
       "      <td>1</td>\n",
       "      <td>18356743</td>\n",
       "      <td>own Charles Dawes name well aftermath</td>\n",
       "      <td>different James Monroe feel just carpenter</td>\n",
       "      <td>2014-10-23 16:25:55</td>\n",
       "      <td>2014-10-23 16:25:55</td>\n",
       "    </tr>\n",
       "    <tr>\n",
       "      <th>1</th>\n",
       "      <td>793453</td>\n",
       "      <td>0</td>\n",
       "      <td>2</td>\n",
       "      <td>9</td>\n",
       "      <td>793449</td>\n",
       "      <td>1</td>\n",
       "      <td>18146475</td>\n",
       "      <td>great John C. Breckinridge have very achieve</td>\n",
       "      <td>other Walter Mondale talk when picture</td>\n",
       "      <td>2014-10-23 16:26:15</td>\n",
       "      <td>2014-10-23 16:26:15</td>\n",
       "    </tr>\n",
       "    <tr>\n",
       "      <th>2</th>\n",
       "      <td>793455</td>\n",
       "      <td>0</td>\n",
       "      <td>2</td>\n",
       "      <td>6</td>\n",
       "      <td>793449</td>\n",
       "      <td>1</td>\n",
       "      <td>18311851</td>\n",
       "      <td>first John C. Calhoun think only fuel</td>\n",
       "      <td>old Al Gore walk too year</td>\n",
       "      <td>2014-10-23 16:26:55</td>\n",
       "      <td>2014-10-23 16:26:55</td>\n",
       "    </tr>\n",
       "    <tr>\n",
       "      <th>3</th>\n",
       "      <td>793459</td>\n",
       "      <td>3</td>\n",
       "      <td>2</td>\n",
       "      <td>7</td>\n",
       "      <td>793449</td>\n",
       "      <td>1</td>\n",
       "      <td>18476565</td>\n",
       "      <td>early Henry A. Wallace call out wrist</td>\n",
       "      <td>good John F. Kennedy tell also government</td>\n",
       "      <td>2014-10-23 16:27:59</td>\n",
       "      <td>2014-10-23 16:27:59</td>\n",
       "    </tr>\n",
       "    <tr>\n",
       "      <th>4</th>\n",
       "      <td>793495</td>\n",
       "      <td>3</td>\n",
       "      <td>2</td>\n",
       "      <td>7</td>\n",
       "      <td>793449</td>\n",
       "      <td>1</td>\n",
       "      <td>18628929</td>\n",
       "      <td>same Hubert Humphrey kick very health</td>\n",
       "      <td>next Joe Biden  come when creature</td>\n",
       "      <td>2014-10-23 19:36:56</td>\n",
       "      <td>2014-10-23 19:36:56</td>\n",
       "    </tr>\n",
       "    <tr>\n",
       "      <th>...</th>\n",
       "      <td>...</td>\n",
       "      <td>...</td>\n",
       "      <td>...</td>\n",
       "      <td>...</td>\n",
       "      <td>...</td>\n",
       "      <td>...</td>\n",
       "      <td>...</td>\n",
       "      <td>...</td>\n",
       "      <td>...</td>\n",
       "      <td>...</td>\n",
       "      <td>...</td>\n",
       "    </tr>\n",
       "    <tr>\n",
       "      <th>18479553</th>\n",
       "      <td>132873405</td>\n",
       "      <td>0</td>\n",
       "      <td>2</td>\n",
       "      <td>12</td>\n",
       "      <td>132777661</td>\n",
       "      <td>0</td>\n",
       "      <td>1595449503</td>\n",
       "      <td>My Table</td>\n",
       "      <td>Made at Cooper Hewitt Museum using a Collections Table.</td>\n",
       "      <td>2020-07-22 20:25:03</td>\n",
       "      <td>2020-07-22 20:25:03</td>\n",
       "    </tr>\n",
       "    <tr>\n",
       "      <th>18479554</th>\n",
       "      <td>132873409</td>\n",
       "      <td>28814</td>\n",
       "      <td>2</td>\n",
       "      <td>12</td>\n",
       "      <td>132777661</td>\n",
       "      <td>0</td>\n",
       "      <td>1595449610</td>\n",
       "      <td>My Table</td>\n",
       "      <td>Made at Cooper Hewitt Museum using a Collections Table.</td>\n",
       "      <td>2020-07-22 20:26:50</td>\n",
       "      <td>2020-07-22 20:26:50</td>\n",
       "    </tr>\n",
       "    <tr>\n",
       "      <th>18479555</th>\n",
       "      <td>132873413</td>\n",
       "      <td>28814</td>\n",
       "      <td>2</td>\n",
       "      <td>12</td>\n",
       "      <td>132777661</td>\n",
       "      <td>0</td>\n",
       "      <td>1595449666</td>\n",
       "      <td>My Table</td>\n",
       "      <td>Made at Cooper Hewitt Museum using a Collections Table.</td>\n",
       "      <td>2020-07-22 20:27:46</td>\n",
       "      <td>2020-07-22 20:27:46</td>\n",
       "    </tr>\n",
       "    <tr>\n",
       "      <th>18479556</th>\n",
       "      <td>132873417</td>\n",
       "      <td>28814</td>\n",
       "      <td>2</td>\n",
       "      <td>3</td>\n",
       "      <td>132777661</td>\n",
       "      <td>0</td>\n",
       "      <td>1595450275</td>\n",
       "      <td>My Wallpaper</td>\n",
       "      <td>Made at Cooper Hewitt Museum using a Collections Table.</td>\n",
       "      <td>2020-07-22 20:37:55</td>\n",
       "      <td>2020-07-22 20:37:55</td>\n",
       "    </tr>\n",
       "    <tr>\n",
       "      <th>18479557</th>\n",
       "      <td>132873427</td>\n",
       "      <td>28814</td>\n",
       "      <td>2</td>\n",
       "      <td>14</td>\n",
       "      <td>132777661</td>\n",
       "      <td>0</td>\n",
       "      <td>1595451288</td>\n",
       "      <td>My Chair</td>\n",
       "      <td>Made at Cooper Hewitt Museum using a Collections Table.</td>\n",
       "      <td>2020-07-22 20:54:48</td>\n",
       "      <td>2020-07-22 20:54:48</td>\n",
       "    </tr>\n",
       "  </tbody>\n",
       "</table>\n",
       "<p>18479558 rows × 11 columns</p>\n",
       "</div>"
      ],
      "text/plain": [
       "                 id  user_id  action_id  tool_id  bundle_id  refers_to_id  \\\n",
       "0            793451        0          1        0     793449             1   \n",
       "1            793453        0          2        9     793449             1   \n",
       "2            793455        0          2        6     793449             1   \n",
       "3            793459        3          2        7     793449             1   \n",
       "4            793495        3          2        7     793449             1   \n",
       "...             ...      ...        ...      ...        ...           ...   \n",
       "18479553  132873405        0          2       12  132777661             0   \n",
       "18479554  132873409    28814          2       12  132777661             0   \n",
       "18479555  132873413    28814          2       12  132777661             0   \n",
       "18479556  132873417    28814          2        3  132777661             0   \n",
       "18479557  132873427    28814          2       14  132777661             0   \n",
       "\n",
       "          refers_to_uid                                         title  \\\n",
       "0              18356743         own Charles Dawes name well aftermath   \n",
       "1              18146475  great John C. Breckinridge have very achieve   \n",
       "2              18311851         first John C. Calhoun think only fuel   \n",
       "3              18476565         early Henry A. Wallace call out wrist   \n",
       "4              18628929         same Hubert Humphrey kick very health   \n",
       "...                 ...                                           ...   \n",
       "18479553     1595449503                                      My Table   \n",
       "18479554     1595449610                                      My Table   \n",
       "18479555     1595449666                                      My Table   \n",
       "18479556     1595450275                                  My Wallpaper   \n",
       "18479557     1595451288                                      My Chair   \n",
       "\n",
       "                                                      description  \\\n",
       "0                      different James Monroe feel just carpenter   \n",
       "1                          other Walter Mondale talk when picture   \n",
       "2                                       old Al Gore walk too year   \n",
       "3                       good John F. Kennedy tell also government   \n",
       "4                              next Joe Biden  come when creature   \n",
       "...                                                           ...   \n",
       "18479553  Made at Cooper Hewitt Museum using a Collections Table.   \n",
       "18479554  Made at Cooper Hewitt Museum using a Collections Table.   \n",
       "18479555  Made at Cooper Hewitt Museum using a Collections Table.   \n",
       "18479556  Made at Cooper Hewitt Museum using a Collections Table.   \n",
       "18479557  Made at Cooper Hewitt Museum using a Collections Table.   \n",
       "\n",
       "                     created        lastmodified  \n",
       "0        2014-10-23 16:25:55 2014-10-23 16:25:55  \n",
       "1        2014-10-23 16:26:15 2014-10-23 16:26:15  \n",
       "2        2014-10-23 16:26:55 2014-10-23 16:26:55  \n",
       "3        2014-10-23 16:27:59 2014-10-23 16:27:59  \n",
       "4        2014-10-23 19:36:56 2014-10-23 19:36:56  \n",
       "...                      ...                 ...  \n",
       "18479553 2020-07-22 20:25:03 2020-07-22 20:25:03  \n",
       "18479554 2020-07-22 20:26:50 2020-07-22 20:26:50  \n",
       "18479555 2020-07-22 20:27:46 2020-07-22 20:27:46  \n",
       "18479556 2020-07-22 20:37:55 2020-07-22 20:37:55  \n",
       "18479557 2020-07-22 20:54:48 2020-07-22 20:54:48  \n",
       "\n",
       "[18479558 rows x 11 columns]"
      ]
     },
     "execution_count": 13,
     "metadata": {},
     "output_type": "execute_result"
    }
   ],
   "source": [
    "visitsItems"
   ]
  },
  {
   "cell_type": "code",
   "execution_count": 14,
   "metadata": {},
   "outputs": [
    {
     "data": {
      "text/plain": [
       "0        18382285\n",
       "247         13555\n",
       "15424         525\n",
       "8258          514\n",
       "8319          502\n",
       "           ...   \n",
       "25670           1\n",
       "25693           1\n",
       "25710           1\n",
       "25702           1\n",
       "16360           1\n",
       "Name: user_id, Length: 1469, dtype: int64"
      ]
     },
     "execution_count": 14,
     "metadata": {},
     "output_type": "execute_result"
    }
   ],
   "source": [
    "visitsItems['user_id'].value_counts()"
   ]
  },
  {
   "cell_type": "code",
   "execution_count": 16,
   "metadata": {},
   "outputs": [
    {
     "data": {
      "text/plain": [
       "1526919      9361\n",
       "1586155      3962\n",
       "107642771    1050\n",
       "91825435     1048\n",
       "103049787     958\n",
       "             ... \n",
       "127266275       1\n",
       "92398213        1\n",
       "109462129       1\n",
       "86368409        1\n",
       "110250457       1\n",
       "Name: bundle_id, Length: 543828, dtype: int64"
      ]
     },
     "execution_count": 16,
     "metadata": {},
     "output_type": "execute_result"
    }
   ],
   "source": [
    "visitsItems['bundle_id'].value_counts()"
   ]
  },
  {
   "cell_type": "code",
   "execution_count": 132,
   "metadata": {},
   "outputs": [
    {
     "data": {
      "text/plain": [
       "18479555"
      ]
     },
     "execution_count": 132,
     "metadata": {},
     "output_type": "execute_result"
    }
   ],
   "source": [
    "visitsItems['action_id'].dropna().count()\n",
    "#total items collected +created 18,479,555"
   ]
  },
  {
   "cell_type": "code",
   "execution_count": 3,
   "metadata": {},
   "outputs": [
    {
     "data": {
      "text/plain": [
       "18703475      63766\n",
       "18703473      63236\n",
       "18703477      60335\n",
       "18703503      59366\n",
       "35460287      57847\n",
       "              ...  \n",
       "1479847166        1\n",
       "1433945443        1\n",
       "1438621080        1\n",
       "1491252797        1\n",
       "1439308042        1\n",
       "Name: refers_to_uid, Length: 411500, dtype: int64"
      ]
     },
     "execution_count": 3,
     "metadata": {},
     "output_type": "execute_result"
    }
   ],
   "source": [
    "visitsItems['refers_to_uid'].value_counts()\n",
    "#most popular items"
   ]
  },
  {
   "cell_type": "markdown",
   "metadata": {},
   "source": [
    "# user_id == 0"
   ]
  },
  {
   "cell_type": "code",
   "execution_count": 15,
   "metadata": {},
   "outputs": [],
   "source": [
    "visitsItems_zero = visitsItems[visitsItems['user_id'] == 0]"
   ]
  },
  {
   "cell_type": "code",
   "execution_count": 39,
   "metadata": {},
   "outputs": [
    {
     "data": {
      "text/html": [
       "<div>\n",
       "<style scoped>\n",
       "    .dataframe tbody tr th:only-of-type {\n",
       "        vertical-align: middle;\n",
       "    }\n",
       "\n",
       "    .dataframe tbody tr th {\n",
       "        vertical-align: top;\n",
       "    }\n",
       "\n",
       "    .dataframe thead th {\n",
       "        text-align: right;\n",
       "    }\n",
       "</style>\n",
       "<table border=\"1\" class=\"dataframe\">\n",
       "  <thead>\n",
       "    <tr style=\"text-align: right;\">\n",
       "      <th></th>\n",
       "      <th>id</th>\n",
       "      <th>user_id</th>\n",
       "      <th>action_id</th>\n",
       "      <th>tool_id</th>\n",
       "      <th>bundle_id</th>\n",
       "      <th>refers_to_id</th>\n",
       "      <th>refers_to_uid</th>\n",
       "      <th>title</th>\n",
       "      <th>description</th>\n",
       "      <th>created</th>\n",
       "      <th>lastmodified</th>\n",
       "    </tr>\n",
       "  </thead>\n",
       "  <tbody>\n",
       "    <tr>\n",
       "      <th>0</th>\n",
       "      <td>793451</td>\n",
       "      <td>0</td>\n",
       "      <td>1</td>\n",
       "      <td>0</td>\n",
       "      <td>793449</td>\n",
       "      <td>1</td>\n",
       "      <td>18356743</td>\n",
       "      <td>own Charles Dawes name well aftermath</td>\n",
       "      <td>different James Monroe feel just carpenter</td>\n",
       "      <td>2014-10-23 16:25:55</td>\n",
       "      <td>2014-10-23 16:25:55</td>\n",
       "    </tr>\n",
       "    <tr>\n",
       "      <th>1</th>\n",
       "      <td>793453</td>\n",
       "      <td>0</td>\n",
       "      <td>2</td>\n",
       "      <td>9</td>\n",
       "      <td>793449</td>\n",
       "      <td>1</td>\n",
       "      <td>18146475</td>\n",
       "      <td>great John C. Breckinridge have very achieve</td>\n",
       "      <td>other Walter Mondale talk when picture</td>\n",
       "      <td>2014-10-23 16:26:15</td>\n",
       "      <td>2014-10-23 16:26:15</td>\n",
       "    </tr>\n",
       "    <tr>\n",
       "      <th>2</th>\n",
       "      <td>793455</td>\n",
       "      <td>0</td>\n",
       "      <td>2</td>\n",
       "      <td>6</td>\n",
       "      <td>793449</td>\n",
       "      <td>1</td>\n",
       "      <td>18311851</td>\n",
       "      <td>first John C. Calhoun think only fuel</td>\n",
       "      <td>old Al Gore walk too year</td>\n",
       "      <td>2014-10-23 16:26:55</td>\n",
       "      <td>2014-10-23 16:26:55</td>\n",
       "    </tr>\n",
       "    <tr>\n",
       "      <th>10</th>\n",
       "      <td>793573</td>\n",
       "      <td>0</td>\n",
       "      <td>2</td>\n",
       "      <td>9</td>\n",
       "      <td>793571</td>\n",
       "      <td>1</td>\n",
       "      <td>18651455</td>\n",
       "      <td>large George Bush rinse there railway</td>\n",
       "      <td>same Spiro Agnew want as kitten</td>\n",
       "      <td>2014-10-24 15:05:35</td>\n",
       "      <td>2014-10-24 15:05:35</td>\n",
       "    </tr>\n",
       "    <tr>\n",
       "      <th>15</th>\n",
       "      <td>793683</td>\n",
       "      <td>0</td>\n",
       "      <td>2</td>\n",
       "      <td>7</td>\n",
       "      <td>793681</td>\n",
       "      <td>1</td>\n",
       "      <td>18344241</td>\n",
       "      <td>first Benjamin Harrison ask also afterthought</td>\n",
       "      <td>other Andrew Jackson promise still faucet</td>\n",
       "      <td>2014-10-25 00:02:37</td>\n",
       "      <td>2014-10-25 00:02:37</td>\n",
       "    </tr>\n",
       "    <tr>\n",
       "      <th>...</th>\n",
       "      <td>...</td>\n",
       "      <td>...</td>\n",
       "      <td>...</td>\n",
       "      <td>...</td>\n",
       "      <td>...</td>\n",
       "      <td>...</td>\n",
       "      <td>...</td>\n",
       "      <td>...</td>\n",
       "      <td>...</td>\n",
       "      <td>...</td>\n",
       "      <td>...</td>\n",
       "    </tr>\n",
       "    <tr>\n",
       "      <th>18479545</th>\n",
       "      <td>132806723</td>\n",
       "      <td>0</td>\n",
       "      <td>1</td>\n",
       "      <td>0</td>\n",
       "      <td>132806719</td>\n",
       "      <td>1</td>\n",
       "      <td>18165899</td>\n",
       "      <td>NaN</td>\n",
       "      <td>NaN</td>\n",
       "      <td>2019-12-16 21:46:24</td>\n",
       "      <td>2020-07-09 13:12:38</td>\n",
       "    </tr>\n",
       "    <tr>\n",
       "      <th>18479546</th>\n",
       "      <td>132806731</td>\n",
       "      <td>0</td>\n",
       "      <td>1</td>\n",
       "      <td>0</td>\n",
       "      <td>132806727</td>\n",
       "      <td>1</td>\n",
       "      <td>18165899</td>\n",
       "      <td>NaN</td>\n",
       "      <td>NaN</td>\n",
       "      <td>2019-12-16 21:46:24</td>\n",
       "      <td>2020-07-09 13:16:52</td>\n",
       "    </tr>\n",
       "    <tr>\n",
       "      <th>18479547</th>\n",
       "      <td>132806739</td>\n",
       "      <td>0</td>\n",
       "      <td>1</td>\n",
       "      <td>0</td>\n",
       "      <td>132806735</td>\n",
       "      <td>1</td>\n",
       "      <td>18165899</td>\n",
       "      <td>NaN</td>\n",
       "      <td>NaN</td>\n",
       "      <td>2019-12-16 21:46:24</td>\n",
       "      <td>2020-07-09 13:20:09</td>\n",
       "    </tr>\n",
       "    <tr>\n",
       "      <th>18479550</th>\n",
       "      <td>132873389</td>\n",
       "      <td>0</td>\n",
       "      <td>2</td>\n",
       "      <td>16</td>\n",
       "      <td>132794701</td>\n",
       "      <td>0</td>\n",
       "      <td>1595447918</td>\n",
       "      <td>My Vase</td>\n",
       "      <td>Made at Cooper Hewitt Museum using a Collections Table.</td>\n",
       "      <td>2020-07-22 19:58:38</td>\n",
       "      <td>2020-07-22 19:58:38</td>\n",
       "    </tr>\n",
       "    <tr>\n",
       "      <th>18479553</th>\n",
       "      <td>132873405</td>\n",
       "      <td>0</td>\n",
       "      <td>2</td>\n",
       "      <td>12</td>\n",
       "      <td>132777661</td>\n",
       "      <td>0</td>\n",
       "      <td>1595449503</td>\n",
       "      <td>My Table</td>\n",
       "      <td>Made at Cooper Hewitt Museum using a Collections Table.</td>\n",
       "      <td>2020-07-22 20:25:03</td>\n",
       "      <td>2020-07-22 20:25:03</td>\n",
       "    </tr>\n",
       "  </tbody>\n",
       "</table>\n",
       "<p>18382285 rows × 11 columns</p>\n",
       "</div>"
      ],
      "text/plain": [
       "                 id  user_id  action_id  tool_id  bundle_id  refers_to_id  \\\n",
       "0            793451        0          1        0     793449             1   \n",
       "1            793453        0          2        9     793449             1   \n",
       "2            793455        0          2        6     793449             1   \n",
       "10           793573        0          2        9     793571             1   \n",
       "15           793683        0          2        7     793681             1   \n",
       "...             ...      ...        ...      ...        ...           ...   \n",
       "18479545  132806723        0          1        0  132806719             1   \n",
       "18479546  132806731        0          1        0  132806727             1   \n",
       "18479547  132806739        0          1        0  132806735             1   \n",
       "18479550  132873389        0          2       16  132794701             0   \n",
       "18479553  132873405        0          2       12  132777661             0   \n",
       "\n",
       "          refers_to_uid                                          title  \\\n",
       "0              18356743          own Charles Dawes name well aftermath   \n",
       "1              18146475   great John C. Breckinridge have very achieve   \n",
       "2              18311851          first John C. Calhoun think only fuel   \n",
       "10             18651455          large George Bush rinse there railway   \n",
       "15             18344241  first Benjamin Harrison ask also afterthought   \n",
       "...                 ...                                            ...   \n",
       "18479545       18165899                                            NaN   \n",
       "18479546       18165899                                            NaN   \n",
       "18479547       18165899                                            NaN   \n",
       "18479550     1595447918                                        My Vase   \n",
       "18479553     1595449503                                       My Table   \n",
       "\n",
       "                                                      description  \\\n",
       "0                      different James Monroe feel just carpenter   \n",
       "1                          other Walter Mondale talk when picture   \n",
       "2                                       old Al Gore walk too year   \n",
       "10                                same Spiro Agnew want as kitten   \n",
       "15                      other Andrew Jackson promise still faucet   \n",
       "...                                                           ...   \n",
       "18479545                                                      NaN   \n",
       "18479546                                                      NaN   \n",
       "18479547                                                      NaN   \n",
       "18479550  Made at Cooper Hewitt Museum using a Collections Table.   \n",
       "18479553  Made at Cooper Hewitt Museum using a Collections Table.   \n",
       "\n",
       "                     created        lastmodified  \n",
       "0        2014-10-23 16:25:55 2014-10-23 16:25:55  \n",
       "1        2014-10-23 16:26:15 2014-10-23 16:26:15  \n",
       "2        2014-10-23 16:26:55 2014-10-23 16:26:55  \n",
       "10       2014-10-24 15:05:35 2014-10-24 15:05:35  \n",
       "15       2014-10-25 00:02:37 2014-10-25 00:02:37  \n",
       "...                      ...                 ...  \n",
       "18479545 2019-12-16 21:46:24 2020-07-09 13:12:38  \n",
       "18479546 2019-12-16 21:46:24 2020-07-09 13:16:52  \n",
       "18479547 2019-12-16 21:46:24 2020-07-09 13:20:09  \n",
       "18479550 2020-07-22 19:58:38 2020-07-22 19:58:38  \n",
       "18479553 2020-07-22 20:25:03 2020-07-22 20:25:03  \n",
       "\n",
       "[18382285 rows x 11 columns]"
      ]
     },
     "execution_count": 39,
     "metadata": {},
     "output_type": "execute_result"
    }
   ],
   "source": [
    "visitsItems_zero"
   ]
  },
  {
   "cell_type": "code",
   "execution_count": 40,
   "metadata": {},
   "outputs": [
    {
     "data": {
      "text/plain": [
       "99.47363451122064"
      ]
     },
     "execution_count": 40,
     "metadata": {},
     "output_type": "execute_result"
    }
   ],
   "source": [
    "visitsItems_zero['id'].value_counts().count() / visitsItems['id'].value_counts().count() * 100\n",
    "# 99.5 percentage were never attached to an account"
   ]
  },
  {
   "cell_type": "markdown",
   "metadata": {},
   "source": [
    "## average items per user w/o user==0"
   ]
  },
  {
   "cell_type": "code",
   "execution_count": 66,
   "metadata": {
    "scrolled": true
   },
   "outputs": [],
   "source": [
    "visitsItems_not_zero = visitsItems[visitsItems['user_id'] != 0]\n",
    "visitsItems_not_zero_and_action1 = visitsItems_not_zero[visitsItems_not_zero['action_id'] == 1]"
   ]
  },
  {
   "cell_type": "code",
   "execution_count": 69,
   "metadata": {},
   "outputs": [],
   "source": [
    "visitsItems_action1 = visitsItems[visitsItems['action_id'] == 1]"
   ]
  },
  {
   "cell_type": "code",
   "execution_count": 73,
   "metadata": {},
   "outputs": [
    {
     "name": "stderr",
     "output_type": "stream",
     "text": [
      "/Users/shirin/opt/anaconda3/lib/python3.7/site-packages/ipykernel_launcher.py:4: SettingWithCopyWarning: \n",
      "A value is trying to be set on a copy of a slice from a DataFrame\n",
      "\n",
      "See the caveats in the documentation: https://pandas.pydata.org/pandas-docs/stable/user_guide/indexing.html#returning-a-view-versus-a-copy\n",
      "  after removing the cwd from sys.path.\n"
     ]
    },
    {
     "data": {
      "text/plain": [
       "40.0"
      ]
     },
     "execution_count": 73,
     "metadata": {},
     "output_type": "execute_result"
    }
   ],
   "source": [
    "group_visit_items= visitsItems_action1.groupby(['user_id']).agg('sum')\n",
    "group_visit_items.reset_index(inplace=True)\n",
    "group_visit_count = group_visit_items[['user_id', 'action_id']]\n",
    "group_visit_count.sort_values(by=\"action_id\", ascending=False, inplace=True)\n",
    "group_visit_count['action_id'].median()\n",
    "#with user zero but median to try to work with rugh edges that they add."
   ]
  },
  {
   "cell_type": "code",
   "execution_count": 75,
   "metadata": {},
   "outputs": [
    {
     "name": "stderr",
     "output_type": "stream",
     "text": [
      "/Users/shirin/opt/anaconda3/lib/python3.7/site-packages/ipykernel_launcher.py:4: SettingWithCopyWarning: \n",
      "A value is trying to be set on a copy of a slice from a DataFrame\n",
      "\n",
      "See the caveats in the documentation: https://pandas.pydata.org/pandas-docs/stable/user_guide/indexing.html#returning-a-view-versus-a-copy\n",
      "  after removing the cwd from sys.path.\n"
     ]
    },
    {
     "data": {
      "text/plain": [
       "74.14592933947773"
      ]
     },
     "execution_count": 75,
     "metadata": {},
     "output_type": "execute_result"
    }
   ],
   "source": [
    "group_visit_items= visitsItems_not_zero_and_action1.groupby(['user_id']).agg('sum')\n",
    "group_visit_items.reset_index(inplace=True)\n",
    "group_visit_count = group_visit_items[['user_id', 'action_id']]\n",
    "group_visit_count.sort_values(by=\"action_id\", ascending=False, inplace=True)\n",
    "group_visit_count['action_id'].mean()\n",
    "#without user 0 "
   ]
  },
  {
   "cell_type": "markdown",
   "metadata": {},
   "source": [
    "# action_id"
   ]
  },
  {
   "cell_type": "code",
   "execution_count": 3,
   "metadata": {},
   "outputs": [],
   "source": [
    "visit_action = visitsItems['action_id'].value_counts()\n",
    "visit_action= visit_action.to_frame()\n",
    "visit_action = visit_action.rename({'action_id':'value'},axis=1)\n",
    "visit_action.reset_index(inplace=True)\n",
    "visit_action = visit_action.rename({'index':'action_id'},axis=1)"
   ]
  },
  {
   "cell_type": "code",
   "execution_count": 4,
   "metadata": {},
   "outputs": [
    {
     "data": {
      "text/html": [
       "<div>\n",
       "<style scoped>\n",
       "    .dataframe tbody tr th:only-of-type {\n",
       "        vertical-align: middle;\n",
       "    }\n",
       "\n",
       "    .dataframe tbody tr th {\n",
       "        vertical-align: top;\n",
       "    }\n",
       "\n",
       "    .dataframe thead th {\n",
       "        text-align: right;\n",
       "    }\n",
       "</style>\n",
       "<table border=\"1\" class=\"dataframe\">\n",
       "  <thead>\n",
       "    <tr style=\"text-align: right;\">\n",
       "      <th></th>\n",
       "      <th>action_id</th>\n",
       "      <th>value</th>\n",
       "    </tr>\n",
       "  </thead>\n",
       "  <tbody>\n",
       "    <tr>\n",
       "      <th>0</th>\n",
       "      <td>1</td>\n",
       "      <td>18096960</td>\n",
       "    </tr>\n",
       "    <tr>\n",
       "      <th>1</th>\n",
       "      <td>2</td>\n",
       "      <td>382598</td>\n",
       "    </tr>\n",
       "  </tbody>\n",
       "</table>\n",
       "</div>"
      ],
      "text/plain": [
       "   action_id     value\n",
       "0          1  18096960\n",
       "1          2    382598"
      ]
     },
     "execution_count": 4,
     "metadata": {},
     "output_type": "execute_result"
    }
   ],
   "source": [
    "visit_action\n",
    "# 0 = collected\n",
    "# 1 = created"
   ]
  },
  {
   "cell_type": "code",
   "execution_count": 5,
   "metadata": {},
   "outputs": [
    {
     "name": "stderr",
     "output_type": "stream",
     "text": [
      "No handles with labels found to put in legend.\n"
     ]
    },
    {
     "data": {
      "image/png": "[encoded data removed]",
      "text/plain": [
       "<Figure size 576x360 with 1 Axes>"
      ]
     },
     "metadata": {
      "needs_background": "light"
     },
     "output_type": "display_data"
    }
   ],
   "source": [
    "plt.figure(figsize=(8,5))\n",
    "plt.bar(visit_action['action_id'], visit_action['value'])\n",
    "plt.title('Collected Vs. Created Items', fontdict={'fontweight': 'bold', 'fontsize':18})\n",
    "plt.ylabel('Values count')\n",
    "plt.xticks(visit_action['action_id'])\n",
    "plt.legend()\n",
    "plt.show()\n",
    "# plt.savefig('created_vs_collected_bar.png', dpi=300)"
   ]
  },
  {
   "cell_type": "code",
   "execution_count": 27,
   "metadata": {},
   "outputs": [
    {
     "data": {
      "text/plain": [
       "<Figure size 576x360 with 0 Axes>"
      ]
     },
     "metadata": {},
     "output_type": "display_data"
    },
    {
     "data": {
      "image/png": "[encoded data removed]",
      "text/plain": [
       "<Figure size 360x360 with 1 Axes>"
      ]
     },
     "metadata": {},
     "output_type": "display_data"
    }
   ],
   "source": [
    "plt.figure(figsize=(8,5))\n",
    "visit_action.plot.pie(x=visit_action['action_id'], y='value', figsize=(5, 5),autopct='%1.1f%%', startangle=90, cmap='Blues')\n",
    "plt.title('Collected Vs. Created Items', fontdict={'fontweight': 'bold', 'fontsize':18})\n",
    "plt.ylabel('Values count')\n",
    "# plt.xlabel('action_id')\n",
    "# plt.xticks(visit_action['action_id'])\n",
    "# plt.legend()\n",
    "plt.show()\n",
    "# plt.savefig('created_vs_collected.png', dpi=300)"
   ]
  },
  {
   "cell_type": "code",
   "execution_count": null,
   "metadata": {},
   "outputs": [],
   "source": []
  },
  {
   "cell_type": "markdown",
   "metadata": {},
   "source": [
    "# Tools_id"
   ]
  },
  {
   "cell_type": "code",
   "execution_count": 52,
   "metadata": {},
   "outputs": [
    {
     "data": {
      "text/plain": [
       "0     18097261\n",
       "3        87588\n",
       "10       50871\n",
       "14       50392\n",
       "12       46477\n",
       "11       41273\n",
       "13       41037\n",
       "16       30331\n",
       "15       26279\n",
       "1         5430\n",
       "6         2047\n",
       "17         536\n",
       "7           15\n",
       "9           12\n",
       "8            5\n",
       "5            2\n",
       "4            2\n",
       "Name: tool_id, dtype: int64"
      ]
     },
     "execution_count": 52,
     "metadata": {},
     "output_type": "execute_result"
    }
   ],
   "source": [
    "visit_tools= visitsItems['tool_id'].value_counts()\n",
    "visit_tools\n",
    "# Tool IDs\n",
    "# The tool_id field refers to the interactive application that created the row. \n",
    "#A tool_id of 0 means that the Pen was used to collect an object from one of our wall labels.\n",
    "# The other non-wall-label tools are as follows:\n",
    "# 1 = Sketchbot\n",
    "# 3 = Immersion Room\n",
    "# 4 = Wallpaper Photo\n",
    "# 5 = Body Scan\n",
    "# 6 = Process Lab\n",
    "# 7 = Revolve\n",
    "# 8 = Extrude\n",
    "# 9 = Pattern\n",
    "# 10 = Building\n",
    "# 11 = Hat\n",
    "# 12 = Table\n",
    "# 13 = Lamp\n",
    "# 14 = Chair\n",
    "# 15 = Freeform\n",
    "# 16 = Vase\n",
    "# 17 = Wild Ideas\n",
    "#from https://github.com/cooperhewitt/the-pen-data"
   ]
  },
  {
   "cell_type": "code",
   "execution_count": 78,
   "metadata": {
    "collapsed": true
   },
   "outputs": [
    {
     "ename": "AttributeError",
     "evalue": "'DataFrame' object has no attribute 'to_frame'",
     "output_type": "error",
     "traceback": [
      "\u001b[0;31m---------------------------------------------------------------------------\u001b[0m",
      "\u001b[0;31mAttributeError\u001b[0m                            Traceback (most recent call last)",
      "\u001b[0;32m<ipython-input-78-fd85a493a90e>\u001b[0m in \u001b[0;36m<module>\u001b[0;34m\u001b[0m\n\u001b[0;32m----> 1\u001b[0;31m \u001b[0mvisit_tools\u001b[0m\u001b[0;34m=\u001b[0m \u001b[0mvisit_tools\u001b[0m\u001b[0;34m.\u001b[0m\u001b[0mto_frame\u001b[0m\u001b[0;34m(\u001b[0m\u001b[0;34m)\u001b[0m\u001b[0;34m\u001b[0m\u001b[0;34m\u001b[0m\u001b[0m\n\u001b[0m",
      "\u001b[0;32m~/opt/anaconda3/lib/python3.7/site-packages/pandas/core/generic.py\u001b[0m in \u001b[0;36m__getattr__\u001b[0;34m(self, name)\u001b[0m\n\u001b[1;32m   5272\u001b[0m             \u001b[0;32mif\u001b[0m \u001b[0mself\u001b[0m\u001b[0;34m.\u001b[0m\u001b[0m_info_axis\u001b[0m\u001b[0;34m.\u001b[0m\u001b[0m_can_hold_identifiers_and_holds_name\u001b[0m\u001b[0;34m(\u001b[0m\u001b[0mname\u001b[0m\u001b[0;34m)\u001b[0m\u001b[0;34m:\u001b[0m\u001b[0;34m\u001b[0m\u001b[0;34m\u001b[0m\u001b[0m\n\u001b[1;32m   5273\u001b[0m                 \u001b[0;32mreturn\u001b[0m \u001b[0mself\u001b[0m\u001b[0;34m[\u001b[0m\u001b[0mname\u001b[0m\u001b[0;34m]\u001b[0m\u001b[0;34m\u001b[0m\u001b[0;34m\u001b[0m\u001b[0m\n\u001b[0;32m-> 5274\u001b[0;31m             \u001b[0;32mreturn\u001b[0m \u001b[0mobject\u001b[0m\u001b[0;34m.\u001b[0m\u001b[0m__getattribute__\u001b[0m\u001b[0;34m(\u001b[0m\u001b[0mself\u001b[0m\u001b[0;34m,\u001b[0m \u001b[0mname\u001b[0m\u001b[0;34m)\u001b[0m\u001b[0;34m\u001b[0m\u001b[0;34m\u001b[0m\u001b[0m\n\u001b[0m\u001b[1;32m   5275\u001b[0m \u001b[0;34m\u001b[0m\u001b[0m\n\u001b[1;32m   5276\u001b[0m     \u001b[0;32mdef\u001b[0m \u001b[0m__setattr__\u001b[0m\u001b[0;34m(\u001b[0m\u001b[0mself\u001b[0m\u001b[0;34m,\u001b[0m \u001b[0mname\u001b[0m\u001b[0;34m:\u001b[0m \u001b[0mstr\u001b[0m\u001b[0;34m,\u001b[0m \u001b[0mvalue\u001b[0m\u001b[0;34m)\u001b[0m \u001b[0;34m->\u001b[0m \u001b[0;32mNone\u001b[0m\u001b[0;34m:\u001b[0m\u001b[0;34m\u001b[0m\u001b[0;34m\u001b[0m\u001b[0m\n",
      "\u001b[0;31mAttributeError\u001b[0m: 'DataFrame' object has no attribute 'to_frame'"
     ]
    }
   ],
   "source": [
    "visit_tools= visit_tools.to_frame()"
   ]
  },
  {
   "cell_type": "code",
   "execution_count": 59,
   "metadata": {},
   "outputs": [],
   "source": [
    "visit_tools.rename({'tool_id': 'value'}, axis=1, inplace=True)"
   ]
  },
  {
   "cell_type": "code",
   "execution_count": 60,
   "metadata": {},
   "outputs": [],
   "source": [
    "visit_tools.reset_index(inplace=True)"
   ]
  },
  {
   "cell_type": "code",
   "execution_count": 61,
   "metadata": {},
   "outputs": [],
   "source": [
    "visit_tools.rename({'index': 'tool_id'}, axis=1, inplace=True)"
   ]
  },
  {
   "cell_type": "code",
   "execution_count": 74,
   "metadata": {},
   "outputs": [
    {
     "data": {
      "text/html": [
       "<div>\n",
       "<style scoped>\n",
       "    .dataframe tbody tr th:only-of-type {\n",
       "        vertical-align: middle;\n",
       "    }\n",
       "\n",
       "    .dataframe tbody tr th {\n",
       "        vertical-align: top;\n",
       "    }\n",
       "\n",
       "    .dataframe thead th {\n",
       "        text-align: right;\n",
       "    }\n",
       "</style>\n",
       "<table border=\"1\" class=\"dataframe\">\n",
       "  <thead>\n",
       "    <tr style=\"text-align: right;\">\n",
       "      <th></th>\n",
       "      <th>id</th>\n",
       "      <th>user_id</th>\n",
       "      <th>action_id</th>\n",
       "      <th>tool_id</th>\n",
       "      <th>bundle_id</th>\n",
       "      <th>refers_to_id</th>\n",
       "      <th>refers_to_uid</th>\n",
       "      <th>title</th>\n",
       "      <th>description</th>\n",
       "      <th>created</th>\n",
       "      <th>lastmodified</th>\n",
       "    </tr>\n",
       "  </thead>\n",
       "  <tbody>\n",
       "    <tr>\n",
       "      <th>0</th>\n",
       "      <td>793451</td>\n",
       "      <td>0</td>\n",
       "      <td>1</td>\n",
       "      <td>0</td>\n",
       "      <td>793449</td>\n",
       "      <td>1</td>\n",
       "      <td>18356743</td>\n",
       "      <td>own Charles Dawes name well aftermath</td>\n",
       "      <td>different James Monroe feel just carpenter</td>\n",
       "      <td>2014-10-23 16:25:55</td>\n",
       "      <td>2014-10-23 16:25:55</td>\n",
       "    </tr>\n",
       "    <tr>\n",
       "      <th>16</th>\n",
       "      <td>793693</td>\n",
       "      <td>3</td>\n",
       "      <td>2</td>\n",
       "      <td>0</td>\n",
       "      <td>793681</td>\n",
       "      <td>1</td>\n",
       "      <td>18382315</td>\n",
       "      <td>good John C. Calhoun drop how vein</td>\n",
       "      <td>few Ulysses S. Grant allow here picture</td>\n",
       "      <td>2014-10-25 00:11:54</td>\n",
       "      <td>2014-10-25 00:11:54</td>\n",
       "    </tr>\n",
       "    <tr>\n",
       "      <th>23</th>\n",
       "      <td>793723</td>\n",
       "      <td>3</td>\n",
       "      <td>2</td>\n",
       "      <td>0</td>\n",
       "      <td>793715</td>\n",
       "      <td>1</td>\n",
       "      <td>18800613</td>\n",
       "      <td>big Dick Cheney end when company</td>\n",
       "      <td>new Grover Cleveland be here beginner</td>\n",
       "      <td>2014-10-25 00:41:49</td>\n",
       "      <td>2014-10-25 00:41:49</td>\n",
       "    </tr>\n",
       "    <tr>\n",
       "      <th>25</th>\n",
       "      <td>793883</td>\n",
       "      <td>0</td>\n",
       "      <td>1</td>\n",
       "      <td>0</td>\n",
       "      <td>793881</td>\n",
       "      <td>1</td>\n",
       "      <td>18316213</td>\n",
       "      <td>own Grover Cleveland tell still wren</td>\n",
       "      <td>good Jimmy Carter hug well mountain</td>\n",
       "      <td>2014-10-27 17:55:04</td>\n",
       "      <td>2014-10-27 17:55:04</td>\n",
       "    </tr>\n",
       "    <tr>\n",
       "      <th>26</th>\n",
       "      <td>793885</td>\n",
       "      <td>0</td>\n",
       "      <td>2</td>\n",
       "      <td>0</td>\n",
       "      <td>793881</td>\n",
       "      <td>1</td>\n",
       "      <td>18495173</td>\n",
       "      <td>bad Charles Dawes zip there veil</td>\n",
       "      <td>new George Clinton itch here stranger</td>\n",
       "      <td>2014-10-27 17:55:22</td>\n",
       "      <td>2014-10-27 17:55:22</td>\n",
       "    </tr>\n",
       "    <tr>\n",
       "      <th>...</th>\n",
       "      <td>...</td>\n",
       "      <td>...</td>\n",
       "      <td>...</td>\n",
       "      <td>...</td>\n",
       "      <td>...</td>\n",
       "      <td>...</td>\n",
       "      <td>...</td>\n",
       "      <td>...</td>\n",
       "      <td>...</td>\n",
       "      <td>...</td>\n",
       "      <td>...</td>\n",
       "    </tr>\n",
       "    <tr>\n",
       "      <th>18479543</th>\n",
       "      <td>132777687</td>\n",
       "      <td>0</td>\n",
       "      <td>1</td>\n",
       "      <td>0</td>\n",
       "      <td>132777683</td>\n",
       "      <td>1</td>\n",
       "      <td>18165899</td>\n",
       "      <td>NaN</td>\n",
       "      <td>NaN</td>\n",
       "      <td>2019-12-16 21:46:24</td>\n",
       "      <td>2020-07-02 20:22:39</td>\n",
       "    </tr>\n",
       "    <tr>\n",
       "      <th>18479544</th>\n",
       "      <td>132794705</td>\n",
       "      <td>0</td>\n",
       "      <td>1</td>\n",
       "      <td>0</td>\n",
       "      <td>132794701</td>\n",
       "      <td>1</td>\n",
       "      <td>18165899</td>\n",
       "      <td>NaN</td>\n",
       "      <td>NaN</td>\n",
       "      <td>2019-12-16 21:46:24</td>\n",
       "      <td>2020-07-06 17:42:37</td>\n",
       "    </tr>\n",
       "    <tr>\n",
       "      <th>18479545</th>\n",
       "      <td>132806723</td>\n",
       "      <td>0</td>\n",
       "      <td>1</td>\n",
       "      <td>0</td>\n",
       "      <td>132806719</td>\n",
       "      <td>1</td>\n",
       "      <td>18165899</td>\n",
       "      <td>NaN</td>\n",
       "      <td>NaN</td>\n",
       "      <td>2019-12-16 21:46:24</td>\n",
       "      <td>2020-07-09 13:12:38</td>\n",
       "    </tr>\n",
       "    <tr>\n",
       "      <th>18479546</th>\n",
       "      <td>132806731</td>\n",
       "      <td>0</td>\n",
       "      <td>1</td>\n",
       "      <td>0</td>\n",
       "      <td>132806727</td>\n",
       "      <td>1</td>\n",
       "      <td>18165899</td>\n",
       "      <td>NaN</td>\n",
       "      <td>NaN</td>\n",
       "      <td>2019-12-16 21:46:24</td>\n",
       "      <td>2020-07-09 13:16:52</td>\n",
       "    </tr>\n",
       "    <tr>\n",
       "      <th>18479547</th>\n",
       "      <td>132806739</td>\n",
       "      <td>0</td>\n",
       "      <td>1</td>\n",
       "      <td>0</td>\n",
       "      <td>132806735</td>\n",
       "      <td>1</td>\n",
       "      <td>18165899</td>\n",
       "      <td>NaN</td>\n",
       "      <td>NaN</td>\n",
       "      <td>2019-12-16 21:46:24</td>\n",
       "      <td>2020-07-09 13:20:09</td>\n",
       "    </tr>\n",
       "  </tbody>\n",
       "</table>\n",
       "<p>18097261 rows × 11 columns</p>\n",
       "</div>"
      ],
      "text/plain": [
       "                 id  user_id  action_id  tool_id  bundle_id  refers_to_id  \\\n",
       "0            793451        0          1        0     793449             1   \n",
       "16           793693        3          2        0     793681             1   \n",
       "23           793723        3          2        0     793715             1   \n",
       "25           793883        0          1        0     793881             1   \n",
       "26           793885        0          2        0     793881             1   \n",
       "...             ...      ...        ...      ...        ...           ...   \n",
       "18479543  132777687        0          1        0  132777683             1   \n",
       "18479544  132794705        0          1        0  132794701             1   \n",
       "18479545  132806723        0          1        0  132806719             1   \n",
       "18479546  132806731        0          1        0  132806727             1   \n",
       "18479547  132806739        0          1        0  132806735             1   \n",
       "\n",
       "          refers_to_uid                                  title  \\\n",
       "0              18356743  own Charles Dawes name well aftermath   \n",
       "16             18382315     good John C. Calhoun drop how vein   \n",
       "23             18800613       big Dick Cheney end when company   \n",
       "25             18316213   own Grover Cleveland tell still wren   \n",
       "26             18495173       bad Charles Dawes zip there veil   \n",
       "...                 ...                                    ...   \n",
       "18479543       18165899                                    NaN   \n",
       "18479544       18165899                                    NaN   \n",
       "18479545       18165899                                    NaN   \n",
       "18479546       18165899                                    NaN   \n",
       "18479547       18165899                                    NaN   \n",
       "\n",
       "                                         description             created  \\\n",
       "0         different James Monroe feel just carpenter 2014-10-23 16:25:55   \n",
       "16           few Ulysses S. Grant allow here picture 2014-10-25 00:11:54   \n",
       "23             new Grover Cleveland be here beginner 2014-10-25 00:41:49   \n",
       "25               good Jimmy Carter hug well mountain 2014-10-27 17:55:04   \n",
       "26             new George Clinton itch here stranger 2014-10-27 17:55:22   \n",
       "...                                              ...                 ...   \n",
       "18479543                                         NaN 2019-12-16 21:46:24   \n",
       "18479544                                         NaN 2019-12-16 21:46:24   \n",
       "18479545                                         NaN 2019-12-16 21:46:24   \n",
       "18479546                                         NaN 2019-12-16 21:46:24   \n",
       "18479547                                         NaN 2019-12-16 21:46:24   \n",
       "\n",
       "                lastmodified  \n",
       "0        2014-10-23 16:25:55  \n",
       "16       2014-10-25 00:11:54  \n",
       "23       2014-10-25 00:41:49  \n",
       "25       2014-10-27 17:55:04  \n",
       "26       2014-10-27 17:55:22  \n",
       "...                      ...  \n",
       "18479543 2020-07-02 20:22:39  \n",
       "18479544 2020-07-06 17:42:37  \n",
       "18479545 2020-07-09 13:12:38  \n",
       "18479546 2020-07-09 13:16:52  \n",
       "18479547 2020-07-09 13:20:09  \n",
       "\n",
       "[18097261 rows x 11 columns]"
      ]
     },
     "execution_count": 74,
     "metadata": {},
     "output_type": "execute_result"
    }
   ],
   "source": [
    "visitsItems[visitsItems['tool_id'] == 0]"
   ]
  },
  {
   "cell_type": "code",
   "execution_count": 49,
   "metadata": {
    "scrolled": true
   },
   "outputs": [
    {
     "data": {
      "text/plain": [
       "<BarContainer object of 17 artists>"
      ]
     },
     "execution_count": 49,
     "metadata": {},
     "output_type": "execute_result"
    },
    {
     "data": {
      "image/png": "[encoded data removed]",
      "text/plain": [
       "<Figure size 432x288 with 1 Axes>"
      ]
     },
     "metadata": {
      "needs_background": "light"
     },
     "output_type": "display_data"
    }
   ],
   "source": [
    "plt.bar(visit_tools['tool_id'], visit_tools['value'])"
   ]
  },
  {
   "cell_type": "code",
   "execution_count": 83,
   "metadata": {},
   "outputs": [
    {
     "data": {
      "text/html": [
       "<div>\n",
       "<style scoped>\n",
       "    .dataframe tbody tr th:only-of-type {\n",
       "        vertical-align: middle;\n",
       "    }\n",
       "\n",
       "    .dataframe tbody tr th {\n",
       "        vertical-align: top;\n",
       "    }\n",
       "\n",
       "    .dataframe thead th {\n",
       "        text-align: right;\n",
       "    }\n",
       "</style>\n",
       "<table border=\"1\" class=\"dataframe\">\n",
       "  <thead>\n",
       "    <tr style=\"text-align: right;\">\n",
       "      <th></th>\n",
       "      <th>tool_id</th>\n",
       "      <th>value</th>\n",
       "      <th>Perc</th>\n",
       "    </tr>\n",
       "  </thead>\n",
       "  <tbody>\n",
       "    <tr>\n",
       "      <th>0</th>\n",
       "      <td>0</td>\n",
       "      <td>18097261</td>\n",
       "      <td>97.931244</td>\n",
       "    </tr>\n",
       "    <tr>\n",
       "      <th>1</th>\n",
       "      <td>3</td>\n",
       "      <td>87588</td>\n",
       "      <td>0.473972</td>\n",
       "    </tr>\n",
       "    <tr>\n",
       "      <th>2</th>\n",
       "      <td>10</td>\n",
       "      <td>50871</td>\n",
       "      <td>0.275283</td>\n",
       "    </tr>\n",
       "    <tr>\n",
       "      <th>3</th>\n",
       "      <td>14</td>\n",
       "      <td>50392</td>\n",
       "      <td>0.272691</td>\n",
       "    </tr>\n",
       "    <tr>\n",
       "      <th>4</th>\n",
       "      <td>12</td>\n",
       "      <td>46477</td>\n",
       "      <td>0.251505</td>\n",
       "    </tr>\n",
       "    <tr>\n",
       "      <th>5</th>\n",
       "      <td>11</td>\n",
       "      <td>41273</td>\n",
       "      <td>0.223344</td>\n",
       "    </tr>\n",
       "    <tr>\n",
       "      <th>6</th>\n",
       "      <td>13</td>\n",
       "      <td>41037</td>\n",
       "      <td>0.222067</td>\n",
       "    </tr>\n",
       "    <tr>\n",
       "      <th>7</th>\n",
       "      <td>16</td>\n",
       "      <td>30331</td>\n",
       "      <td>0.164133</td>\n",
       "    </tr>\n",
       "    <tr>\n",
       "      <th>8</th>\n",
       "      <td>15</td>\n",
       "      <td>26279</td>\n",
       "      <td>0.142206</td>\n",
       "    </tr>\n",
       "    <tr>\n",
       "      <th>9</th>\n",
       "      <td>1</td>\n",
       "      <td>5430</td>\n",
       "      <td>0.029384</td>\n",
       "    </tr>\n",
       "    <tr>\n",
       "      <th>10</th>\n",
       "      <td>6</td>\n",
       "      <td>2047</td>\n",
       "      <td>0.011077</td>\n",
       "    </tr>\n",
       "    <tr>\n",
       "      <th>11</th>\n",
       "      <td>17</td>\n",
       "      <td>536</td>\n",
       "      <td>0.002901</td>\n",
       "    </tr>\n",
       "    <tr>\n",
       "      <th>12</th>\n",
       "      <td>7</td>\n",
       "      <td>15</td>\n",
       "      <td>0.000081</td>\n",
       "    </tr>\n",
       "    <tr>\n",
       "      <th>13</th>\n",
       "      <td>9</td>\n",
       "      <td>12</td>\n",
       "      <td>0.000065</td>\n",
       "    </tr>\n",
       "    <tr>\n",
       "      <th>14</th>\n",
       "      <td>8</td>\n",
       "      <td>5</td>\n",
       "      <td>0.000027</td>\n",
       "    </tr>\n",
       "    <tr>\n",
       "      <th>15</th>\n",
       "      <td>5</td>\n",
       "      <td>2</td>\n",
       "      <td>0.000011</td>\n",
       "    </tr>\n",
       "    <tr>\n",
       "      <th>16</th>\n",
       "      <td>4</td>\n",
       "      <td>2</td>\n",
       "      <td>0.000011</td>\n",
       "    </tr>\n",
       "  </tbody>\n",
       "</table>\n",
       "</div>"
      ],
      "text/plain": [
       "    tool_id     value       Perc\n",
       "0         0  18097261  97.931244\n",
       "1         3     87588   0.473972\n",
       "2        10     50871   0.275283\n",
       "3        14     50392   0.272691\n",
       "4        12     46477   0.251505\n",
       "5        11     41273   0.223344\n",
       "6        13     41037   0.222067\n",
       "7        16     30331   0.164133\n",
       "8        15     26279   0.142206\n",
       "9         1      5430   0.029384\n",
       "10        6      2047   0.011077\n",
       "11       17       536   0.002901\n",
       "12        7        15   0.000081\n",
       "13        9        12   0.000065\n",
       "14        8         5   0.000027\n",
       "15        5         2   0.000011\n",
       "16        4         2   0.000011"
      ]
     },
     "execution_count": 83,
     "metadata": {},
     "output_type": "execute_result"
    }
   ],
   "source": [
    "visit_tools['Perc'] = (visit_tools['value'] / 18479558) *100\n",
    "visit_tools"
   ]
  },
  {
   "cell_type": "code",
   "execution_count": 107,
   "metadata": {},
   "outputs": [
    {
     "data": {
      "text/plain": [
       "<Figure size 576x360 with 0 Axes>"
      ]
     },
     "metadata": {},
     "output_type": "display_data"
    },
    {
     "data": {
      "image/png": "[encoded data removed]",
      "text/plain": [
       "<Figure size 360x360 with 1 Axes>"
      ]
     },
     "metadata": {},
     "output_type": "display_data"
    }
   ],
   "source": [
    "plt.figure(figsize=(8,5))\n",
    "visit_tools.plot.pie(y='value', figsize=(5, 5),autopct='%1.1f%%', startangle=90)\n",
    "plt.title('Tools Percentage With Collect', fontdict={'fontweight': 'bold', 'fontsize':18})\n",
    "plt.ylabel('Values count')\n",
    "plt.legend()\n",
    "plt.show()\n",
    "# plt.savefig('tools_per.png', dpi=300)"
   ]
  },
  {
   "cell_type": "code",
   "execution_count": 97,
   "metadata": {},
   "outputs": [],
   "source": [
    "visit_tools_no_zero = visit_tools[visit_tools['tool_id']!= 0]\n",
    "visit_tools_no_zero = visit_tools_no_zero.drop('Perc', axis=1)"
   ]
  },
  {
   "cell_type": "code",
   "execution_count": 104,
   "metadata": {},
   "outputs": [
    {
     "name": "stderr",
     "output_type": "stream",
     "text": [
      "No handles with labels found to put in legend.\n"
     ]
    },
    {
     "data": {
      "image/png": "[encoded data removed]",
      "text/plain": [
       "<Figure size 576x360 with 1 Axes>"
      ]
     },
     "metadata": {
      "needs_background": "light"
     },
     "output_type": "display_data"
    }
   ],
   "source": [
    "plt.figure(figsize=(8,5))\n",
    "plt.bar(visit_tools_no_zero['tool_id'], visit_tools_no_zero['value'])\n",
    "plt.title('Tools Usage', fontdict={'fontweight': 'bold', 'fontsize':18})\n",
    "plt.ylabel('Values count')\n",
    "plt.xticks(visit_tools_no_zero.tool_id)\n",
    "plt.legend()\n",
    "plt.show()\n",
    "# plt.savefig('tools_id.png', dpi=300)"
   ]
  },
  {
   "cell_type": "markdown",
   "metadata": {},
   "source": [
    "# how many collected per year"
   ]
  },
  {
   "cell_type": "code",
   "execution_count": 31,
   "metadata": {},
   "outputs": [],
   "source": [
    "visitsItems = visitsItems[visitsItems['created'] > '2010']\n",
    "visitsItems_by_year = visitsItems['created'].groupby(visitsItems.created.dt.to_period(\"Y\")).agg('count')"
   ]
  },
  {
   "cell_type": "code",
   "execution_count": 32,
   "metadata": {},
   "outputs": [
    {
     "data": {
      "text/plain": [
       "<matplotlib.axes._subplots.AxesSubplot at 0x7fa6edecc190>"
      ]
     },
     "execution_count": 32,
     "metadata": {},
     "output_type": "execute_result"
    },
    {
     "data": {
      "image/png": "[encoded data removed]",
      "text/plain": [
       "<Figure size 432x288 with 1 Axes>"
      ]
     },
     "metadata": {
      "needs_background": "light"
     },
     "output_type": "display_data"
    }
   ],
   "source": [
    "visitsItems_by_year.plot()"
   ]
  },
  {
   "cell_type": "code",
   "execution_count": 33,
   "metadata": {},
   "outputs": [
    {
     "name": "stderr",
     "output_type": "stream",
     "text": [
      "/Users/shirin/opt/anaconda3/lib/python3.7/site-packages/ipykernel_launcher.py:2: SettingWithCopyWarning: \n",
      "A value is trying to be set on a copy of a slice from a DataFrame.\n",
      "Try using .loc[row_indexer,col_indexer] = value instead\n",
      "\n",
      "See the caveats in the documentation: https://pandas.pydata.org/pandas-docs/stable/user_guide/indexing.html#returning-a-view-versus-a-copy\n",
      "  \n"
     ]
    }
   ],
   "source": [
    "visitItems_by_date = visitsItems[['action_id', 'created']]\n",
    "visitItems_by_date['created']= visitItems_by_date['created'].dt.to_period(\"Y\")\n",
    "visitItems_by_date = visitItems_by_date.groupby(['action_id', 'created']).size()"
   ]
  },
  {
   "cell_type": "code",
   "execution_count": 34,
   "metadata": {},
   "outputs": [],
   "source": [
    "visitItems_by_date= visitItems_by_date.to_frame()"
   ]
  },
  {
   "cell_type": "code",
   "execution_count": 35,
   "metadata": {},
   "outputs": [],
   "source": [
    "visitItems_by_date = visitItems_by_date.rename({'0': 'count_of_action'}, axis=1)"
   ]
  },
  {
   "cell_type": "code",
   "execution_count": 36,
   "metadata": {},
   "outputs": [
    {
     "data": {
      "text/html": [
       "<div>\n",
       "<style scoped>\n",
       "    .dataframe tbody tr th:only-of-type {\n",
       "        vertical-align: middle;\n",
       "    }\n",
       "\n",
       "    .dataframe tbody tr th {\n",
       "        vertical-align: top;\n",
       "    }\n",
       "\n",
       "    .dataframe thead th {\n",
       "        text-align: right;\n",
       "    }\n",
       "</style>\n",
       "<table border=\"1\" class=\"dataframe\">\n",
       "  <thead>\n",
       "    <tr style=\"text-align: right;\">\n",
       "      <th></th>\n",
       "      <th></th>\n",
       "      <th>0</th>\n",
       "    </tr>\n",
       "    <tr>\n",
       "      <th>action_id</th>\n",
       "      <th>created</th>\n",
       "      <th></th>\n",
       "    </tr>\n",
       "  </thead>\n",
       "  <tbody>\n",
       "    <tr>\n",
       "      <th rowspan=\"7\" valign=\"top\">1</th>\n",
       "      <th>2014</th>\n",
       "      <td>1144</td>\n",
       "    </tr>\n",
       "    <tr>\n",
       "      <th>2015</th>\n",
       "      <td>3001333</td>\n",
       "    </tr>\n",
       "    <tr>\n",
       "      <th>2016</th>\n",
       "      <td>8159269</td>\n",
       "    </tr>\n",
       "    <tr>\n",
       "      <th>2017</th>\n",
       "      <td>3598896</td>\n",
       "    </tr>\n",
       "    <tr>\n",
       "      <th>2018</th>\n",
       "      <td>1688401</td>\n",
       "    </tr>\n",
       "    <tr>\n",
       "      <th>2019</th>\n",
       "      <td>1400008</td>\n",
       "    </tr>\n",
       "    <tr>\n",
       "      <th>2020</th>\n",
       "      <td>247906</td>\n",
       "    </tr>\n",
       "    <tr>\n",
       "      <th rowspan=\"7\" valign=\"top\">2</th>\n",
       "      <th>2014</th>\n",
       "      <td>72</td>\n",
       "    </tr>\n",
       "    <tr>\n",
       "      <th>2015</th>\n",
       "      <td>100824</td>\n",
       "    </tr>\n",
       "    <tr>\n",
       "      <th>2016</th>\n",
       "      <td>136607</td>\n",
       "    </tr>\n",
       "    <tr>\n",
       "      <th>2017</th>\n",
       "      <td>80388</td>\n",
       "    </tr>\n",
       "    <tr>\n",
       "      <th>2018</th>\n",
       "      <td>32884</td>\n",
       "    </tr>\n",
       "    <tr>\n",
       "      <th>2019</th>\n",
       "      <td>28273</td>\n",
       "    </tr>\n",
       "    <tr>\n",
       "      <th>2020</th>\n",
       "      <td>3550</td>\n",
       "    </tr>\n",
       "  </tbody>\n",
       "</table>\n",
       "</div>"
      ],
      "text/plain": [
       "                         0\n",
       "action_id created         \n",
       "1         2014        1144\n",
       "          2015     3001333\n",
       "          2016     8159269\n",
       "          2017     3598896\n",
       "          2018     1688401\n",
       "          2019     1400008\n",
       "          2020      247906\n",
       "2         2014          72\n",
       "          2015      100824\n",
       "          2016      136607\n",
       "          2017       80388\n",
       "          2018       32884\n",
       "          2019       28273\n",
       "          2020        3550"
      ]
     },
     "execution_count": 36,
     "metadata": {},
     "output_type": "execute_result"
    }
   ],
   "source": [
    "visitItems_by_date"
   ]
  },
  {
   "cell_type": "code",
   "execution_count": 101,
   "metadata": {},
   "outputs": [
    {
     "data": {
      "text/html": [
       "<div>\n",
       "<style scoped>\n",
       "    .dataframe tbody tr th:only-of-type {\n",
       "        vertical-align: middle;\n",
       "    }\n",
       "\n",
       "    .dataframe tbody tr th {\n",
       "        vertical-align: top;\n",
       "    }\n",
       "\n",
       "    .dataframe thead tr th {\n",
       "        text-align: left;\n",
       "    }\n",
       "\n",
       "    .dataframe thead tr:last-of-type th {\n",
       "        text-align: right;\n",
       "    }\n",
       "</style>\n",
       "<table border=\"1\" class=\"dataframe\">\n",
       "  <thead>\n",
       "    <tr>\n",
       "      <th></th>\n",
       "      <th colspan=\"2\" halign=\"left\">0</th>\n",
       "    </tr>\n",
       "    <tr>\n",
       "      <th>action_id</th>\n",
       "      <th>1</th>\n",
       "      <th>2</th>\n",
       "    </tr>\n",
       "    <tr>\n",
       "      <th>created</th>\n",
       "      <th></th>\n",
       "      <th></th>\n",
       "    </tr>\n",
       "  </thead>\n",
       "  <tbody>\n",
       "    <tr>\n",
       "      <th>2014</th>\n",
       "      <td>1144</td>\n",
       "      <td>72</td>\n",
       "    </tr>\n",
       "    <tr>\n",
       "      <th>2015</th>\n",
       "      <td>3001333</td>\n",
       "      <td>100824</td>\n",
       "    </tr>\n",
       "    <tr>\n",
       "      <th>2016</th>\n",
       "      <td>8159269</td>\n",
       "      <td>136607</td>\n",
       "    </tr>\n",
       "    <tr>\n",
       "      <th>2017</th>\n",
       "      <td>3598896</td>\n",
       "      <td>80388</td>\n",
       "    </tr>\n",
       "    <tr>\n",
       "      <th>2018</th>\n",
       "      <td>1688401</td>\n",
       "      <td>32884</td>\n",
       "    </tr>\n",
       "    <tr>\n",
       "      <th>2019</th>\n",
       "      <td>1400008</td>\n",
       "      <td>28273</td>\n",
       "    </tr>\n",
       "    <tr>\n",
       "      <th>2020</th>\n",
       "      <td>247906</td>\n",
       "      <td>3550</td>\n",
       "    </tr>\n",
       "  </tbody>\n",
       "</table>\n",
       "</div>"
      ],
      "text/plain": [
       "                 0        \n",
       "action_id        1       2\n",
       "created                   \n",
       "2014          1144      72\n",
       "2015       3001333  100824\n",
       "2016       8159269  136607\n",
       "2017       3598896   80388\n",
       "2018       1688401   32884\n",
       "2019       1400008   28273\n",
       "2020        247906    3550"
      ]
     },
     "execution_count": 101,
     "metadata": {},
     "output_type": "execute_result"
    }
   ],
   "source": [
    "visitItems_by_date.unstack(level=0)\n",
    "#this is important \n",
    "#1- collected \n",
    "#2- created"
   ]
  },
  {
   "cell_type": "code",
   "execution_count": 116,
   "metadata": {},
   "outputs": [
    {
     "data": {
      "text/html": [
       "<div>\n",
       "<style scoped>\n",
       "    .dataframe tbody tr th:only-of-type {\n",
       "        vertical-align: middle;\n",
       "    }\n",
       "\n",
       "    .dataframe tbody tr th {\n",
       "        vertical-align: top;\n",
       "    }\n",
       "\n",
       "    .dataframe thead tr th {\n",
       "        text-align: left;\n",
       "    }\n",
       "\n",
       "    .dataframe thead tr:last-of-type th {\n",
       "        text-align: right;\n",
       "    }\n",
       "</style>\n",
       "<table border=\"1\" class=\"dataframe\">\n",
       "  <thead>\n",
       "    <tr>\n",
       "      <th></th>\n",
       "      <th colspan=\"2\" halign=\"left\">0</th>\n",
       "      <th>1%</th>\n",
       "      <th>2%</th>\n",
       "    </tr>\n",
       "    <tr>\n",
       "      <th>action_id</th>\n",
       "      <th>1</th>\n",
       "      <th>2</th>\n",
       "      <th></th>\n",
       "      <th></th>\n",
       "    </tr>\n",
       "    <tr>\n",
       "      <th>created</th>\n",
       "      <th></th>\n",
       "      <th></th>\n",
       "      <th></th>\n",
       "      <th></th>\n",
       "    </tr>\n",
       "  </thead>\n",
       "  <tbody>\n",
       "    <tr>\n",
       "      <th>2014</th>\n",
       "      <td>1144</td>\n",
       "      <td>72</td>\n",
       "      <td>94.078947</td>\n",
       "      <td>5.921053</td>\n",
       "    </tr>\n",
       "    <tr>\n",
       "      <th>2015</th>\n",
       "      <td>3001333</td>\n",
       "      <td>100824</td>\n",
       "      <td>96.749874</td>\n",
       "      <td>3.250126</td>\n",
       "    </tr>\n",
       "    <tr>\n",
       "      <th>2016</th>\n",
       "      <td>8159269</td>\n",
       "      <td>136607</td>\n",
       "      <td>98.353314</td>\n",
       "      <td>1.646686</td>\n",
       "    </tr>\n",
       "    <tr>\n",
       "      <th>2017</th>\n",
       "      <td>3598896</td>\n",
       "      <td>80388</td>\n",
       "      <td>97.815118</td>\n",
       "      <td>2.184882</td>\n",
       "    </tr>\n",
       "    <tr>\n",
       "      <th>2018</th>\n",
       "      <td>1688401</td>\n",
       "      <td>32884</td>\n",
       "      <td>98.089567</td>\n",
       "      <td>1.910433</td>\n",
       "    </tr>\n",
       "    <tr>\n",
       "      <th>2019</th>\n",
       "      <td>1400008</td>\n",
       "      <td>28273</td>\n",
       "      <td>98.020488</td>\n",
       "      <td>1.979512</td>\n",
       "    </tr>\n",
       "    <tr>\n",
       "      <th>2020</th>\n",
       "      <td>247906</td>\n",
       "      <td>3550</td>\n",
       "      <td>98.588222</td>\n",
       "      <td>1.411778</td>\n",
       "    </tr>\n",
       "  </tbody>\n",
       "</table>\n",
       "</div>"
      ],
      "text/plain": [
       "                 0                 1%        2%\n",
       "action_id        1       2                     \n",
       "created                                        \n",
       "2014          1144      72  94.078947  5.921053\n",
       "2015       3001333  100824  96.749874  3.250126\n",
       "2016       8159269  136607  98.353314  1.646686\n",
       "2017       3598896   80388  97.815118  2.184882\n",
       "2018       1688401   32884  98.089567  1.910433\n",
       "2019       1400008   28273  98.020488  1.979512\n",
       "2020        247906    3550  98.588222  1.411778"
      ]
     },
     "execution_count": 116,
     "metadata": {},
     "output_type": "execute_result"
    }
   ],
   "source": [
    "in_percentage = visitItems_by_date.unstack(level=0)\n",
    "in_percentage.columns\n",
    "in_percentage['1%'] = in_percentage[(0,1)] / (in_percentage[(0,1)] + in_percentage[(0,2)]) *100\n",
    "in_percentage['2%'] = in_percentage[(0,2)] / (in_percentage[(0,1)] + in_percentage[(0,2)]) *100\n",
    "\n",
    "in_percentage"
   ]
  },
  {
   "cell_type": "code",
   "execution_count": 108,
   "metadata": {},
   "outputs": [
    {
     "data": {
      "text/plain": [
       "<Figure size 576x360 with 0 Axes>"
      ]
     },
     "metadata": {},
     "output_type": "display_data"
    },
    {
     "data": {
      "image/png": "[encoded data removed]",
      "text/plain": [
       "<Figure size 432x288 with 1 Axes>"
      ]
     },
     "metadata": {
      "needs_background": "light"
     },
     "output_type": "display_data"
    }
   ],
   "source": [
    "plt.figure(figsize=(8,5))\n",
    "visitItems_by_date.unstack(level=0).plot(kind='bar')\n",
    "plt.title('collected Vs. Created per year', fontdict={'fontweight': 'bold', 'fontsize':18})\n",
    "plt.ylabel('Values count')\n",
    "plt.legend()\n",
    "plt.show()\n",
    "# plt.savefig('tools_id.png', dpi=300)"
   ]
  },
  {
   "cell_type": "code",
   "execution_count": 121,
   "metadata": {},
   "outputs": [
    {
     "data": {
      "text/plain": [
       "<matplotlib.axes._subplots.AxesSubplot at 0x7f9f22d879d0>"
      ]
     },
     "execution_count": 121,
     "metadata": {},
     "output_type": "execute_result"
    },
    {
     "data": {
      "image/png": "[encoded data removed]",
      "text/plain": [
       "<Figure size 432x288 with 1 Axes>"
      ]
     },
     "metadata": {
      "needs_background": "light"
     },
     "output_type": "display_data"
    }
   ],
   "source": [
    "in_percentage['1%'].plot()\n",
    "in_percentage['2%'].plot()\n"
   ]
  },
  {
   "cell_type": "code",
   "execution_count": 94,
   "metadata": {},
   "outputs": [
    {
     "data": {
      "text/plain": [
       "<matplotlib.axes._subplots.AxesSubplot at 0x7f9f276eab50>"
      ]
     },
     "execution_count": 94,
     "metadata": {},
     "output_type": "execute_result"
    },
    {
     "data": {
      "image/png": "[encoded data removed]",
      "text/plain": [
       "<Figure size 432x288 with 2 Axes>"
      ]
     },
     "metadata": {
      "needs_background": "light"
     },
     "output_type": "display_data"
    }
   ],
   "source": [
    "f, a = plt.subplots(2,1)\n",
    "visitItems_by_date.xs(1).plot(kind='bar',ax=a[0])\n",
    "visitItems_by_date.xs(2).plot(kind='bar',ax=a[1])"
   ]
  },
  {
   "cell_type": "code",
   "execution_count": 76,
   "metadata": {},
   "outputs": [
    {
     "data": {
      "text/plain": [
       "<matplotlib.axes._subplots.AxesSubplot at 0x7f9f1b2ce510>"
      ]
     },
     "execution_count": 76,
     "metadata": {},
     "output_type": "execute_result"
    },
    {
     "data": {
      "image/png": "[encoded data removed]",
      "text/plain": [
       "<Figure size 360x360 with 1 Axes>"
      ]
     },
     "metadata": {},
     "output_type": "display_data"
    }
   ],
   "source": [
    "visitItems_by_date[0].plot.pie(y=0, figsize=(5, 5),autopct='%1.1f%%', startangle=90)"
   ]
  },
  {
   "cell_type": "code",
   "execution_count": 105,
   "metadata": {},
   "outputs": [
    {
     "data": {
      "text/plain": [
       "<matplotlib.axes._subplots.AxesSubplot at 0x7f9f226c6690>"
      ]
     },
     "execution_count": 105,
     "metadata": {},
     "output_type": "execute_result"
    },
    {
     "data": {
      "image/png": "[encoded data removed]",
      "text/plain": [
       "<Figure size 360x360 with 1 Axes>"
      ]
     },
     "metadata": {},
     "output_type": "display_data"
    }
   ],
   "source": [
    "visitItems_by_date.unstack(level=0).plot.pie(y=0, figsize=(5, 5),autopct='%1.1f%%', startangle=90, cmap='Blues_r')\n",
    "#together"
   ]
  },
  {
   "cell_type": "markdown",
   "metadata": {},
   "source": [
    "## summerizing findings "
   ]
  },
  {
   "cell_type": "code",
   "execution_count": 76,
   "metadata": {},
   "outputs": [
    {
     "data": {
      "text/html": [
       "<div>\n",
       "<style scoped>\n",
       "    .dataframe tbody tr th:only-of-type {\n",
       "        vertical-align: middle;\n",
       "    }\n",
       "\n",
       "    .dataframe tbody tr th {\n",
       "        vertical-align: top;\n",
       "    }\n",
       "\n",
       "    .dataframe thead th {\n",
       "        text-align: right;\n",
       "    }\n",
       "</style>\n",
       "<table border=\"1\" class=\"dataframe\">\n",
       "  <thead>\n",
       "    <tr style=\"text-align: right;\">\n",
       "      <th></th>\n",
       "      <th>total_items_created_and_collected</th>\n",
       "      <th>how_many_collected</th>\n",
       "      <th>how_many_created</th>\n",
       "      <th>average item per user</th>\n",
       "      <th>what_tools_were used_the_most_to_create</th>\n",
       "    </tr>\n",
       "  </thead>\n",
       "  <tbody>\n",
       "    <tr>\n",
       "      <th>0</th>\n",
       "      <td>18,479,555</td>\n",
       "      <td>97.9%</td>\n",
       "      <td>2.1%</td>\n",
       "      <td>74.0</td>\n",
       "      <td>immersive room with 87,588</td>\n",
       "    </tr>\n",
       "    <tr>\n",
       "      <th>1</th>\n",
       "      <td>NaN</td>\n",
       "      <td>NaN</td>\n",
       "      <td>NaN</td>\n",
       "      <td>NaN</td>\n",
       "      <td>building with 50,871</td>\n",
       "    </tr>\n",
       "    <tr>\n",
       "      <th>2</th>\n",
       "      <td>NaN</td>\n",
       "      <td>NaN</td>\n",
       "      <td>NaN</td>\n",
       "      <td>NaN</td>\n",
       "      <td>chair with 50,392</td>\n",
       "    </tr>\n",
       "  </tbody>\n",
       "</table>\n",
       "</div>"
      ],
      "text/plain": [
       "  total_items_created_and_collected how_many_collected how_many_created  \\\n",
       "0                        18,479,555              97.9%             2.1%   \n",
       "1                               NaN                NaN              NaN   \n",
       "2                               NaN                NaN              NaN   \n",
       "\n",
       "   average item per user what_tools_were used_the_most_to_create  \n",
       "0                   74.0              immersive room with 87,588  \n",
       "1                    NaN                    building with 50,871  \n",
       "2                    NaN                       chair with 50,392  "
      ]
     },
     "execution_count": 76,
     "metadata": {},
     "output_type": "execute_result"
    }
   ],
   "source": [
    "findings= [{'total_items_created_and_collected': '18,479,555','how_many_collected': '97.9%', 'how_many_created': '2.1%', 'average item per user': 74,'what_tools_were used_the_most_to_create': 'immersive room with 87,588'},\n",
    "          {'what_tools_were used_the_most_to_create':'building with 50,871'}, \n",
    "          {'what_tools_were used_the_most_to_create':'chair with 50,392'}]\n",
    "\n",
    "visitsItems_findings = pd.DataFrame(findings)\n",
    "visitsItems_findings"
   ]
  },
  {
   "cell_type": "code",
   "execution_count": 77,
   "metadata": {},
   "outputs": [
    {
     "ename": "NameError",
     "evalue": "name 'in_percentage' is not defined",
     "output_type": "error",
     "traceback": [
      "\u001b[0;31m---------------------------------------------------------------------------\u001b[0m",
      "\u001b[0;31mNameError\u001b[0m                                 Traceback (most recent call last)",
      "\u001b[0;32m<ipython-input-77-3db0c2b94b66>\u001b[0m in \u001b[0;36m<module>\u001b[0;34m\u001b[0m\n\u001b[0;32m----> 1\u001b[0;31m \u001b[0min_percentage\u001b[0m\u001b[0;34m\u001b[0m\u001b[0;34m\u001b[0m\u001b[0m\n\u001b[0m",
      "\u001b[0;31mNameError\u001b[0m: name 'in_percentage' is not defined"
     ]
    }
   ],
   "source": [
    "in_percentage"
   ]
  },
  {
   "cell_type": "code",
   "execution_count": null,
   "metadata": {},
   "outputs": [],
   "source": []
  }
 ],
 "metadata": {
  "kernelspec": {
   "display_name": "Python 3",
   "language": "python",
   "name": "python3"
  },
  "language_info": {
   "codemirror_mode": {
    "name": "ipython",
    "version": 3
   },
   "file_extension": ".py",
   "mimetype": "text/x-python",
   "name": "python",
   "nbconvert_exporter": "python",
   "pygments_lexer": "ipython3",
   "version": "3.7.6"
  }
 },
 "nbformat": 4,
 "nbformat_minor": 4
}
