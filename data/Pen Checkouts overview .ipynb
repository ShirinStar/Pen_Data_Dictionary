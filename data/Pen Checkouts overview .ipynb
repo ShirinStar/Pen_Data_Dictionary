{
 "cells": [
  {
   "cell_type": "code",
   "execution_count": 1,
   "metadata": {},
   "outputs": [],
   "source": [
    "import mysql.connector as sql\n",
    "import pandas as pd\n",
    "import datetime as dt\n",
    "import numpy as np\n",
    "from sorted_months_weekdays import *\n",
    "from sort_dataframeby_monthorweek import *\n",
    "import matplotlib.pyplot as plt\n",
    "import math"
   ]
  },
  {
   "cell_type": "code",
   "execution_count": 2,
   "metadata": {},
   "outputs": [],
   "source": [
    "db_connection = sql.connect(host='localhost', database='collection_visits', user='pandas', password='password')\n",
    "\n",
    "pensCheckouts = pd.read_sql('SELECT * FROM PensCheckouts', con=db_connection)\n",
    "pensCheckouts['start'] = pd.to_datetime(pensCheckouts['start'], unit='s')\n",
    "pensCheckouts['start'].replace(0, np.nan, inplace=True)\n",
    "pensCheckouts['end'].replace(0, np.nan, inplace=True)\n",
    "pensCheckouts['end'] = pd.to_datetime(pensCheckouts['end'], unit='s')\n",
    "pensCheckouts['start_ip'].replace(0, np.nan, inplace=True)\n",
    "pensCheckouts['end_ip'].replace(0, np.nan, inplace=True)\n",
    "pensCheckouts['start_ip'] = pensCheckouts['start_ip'].astype('category')\n",
    "pensCheckouts['end_ip'] = pensCheckouts['end_ip'].astype('category')\n",
    "\n",
    "pensCheckouts.set_index('id', inplace=True)\n",
    "pensCheckouts.sort_index(inplace=True)\n",
    "###DROPED COLUMNS####\n",
    "pensCheckouts.drop(['start_ip', 'end_ip'], axis=1, inplace=True)"
   ]
  },
  {
   "cell_type": "code",
   "execution_count": 3,
   "metadata": {},
   "outputs": [],
   "source": [
    "pd.set_option('display.max_rows', 200)\n",
    "pd.set_option('display.max_columns', 50)"
   ]
  },
  {
   "cell_type": "code",
   "execution_count": 4,
   "metadata": {},
   "outputs": [
    {
     "data": {
      "text/html": [
       "<div>\n",
       "<style scoped>\n",
       "    .dataframe tbody tr th:only-of-type {\n",
       "        vertical-align: middle;\n",
       "    }\n",
       "\n",
       "    .dataframe tbody tr th {\n",
       "        vertical-align: top;\n",
       "    }\n",
       "\n",
       "    .dataframe thead th {\n",
       "        text-align: right;\n",
       "    }\n",
       "</style>\n",
       "<table border=\"1\" class=\"dataframe\">\n",
       "  <thead>\n",
       "    <tr style=\"text-align: right;\">\n",
       "      <th></th>\n",
       "      <th>pen_id</th>\n",
       "      <th>visit_id</th>\n",
       "      <th>start</th>\n",
       "      <th>end</th>\n",
       "    </tr>\n",
       "    <tr>\n",
       "      <th>id</th>\n",
       "      <th></th>\n",
       "      <th></th>\n",
       "      <th></th>\n",
       "      <th></th>\n",
       "    </tr>\n",
       "  </thead>\n",
       "  <tbody>\n",
       "    <tr>\n",
       "      <th>68762351</th>\n",
       "      <td>8</td>\n",
       "      <td>793401</td>\n",
       "      <td>2014-10-23 15:36:51</td>\n",
       "      <td>2014-10-25 00:44:42</td>\n",
       "    </tr>\n",
       "    <tr>\n",
       "      <th>68762353</th>\n",
       "      <td>3</td>\n",
       "      <td>793449</td>\n",
       "      <td>2014-10-23 16:25:42</td>\n",
       "      <td>2014-10-25 00:44:42</td>\n",
       "    </tr>\n",
       "    <tr>\n",
       "      <th>68764535</th>\n",
       "      <td>9</td>\n",
       "      <td>793527</td>\n",
       "      <td>2014-10-24 02:04:59</td>\n",
       "      <td>2014-10-25 00:44:42</td>\n",
       "    </tr>\n",
       "    <tr>\n",
       "      <th>68764585</th>\n",
       "      <td>2</td>\n",
       "      <td>793571</td>\n",
       "      <td>2014-10-24 15:05:23</td>\n",
       "      <td>2014-10-27 17:53:29</td>\n",
       "    </tr>\n",
       "    <tr>\n",
       "      <th>68764655</th>\n",
       "      <td>7</td>\n",
       "      <td>793681</td>\n",
       "      <td>2014-10-25 00:02:19</td>\n",
       "      <td>2014-10-27 17:53:29</td>\n",
       "    </tr>\n",
       "    <tr>\n",
       "      <th>...</th>\n",
       "      <td>...</td>\n",
       "      <td>...</td>\n",
       "      <td>...</td>\n",
       "      <td>...</td>\n",
       "    </tr>\n",
       "    <tr>\n",
       "      <th>132777685</th>\n",
       "      <td>1520099</td>\n",
       "      <td>132777683</td>\n",
       "      <td>2020-07-02 20:22:28</td>\n",
       "      <td>2020-07-02 20:22:44</td>\n",
       "    </tr>\n",
       "    <tr>\n",
       "      <th>132794703</th>\n",
       "      <td>1520099</td>\n",
       "      <td>132794701</td>\n",
       "      <td>2020-07-06 17:42:18</td>\n",
       "      <td>2020-07-06 17:43:00</td>\n",
       "    </tr>\n",
       "    <tr>\n",
       "      <th>132806721</th>\n",
       "      <td>1520099</td>\n",
       "      <td>132806719</td>\n",
       "      <td>2020-07-09 13:12:28</td>\n",
       "      <td>2020-07-09 13:12:46</td>\n",
       "    </tr>\n",
       "    <tr>\n",
       "      <th>132806729</th>\n",
       "      <td>1520099</td>\n",
       "      <td>132806727</td>\n",
       "      <td>2020-07-09 13:16:41</td>\n",
       "      <td>2020-07-09 13:17:00</td>\n",
       "    </tr>\n",
       "    <tr>\n",
       "      <th>132806737</th>\n",
       "      <td>1520099</td>\n",
       "      <td>132806735</td>\n",
       "      <td>2020-07-09 13:20:03</td>\n",
       "      <td>2020-07-09 13:20:15</td>\n",
       "    </tr>\n",
       "  </tbody>\n",
       "</table>\n",
       "<p>556337 rows × 4 columns</p>\n",
       "</div>"
      ],
      "text/plain": [
       "            pen_id   visit_id               start                 end\n",
       "id                                                                   \n",
       "68762351         8     793401 2014-10-23 15:36:51 2014-10-25 00:44:42\n",
       "68762353         3     793449 2014-10-23 16:25:42 2014-10-25 00:44:42\n",
       "68764535         9     793527 2014-10-24 02:04:59 2014-10-25 00:44:42\n",
       "68764585         2     793571 2014-10-24 15:05:23 2014-10-27 17:53:29\n",
       "68764655         7     793681 2014-10-25 00:02:19 2014-10-27 17:53:29\n",
       "...            ...        ...                 ...                 ...\n",
       "132777685  1520099  132777683 2020-07-02 20:22:28 2020-07-02 20:22:44\n",
       "132794703  1520099  132794701 2020-07-06 17:42:18 2020-07-06 17:43:00\n",
       "132806721  1520099  132806719 2020-07-09 13:12:28 2020-07-09 13:12:46\n",
       "132806729  1520099  132806727 2020-07-09 13:16:41 2020-07-09 13:17:00\n",
       "132806737  1520099  132806735 2020-07-09 13:20:03 2020-07-09 13:20:15\n",
       "\n",
       "[556337 rows x 4 columns]"
      ]
     },
     "execution_count": 4,
     "metadata": {},
     "output_type": "execute_result"
    }
   ],
   "source": [
    "pensCheckouts"
   ]
  },
  {
   "cell_type": "markdown",
   "metadata": {},
   "source": [
    "## how many checkout per time "
   ]
  },
  {
   "cell_type": "code",
   "execution_count": 5,
   "metadata": {},
   "outputs": [
    {
     "data": {
      "text/plain": [
       "pen_id      556337\n",
       "visit_id    556337\n",
       "start       556337\n",
       "end         536811\n",
       "dtype: int64"
      ]
     },
     "execution_count": 5,
     "metadata": {},
     "output_type": "execute_result"
    }
   ],
   "source": [
    "pensCheckouts.count()\n",
    "#556337 checkout in total"
   ]
  },
  {
   "cell_type": "code",
   "execution_count": 6,
   "metadata": {},
   "outputs": [
    {
     "data": {
      "text/plain": [
       "<matplotlib.axes._subplots.AxesSubplot at 0x7fd09ace4e90>"
      ]
     },
     "execution_count": 6,
     "metadata": {},
     "output_type": "execute_result"
    },
    {
     "data": {
      "image/png": "[encoded data removed]",
      "text/plain": [
       "<Figure size 432x288 with 1 Axes>"
      ]
     },
     "metadata": {
      "needs_background": "light"
     },
     "output_type": "display_data"
    }
   ],
   "source": [
    "checkout_by_month = pensCheckouts['start'].groupby(pensCheckouts.start.dt.to_period(\"M\")).agg('count')\n",
    "checkout_by_month.plot()\n",
    "#most active between 2015-2017"
   ]
  },
  {
   "cell_type": "code",
   "execution_count": 7,
   "metadata": {},
   "outputs": [
    {
     "data": {
      "text/plain": [
       "start\n",
       "2014-10      20\n",
       "2015-01      30\n",
       "2020-07      36\n",
       "2014-12      63\n",
       "2015-02     126\n",
       "2014-11     154\n",
       "2019-01     447\n",
       "2020-03     854\n",
       "2019-03    3404\n",
       "2016-05    3643\n",
       "Freq: M, Name: start, dtype: int64"
      ]
     },
     "execution_count": 7,
     "metadata": {},
     "output_type": "execute_result"
    }
   ],
   "source": [
    "pensCheckouts['start'].groupby(pensCheckouts.start.dt.to_period(\"M\")).agg('count').nsmallest(10)\n",
    "#January 2019 was the weakest after the start of the project and before covid19\n",
    "#will be interesting to compare it to events / exhibitions at the same time / months"
   ]
  },
  {
   "cell_type": "code",
   "execution_count": 8,
   "metadata": {},
   "outputs": [
    {
     "data": {
      "text/plain": [
       "<matplotlib.axes._subplots.AxesSubplot at 0x7fd0964c2c10>"
      ]
     },
     "execution_count": 8,
     "metadata": {},
     "output_type": "execute_result"
    },
    {
     "data": {
      "image/png": "[encoded data removed]",
      "text/plain": [
       "<Figure size 360x360 with 1 Axes>"
      ]
     },
     "metadata": {},
     "output_type": "display_data"
    }
   ],
   "source": [
    "checkout_by_year = pensCheckouts['start'].groupby(pensCheckouts.start.dt.to_period(\"Y\")).agg('count')\n",
    "checkout_by_year.plot.pie(y='start', figsize=(5, 5),autopct='%1.1f%%', startangle=90)\n",
    "#2016 + 2015 were the most popular years\n",
    "#2017 +2018 were the same\n",
    "#2019 decreased in almost 2%"
   ]
  },
  {
   "cell_type": "code",
   "execution_count": 31,
   "metadata": {},
   "outputs": [
    {
     "data": {
      "text/plain": [
       "<matplotlib.axes._subplots.AxesSubplot at 0x7fd0a179ad90>"
      ]
     },
     "execution_count": 31,
     "metadata": {},
     "output_type": "execute_result"
    },
    {
     "data": {
      "image/png": "[encoded data removed]",
      "text/plain": [
       "<Figure size 360x360 with 1 Axes>"
      ]
     },
     "metadata": {},
     "output_type": "display_data"
    }
   ],
   "source": [
    "popular_days = pensCheckouts['start'].groupby(pensCheckouts.start.dt.weekday).agg('count').sort_values(ascending=False)\n",
    "popular_days.plot.pie(y='start', figsize=(5, 5),autopct='%1.1f%%', startangle=90)"
   ]
  },
  {
   "cell_type": "code",
   "execution_count": 28,
   "metadata": {},
   "outputs": [
    {
     "data": {
      "text/html": [
       "<div>\n",
       "<style scoped>\n",
       "    .dataframe tbody tr th:only-of-type {\n",
       "        vertical-align: middle;\n",
       "    }\n",
       "\n",
       "    .dataframe tbody tr th {\n",
       "        vertical-align: top;\n",
       "    }\n",
       "\n",
       "    .dataframe thead th {\n",
       "        text-align: right;\n",
       "    }\n",
       "</style>\n",
       "<table border=\"1\" class=\"dataframe\">\n",
       "  <thead>\n",
       "    <tr style=\"text-align: right;\">\n",
       "      <th></th>\n",
       "      <th>pen_id</th>\n",
       "      <th>visit_id</th>\n",
       "      <th>start</th>\n",
       "      <th>end</th>\n",
       "      <th>time_spent</th>\n",
       "    </tr>\n",
       "    <tr>\n",
       "      <th>id</th>\n",
       "      <th></th>\n",
       "      <th></th>\n",
       "      <th></th>\n",
       "      <th></th>\n",
       "      <th></th>\n",
       "    </tr>\n",
       "  </thead>\n",
       "  <tbody>\n",
       "    <tr>\n",
       "      <th>91920651</th>\n",
       "      <td>1520579</td>\n",
       "      <td>91920649</td>\n",
       "      <td>2016-01-01 14:38:34</td>\n",
       "      <td>2016-01-01 22:59:22</td>\n",
       "      <td>0 days 08:20:48</td>\n",
       "    </tr>\n",
       "    <tr>\n",
       "      <th>91920721</th>\n",
       "      <td>1521089</td>\n",
       "      <td>91920719</td>\n",
       "      <td>2016-01-01 14:52:00</td>\n",
       "      <td>2016-01-01 23:01:02</td>\n",
       "      <td>0 days 08:09:02</td>\n",
       "    </tr>\n",
       "    <tr>\n",
       "      <th>91920731</th>\n",
       "      <td>1520995</td>\n",
       "      <td>91920729</td>\n",
       "      <td>2016-01-01 14:52:59</td>\n",
       "      <td>2016-01-01 23:00:15</td>\n",
       "      <td>0 days 08:07:16</td>\n",
       "    </tr>\n",
       "    <tr>\n",
       "      <th>91920739</th>\n",
       "      <td>1520899</td>\n",
       "      <td>91920737</td>\n",
       "      <td>2016-01-01 14:53:22</td>\n",
       "      <td>2016-01-01 23:01:13</td>\n",
       "      <td>0 days 08:07:51</td>\n",
       "    </tr>\n",
       "    <tr>\n",
       "      <th>91920743</th>\n",
       "      <td>1520505</td>\n",
       "      <td>91920741</td>\n",
       "      <td>2016-01-01 14:53:40</td>\n",
       "      <td>2016-01-01 22:51:10</td>\n",
       "      <td>0 days 07:57:30</td>\n",
       "    </tr>\n",
       "    <tr>\n",
       "      <th>...</th>\n",
       "      <td>...</td>\n",
       "      <td>...</td>\n",
       "      <td>...</td>\n",
       "      <td>...</td>\n",
       "      <td>...</td>\n",
       "    </tr>\n",
       "    <tr>\n",
       "      <th>111415121</th>\n",
       "      <td>1523935</td>\n",
       "      <td>111415119</td>\n",
       "      <td>2016-12-30 22:02:52</td>\n",
       "      <td>2016-12-30 22:51:57</td>\n",
       "      <td>0 days 00:49:05</td>\n",
       "    </tr>\n",
       "    <tr>\n",
       "      <th>111415125</th>\n",
       "      <td>1524905</td>\n",
       "      <td>111415123</td>\n",
       "      <td>2016-12-30 22:03:03</td>\n",
       "      <td>2016-12-30 22:51:33</td>\n",
       "      <td>0 days 00:48:30</td>\n",
       "    </tr>\n",
       "    <tr>\n",
       "      <th>111416853</th>\n",
       "      <td>1525927</td>\n",
       "      <td>111416851</td>\n",
       "      <td>2016-12-30 22:10:26</td>\n",
       "      <td>2016-12-30 22:48:36</td>\n",
       "      <td>0 days 00:38:10</td>\n",
       "    </tr>\n",
       "    <tr>\n",
       "      <th>111416979</th>\n",
       "      <td>1524241</td>\n",
       "      <td>111416971</td>\n",
       "      <td>2016-12-30 22:10:38</td>\n",
       "      <td>2016-12-30 22:48:46</td>\n",
       "      <td>0 days 00:38:08</td>\n",
       "    </tr>\n",
       "    <tr>\n",
       "      <th>111417205</th>\n",
       "      <td>1521039</td>\n",
       "      <td>111417013</td>\n",
       "      <td>2016-12-30 22:10:55</td>\n",
       "      <td>2019-01-29 18:55:16</td>\n",
       "      <td>759 days 20:44:21</td>\n",
       "    </tr>\n",
       "  </tbody>\n",
       "</table>\n",
       "<p>129484 rows × 5 columns</p>\n",
       "</div>"
      ],
      "text/plain": [
       "            pen_id   visit_id               start                 end  \\\n",
       "id                                                                      \n",
       "91920651   1520579   91920649 2016-01-01 14:38:34 2016-01-01 22:59:22   \n",
       "91920721   1521089   91920719 2016-01-01 14:52:00 2016-01-01 23:01:02   \n",
       "91920731   1520995   91920729 2016-01-01 14:52:59 2016-01-01 23:00:15   \n",
       "91920739   1520899   91920737 2016-01-01 14:53:22 2016-01-01 23:01:13   \n",
       "91920743   1520505   91920741 2016-01-01 14:53:40 2016-01-01 22:51:10   \n",
       "...            ...        ...                 ...                 ...   \n",
       "111415121  1523935  111415119 2016-12-30 22:02:52 2016-12-30 22:51:57   \n",
       "111415125  1524905  111415123 2016-12-30 22:03:03 2016-12-30 22:51:33   \n",
       "111416853  1525927  111416851 2016-12-30 22:10:26 2016-12-30 22:48:36   \n",
       "111416979  1524241  111416971 2016-12-30 22:10:38 2016-12-30 22:48:46   \n",
       "111417205  1521039  111417013 2016-12-30 22:10:55 2019-01-29 18:55:16   \n",
       "\n",
       "                 time_spent  \n",
       "id                           \n",
       "91920651    0 days 08:20:48  \n",
       "91920721    0 days 08:09:02  \n",
       "91920731    0 days 08:07:16  \n",
       "91920739    0 days 08:07:51  \n",
       "91920743    0 days 07:57:30  \n",
       "...                     ...  \n",
       "111415121   0 days 00:49:05  \n",
       "111415125   0 days 00:48:30  \n",
       "111416853   0 days 00:38:10  \n",
       "111416979   0 days 00:38:08  \n",
       "111417205 759 days 20:44:21  \n",
       "\n",
       "[129484 rows x 5 columns]"
      ]
     },
     "execution_count": 28,
     "metadata": {},
     "output_type": "execute_result"
    }
   ],
   "source": [
    "#Zooming into 2016\n",
    "start_date = '01-01-2016'\n",
    "end_date = '31-12-2016'\n",
    "mask = (pensCheckouts['start'] > start_date) & (pensCheckouts['start'] <= end_date)\n",
    "sixthteen = pensCheckouts.loc[mask]\n",
    "sixthteen"
   ]
  },
  {
   "cell_type": "code",
   "execution_count": 30,
   "metadata": {},
   "outputs": [
    {
     "data": {
      "text/plain": [
       "start\n",
       "5    34898\n",
       "6    25240\n",
       "4    17656\n",
       "0    14230\n",
       "3    13090\n",
       "1    12248\n",
       "2    12122\n",
       "Name: start, dtype: int64"
      ]
     },
     "execution_count": 30,
     "metadata": {},
     "output_type": "execute_result"
    }
   ],
   "source": [
    "sixthteen['start'].groupby(sixthteen.start.dt.weekday).agg('count').sort_values(ascending=False)"
   ]
  },
  {
   "cell_type": "code",
   "execution_count": 9,
   "metadata": {},
   "outputs": [
    {
     "data": {
      "text/html": [
       "<div>\n",
       "<style scoped>\n",
       "    .dataframe tbody tr th:only-of-type {\n",
       "        vertical-align: middle;\n",
       "    }\n",
       "\n",
       "    .dataframe tbody tr th {\n",
       "        vertical-align: top;\n",
       "    }\n",
       "\n",
       "    .dataframe thead th {\n",
       "        text-align: right;\n",
       "    }\n",
       "</style>\n",
       "<table border=\"1\" class=\"dataframe\">\n",
       "  <thead>\n",
       "    <tr style=\"text-align: right;\">\n",
       "      <th></th>\n",
       "      <th>pen_id</th>\n",
       "      <th>visit_id</th>\n",
       "      <th>start</th>\n",
       "      <th>end</th>\n",
       "    </tr>\n",
       "    <tr>\n",
       "      <th>id</th>\n",
       "      <th></th>\n",
       "      <th></th>\n",
       "      <th></th>\n",
       "      <th></th>\n",
       "    </tr>\n",
       "  </thead>\n",
       "  <tbody>\n",
       "    <tr>\n",
       "      <th>126533273</th>\n",
       "      <td>1525671</td>\n",
       "      <td>126533271</td>\n",
       "      <td>2019-01-01 14:59:21</td>\n",
       "      <td>2019-01-01 14:59:59</td>\n",
       "    </tr>\n",
       "    <tr>\n",
       "      <th>126533283</th>\n",
       "      <td>1522073</td>\n",
       "      <td>126533281</td>\n",
       "      <td>2019-01-01 15:03:55</td>\n",
       "      <td>2019-01-01 17:10:08</td>\n",
       "    </tr>\n",
       "    <tr>\n",
       "      <th>126533543</th>\n",
       "      <td>1523883</td>\n",
       "      <td>126533535</td>\n",
       "      <td>2019-01-01 15:06:59</td>\n",
       "      <td>2019-01-01 16:55:44</td>\n",
       "    </tr>\n",
       "    <tr>\n",
       "      <th>126533727</th>\n",
       "      <td>1520165</td>\n",
       "      <td>126533721</td>\n",
       "      <td>2019-01-01 15:08:39</td>\n",
       "      <td>2019-01-01 17:07:43</td>\n",
       "    </tr>\n",
       "    <tr>\n",
       "      <th>126533763</th>\n",
       "      <td>1525239</td>\n",
       "      <td>126533753</td>\n",
       "      <td>2019-01-01 15:08:54</td>\n",
       "      <td>2019-01-01 17:09:13</td>\n",
       "    </tr>\n",
       "    <tr>\n",
       "      <th>...</th>\n",
       "      <td>...</td>\n",
       "      <td>...</td>\n",
       "      <td>...</td>\n",
       "      <td>...</td>\n",
       "    </tr>\n",
       "    <tr>\n",
       "      <th>129006279</th>\n",
       "      <td>1522407</td>\n",
       "      <td>129006277</td>\n",
       "      <td>2019-07-30 20:41:33</td>\n",
       "      <td>2019-07-30 21:39:45</td>\n",
       "    </tr>\n",
       "    <tr>\n",
       "      <th>129006283</th>\n",
       "      <td>1524941</td>\n",
       "      <td>129006281</td>\n",
       "      <td>2019-07-30 20:41:47</td>\n",
       "      <td>2019-07-30 21:39:15</td>\n",
       "    </tr>\n",
       "    <tr>\n",
       "      <th>129006777</th>\n",
       "      <td>1520651</td>\n",
       "      <td>129006775</td>\n",
       "      <td>2019-07-30 20:53:11</td>\n",
       "      <td>2019-07-30 20:53:30</td>\n",
       "    </tr>\n",
       "    <tr>\n",
       "      <th>129006903</th>\n",
       "      <td>1524633</td>\n",
       "      <td>129006901</td>\n",
       "      <td>2019-07-30 20:55:25</td>\n",
       "      <td>2019-07-30 21:37:29</td>\n",
       "    </tr>\n",
       "    <tr>\n",
       "      <th>129006907</th>\n",
       "      <td>1520651</td>\n",
       "      <td>129006905</td>\n",
       "      <td>2019-07-30 20:55:41</td>\n",
       "      <td>2019-07-30 21:37:39</td>\n",
       "    </tr>\n",
       "  </tbody>\n",
       "</table>\n",
       "<p>44249 rows × 4 columns</p>\n",
       "</div>"
      ],
      "text/plain": [
       "            pen_id   visit_id               start                 end\n",
       "id                                                                   \n",
       "126533273  1525671  126533271 2019-01-01 14:59:21 2019-01-01 14:59:59\n",
       "126533283  1522073  126533281 2019-01-01 15:03:55 2019-01-01 17:10:08\n",
       "126533543  1523883  126533535 2019-01-01 15:06:59 2019-01-01 16:55:44\n",
       "126533727  1520165  126533721 2019-01-01 15:08:39 2019-01-01 17:07:43\n",
       "126533763  1525239  126533753 2019-01-01 15:08:54 2019-01-01 17:09:13\n",
       "...            ...        ...                 ...                 ...\n",
       "129006279  1522407  129006277 2019-07-30 20:41:33 2019-07-30 21:39:45\n",
       "129006283  1524941  129006281 2019-07-30 20:41:47 2019-07-30 21:39:15\n",
       "129006777  1520651  129006775 2019-07-30 20:53:11 2019-07-30 20:53:30\n",
       "129006903  1524633  129006901 2019-07-30 20:55:25 2019-07-30 21:37:29\n",
       "129006907  1520651  129006905 2019-07-30 20:55:41 2019-07-30 21:37:39\n",
       "\n",
       "[44249 rows x 4 columns]"
      ]
     },
     "execution_count": 9,
     "metadata": {},
     "output_type": "execute_result"
    }
   ],
   "source": [
    "#zooming to Adam timeframe \n",
    "start_date = '01-01-2019'\n",
    "end_date = '07-31-2019'\n",
    "mask = (pensCheckouts['start'] > start_date) & (pensCheckouts['start'] <= end_date)\n",
    "sevenMonths = pensCheckouts.loc[mask]\n",
    "sevenMonths"
   ]
  },
  {
   "cell_type": "code",
   "execution_count": 10,
   "metadata": {},
   "outputs": [
    {
     "data": {
      "text/plain": [
       "pen_id      44249\n",
       "visit_id    44249\n",
       "start       44249\n",
       "end         41865\n",
       "dtype: int64"
      ]
     },
     "execution_count": 10,
     "metadata": {},
     "output_type": "execute_result"
    }
   ],
   "source": [
    "sevenMonths.count()\n",
    "#inbetween Adams time frame: 44,249 checkouts"
   ]
  },
  {
   "cell_type": "markdown",
   "metadata": {},
   "source": [
    "## what is the average time for pen uses"
   ]
  },
  {
   "cell_type": "code",
   "execution_count": 11,
   "metadata": {},
   "outputs": [
    {
     "data": {
      "text/html": [
       "<div>\n",
       "<style scoped>\n",
       "    .dataframe tbody tr th:only-of-type {\n",
       "        vertical-align: middle;\n",
       "    }\n",
       "\n",
       "    .dataframe tbody tr th {\n",
       "        vertical-align: top;\n",
       "    }\n",
       "\n",
       "    .dataframe thead th {\n",
       "        text-align: right;\n",
       "    }\n",
       "</style>\n",
       "<table border=\"1\" class=\"dataframe\">\n",
       "  <thead>\n",
       "    <tr style=\"text-align: right;\">\n",
       "      <th></th>\n",
       "      <th>start</th>\n",
       "      <th>end</th>\n",
       "    </tr>\n",
       "    <tr>\n",
       "      <th>id</th>\n",
       "      <th></th>\n",
       "      <th></th>\n",
       "    </tr>\n",
       "  </thead>\n",
       "  <tbody>\n",
       "    <tr>\n",
       "      <th>68762351</th>\n",
       "      <td>2014-10-23 15:36:51</td>\n",
       "      <td>2014-10-25 00:44:42</td>\n",
       "    </tr>\n",
       "    <tr>\n",
       "      <th>68762353</th>\n",
       "      <td>2014-10-23 16:25:42</td>\n",
       "      <td>2014-10-25 00:44:42</td>\n",
       "    </tr>\n",
       "    <tr>\n",
       "      <th>68764535</th>\n",
       "      <td>2014-10-24 02:04:59</td>\n",
       "      <td>2014-10-25 00:44:42</td>\n",
       "    </tr>\n",
       "    <tr>\n",
       "      <th>68764585</th>\n",
       "      <td>2014-10-24 15:05:23</td>\n",
       "      <td>2014-10-27 17:53:29</td>\n",
       "    </tr>\n",
       "    <tr>\n",
       "      <th>68764655</th>\n",
       "      <td>2014-10-25 00:02:19</td>\n",
       "      <td>2014-10-27 17:53:29</td>\n",
       "    </tr>\n",
       "    <tr>\n",
       "      <th>...</th>\n",
       "      <td>...</td>\n",
       "      <td>...</td>\n",
       "    </tr>\n",
       "    <tr>\n",
       "      <th>132777685</th>\n",
       "      <td>2020-07-02 20:22:28</td>\n",
       "      <td>2020-07-02 20:22:44</td>\n",
       "    </tr>\n",
       "    <tr>\n",
       "      <th>132794703</th>\n",
       "      <td>2020-07-06 17:42:18</td>\n",
       "      <td>2020-07-06 17:43:00</td>\n",
       "    </tr>\n",
       "    <tr>\n",
       "      <th>132806721</th>\n",
       "      <td>2020-07-09 13:12:28</td>\n",
       "      <td>2020-07-09 13:12:46</td>\n",
       "    </tr>\n",
       "    <tr>\n",
       "      <th>132806729</th>\n",
       "      <td>2020-07-09 13:16:41</td>\n",
       "      <td>2020-07-09 13:17:00</td>\n",
       "    </tr>\n",
       "    <tr>\n",
       "      <th>132806737</th>\n",
       "      <td>2020-07-09 13:20:03</td>\n",
       "      <td>2020-07-09 13:20:15</td>\n",
       "    </tr>\n",
       "  </tbody>\n",
       "</table>\n",
       "<p>556337 rows × 2 columns</p>\n",
       "</div>"
      ],
      "text/plain": [
       "                        start                 end\n",
       "id                                               \n",
       "68762351  2014-10-23 15:36:51 2014-10-25 00:44:42\n",
       "68762353  2014-10-23 16:25:42 2014-10-25 00:44:42\n",
       "68764535  2014-10-24 02:04:59 2014-10-25 00:44:42\n",
       "68764585  2014-10-24 15:05:23 2014-10-27 17:53:29\n",
       "68764655  2014-10-25 00:02:19 2014-10-27 17:53:29\n",
       "...                       ...                 ...\n",
       "132777685 2020-07-02 20:22:28 2020-07-02 20:22:44\n",
       "132794703 2020-07-06 17:42:18 2020-07-06 17:43:00\n",
       "132806721 2020-07-09 13:12:28 2020-07-09 13:12:46\n",
       "132806729 2020-07-09 13:16:41 2020-07-09 13:17:00\n",
       "132806737 2020-07-09 13:20:03 2020-07-09 13:20:15\n",
       "\n",
       "[556337 rows x 2 columns]"
      ]
     },
     "execution_count": 11,
     "metadata": {},
     "output_type": "execute_result"
    }
   ],
   "source": [
    "pensCheckouts[['start', 'end']]"
   ]
  },
  {
   "cell_type": "code",
   "execution_count": 12,
   "metadata": {},
   "outputs": [
    {
     "data": {
      "text/html": [
       "<div>\n",
       "<style scoped>\n",
       "    .dataframe tbody tr th:only-of-type {\n",
       "        vertical-align: middle;\n",
       "    }\n",
       "\n",
       "    .dataframe tbody tr th {\n",
       "        vertical-align: top;\n",
       "    }\n",
       "\n",
       "    .dataframe thead th {\n",
       "        text-align: right;\n",
       "    }\n",
       "</style>\n",
       "<table border=\"1\" class=\"dataframe\">\n",
       "  <thead>\n",
       "    <tr style=\"text-align: right;\">\n",
       "      <th></th>\n",
       "      <th>pen_id</th>\n",
       "      <th>visit_id</th>\n",
       "      <th>start</th>\n",
       "      <th>end</th>\n",
       "      <th>time_spent</th>\n",
       "    </tr>\n",
       "    <tr>\n",
       "      <th>id</th>\n",
       "      <th></th>\n",
       "      <th></th>\n",
       "      <th></th>\n",
       "      <th></th>\n",
       "      <th></th>\n",
       "    </tr>\n",
       "  </thead>\n",
       "  <tbody>\n",
       "    <tr>\n",
       "      <th>68764535</th>\n",
       "      <td>9</td>\n",
       "      <td>793527</td>\n",
       "      <td>2014-10-24 02:04:59</td>\n",
       "      <td>2014-10-25 00:44:42</td>\n",
       "      <td>22:39:43</td>\n",
       "    </tr>\n",
       "    <tr>\n",
       "      <th>68765453</th>\n",
       "      <td>7</td>\n",
       "      <td>795317</td>\n",
       "      <td>2014-10-29 23:32:39</td>\n",
       "      <td>2014-10-29 23:42:20</td>\n",
       "      <td>00:09:41</td>\n",
       "    </tr>\n",
       "    <tr>\n",
       "      <th>68765467</th>\n",
       "      <td>8</td>\n",
       "      <td>795341</td>\n",
       "      <td>2014-10-29 23:40:54</td>\n",
       "      <td>2014-10-29 23:42:10</td>\n",
       "      <td>00:01:16</td>\n",
       "    </tr>\n",
       "    <tr>\n",
       "      <th>68765513</th>\n",
       "      <td>1</td>\n",
       "      <td>795405</td>\n",
       "      <td>2014-10-30 00:13:50</td>\n",
       "      <td>2014-10-30 00:15:08</td>\n",
       "      <td>00:01:18</td>\n",
       "    </tr>\n",
       "    <tr>\n",
       "      <th>68765521</th>\n",
       "      <td>1</td>\n",
       "      <td>795417</td>\n",
       "      <td>2014-10-30 00:16:53</td>\n",
       "      <td>2014-10-30 00:21:26</td>\n",
       "      <td>00:04:33</td>\n",
       "    </tr>\n",
       "    <tr>\n",
       "      <th>...</th>\n",
       "      <td>...</td>\n",
       "      <td>...</td>\n",
       "      <td>...</td>\n",
       "      <td>...</td>\n",
       "      <td>...</td>\n",
       "    </tr>\n",
       "    <tr>\n",
       "      <th>132777685</th>\n",
       "      <td>1520099</td>\n",
       "      <td>132777683</td>\n",
       "      <td>2020-07-02 20:22:28</td>\n",
       "      <td>2020-07-02 20:22:44</td>\n",
       "      <td>00:00:16</td>\n",
       "    </tr>\n",
       "    <tr>\n",
       "      <th>132794703</th>\n",
       "      <td>1520099</td>\n",
       "      <td>132794701</td>\n",
       "      <td>2020-07-06 17:42:18</td>\n",
       "      <td>2020-07-06 17:43:00</td>\n",
       "      <td>00:00:42</td>\n",
       "    </tr>\n",
       "    <tr>\n",
       "      <th>132806721</th>\n",
       "      <td>1520099</td>\n",
       "      <td>132806719</td>\n",
       "      <td>2020-07-09 13:12:28</td>\n",
       "      <td>2020-07-09 13:12:46</td>\n",
       "      <td>00:00:18</td>\n",
       "    </tr>\n",
       "    <tr>\n",
       "      <th>132806729</th>\n",
       "      <td>1520099</td>\n",
       "      <td>132806727</td>\n",
       "      <td>2020-07-09 13:16:41</td>\n",
       "      <td>2020-07-09 13:17:00</td>\n",
       "      <td>00:00:19</td>\n",
       "    </tr>\n",
       "    <tr>\n",
       "      <th>132806737</th>\n",
       "      <td>1520099</td>\n",
       "      <td>132806735</td>\n",
       "      <td>2020-07-09 13:20:03</td>\n",
       "      <td>2020-07-09 13:20:15</td>\n",
       "      <td>00:00:12</td>\n",
       "    </tr>\n",
       "  </tbody>\n",
       "</table>\n",
       "<p>492711 rows × 5 columns</p>\n",
       "</div>"
      ],
      "text/plain": [
       "            pen_id   visit_id               start                 end  \\\n",
       "id                                                                      \n",
       "68764535         9     793527 2014-10-24 02:04:59 2014-10-25 00:44:42   \n",
       "68765453         7     795317 2014-10-29 23:32:39 2014-10-29 23:42:20   \n",
       "68765467         8     795341 2014-10-29 23:40:54 2014-10-29 23:42:10   \n",
       "68765513         1     795405 2014-10-30 00:13:50 2014-10-30 00:15:08   \n",
       "68765521         1     795417 2014-10-30 00:16:53 2014-10-30 00:21:26   \n",
       "...            ...        ...                 ...                 ...   \n",
       "132777685  1520099  132777683 2020-07-02 20:22:28 2020-07-02 20:22:44   \n",
       "132794703  1520099  132794701 2020-07-06 17:42:18 2020-07-06 17:43:00   \n",
       "132806721  1520099  132806719 2020-07-09 13:12:28 2020-07-09 13:12:46   \n",
       "132806729  1520099  132806727 2020-07-09 13:16:41 2020-07-09 13:17:00   \n",
       "132806737  1520099  132806735 2020-07-09 13:20:03 2020-07-09 13:20:15   \n",
       "\n",
       "          time_spent  \n",
       "id                    \n",
       "68764535    22:39:43  \n",
       "68765453    00:09:41  \n",
       "68765467    00:01:16  \n",
       "68765513    00:01:18  \n",
       "68765521    00:04:33  \n",
       "...              ...  \n",
       "132777685   00:00:16  \n",
       "132794703   00:00:42  \n",
       "132806721   00:00:18  \n",
       "132806729   00:00:19  \n",
       "132806737   00:00:12  \n",
       "\n",
       "[492711 rows x 5 columns]"
      ]
     },
     "execution_count": 12,
     "metadata": {},
     "output_type": "execute_result"
    }
   ],
   "source": [
    "pensCheckouts['time_spent'] = pensCheckouts['end'] - pensCheckouts['start']\n",
    "less_day = pensCheckouts['time_spent'] < '1day'\n",
    "pensCheckouts[less_day]\n",
    "\n",
    "# def mask_time(time):\n",
    "#     pensCheckouts['time_spent'] = pensCheckouts['end'] - pensCheckouts['start']\n",
    "#     less_time = pensCheckouts['time_spent'] < time\n",
    "#     return pensCheckouts[less_time]\n",
    "\n",
    "# mask_time('1day')"
   ]
  },
  {
   "cell_type": "code",
   "execution_count": 13,
   "metadata": {},
   "outputs": [
    {
     "data": {
      "text/html": [
       "<div>\n",
       "<style scoped>\n",
       "    .dataframe tbody tr th:only-of-type {\n",
       "        vertical-align: middle;\n",
       "    }\n",
       "\n",
       "    .dataframe tbody tr th {\n",
       "        vertical-align: top;\n",
       "    }\n",
       "\n",
       "    .dataframe thead th {\n",
       "        text-align: right;\n",
       "    }\n",
       "</style>\n",
       "<table border=\"1\" class=\"dataframe\">\n",
       "  <thead>\n",
       "    <tr style=\"text-align: right;\">\n",
       "      <th></th>\n",
       "      <th>pen_id</th>\n",
       "      <th>visit_id</th>\n",
       "      <th>start</th>\n",
       "      <th>end</th>\n",
       "      <th>time_spent</th>\n",
       "    </tr>\n",
       "    <tr>\n",
       "      <th>id</th>\n",
       "      <th></th>\n",
       "      <th></th>\n",
       "      <th></th>\n",
       "      <th></th>\n",
       "      <th></th>\n",
       "    </tr>\n",
       "  </thead>\n",
       "  <tbody>\n",
       "    <tr>\n",
       "      <th>68774043</th>\n",
       "      <td>3</td>\n",
       "      <td>814815</td>\n",
       "      <td>2014-11-12 17:40:42</td>\n",
       "      <td>2014-11-12 17:40:42</td>\n",
       "      <td>00:00:00</td>\n",
       "    </tr>\n",
       "    <tr>\n",
       "      <th>68802389</th>\n",
       "      <td>1509677</td>\n",
       "      <td>1509689</td>\n",
       "      <td>2014-12-15 15:07:56</td>\n",
       "      <td>2014-12-15 15:07:56</td>\n",
       "      <td>00:00:00</td>\n",
       "    </tr>\n",
       "    <tr>\n",
       "      <th>68775359</th>\n",
       "      <td>3</td>\n",
       "      <td>905243</td>\n",
       "      <td>2014-11-13 20:20:51</td>\n",
       "      <td>2014-11-13 20:20:51</td>\n",
       "      <td>00:00:00</td>\n",
       "    </tr>\n",
       "    <tr>\n",
       "      <th>68775357</th>\n",
       "      <td>3</td>\n",
       "      <td>904949</td>\n",
       "      <td>2014-11-13 20:15:55</td>\n",
       "      <td>2014-11-13 20:15:55</td>\n",
       "      <td>00:00:00</td>\n",
       "    </tr>\n",
       "    <tr>\n",
       "      <th>68775355</th>\n",
       "      <td>3</td>\n",
       "      <td>904839</td>\n",
       "      <td>2014-11-13 20:14:04</td>\n",
       "      <td>2014-11-13 20:14:04</td>\n",
       "      <td>00:00:00</td>\n",
       "    </tr>\n",
       "    <tr>\n",
       "      <th>68777557</th>\n",
       "      <td>987051</td>\n",
       "      <td>1050199</td>\n",
       "      <td>2014-11-19 20:04:19</td>\n",
       "      <td>2014-11-19 20:04:19</td>\n",
       "      <td>00:00:00</td>\n",
       "    </tr>\n",
       "    <tr>\n",
       "      <th>68775353</th>\n",
       "      <td>3</td>\n",
       "      <td>904639</td>\n",
       "      <td>2014-11-13 20:10:20</td>\n",
       "      <td>2014-11-13 20:10:20</td>\n",
       "      <td>00:00:00</td>\n",
       "    </tr>\n",
       "    <tr>\n",
       "      <th>68774045</th>\n",
       "      <td>3</td>\n",
       "      <td>815709</td>\n",
       "      <td>2014-11-12 17:57:15</td>\n",
       "      <td>2014-11-12 17:57:15</td>\n",
       "      <td>00:00:00</td>\n",
       "    </tr>\n",
       "    <tr>\n",
       "      <th>68775135</th>\n",
       "      <td>3</td>\n",
       "      <td>836101</td>\n",
       "      <td>2014-11-13 00:02:56</td>\n",
       "      <td>2014-11-13 00:02:56</td>\n",
       "      <td>00:00:00</td>\n",
       "    </tr>\n",
       "    <tr>\n",
       "      <th>68775333</th>\n",
       "      <td>3</td>\n",
       "      <td>890721</td>\n",
       "      <td>2014-11-13 16:58:47</td>\n",
       "      <td>2014-11-13 16:58:47</td>\n",
       "      <td>00:00:00</td>\n",
       "    </tr>\n",
       "    <tr>\n",
       "      <th>68775331</th>\n",
       "      <td>3</td>\n",
       "      <td>890673</td>\n",
       "      <td>2014-11-13 16:57:59</td>\n",
       "      <td>2014-11-13 16:57:59</td>\n",
       "      <td>00:00:00</td>\n",
       "    </tr>\n",
       "    <tr>\n",
       "      <th>92248807</th>\n",
       "      <td>1520877</td>\n",
       "      <td>92248797</td>\n",
       "      <td>2016-01-09 16:49:19</td>\n",
       "      <td>2016-01-09 16:49:19</td>\n",
       "      <td>00:00:00</td>\n",
       "    </tr>\n",
       "    <tr>\n",
       "      <th>68774047</th>\n",
       "      <td>3</td>\n",
       "      <td>816743</td>\n",
       "      <td>2014-11-12 18:20:21</td>\n",
       "      <td>2014-11-12 18:20:22</td>\n",
       "      <td>00:00:01</td>\n",
       "    </tr>\n",
       "    <tr>\n",
       "      <th>85009991</th>\n",
       "      <td>1523789</td>\n",
       "      <td>85009883</td>\n",
       "      <td>2015-05-27 17:15:30</td>\n",
       "      <td>2015-05-27 17:15:31</td>\n",
       "      <td>00:00:01</td>\n",
       "    </tr>\n",
       "    <tr>\n",
       "      <th>94772971</th>\n",
       "      <td>1524547</td>\n",
       "      <td>94772969</td>\n",
       "      <td>2016-03-05 20:23:16</td>\n",
       "      <td>2016-03-05 20:23:17</td>\n",
       "      <td>00:00:01</td>\n",
       "    </tr>\n",
       "    <tr>\n",
       "      <th>68878175</th>\n",
       "      <td>1511587</td>\n",
       "      <td>1513365</td>\n",
       "      <td>2015-01-07 19:04:49</td>\n",
       "      <td>2015-01-07 19:04:50</td>\n",
       "      <td>00:00:01</td>\n",
       "    </tr>\n",
       "    <tr>\n",
       "      <th>68775343</th>\n",
       "      <td>3</td>\n",
       "      <td>894475</td>\n",
       "      <td>2014-11-13 17:51:55</td>\n",
       "      <td>2014-11-13 17:51:56</td>\n",
       "      <td>00:00:01</td>\n",
       "    </tr>\n",
       "    <tr>\n",
       "      <th>68775329</th>\n",
       "      <td>3</td>\n",
       "      <td>890601</td>\n",
       "      <td>2014-11-13 16:57:12</td>\n",
       "      <td>2014-11-13 16:57:13</td>\n",
       "      <td>00:00:01</td>\n",
       "    </tr>\n",
       "    <tr>\n",
       "      <th>68773483</th>\n",
       "      <td>3</td>\n",
       "      <td>799115</td>\n",
       "      <td>2014-11-05 23:45:03</td>\n",
       "      <td>2014-11-05 23:45:04</td>\n",
       "      <td>00:00:01</td>\n",
       "    </tr>\n",
       "    <tr>\n",
       "      <th>105586813</th>\n",
       "      <td>1520035</td>\n",
       "      <td>105586809</td>\n",
       "      <td>2016-07-26 19:42:42</td>\n",
       "      <td>2016-07-26 19:42:44</td>\n",
       "      <td>00:00:02</td>\n",
       "    </tr>\n",
       "  </tbody>\n",
       "</table>\n",
       "</div>"
      ],
      "text/plain": [
       "            pen_id   visit_id               start                 end  \\\n",
       "id                                                                      \n",
       "68774043         3     814815 2014-11-12 17:40:42 2014-11-12 17:40:42   \n",
       "68802389   1509677    1509689 2014-12-15 15:07:56 2014-12-15 15:07:56   \n",
       "68775359         3     905243 2014-11-13 20:20:51 2014-11-13 20:20:51   \n",
       "68775357         3     904949 2014-11-13 20:15:55 2014-11-13 20:15:55   \n",
       "68775355         3     904839 2014-11-13 20:14:04 2014-11-13 20:14:04   \n",
       "68777557    987051    1050199 2014-11-19 20:04:19 2014-11-19 20:04:19   \n",
       "68775353         3     904639 2014-11-13 20:10:20 2014-11-13 20:10:20   \n",
       "68774045         3     815709 2014-11-12 17:57:15 2014-11-12 17:57:15   \n",
       "68775135         3     836101 2014-11-13 00:02:56 2014-11-13 00:02:56   \n",
       "68775333         3     890721 2014-11-13 16:58:47 2014-11-13 16:58:47   \n",
       "68775331         3     890673 2014-11-13 16:57:59 2014-11-13 16:57:59   \n",
       "92248807   1520877   92248797 2016-01-09 16:49:19 2016-01-09 16:49:19   \n",
       "68774047         3     816743 2014-11-12 18:20:21 2014-11-12 18:20:22   \n",
       "85009991   1523789   85009883 2015-05-27 17:15:30 2015-05-27 17:15:31   \n",
       "94772971   1524547   94772969 2016-03-05 20:23:16 2016-03-05 20:23:17   \n",
       "68878175   1511587    1513365 2015-01-07 19:04:49 2015-01-07 19:04:50   \n",
       "68775343         3     894475 2014-11-13 17:51:55 2014-11-13 17:51:56   \n",
       "68775329         3     890601 2014-11-13 16:57:12 2014-11-13 16:57:13   \n",
       "68773483         3     799115 2014-11-05 23:45:03 2014-11-05 23:45:04   \n",
       "105586813  1520035  105586809 2016-07-26 19:42:42 2016-07-26 19:42:44   \n",
       "\n",
       "          time_spent  \n",
       "id                    \n",
       "68774043    00:00:00  \n",
       "68802389    00:00:00  \n",
       "68775359    00:00:00  \n",
       "68775357    00:00:00  \n",
       "68775355    00:00:00  \n",
       "68777557    00:00:00  \n",
       "68775353    00:00:00  \n",
       "68774045    00:00:00  \n",
       "68775135    00:00:00  \n",
       "68775333    00:00:00  \n",
       "68775331    00:00:00  \n",
       "92248807    00:00:00  \n",
       "68774047    00:00:01  \n",
       "85009991    00:00:01  \n",
       "94772971    00:00:01  \n",
       "68878175    00:00:01  \n",
       "68775343    00:00:01  \n",
       "68775329    00:00:01  \n",
       "68773483    00:00:01  \n",
       "105586813   00:00:02  "
      ]
     },
     "execution_count": 13,
     "metadata": {},
     "output_type": "execute_result"
    }
   ],
   "source": [
    "less_day_df = pensCheckouts[less_day]\n",
    "less_day_df.sort_values(['time_spent']).head(20)\n",
    "#there is a lot of goofy data"
   ]
  },
  {
   "cell_type": "code",
   "execution_count": 14,
   "metadata": {},
   "outputs": [
    {
     "data": {
      "text/plain": [
       "Timedelta('0 days 02:02:31.281114')"
      ]
     },
     "execution_count": 14,
     "metadata": {},
     "output_type": "execute_result"
    }
   ],
   "source": [
    "less_day_df['time_spent'].mean()\n",
    "#this is an average time with all the goofy times. now let's get rid of that----"
   ]
  },
  {
   "cell_type": "code",
   "execution_count": 15,
   "metadata": {},
   "outputs": [
    {
     "data": {
      "text/html": [
       "<div>\n",
       "<style scoped>\n",
       "    .dataframe tbody tr th:only-of-type {\n",
       "        vertical-align: middle;\n",
       "    }\n",
       "\n",
       "    .dataframe tbody tr th {\n",
       "        vertical-align: top;\n",
       "    }\n",
       "\n",
       "    .dataframe thead th {\n",
       "        text-align: right;\n",
       "    }\n",
       "</style>\n",
       "<table border=\"1\" class=\"dataframe\">\n",
       "  <thead>\n",
       "    <tr style=\"text-align: right;\">\n",
       "      <th></th>\n",
       "      <th>time_spent</th>\n",
       "    </tr>\n",
       "    <tr>\n",
       "      <th>id</th>\n",
       "      <th></th>\n",
       "    </tr>\n",
       "  </thead>\n",
       "  <tbody>\n",
       "    <tr>\n",
       "      <th>68764535</th>\n",
       "      <td>1359</td>\n",
       "    </tr>\n",
       "    <tr>\n",
       "      <th>68765453</th>\n",
       "      <td>9</td>\n",
       "    </tr>\n",
       "    <tr>\n",
       "      <th>68765467</th>\n",
       "      <td>1</td>\n",
       "    </tr>\n",
       "    <tr>\n",
       "      <th>68765513</th>\n",
       "      <td>1</td>\n",
       "    </tr>\n",
       "    <tr>\n",
       "      <th>68765521</th>\n",
       "      <td>4</td>\n",
       "    </tr>\n",
       "    <tr>\n",
       "      <th>...</th>\n",
       "      <td>...</td>\n",
       "    </tr>\n",
       "    <tr>\n",
       "      <th>132777685</th>\n",
       "      <td>0</td>\n",
       "    </tr>\n",
       "    <tr>\n",
       "      <th>132794703</th>\n",
       "      <td>0</td>\n",
       "    </tr>\n",
       "    <tr>\n",
       "      <th>132806721</th>\n",
       "      <td>0</td>\n",
       "    </tr>\n",
       "    <tr>\n",
       "      <th>132806729</th>\n",
       "      <td>0</td>\n",
       "    </tr>\n",
       "    <tr>\n",
       "      <th>132806737</th>\n",
       "      <td>0</td>\n",
       "    </tr>\n",
       "  </tbody>\n",
       "</table>\n",
       "<p>492711 rows × 1 columns</p>\n",
       "</div>"
      ],
      "text/plain": [
       "           time_spent\n",
       "id                   \n",
       "68764535         1359\n",
       "68765453            9\n",
       "68765467            1\n",
       "68765513            1\n",
       "68765521            4\n",
       "...               ...\n",
       "132777685           0\n",
       "132794703           0\n",
       "132806721           0\n",
       "132806729           0\n",
       "132806737           0\n",
       "\n",
       "[492711 rows x 1 columns]"
      ]
     },
     "execution_count": 15,
     "metadata": {},
     "output_type": "execute_result"
    }
   ],
   "source": [
    "min_spent = less_day_df[\"time_spent\"].map(lambda timedelta: timedelta.total_seconds() / 60)\n",
    "min_spent = min_spent.dropna().map(lambda seconds: math.floor(seconds))\n",
    "min_spent = min_spent.to_frame()\n",
    "min_spent"
   ]
  },
  {
   "cell_type": "code",
   "execution_count": 16,
   "metadata": {},
   "outputs": [
    {
     "data": {
      "text/plain": [
       "<matplotlib.axes._subplots.AxesSubplot at 0x7fd096468b50>"
      ]
     },
     "execution_count": 16,
     "metadata": {},
     "output_type": "execute_result"
    },
    {
     "data": {
      "image/png": "[encoded data removed]",
      "text/plain": [
       "<Figure size 432x288 with 1 Axes>"
      ]
     },
     "metadata": {
      "needs_background": "light"
     },
     "output_type": "display_data"
    }
   ],
   "source": [
    "min_spent.groupby('time_spent').size().plot()\n",
    "#crazy numbers with a few seconds only"
   ]
  },
  {
   "cell_type": "code",
   "execution_count": 18,
   "metadata": {},
   "outputs": [
    {
     "data": {
      "text/plain": [
       "126.90362885266111"
      ]
     },
     "execution_count": 18,
     "metadata": {},
     "output_type": "execute_result"
    }
   ],
   "source": [
    "less_five = min_spent[min_spent['time_spent'] > 5]\n",
    "less_five['time_spent'].mean()\n",
    "#calculating only visits above 5 minutes - the average time for the whole db is about 2hours and 7 min"
   ]
  },
  {
   "cell_type": "code",
   "execution_count": 19,
   "metadata": {},
   "outputs": [
    {
     "data": {
      "text/html": [
       "<div>\n",
       "<style scoped>\n",
       "    .dataframe tbody tr th:only-of-type {\n",
       "        vertical-align: middle;\n",
       "    }\n",
       "\n",
       "    .dataframe tbody tr th {\n",
       "        vertical-align: top;\n",
       "    }\n",
       "\n",
       "    .dataframe thead th {\n",
       "        text-align: right;\n",
       "    }\n",
       "</style>\n",
       "<table border=\"1\" class=\"dataframe\">\n",
       "  <thead>\n",
       "    <tr style=\"text-align: right;\">\n",
       "      <th></th>\n",
       "      <th>pen_id</th>\n",
       "      <th>visit_id</th>\n",
       "      <th>start</th>\n",
       "      <th>end</th>\n",
       "      <th>time_spent</th>\n",
       "    </tr>\n",
       "    <tr>\n",
       "      <th>id</th>\n",
       "      <th></th>\n",
       "      <th></th>\n",
       "      <th></th>\n",
       "      <th></th>\n",
       "      <th></th>\n",
       "    </tr>\n",
       "  </thead>\n",
       "  <tbody>\n",
       "    <tr>\n",
       "      <th>126533273</th>\n",
       "      <td>1525671</td>\n",
       "      <td>126533271</td>\n",
       "      <td>2019-01-01 14:59:21</td>\n",
       "      <td>2019-01-01 14:59:59</td>\n",
       "      <td>00:00:38</td>\n",
       "    </tr>\n",
       "    <tr>\n",
       "      <th>126533283</th>\n",
       "      <td>1522073</td>\n",
       "      <td>126533281</td>\n",
       "      <td>2019-01-01 15:03:55</td>\n",
       "      <td>2019-01-01 17:10:08</td>\n",
       "      <td>02:06:13</td>\n",
       "    </tr>\n",
       "    <tr>\n",
       "      <th>126533543</th>\n",
       "      <td>1523883</td>\n",
       "      <td>126533535</td>\n",
       "      <td>2019-01-01 15:06:59</td>\n",
       "      <td>2019-01-01 16:55:44</td>\n",
       "      <td>01:48:45</td>\n",
       "    </tr>\n",
       "    <tr>\n",
       "      <th>126533727</th>\n",
       "      <td>1520165</td>\n",
       "      <td>126533721</td>\n",
       "      <td>2019-01-01 15:08:39</td>\n",
       "      <td>2019-01-01 17:07:43</td>\n",
       "      <td>01:59:04</td>\n",
       "    </tr>\n",
       "    <tr>\n",
       "      <th>126533763</th>\n",
       "      <td>1525239</td>\n",
       "      <td>126533753</td>\n",
       "      <td>2019-01-01 15:08:54</td>\n",
       "      <td>2019-01-01 17:09:13</td>\n",
       "      <td>02:00:19</td>\n",
       "    </tr>\n",
       "    <tr>\n",
       "      <th>...</th>\n",
       "      <td>...</td>\n",
       "      <td>...</td>\n",
       "      <td>...</td>\n",
       "      <td>...</td>\n",
       "      <td>...</td>\n",
       "    </tr>\n",
       "    <tr>\n",
       "      <th>129006279</th>\n",
       "      <td>1522407</td>\n",
       "      <td>129006277</td>\n",
       "      <td>2019-07-30 20:41:33</td>\n",
       "      <td>2019-07-30 21:39:45</td>\n",
       "      <td>00:58:12</td>\n",
       "    </tr>\n",
       "    <tr>\n",
       "      <th>129006283</th>\n",
       "      <td>1524941</td>\n",
       "      <td>129006281</td>\n",
       "      <td>2019-07-30 20:41:47</td>\n",
       "      <td>2019-07-30 21:39:15</td>\n",
       "      <td>00:57:28</td>\n",
       "    </tr>\n",
       "    <tr>\n",
       "      <th>129006777</th>\n",
       "      <td>1520651</td>\n",
       "      <td>129006775</td>\n",
       "      <td>2019-07-30 20:53:11</td>\n",
       "      <td>2019-07-30 20:53:30</td>\n",
       "      <td>00:00:19</td>\n",
       "    </tr>\n",
       "    <tr>\n",
       "      <th>129006903</th>\n",
       "      <td>1524633</td>\n",
       "      <td>129006901</td>\n",
       "      <td>2019-07-30 20:55:25</td>\n",
       "      <td>2019-07-30 21:37:29</td>\n",
       "      <td>00:42:04</td>\n",
       "    </tr>\n",
       "    <tr>\n",
       "      <th>129006907</th>\n",
       "      <td>1520651</td>\n",
       "      <td>129006905</td>\n",
       "      <td>2019-07-30 20:55:41</td>\n",
       "      <td>2019-07-30 21:37:39</td>\n",
       "      <td>00:41:58</td>\n",
       "    </tr>\n",
       "  </tbody>\n",
       "</table>\n",
       "<p>40659 rows × 5 columns</p>\n",
       "</div>"
      ],
      "text/plain": [
       "            pen_id   visit_id               start                 end  \\\n",
       "id                                                                      \n",
       "126533273  1525671  126533271 2019-01-01 14:59:21 2019-01-01 14:59:59   \n",
       "126533283  1522073  126533281 2019-01-01 15:03:55 2019-01-01 17:10:08   \n",
       "126533543  1523883  126533535 2019-01-01 15:06:59 2019-01-01 16:55:44   \n",
       "126533727  1520165  126533721 2019-01-01 15:08:39 2019-01-01 17:07:43   \n",
       "126533763  1525239  126533753 2019-01-01 15:08:54 2019-01-01 17:09:13   \n",
       "...            ...        ...                 ...                 ...   \n",
       "129006279  1522407  129006277 2019-07-30 20:41:33 2019-07-30 21:39:45   \n",
       "129006283  1524941  129006281 2019-07-30 20:41:47 2019-07-30 21:39:15   \n",
       "129006777  1520651  129006775 2019-07-30 20:53:11 2019-07-30 20:53:30   \n",
       "129006903  1524633  129006901 2019-07-30 20:55:25 2019-07-30 21:37:29   \n",
       "129006907  1520651  129006905 2019-07-30 20:55:41 2019-07-30 21:37:39   \n",
       "\n",
       "          time_spent  \n",
       "id                    \n",
       "126533273   00:00:38  \n",
       "126533283   02:06:13  \n",
       "126533543   01:48:45  \n",
       "126533727   01:59:04  \n",
       "126533763   02:00:19  \n",
       "...              ...  \n",
       "129006279   00:58:12  \n",
       "129006283   00:57:28  \n",
       "129006777   00:00:19  \n",
       "129006903   00:42:04  \n",
       "129006907   00:41:58  \n",
       "\n",
       "[40659 rows x 5 columns]"
      ]
     },
     "execution_count": 19,
     "metadata": {},
     "output_type": "execute_result"
    }
   ],
   "source": [
    "#zooming to Adam timeframe \n",
    "start_date = '01-01-2019'\n",
    "end_date = '07-31-2019'\n",
    "mask = (less_day_df['start'] > start_date) & (less_day_df['start'] <= end_date)\n",
    "seven_average_time = less_day_df.loc[mask]\n",
    "seven_average_time"
   ]
  },
  {
   "cell_type": "code",
   "execution_count": 20,
   "metadata": {},
   "outputs": [
    {
     "name": "stdout",
     "output_type": "stream",
     "text": [
      "<class 'pandas.core.frame.DataFrame'>\n",
      "Int64Index: 40659 entries, 126533273 to 129006907\n",
      "Data columns (total 5 columns):\n",
      " #   Column      Non-Null Count  Dtype          \n",
      "---  ------      --------------  -----          \n",
      " 0   pen_id      40659 non-null  int64          \n",
      " 1   visit_id    40659 non-null  int64          \n",
      " 2   start       40659 non-null  datetime64[ns] \n",
      " 3   end         40659 non-null  datetime64[ns] \n",
      " 4   time_spent  40659 non-null  timedelta64[ns]\n",
      "dtypes: datetime64[ns](2), int64(2), timedelta64[ns](1)\n",
      "memory usage: 1.9 MB\n"
     ]
    }
   ],
   "source": [
    "seven_average_time.info()"
   ]
  },
  {
   "cell_type": "code",
   "execution_count": 21,
   "metadata": {},
   "outputs": [
    {
     "data": {
      "text/plain": [
       "<matplotlib.axes._subplots.AxesSubplot at 0x7fd0954d5950>"
      ]
     },
     "execution_count": 21,
     "metadata": {},
     "output_type": "execute_result"
    },
    {
     "data": {
      "image/png": "[encoded data removed]",
      "text/plain": [
       "<Figure size 432x288 with 1 Axes>"
      ]
     },
     "metadata": {
      "needs_background": "light"
     },
     "output_type": "display_data"
    }
   ],
   "source": [
    "time_range = seven_average_time['time_spent'] < '1 days'\n",
    "range_in_min = seven_average_time[time_range]\n",
    "min_by_date = range_in_min[\"time_spent\"].map(lambda timedelta: timedelta.total_seconds() / 60)\n",
    "min_by_date = min_by_date.dropna().map(lambda seconds: math.floor(seconds))\n",
    "min_by_date = min_by_date.to_frame()\n",
    "min_by_date.groupby('time_spent').size().plot()"
   ]
  },
  {
   "cell_type": "code",
   "execution_count": 22,
   "metadata": {},
   "outputs": [
    {
     "data": {
      "text/plain": [
       "119.26680797167008"
      ]
     },
     "execution_count": 22,
     "metadata": {},
     "output_type": "execute_result"
    }
   ],
   "source": [
    "above_fivemin = min_by_date[min_by_date['time_spent'] > 5]\n",
    "above_fivemin['time_spent'].mean()\n",
    "#average time of greater than 5 min visits"
   ]
  },
  {
   "cell_type": "markdown",
   "metadata": {},
   "source": [
    "## what pens were checkout the most? "
   ]
  },
  {
   "cell_type": "code",
   "execution_count": 23,
   "metadata": {},
   "outputs": [
    {
     "data": {
      "text/plain": [
       "pen_id\n",
       "0            2\n",
       "1            6\n",
       "2            7\n",
       "3           49\n",
       "4            5\n",
       "          ... \n",
       "3860045    130\n",
       "3860047     84\n",
       "3860067    466\n",
       "3860071    100\n",
       "3860073     80\n",
       "Length: 3032, dtype: int64"
      ]
     },
     "execution_count": 23,
     "metadata": {},
     "output_type": "execute_result"
    }
   ],
   "source": [
    "pensCheckouts.groupby('pen_id').size()"
   ]
  },
  {
   "cell_type": "code",
   "execution_count": 24,
   "metadata": {},
   "outputs": [
    {
     "data": {
      "text/plain": [
       "pen_id\n",
       "1525511    826\n",
       "1519959    721\n",
       "1523121    717\n",
       "1521555    715\n",
       "1523605    670\n",
       "1524943    667\n",
       "1521201    666\n",
       "1520443    655\n",
       "1521453    647\n",
       "1524693    634\n",
       "dtype: int64"
      ]
     },
     "execution_count": 24,
     "metadata": {},
     "output_type": "execute_result"
    }
   ],
   "source": [
    "pensCheckouts.groupby('pen_id').size().nlargest(10)"
   ]
  },
  {
   "cell_type": "code",
   "execution_count": 25,
   "metadata": {},
   "outputs": [
    {
     "data": {
      "text/plain": [
       "pen_id\n",
       "1509671    1\n",
       "1509675    1\n",
       "1509679    1\n",
       "1520261    1\n",
       "1520375    1\n",
       "1520381    1\n",
       "1520391    1\n",
       "1520665    1\n",
       "1520931    1\n",
       "1521241    1\n",
       "dtype: int64"
      ]
     },
     "execution_count": 25,
     "metadata": {},
     "output_type": "execute_result"
    }
   ],
   "source": [
    "pensCheckouts.groupby('pen_id').size().nsmallest(10)"
   ]
  },
  {
   "cell_type": "code",
   "execution_count": 26,
   "metadata": {},
   "outputs": [
    {
     "data": {
      "text/plain": [
       "<matplotlib.axes._subplots.AxesSubplot at 0x7fd09dd84d90>"
      ]
     },
     "execution_count": 26,
     "metadata": {},
     "output_type": "execute_result"
    },
    {
     "data": {
      "image/png": "[encoded data removed]",
      "text/plain": [
       "<Figure size 432x288 with 1 Axes>"
      ]
     },
     "metadata": {
      "needs_background": "light"
     },
     "output_type": "display_data"
    }
   ],
   "source": [
    "pensCheckouts.groupby('pen_id').size().plot()"
   ]
  },
  {
   "cell_type": "code",
   "execution_count": null,
   "metadata": {},
   "outputs": [],
   "source": []
  },
  {
   "cell_type": "code",
   "execution_count": null,
   "metadata": {},
   "outputs": [],
   "source": []
  },
  {
   "cell_type": "code",
   "execution_count": null,
   "metadata": {},
   "outputs": [],
   "source": []
  }
 ],
 "metadata": {
  "kernelspec": {
   "display_name": "Python 3",
   "language": "python",
   "name": "python3"
  },
  "language_info": {
   "codemirror_mode": {
    "name": "ipython",
    "version": 3
   },
   "file_extension": ".py",
   "mimetype": "text/x-python",
   "name": "python",
   "nbconvert_exporter": "python",
   "pygments_lexer": "ipython3",
   "version": "3.7.6"
  }
 },
 "nbformat": 4,
 "nbformat_minor": 4
}
