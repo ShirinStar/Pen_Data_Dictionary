{
 "cells": [
  {
   "cell_type": "code",
   "execution_count": 14,
   "metadata": {},
   "outputs": [],
   "source": [
    "import pandas as pd\n",
    "import numpy as np"
   ]
  },
  {
   "cell_type": "code",
   "execution_count": 17,
   "metadata": {},
   "outputs": [],
   "source": [
    "data = [{'total visits': 119850,'collected items': 2848435, 'created items': 96250,' did nothing': 27959},\n",
    "        {'total visits': 212266,'collected items': 7588938, 'created items': 129156, '% post-engagment': 15.7,' did nothing': 24889},\n",
    "        {'total visits':140780,'collected items': 3344537, 'created items': 75204, '% post-engagment': 32,' did nothing': 21525},\n",
    "        {'total visits':127085,'collected items': 1581586, 'created items': 29831, '% post-engagment': 15.2,' did nothing': 32013},\n",
    "        {'total visits':31250,'collected items': 1304527, 'created items': 25738, '% post-engagment': 15.5,' did nothing': 23180},\n",
    "       {'total visits':16609,'collected items': 241677, 'created items': 3356, '% post-engagment': 17.8,' did nothing': 5441}]\n",
    "\n"
   ]
  },
  {
   "cell_type": "code",
   "execution_count": 18,
   "metadata": {},
   "outputs": [],
   "source": [
    "df = pd.DataFrame(data, index =[2015, \n",
    "                                2016, \n",
    "                                2017, \n",
    "                                2018,\n",
    "                                2019, \n",
    "                                2020])"
   ]
  },
  {
   "cell_type": "code",
   "execution_count": 19,
   "metadata": {},
   "outputs": [],
   "source": [
    "df['% post-engagment'].replace(np.NaN, '--', regex=True, inplace=True)"
   ]
  },
  {
   "cell_type": "code",
   "execution_count": 20,
   "metadata": {},
   "outputs": [
    {
     "data": {
      "text/html": [
       "<div>\n",
       "<style scoped>\n",
       "    .dataframe tbody tr th:only-of-type {\n",
       "        vertical-align: middle;\n",
       "    }\n",
       "\n",
       "    .dataframe tbody tr th {\n",
       "        vertical-align: top;\n",
       "    }\n",
       "\n",
       "    .dataframe thead th {\n",
       "        text-align: right;\n",
       "    }\n",
       "</style>\n",
       "<table border=\"1\" class=\"dataframe\">\n",
       "  <thead>\n",
       "    <tr style=\"text-align: right;\">\n",
       "      <th></th>\n",
       "      <th>total visits</th>\n",
       "      <th>collected items</th>\n",
       "      <th>created items</th>\n",
       "      <th>did nothing</th>\n",
       "      <th>% post-engagment</th>\n",
       "    </tr>\n",
       "  </thead>\n",
       "  <tbody>\n",
       "    <tr>\n",
       "      <th>2015</th>\n",
       "      <td>119850</td>\n",
       "      <td>2848435</td>\n",
       "      <td>96250</td>\n",
       "      <td>27959</td>\n",
       "      <td>--</td>\n",
       "    </tr>\n",
       "    <tr>\n",
       "      <th>2016</th>\n",
       "      <td>212266</td>\n",
       "      <td>7588938</td>\n",
       "      <td>129156</td>\n",
       "      <td>24889</td>\n",
       "      <td>15.7</td>\n",
       "    </tr>\n",
       "    <tr>\n",
       "      <th>2017</th>\n",
       "      <td>140780</td>\n",
       "      <td>3344537</td>\n",
       "      <td>75204</td>\n",
       "      <td>21525</td>\n",
       "      <td>32</td>\n",
       "    </tr>\n",
       "    <tr>\n",
       "      <th>2018</th>\n",
       "      <td>127085</td>\n",
       "      <td>1581586</td>\n",
       "      <td>29831</td>\n",
       "      <td>32013</td>\n",
       "      <td>15.2</td>\n",
       "    </tr>\n",
       "    <tr>\n",
       "      <th>2019</th>\n",
       "      <td>31250</td>\n",
       "      <td>1304527</td>\n",
       "      <td>25738</td>\n",
       "      <td>23180</td>\n",
       "      <td>15.5</td>\n",
       "    </tr>\n",
       "    <tr>\n",
       "      <th>2020</th>\n",
       "      <td>16609</td>\n",
       "      <td>241677</td>\n",
       "      <td>3356</td>\n",
       "      <td>5441</td>\n",
       "      <td>17.8</td>\n",
       "    </tr>\n",
       "  </tbody>\n",
       "</table>\n",
       "</div>"
      ],
      "text/plain": [
       "      total visits  collected items  created items   did nothing  \\\n",
       "2015        119850          2848435          96250         27959   \n",
       "2016        212266          7588938         129156         24889   \n",
       "2017        140780          3344537          75204         21525   \n",
       "2018        127085          1581586          29831         32013   \n",
       "2019         31250          1304527          25738         23180   \n",
       "2020         16609           241677           3356          5441   \n",
       "\n",
       "     % post-engagment  \n",
       "2015               --  \n",
       "2016             15.7  \n",
       "2017               32  \n",
       "2018             15.2  \n",
       "2019             15.5  \n",
       "2020             17.8  "
      ]
     },
     "execution_count": 20,
     "metadata": {},
     "output_type": "execute_result"
    }
   ],
   "source": [
    "df"
   ]
  },
  {
   "cell_type": "code",
   "execution_count": null,
   "metadata": {},
   "outputs": [],
   "source": []
  }
 ],
 "metadata": {
  "kernelspec": {
   "display_name": "Python 3",
   "language": "python",
   "name": "python3"
  },
  "language_info": {
   "codemirror_mode": {
    "name": "ipython",
    "version": 3
   },
   "file_extension": ".py",
   "mimetype": "text/x-python",
   "name": "python",
   "nbconvert_exporter": "python",
   "pygments_lexer": "ipython3",
   "version": "3.7.6"
  }
 },
 "nbformat": 4,
 "nbformat_minor": 4
}
