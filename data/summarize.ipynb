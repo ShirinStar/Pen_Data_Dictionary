{
 "cells": [
  {
   "cell_type": "code",
   "execution_count": 1,
   "metadata": {},
   "outputs": [],
   "source": [
    "import pandas as pd"
   ]
  },
  {
   "cell_type": "code",
   "execution_count": 11,
   "metadata": {},
   "outputs": [],
   "source": [
    "data = [{'total visits': 119850,'items collected': 2848435, 'collected items': 96250,' did nothing': 30074},\n",
    "        {'total visits': 212266,'items collected': 7588938, 'collected items': 129156, '% post-engagment': 15.4,' did nothing': 27851},\n",
    "        {'total visits':140780,'items collected': 3344537, 'collected items': 75204, '% post-engagment': 31.6,' did nothing': 24293},\n",
    "        {'total visits':127085,'items collected': 1581586, 'collected items': 29831, '% post-engagment': 14.8,' did nothing': 35602},\n",
    "        {'total visits':31250,'items collected': 1304527, 'collected items': 25738, '% post-engagment': 15.4,' did nothing': 25781}]"
   ]
  },
  {
   "cell_type": "code",
   "execution_count": 12,
   "metadata": {},
   "outputs": [],
   "source": [
    "df = pd.DataFrame(data, index =[2015, \n",
    "                                2016, \n",
    "                                2017, \n",
    "                                2018,\n",
    "                                2019])"
   ]
  },
  {
   "cell_type": "code",
   "execution_count": 13,
   "metadata": {},
   "outputs": [
    {
     "data": {
      "text/html": [
       "<div>\n",
       "<style scoped>\n",
       "    .dataframe tbody tr th:only-of-type {\n",
       "        vertical-align: middle;\n",
       "    }\n",
       "\n",
       "    .dataframe tbody tr th {\n",
       "        vertical-align: top;\n",
       "    }\n",
       "\n",
       "    .dataframe thead th {\n",
       "        text-align: right;\n",
       "    }\n",
       "</style>\n",
       "<table border=\"1\" class=\"dataframe\">\n",
       "  <thead>\n",
       "    <tr style=\"text-align: right;\">\n",
       "      <th></th>\n",
       "      <th>total visits</th>\n",
       "      <th>items collected</th>\n",
       "      <th>collected items</th>\n",
       "      <th>did nothing</th>\n",
       "      <th>% post-engagment</th>\n",
       "    </tr>\n",
       "  </thead>\n",
       "  <tbody>\n",
       "    <tr>\n",
       "      <th>2015</th>\n",
       "      <td>119850</td>\n",
       "      <td>2848435</td>\n",
       "      <td>96250</td>\n",
       "      <td>30074</td>\n",
       "      <td>NaN</td>\n",
       "    </tr>\n",
       "    <tr>\n",
       "      <th>2016</th>\n",
       "      <td>212266</td>\n",
       "      <td>7588938</td>\n",
       "      <td>129156</td>\n",
       "      <td>27851</td>\n",
       "      <td>15.4</td>\n",
       "    </tr>\n",
       "    <tr>\n",
       "      <th>2017</th>\n",
       "      <td>140780</td>\n",
       "      <td>3344537</td>\n",
       "      <td>75204</td>\n",
       "      <td>24293</td>\n",
       "      <td>31.6</td>\n",
       "    </tr>\n",
       "    <tr>\n",
       "      <th>2018</th>\n",
       "      <td>127085</td>\n",
       "      <td>1581586</td>\n",
       "      <td>29831</td>\n",
       "      <td>35602</td>\n",
       "      <td>14.8</td>\n",
       "    </tr>\n",
       "    <tr>\n",
       "      <th>2019</th>\n",
       "      <td>31250</td>\n",
       "      <td>1304527</td>\n",
       "      <td>25738</td>\n",
       "      <td>25781</td>\n",
       "      <td>15.4</td>\n",
       "    </tr>\n",
       "  </tbody>\n",
       "</table>\n",
       "</div>"
      ],
      "text/plain": [
       "      total visits  items collected  collected items   did nothing  \\\n",
       "2015        119850          2848435            96250         30074   \n",
       "2016        212266          7588938           129156         27851   \n",
       "2017        140780          3344537            75204         24293   \n",
       "2018        127085          1581586            29831         35602   \n",
       "2019         31250          1304527            25738         25781   \n",
       "\n",
       "      % post-engagment  \n",
       "2015               NaN  \n",
       "2016              15.4  \n",
       "2017              31.6  \n",
       "2018              14.8  \n",
       "2019              15.4  "
      ]
     },
     "execution_count": 13,
     "metadata": {},
     "output_type": "execute_result"
    }
   ],
   "source": [
    "df"
   ]
  },
  {
   "cell_type": "code",
   "execution_count": null,
   "metadata": {},
   "outputs": [],
   "source": []
  }
 ],
 "metadata": {
  "kernelspec": {
   "display_name": "Python 3",
   "language": "python",
   "name": "python3"
  },
  "language_info": {
   "codemirror_mode": {
    "name": "ipython",
    "version": 3
   },
   "file_extension": ".py",
   "mimetype": "text/x-python",
   "name": "python",
   "nbconvert_exporter": "python",
   "pygments_lexer": "ipython3",
   "version": "3.7.6"
  }
 },
 "nbformat": 4,
 "nbformat_minor": 4
}
