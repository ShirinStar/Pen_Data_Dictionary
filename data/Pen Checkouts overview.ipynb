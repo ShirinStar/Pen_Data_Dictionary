{
 "cells": [
  {
   "cell_type": "code",
   "execution_count": 1,
   "metadata": {},
   "outputs": [],
   "source": [
    "import mysql.connector as sql\n",
    "import pandas as pd\n",
    "import datetime as dt\n",
    "import numpy as np\n",
    "from sorted_months_weekdays import *\n",
    "from sort_dataframeby_monthorweek import *\n",
    "import matplotlib.pyplot as plt\n",
    "import math"
   ]
  },
  {
   "cell_type": "code",
   "execution_count": 2,
   "metadata": {},
   "outputs": [],
   "source": [
    "db_connection = sql.connect(host='localhost', database='collection_visits', user='pandas', password='password')\n",
    "\n",
    "pensCheckouts = pd.read_sql('SELECT * FROM PensCheckouts', con=db_connection)\n",
    "pensCheckouts['start'] = pd.to_datetime(pensCheckouts['start'], unit='s').dt.tz_localize('utc').dt.tz_convert('US/Eastern')\n",
    "pensCheckouts['start'].replace(0, np.nan, inplace=True)\n",
    "pensCheckouts['end'].replace(0, np.nan, inplace=True)\n",
    "pensCheckouts['end'] = pd.to_datetime(pensCheckouts['end'], unit='s').dt.tz_localize('utc').dt.tz_convert('US/Eastern')\n",
    "pensCheckouts['start_ip'].replace(0, np.nan, inplace=True)\n",
    "pensCheckouts['end_ip'].replace(0, np.nan, inplace=True)\n",
    "pensCheckouts['start_ip'] = pensCheckouts['start_ip'].astype('category')\n",
    "pensCheckouts['end_ip'] = pensCheckouts['end_ip'].astype('category')\n",
    "\n",
    "pensCheckouts.set_index('id', inplace=True)\n",
    "pensCheckouts.sort_index(inplace=True)\n",
    "###DROPED COLUMNS####\n",
    "pensCheckouts.drop(['start_ip', 'end_ip'], axis=1, inplace=True)"
   ]
  },
  {
   "cell_type": "code",
   "execution_count": 3,
   "metadata": {},
   "outputs": [],
   "source": [
    "pd.set_option('display.max_rows', 200)\n",
    "pd.set_option('display.max_columns', 50)"
   ]
  },
  {
   "cell_type": "code",
   "execution_count": 5,
   "metadata": {},
   "outputs": [
    {
     "data": {
      "text/html": [
       "<div>\n",
       "<style scoped>\n",
       "    .dataframe tbody tr th:only-of-type {\n",
       "        vertical-align: middle;\n",
       "    }\n",
       "\n",
       "    .dataframe tbody tr th {\n",
       "        vertical-align: top;\n",
       "    }\n",
       "\n",
       "    .dataframe thead th {\n",
       "        text-align: right;\n",
       "    }\n",
       "</style>\n",
       "<table border=\"1\" class=\"dataframe\">\n",
       "  <thead>\n",
       "    <tr style=\"text-align: right;\">\n",
       "      <th></th>\n",
       "      <th>pen_id</th>\n",
       "      <th>visit_id</th>\n",
       "    </tr>\n",
       "  </thead>\n",
       "  <tbody>\n",
       "    <tr>\n",
       "      <th>count</th>\n",
       "      <td>5.563370e+05</td>\n",
       "      <td>5.563370e+05</td>\n",
       "    </tr>\n",
       "    <tr>\n",
       "      <th>mean</th>\n",
       "      <td>1.540842e+06</td>\n",
       "      <td>1.054608e+08</td>\n",
       "    </tr>\n",
       "    <tr>\n",
       "      <th>std</th>\n",
       "      <td>2.064411e+05</td>\n",
       "      <td>2.996087e+07</td>\n",
       "    </tr>\n",
       "    <tr>\n",
       "      <th>min</th>\n",
       "      <td>0.000000e+00</td>\n",
       "      <td>7.934010e+05</td>\n",
       "    </tr>\n",
       "    <tr>\n",
       "      <th>25%</th>\n",
       "      <td>1.521293e+06</td>\n",
       "      <td>9.319917e+07</td>\n",
       "    </tr>\n",
       "    <tr>\n",
       "      <th>50%</th>\n",
       "      <td>1.522895e+06</td>\n",
       "      <td>1.128671e+08</td>\n",
       "    </tr>\n",
       "    <tr>\n",
       "      <th>75%</th>\n",
       "      <td>1.524479e+06</td>\n",
       "      <td>1.248006e+08</td>\n",
       "    </tr>\n",
       "    <tr>\n",
       "      <th>max</th>\n",
       "      <td>3.860073e+06</td>\n",
       "      <td>1.328067e+08</td>\n",
       "    </tr>\n",
       "  </tbody>\n",
       "</table>\n",
       "</div>"
      ],
      "text/plain": [
       "             pen_id      visit_id\n",
       "count  5.563370e+05  5.563370e+05\n",
       "mean   1.540842e+06  1.054608e+08\n",
       "std    2.064411e+05  2.996087e+07\n",
       "min    0.000000e+00  7.934010e+05\n",
       "25%    1.521293e+06  9.319917e+07\n",
       "50%    1.522895e+06  1.128671e+08\n",
       "75%    1.524479e+06  1.248006e+08\n",
       "max    3.860073e+06  1.328067e+08"
      ]
     },
     "execution_count": 5,
     "metadata": {},
     "output_type": "execute_result"
    }
   ],
   "source": [
    "pensCheckouts.describe()"
   ]
  },
  {
   "cell_type": "markdown",
   "metadata": {},
   "source": [
    "## how many checkout per time "
   ]
  },
  {
   "cell_type": "code",
   "execution_count": 6,
   "metadata": {},
   "outputs": [
    {
     "data": {
      "text/plain": [
       "pen_id      556337\n",
       "visit_id    556337\n",
       "start       556337\n",
       "end         536811\n",
       "dtype: int64"
      ]
     },
     "execution_count": 6,
     "metadata": {},
     "output_type": "execute_result"
    }
   ],
   "source": [
    "pensCheckouts.count()\n",
    "#556337 checkout in total"
   ]
  },
  {
   "cell_type": "code",
   "execution_count": 7,
   "metadata": {},
   "outputs": [
    {
     "data": {
      "text/plain": [
       "1525511    826\n",
       "1519959    721\n",
       "1523121    717\n",
       "1521555    715\n",
       "1523605    670\n",
       "          ... \n",
       "1520261      1\n",
       "1523533      1\n",
       "1520381      1\n",
       "1521241      1\n",
       "1526871      1\n",
       "Name: pen_id, Length: 3032, dtype: int64"
      ]
     },
     "execution_count": 7,
     "metadata": {},
     "output_type": "execute_result"
    }
   ],
   "source": [
    "pensCheckouts['pen_id'].value_counts()\n",
    "#what pen was used the most"
   ]
  },
  {
   "cell_type": "code",
   "execution_count": 8,
   "metadata": {
    "collapsed": true
   },
   "outputs": [
    {
     "data": {
      "text/html": [
       "<div>\n",
       "<style scoped>\n",
       "    .dataframe tbody tr th:only-of-type {\n",
       "        vertical-align: middle;\n",
       "    }\n",
       "\n",
       "    .dataframe tbody tr th {\n",
       "        vertical-align: top;\n",
       "    }\n",
       "\n",
       "    .dataframe thead th {\n",
       "        text-align: right;\n",
       "    }\n",
       "</style>\n",
       "<table border=\"1\" class=\"dataframe\">\n",
       "  <thead>\n",
       "    <tr style=\"text-align: right;\">\n",
       "      <th></th>\n",
       "      <th>pen_id</th>\n",
       "      <th>time_used</th>\n",
       "    </tr>\n",
       "  </thead>\n",
       "  <tbody>\n",
       "    <tr>\n",
       "      <th>0</th>\n",
       "      <td>1525511</td>\n",
       "      <td>826</td>\n",
       "    </tr>\n",
       "    <tr>\n",
       "      <th>1</th>\n",
       "      <td>1519959</td>\n",
       "      <td>721</td>\n",
       "    </tr>\n",
       "    <tr>\n",
       "      <th>2</th>\n",
       "      <td>1523121</td>\n",
       "      <td>717</td>\n",
       "    </tr>\n",
       "    <tr>\n",
       "      <th>3</th>\n",
       "      <td>1521555</td>\n",
       "      <td>715</td>\n",
       "    </tr>\n",
       "    <tr>\n",
       "      <th>4</th>\n",
       "      <td>1523605</td>\n",
       "      <td>670</td>\n",
       "    </tr>\n",
       "    <tr>\n",
       "      <th>...</th>\n",
       "      <td>...</td>\n",
       "      <td>...</td>\n",
       "    </tr>\n",
       "    <tr>\n",
       "      <th>3027</th>\n",
       "      <td>1520261</td>\n",
       "      <td>1</td>\n",
       "    </tr>\n",
       "    <tr>\n",
       "      <th>3028</th>\n",
       "      <td>1523533</td>\n",
       "      <td>1</td>\n",
       "    </tr>\n",
       "    <tr>\n",
       "      <th>3029</th>\n",
       "      <td>1520381</td>\n",
       "      <td>1</td>\n",
       "    </tr>\n",
       "    <tr>\n",
       "      <th>3030</th>\n",
       "      <td>1521241</td>\n",
       "      <td>1</td>\n",
       "    </tr>\n",
       "    <tr>\n",
       "      <th>3031</th>\n",
       "      <td>1526871</td>\n",
       "      <td>1</td>\n",
       "    </tr>\n",
       "  </tbody>\n",
       "</table>\n",
       "<p>3032 rows × 2 columns</p>\n",
       "</div>"
      ],
      "text/plain": [
       "       pen_id  time_used\n",
       "0     1525511        826\n",
       "1     1519959        721\n",
       "2     1523121        717\n",
       "3     1521555        715\n",
       "4     1523605        670\n",
       "...       ...        ...\n",
       "3027  1520261          1\n",
       "3028  1523533          1\n",
       "3029  1520381          1\n",
       "3030  1521241          1\n",
       "3031  1526871          1\n",
       "\n",
       "[3032 rows x 2 columns]"
      ]
     },
     "execution_count": 8,
     "metadata": {},
     "output_type": "execute_result"
    }
   ],
   "source": [
    "most_used_pens = pensCheckouts['pen_id'].value_counts()\n",
    "most_used_pens = most_used_pens.to_frame().reset_index().rename({'index': 'pen_id', 'pen_id': 'time_used'}, axis=1)\n",
    "most_used_pens"
   ]
  },
  {
   "cell_type": "code",
   "execution_count": 9,
   "metadata": {
    "collapsed": true
   },
   "outputs": [
    {
     "data": {
      "text/plain": [
       "pen_id\n",
       "1525511    826\n",
       "1519959    721\n",
       "1523121    717\n",
       "1521555    715\n",
       "1523605    670\n",
       "1524943    667\n",
       "1521201    666\n",
       "1520443    655\n",
       "1521453    647\n",
       "1524693    634\n",
       "dtype: int64"
      ]
     },
     "execution_count": 9,
     "metadata": {},
     "output_type": "execute_result"
    }
   ],
   "source": [
    "pensCheckouts.groupby(['pen_id']).size().nlargest(10)"
   ]
  },
  {
   "cell_type": "code",
   "execution_count": 4,
   "metadata": {},
   "outputs": [
    {
     "name": "stderr",
     "output_type": "stream",
     "text": [
      "/Users/shirin/opt/anaconda3/lib/python3.7/site-packages/pandas/core/arrays/datetimes.py:1102: UserWarning: Converting to PeriodArray/Index representation will drop timezone information.\n",
      "  UserWarning,\n"
     ]
    },
    {
     "data": {
      "text/plain": [
       "<matplotlib.legend.Legend at 0x7fdc6ae31dd0>"
      ]
     },
     "execution_count": 4,
     "metadata": {},
     "output_type": "execute_result"
    },
    {
     "data": {
      "image/png": "[encoded data removed]",
      "text/plain": [
       "<Figure size 576x360 with 1 Axes>"
      ]
     },
     "metadata": {
      "needs_background": "light"
     },
     "output_type": "display_data"
    }
   ],
   "source": [
    "checkout_by_month = pensCheckouts['start'].groupby(pensCheckouts.start.dt.to_period(\"M\")).agg('count')\n",
    "\n",
    "plt.figure(figsize=(8,5))\n",
    "plt.title('What month was with most checkouts?', fontdict={'fontweight': 'bold', 'fontsize':18})\n",
    "checkout_by_month.plot()\n",
    "plt.xlabel('Dates')\n",
    "plt.ylabel('Values count')\n",
    "plt.legend()\n",
    "# plt.savefig('monthly_checkouts.png', dpi=300)\n",
    "#most active between 2015-2017"
   ]
  },
  {
   "cell_type": "code",
   "execution_count": 13,
   "metadata": {},
   "outputs": [
    {
     "data": {
      "text/plain": [
       "start\n",
       "2016-02    15110\n",
       "2017-04    14874\n",
       "2015-12    14705\n",
       "2015-04    14520\n",
       "2016-09    14339\n",
       "Freq: M, Name: start, dtype: int64"
      ]
     },
     "execution_count": 13,
     "metadata": {},
     "output_type": "execute_result"
    }
   ],
   "source": [
    "checkout_by_month.nlargest()\n",
    "#the most active months"
   ]
  },
  {
   "cell_type": "code",
   "execution_count": 11,
   "metadata": {},
   "outputs": [
    {
     "data": {
      "text/plain": [
       "start\n",
       "2014-10      20\n",
       "2015-01      30\n",
       "2020-07      36\n",
       "2014-12      63\n",
       "2015-02     126\n",
       "2014-11     154\n",
       "2019-01     447\n",
       "2020-03     854\n",
       "2019-03    3404\n",
       "2016-05    3643\n",
       "Freq: M, Name: start, dtype: int64"
      ]
     },
     "execution_count": 11,
     "metadata": {},
     "output_type": "execute_result"
    }
   ],
   "source": [
    "pensCheckouts['start'].groupby(pensCheckouts.start.dt.to_period(\"M\")).agg('count').nsmallest(10)\n",
    "#January 2019 was the weakest after the start of the project and before covid19\n",
    "#will be interesting to compare it to events / exhibitions at the same time / months"
   ]
  },
  {
   "cell_type": "code",
   "execution_count": 84,
   "metadata": {},
   "outputs": [
    {
     "name": "stderr",
     "output_type": "stream",
     "text": [
      "/Users/shirin/opt/anaconda3/lib/python3.7/site-packages/pandas/core/arrays/datetimes.py:1102: UserWarning: Converting to PeriodArray/Index representation will drop timezone information.\n",
      "  UserWarning,\n"
     ]
    },
    {
     "data": {
      "text/plain": [
       "Text(0, 0.5, 'Values percentage')"
      ]
     },
     "execution_count": 84,
     "metadata": {},
     "output_type": "execute_result"
    },
    {
     "data": {
      "image/png": "[encoded data removed]",
      "text/plain": [
       "<Figure size 360x360 with 1 Axes>"
      ]
     },
     "metadata": {},
     "output_type": "display_data"
    }
   ],
   "source": [
    "checkout_by_year = pensCheckouts['start'].groupby(pensCheckouts.start.dt.to_period(\"Y\")).agg('count')\n",
    "\n",
    "plt.figure(figsize=(8,5))\n",
    "plt.title('What year was with most checkouts?', fontdict={'fontweight': 'bold', 'fontsize':18})\n",
    "checkout_by_year.plot.pie(y='start', figsize=(5, 5),autopct='%1.1f%%', startangle=90, cmap='Blues_r')\n",
    "plt.ylabel('Values percentage')\n",
    "# plt.savefig('yearly_checkouts.png', dpi=300)\n",
    "\n",
    "#2016 + 2015 were the most popular years\n",
    "#2017 +2018 were the same\n",
    "#2019 decreased in almost 2%"
   ]
  },
  {
   "cell_type": "code",
   "execution_count": 4,
   "metadata": {},
   "outputs": [
    {
     "data": {
      "text/plain": [
       "<matplotlib.legend.Legend at 0x7feef4fa77d0>"
      ]
     },
     "execution_count": 4,
     "metadata": {},
     "output_type": "execute_result"
    },
    {
     "data": {
      "image/png": "[encoded data removed]",
      "text/plain": [
       "<Figure size 576x360 with 1 Axes>"
      ]
     },
     "metadata": {
      "needs_background": "light"
     },
     "output_type": "display_data"
    }
   ],
   "source": [
    "checkout_by_day = pensCheckouts['start'].groupby(pensCheckouts.start.dt.to_period(\"D\")).agg('count')\n",
    "\n",
    "plt.figure(figsize=(8,5))\n",
    "plt.title('What day was with most checkout?', fontdict={'fontweight': 'bold', 'fontsize':18})\n",
    "checkout_by_day.plot()\n",
    "plt.xlabel('Dates')\n",
    "plt.ylabel('Values count')\n",
    "plt.legend()"
   ]
  },
  {
   "cell_type": "code",
   "execution_count": 5,
   "metadata": {},
   "outputs": [
    {
     "data": {
      "text/plain": [
       "start\n",
       "2017-09-23    1845\n",
       "2016-09-24    1563\n",
       "2016-01-02    1408\n",
       "2016-03-05    1365\n",
       "2016-02-20    1242\n",
       "Freq: D, Name: start, dtype: int64"
      ]
     },
     "execution_count": 5,
     "metadata": {},
     "output_type": "execute_result"
    }
   ],
   "source": [
    "pensCheckouts['start'].groupby(pensCheckouts.start.dt.to_period(\"D\")).agg('count').nlargest()"
   ]
  },
  {
   "cell_type": "code",
   "execution_count": 6,
   "metadata": {},
   "outputs": [
    {
     "data": {
      "text/plain": [
       "<matplotlib.legend.Legend at 0x7fdc6a5884d0>"
      ]
     },
     "execution_count": 6,
     "metadata": {},
     "output_type": "execute_result"
    },
    {
     "data": {
      "image/png": "[encoded data removed]",
      "text/plain": [
       "<Figure size 360x360 with 1 Axes>"
      ]
     },
     "metadata": {},
     "output_type": "display_data"
    }
   ],
   "source": [
    "popular_days = pensCheckouts['start'].groupby(pensCheckouts.start.dt.weekday).agg('count').sort_values(ascending=False)\n",
    "\n",
    "plt.figure(figsize=(8,5))\n",
    "plt.title('What day was with most checkouts?', fontdict={'fontweight': 'bold', 'fontsize':18})\n",
    "popular_days.plot.pie(y='start', figsize=(5, 5),autopct='%1.1f%%', startangle=90, cmap='Blues_r')\n",
    "plt.ylabel('Values percentage')\n",
    "plt.legend()\n",
    "# plt.savefig('yearly_checkouts.png', dpi=300)"
   ]
  },
  {
   "cell_type": "code",
   "execution_count": 28,
   "metadata": {},
   "outputs": [
    {
     "data": {
      "text/plain": [
       "start\n",
       "5    142236\n",
       "6    101501\n",
       "4     73152\n",
       "0     64990\n",
       "1     59556\n",
       "3     58218\n",
       "2     56684\n",
       "Name: start, dtype: int64"
      ]
     },
     "execution_count": 28,
     "metadata": {},
     "output_type": "execute_result"
    }
   ],
   "source": [
    "popular_days"
   ]
  },
  {
   "cell_type": "markdown",
   "metadata": {},
   "source": [
    "## zooming into particular time\n",
    "### London September 2016"
   ]
  },
  {
   "cell_type": "code",
   "execution_count": 5,
   "metadata": {},
   "outputs": [
    {
     "data": {
      "text/html": [
       "<div>\n",
       "<style scoped>\n",
       "    .dataframe tbody tr th:only-of-type {\n",
       "        vertical-align: middle;\n",
       "    }\n",
       "\n",
       "    .dataframe tbody tr th {\n",
       "        vertical-align: top;\n",
       "    }\n",
       "\n",
       "    .dataframe thead th {\n",
       "        text-align: right;\n",
       "    }\n",
       "</style>\n",
       "<table border=\"1\" class=\"dataframe\">\n",
       "  <thead>\n",
       "    <tr style=\"text-align: right;\">\n",
       "      <th></th>\n",
       "      <th>pen_id</th>\n",
       "      <th>visit_id</th>\n",
       "      <th>start</th>\n",
       "      <th>end</th>\n",
       "    </tr>\n",
       "    <tr>\n",
       "      <th>id</th>\n",
       "      <th></th>\n",
       "      <th></th>\n",
       "      <th></th>\n",
       "      <th></th>\n",
       "    </tr>\n",
       "  </thead>\n",
       "  <tbody>\n",
       "    <tr>\n",
       "      <th>108526123</th>\n",
       "      <td>1520095</td>\n",
       "      <td>108526121</td>\n",
       "      <td>2016-09-07 13:36:50</td>\n",
       "      <td>2016-09-07 13:36:55</td>\n",
       "    </tr>\n",
       "    <tr>\n",
       "      <th>108526125</th>\n",
       "      <td>1523789</td>\n",
       "      <td>108526121</td>\n",
       "      <td>2016-09-07 13:37:37</td>\n",
       "      <td>2016-09-07 13:38:24</td>\n",
       "    </tr>\n",
       "    <tr>\n",
       "      <th>108526127</th>\n",
       "      <td>1521533</td>\n",
       "      <td>108526121</td>\n",
       "      <td>2016-09-07 13:39:22</td>\n",
       "      <td>2016-09-07 13:39:31</td>\n",
       "    </tr>\n",
       "    <tr>\n",
       "      <th>108526129</th>\n",
       "      <td>1524309</td>\n",
       "      <td>108526121</td>\n",
       "      <td>2016-09-07 13:39:40</td>\n",
       "      <td>2016-09-07 13:39:49</td>\n",
       "    </tr>\n",
       "    <tr>\n",
       "      <th>108526131</th>\n",
       "      <td>1521323</td>\n",
       "      <td>108526121</td>\n",
       "      <td>2016-09-07 13:40:18</td>\n",
       "      <td>2016-09-07 13:40:43</td>\n",
       "    </tr>\n",
       "    <tr>\n",
       "      <th>...</th>\n",
       "      <td>...</td>\n",
       "      <td>...</td>\n",
       "      <td>...</td>\n",
       "      <td>...</td>\n",
       "    </tr>\n",
       "    <tr>\n",
       "      <th>109031123</th>\n",
       "      <td>1521361</td>\n",
       "      <td>109031121</td>\n",
       "      <td>2016-09-26 21:18:27</td>\n",
       "      <td>2016-09-26 21:41:23</td>\n",
       "    </tr>\n",
       "    <tr>\n",
       "      <th>109031127</th>\n",
       "      <td>1526877</td>\n",
       "      <td>109031125</td>\n",
       "      <td>2016-09-26 21:18:38</td>\n",
       "      <td>2016-09-26 21:41:19</td>\n",
       "    </tr>\n",
       "    <tr>\n",
       "      <th>109031131</th>\n",
       "      <td>1523131</td>\n",
       "      <td>109031129</td>\n",
       "      <td>2016-09-26 21:18:48</td>\n",
       "      <td>2016-09-26 21:40:55</td>\n",
       "    </tr>\n",
       "    <tr>\n",
       "      <th>109031135</th>\n",
       "      <td>1522299</td>\n",
       "      <td>109031133</td>\n",
       "      <td>2016-09-26 21:18:59</td>\n",
       "      <td>2016-09-26 21:41:39</td>\n",
       "    </tr>\n",
       "    <tr>\n",
       "      <th>109031139</th>\n",
       "      <td>1520225</td>\n",
       "      <td>109031137</td>\n",
       "      <td>2016-09-26 21:19:14</td>\n",
       "      <td>2016-09-26 21:41:54</td>\n",
       "    </tr>\n",
       "  </tbody>\n",
       "</table>\n",
       "<p>8854 rows × 4 columns</p>\n",
       "</div>"
      ],
      "text/plain": [
       "            pen_id   visit_id               start                 end\n",
       "id                                                                   \n",
       "108526123  1520095  108526121 2016-09-07 13:36:50 2016-09-07 13:36:55\n",
       "108526125  1523789  108526121 2016-09-07 13:37:37 2016-09-07 13:38:24\n",
       "108526127  1521533  108526121 2016-09-07 13:39:22 2016-09-07 13:39:31\n",
       "108526129  1524309  108526121 2016-09-07 13:39:40 2016-09-07 13:39:49\n",
       "108526131  1521323  108526121 2016-09-07 13:40:18 2016-09-07 13:40:43\n",
       "...            ...        ...                 ...                 ...\n",
       "109031123  1521361  109031121 2016-09-26 21:18:27 2016-09-26 21:41:23\n",
       "109031127  1526877  109031125 2016-09-26 21:18:38 2016-09-26 21:41:19\n",
       "109031131  1523131  109031129 2016-09-26 21:18:48 2016-09-26 21:40:55\n",
       "109031135  1522299  109031133 2016-09-26 21:18:59 2016-09-26 21:41:39\n",
       "109031139  1520225  109031137 2016-09-26 21:19:14 2016-09-26 21:41:54\n",
       "\n",
       "[8854 rows x 4 columns]"
      ]
     },
     "execution_count": 5,
     "metadata": {},
     "output_type": "execute_result"
    }
   ],
   "source": [
    "#Zooming into London 2016\n",
    "start_date = '2016-09-07'\n",
    "end_date = '2016-09-27'\n",
    "mask = (pensCheckouts['start'] > start_date) & (pensCheckouts['start'] <= end_date)\n",
    "london = pensCheckouts.loc[mask]\n",
    "london"
   ]
  },
  {
   "cell_type": "code",
   "execution_count": 9,
   "metadata": {},
   "outputs": [
    {
     "name": "stdout",
     "output_type": "stream",
     "text": [
      "<class 'pandas.core.frame.DataFrame'>\n",
      "Int64Index: 8854 entries, 108526123 to 109031139\n",
      "Data columns (total 4 columns):\n",
      " #   Column    Non-Null Count  Dtype         \n",
      "---  ------    --------------  -----         \n",
      " 0   pen_id    8854 non-null   int64         \n",
      " 1   visit_id  8854 non-null   int64         \n",
      " 2   start     8854 non-null   datetime64[ns]\n",
      " 3   end       8854 non-null   datetime64[ns]\n",
      "dtypes: datetime64[ns](2), int64(2)\n",
      "memory usage: 665.9 KB\n"
     ]
    }
   ],
   "source": [
    "london.info()"
   ]
  },
  {
   "cell_type": "markdown",
   "metadata": {},
   "source": [
    "### Adam timeframe (January - July 2019)"
   ]
  },
  {
   "cell_type": "code",
   "execution_count": 29,
   "metadata": {},
   "outputs": [
    {
     "data": {
      "text/html": [
       "<div>\n",
       "<style scoped>\n",
       "    .dataframe tbody tr th:only-of-type {\n",
       "        vertical-align: middle;\n",
       "    }\n",
       "\n",
       "    .dataframe tbody tr th {\n",
       "        vertical-align: top;\n",
       "    }\n",
       "\n",
       "    .dataframe thead th {\n",
       "        text-align: right;\n",
       "    }\n",
       "</style>\n",
       "<table border=\"1\" class=\"dataframe\">\n",
       "  <thead>\n",
       "    <tr style=\"text-align: right;\">\n",
       "      <th></th>\n",
       "      <th>pen_id</th>\n",
       "      <th>visit_id</th>\n",
       "      <th>start</th>\n",
       "      <th>end</th>\n",
       "    </tr>\n",
       "    <tr>\n",
       "      <th>id</th>\n",
       "      <th></th>\n",
       "      <th></th>\n",
       "      <th></th>\n",
       "      <th></th>\n",
       "    </tr>\n",
       "  </thead>\n",
       "  <tbody>\n",
       "    <tr>\n",
       "      <th>126533273</th>\n",
       "      <td>1525671</td>\n",
       "      <td>126533271</td>\n",
       "      <td>2019-01-01 14:59:21</td>\n",
       "      <td>2019-01-01 14:59:59</td>\n",
       "    </tr>\n",
       "    <tr>\n",
       "      <th>126533283</th>\n",
       "      <td>1522073</td>\n",
       "      <td>126533281</td>\n",
       "      <td>2019-01-01 15:03:55</td>\n",
       "      <td>2019-01-01 17:10:08</td>\n",
       "    </tr>\n",
       "    <tr>\n",
       "      <th>126533543</th>\n",
       "      <td>1523883</td>\n",
       "      <td>126533535</td>\n",
       "      <td>2019-01-01 15:06:59</td>\n",
       "      <td>2019-01-01 16:55:44</td>\n",
       "    </tr>\n",
       "    <tr>\n",
       "      <th>126533727</th>\n",
       "      <td>1520165</td>\n",
       "      <td>126533721</td>\n",
       "      <td>2019-01-01 15:08:39</td>\n",
       "      <td>2019-01-01 17:07:43</td>\n",
       "    </tr>\n",
       "    <tr>\n",
       "      <th>126533763</th>\n",
       "      <td>1525239</td>\n",
       "      <td>126533753</td>\n",
       "      <td>2019-01-01 15:08:54</td>\n",
       "      <td>2019-01-01 17:09:13</td>\n",
       "    </tr>\n",
       "    <tr>\n",
       "      <th>...</th>\n",
       "      <td>...</td>\n",
       "      <td>...</td>\n",
       "      <td>...</td>\n",
       "      <td>...</td>\n",
       "    </tr>\n",
       "    <tr>\n",
       "      <th>129006279</th>\n",
       "      <td>1522407</td>\n",
       "      <td>129006277</td>\n",
       "      <td>2019-07-30 20:41:33</td>\n",
       "      <td>2019-07-30 21:39:45</td>\n",
       "    </tr>\n",
       "    <tr>\n",
       "      <th>129006283</th>\n",
       "      <td>1524941</td>\n",
       "      <td>129006281</td>\n",
       "      <td>2019-07-30 20:41:47</td>\n",
       "      <td>2019-07-30 21:39:15</td>\n",
       "    </tr>\n",
       "    <tr>\n",
       "      <th>129006777</th>\n",
       "      <td>1520651</td>\n",
       "      <td>129006775</td>\n",
       "      <td>2019-07-30 20:53:11</td>\n",
       "      <td>2019-07-30 20:53:30</td>\n",
       "    </tr>\n",
       "    <tr>\n",
       "      <th>129006903</th>\n",
       "      <td>1524633</td>\n",
       "      <td>129006901</td>\n",
       "      <td>2019-07-30 20:55:25</td>\n",
       "      <td>2019-07-30 21:37:29</td>\n",
       "    </tr>\n",
       "    <tr>\n",
       "      <th>129006907</th>\n",
       "      <td>1520651</td>\n",
       "      <td>129006905</td>\n",
       "      <td>2019-07-30 20:55:41</td>\n",
       "      <td>2019-07-30 21:37:39</td>\n",
       "    </tr>\n",
       "  </tbody>\n",
       "</table>\n",
       "<p>44249 rows × 4 columns</p>\n",
       "</div>"
      ],
      "text/plain": [
       "            pen_id   visit_id               start                 end\n",
       "id                                                                   \n",
       "126533273  1525671  126533271 2019-01-01 14:59:21 2019-01-01 14:59:59\n",
       "126533283  1522073  126533281 2019-01-01 15:03:55 2019-01-01 17:10:08\n",
       "126533543  1523883  126533535 2019-01-01 15:06:59 2019-01-01 16:55:44\n",
       "126533727  1520165  126533721 2019-01-01 15:08:39 2019-01-01 17:07:43\n",
       "126533763  1525239  126533753 2019-01-01 15:08:54 2019-01-01 17:09:13\n",
       "...            ...        ...                 ...                 ...\n",
       "129006279  1522407  129006277 2019-07-30 20:41:33 2019-07-30 21:39:45\n",
       "129006283  1524941  129006281 2019-07-30 20:41:47 2019-07-30 21:39:15\n",
       "129006777  1520651  129006775 2019-07-30 20:53:11 2019-07-30 20:53:30\n",
       "129006903  1524633  129006901 2019-07-30 20:55:25 2019-07-30 21:37:29\n",
       "129006907  1520651  129006905 2019-07-30 20:55:41 2019-07-30 21:37:39\n",
       "\n",
       "[44249 rows x 4 columns]"
      ]
     },
     "execution_count": 29,
     "metadata": {},
     "output_type": "execute_result"
    }
   ],
   "source": [
    "#zooming to Adam timeframe \n",
    "start_date = '01-01-2019'\n",
    "end_date = '07-31-2019'\n",
    "mask = (pensCheckouts['start'] > start_date) & (pensCheckouts['start'] <= end_date)\n",
    "sevenMonths = pensCheckouts.loc[mask]\n",
    "sevenMonths"
   ]
  },
  {
   "cell_type": "code",
   "execution_count": 30,
   "metadata": {},
   "outputs": [
    {
     "data": {
      "text/plain": [
       "pen_id      44249\n",
       "visit_id    44249\n",
       "start       44249\n",
       "end         41865\n",
       "dtype: int64"
      ]
     },
     "execution_count": 30,
     "metadata": {},
     "output_type": "execute_result"
    }
   ],
   "source": [
    "sevenMonths.count()\n",
    "#inbetween Adams time frame: 44,249 checkouts"
   ]
  },
  {
   "cell_type": "markdown",
   "metadata": {},
   "source": [
    "## what is the average time for pen uses"
   ]
  },
  {
   "cell_type": "code",
   "execution_count": 31,
   "metadata": {},
   "outputs": [
    {
     "data": {
      "text/html": [
       "<div>\n",
       "<style scoped>\n",
       "    .dataframe tbody tr th:only-of-type {\n",
       "        vertical-align: middle;\n",
       "    }\n",
       "\n",
       "    .dataframe tbody tr th {\n",
       "        vertical-align: top;\n",
       "    }\n",
       "\n",
       "    .dataframe thead th {\n",
       "        text-align: right;\n",
       "    }\n",
       "</style>\n",
       "<table border=\"1\" class=\"dataframe\">\n",
       "  <thead>\n",
       "    <tr style=\"text-align: right;\">\n",
       "      <th></th>\n",
       "      <th>start</th>\n",
       "      <th>end</th>\n",
       "    </tr>\n",
       "    <tr>\n",
       "      <th>id</th>\n",
       "      <th></th>\n",
       "      <th></th>\n",
       "    </tr>\n",
       "  </thead>\n",
       "  <tbody>\n",
       "    <tr>\n",
       "      <th>68762351</th>\n",
       "      <td>2014-10-23 15:36:51</td>\n",
       "      <td>2014-10-25 00:44:42</td>\n",
       "    </tr>\n",
       "    <tr>\n",
       "      <th>68762353</th>\n",
       "      <td>2014-10-23 16:25:42</td>\n",
       "      <td>2014-10-25 00:44:42</td>\n",
       "    </tr>\n",
       "    <tr>\n",
       "      <th>68764535</th>\n",
       "      <td>2014-10-24 02:04:59</td>\n",
       "      <td>2014-10-25 00:44:42</td>\n",
       "    </tr>\n",
       "    <tr>\n",
       "      <th>68764585</th>\n",
       "      <td>2014-10-24 15:05:23</td>\n",
       "      <td>2014-10-27 17:53:29</td>\n",
       "    </tr>\n",
       "    <tr>\n",
       "      <th>68764655</th>\n",
       "      <td>2014-10-25 00:02:19</td>\n",
       "      <td>2014-10-27 17:53:29</td>\n",
       "    </tr>\n",
       "    <tr>\n",
       "      <th>...</th>\n",
       "      <td>...</td>\n",
       "      <td>...</td>\n",
       "    </tr>\n",
       "    <tr>\n",
       "      <th>132777685</th>\n",
       "      <td>2020-07-02 20:22:28</td>\n",
       "      <td>2020-07-02 20:22:44</td>\n",
       "    </tr>\n",
       "    <tr>\n",
       "      <th>132794703</th>\n",
       "      <td>2020-07-06 17:42:18</td>\n",
       "      <td>2020-07-06 17:43:00</td>\n",
       "    </tr>\n",
       "    <tr>\n",
       "      <th>132806721</th>\n",
       "      <td>2020-07-09 13:12:28</td>\n",
       "      <td>2020-07-09 13:12:46</td>\n",
       "    </tr>\n",
       "    <tr>\n",
       "      <th>132806729</th>\n",
       "      <td>2020-07-09 13:16:41</td>\n",
       "      <td>2020-07-09 13:17:00</td>\n",
       "    </tr>\n",
       "    <tr>\n",
       "      <th>132806737</th>\n",
       "      <td>2020-07-09 13:20:03</td>\n",
       "      <td>2020-07-09 13:20:15</td>\n",
       "    </tr>\n",
       "  </tbody>\n",
       "</table>\n",
       "<p>556337 rows × 2 columns</p>\n",
       "</div>"
      ],
      "text/plain": [
       "                        start                 end\n",
       "id                                               \n",
       "68762351  2014-10-23 15:36:51 2014-10-25 00:44:42\n",
       "68762353  2014-10-23 16:25:42 2014-10-25 00:44:42\n",
       "68764535  2014-10-24 02:04:59 2014-10-25 00:44:42\n",
       "68764585  2014-10-24 15:05:23 2014-10-27 17:53:29\n",
       "68764655  2014-10-25 00:02:19 2014-10-27 17:53:29\n",
       "...                       ...                 ...\n",
       "132777685 2020-07-02 20:22:28 2020-07-02 20:22:44\n",
       "132794703 2020-07-06 17:42:18 2020-07-06 17:43:00\n",
       "132806721 2020-07-09 13:12:28 2020-07-09 13:12:46\n",
       "132806729 2020-07-09 13:16:41 2020-07-09 13:17:00\n",
       "132806737 2020-07-09 13:20:03 2020-07-09 13:20:15\n",
       "\n",
       "[556337 rows x 2 columns]"
      ]
     },
     "execution_count": 31,
     "metadata": {},
     "output_type": "execute_result"
    }
   ],
   "source": [
    "pensCheckouts[['start', 'end']]"
   ]
  },
  {
   "cell_type": "code",
   "execution_count": 32,
   "metadata": {},
   "outputs": [
    {
     "data": {
      "text/html": [
       "<div>\n",
       "<style scoped>\n",
       "    .dataframe tbody tr th:only-of-type {\n",
       "        vertical-align: middle;\n",
       "    }\n",
       "\n",
       "    .dataframe tbody tr th {\n",
       "        vertical-align: top;\n",
       "    }\n",
       "\n",
       "    .dataframe thead th {\n",
       "        text-align: right;\n",
       "    }\n",
       "</style>\n",
       "<table border=\"1\" class=\"dataframe\">\n",
       "  <thead>\n",
       "    <tr style=\"text-align: right;\">\n",
       "      <th></th>\n",
       "      <th>pen_id</th>\n",
       "      <th>visit_id</th>\n",
       "      <th>start</th>\n",
       "      <th>end</th>\n",
       "      <th>time_spent</th>\n",
       "    </tr>\n",
       "    <tr>\n",
       "      <th>id</th>\n",
       "      <th></th>\n",
       "      <th></th>\n",
       "      <th></th>\n",
       "      <th></th>\n",
       "      <th></th>\n",
       "    </tr>\n",
       "  </thead>\n",
       "  <tbody>\n",
       "    <tr>\n",
       "      <th>68764535</th>\n",
       "      <td>9</td>\n",
       "      <td>793527</td>\n",
       "      <td>2014-10-24 02:04:59</td>\n",
       "      <td>2014-10-25 00:44:42</td>\n",
       "      <td>22:39:43</td>\n",
       "    </tr>\n",
       "    <tr>\n",
       "      <th>68765453</th>\n",
       "      <td>7</td>\n",
       "      <td>795317</td>\n",
       "      <td>2014-10-29 23:32:39</td>\n",
       "      <td>2014-10-29 23:42:20</td>\n",
       "      <td>00:09:41</td>\n",
       "    </tr>\n",
       "    <tr>\n",
       "      <th>68765467</th>\n",
       "      <td>8</td>\n",
       "      <td>795341</td>\n",
       "      <td>2014-10-29 23:40:54</td>\n",
       "      <td>2014-10-29 23:42:10</td>\n",
       "      <td>00:01:16</td>\n",
       "    </tr>\n",
       "    <tr>\n",
       "      <th>68765513</th>\n",
       "      <td>1</td>\n",
       "      <td>795405</td>\n",
       "      <td>2014-10-30 00:13:50</td>\n",
       "      <td>2014-10-30 00:15:08</td>\n",
       "      <td>00:01:18</td>\n",
       "    </tr>\n",
       "    <tr>\n",
       "      <th>68765521</th>\n",
       "      <td>1</td>\n",
       "      <td>795417</td>\n",
       "      <td>2014-10-30 00:16:53</td>\n",
       "      <td>2014-10-30 00:21:26</td>\n",
       "      <td>00:04:33</td>\n",
       "    </tr>\n",
       "    <tr>\n",
       "      <th>...</th>\n",
       "      <td>...</td>\n",
       "      <td>...</td>\n",
       "      <td>...</td>\n",
       "      <td>...</td>\n",
       "      <td>...</td>\n",
       "    </tr>\n",
       "    <tr>\n",
       "      <th>132777685</th>\n",
       "      <td>1520099</td>\n",
       "      <td>132777683</td>\n",
       "      <td>2020-07-02 20:22:28</td>\n",
       "      <td>2020-07-02 20:22:44</td>\n",
       "      <td>00:00:16</td>\n",
       "    </tr>\n",
       "    <tr>\n",
       "      <th>132794703</th>\n",
       "      <td>1520099</td>\n",
       "      <td>132794701</td>\n",
       "      <td>2020-07-06 17:42:18</td>\n",
       "      <td>2020-07-06 17:43:00</td>\n",
       "      <td>00:00:42</td>\n",
       "    </tr>\n",
       "    <tr>\n",
       "      <th>132806721</th>\n",
       "      <td>1520099</td>\n",
       "      <td>132806719</td>\n",
       "      <td>2020-07-09 13:12:28</td>\n",
       "      <td>2020-07-09 13:12:46</td>\n",
       "      <td>00:00:18</td>\n",
       "    </tr>\n",
       "    <tr>\n",
       "      <th>132806729</th>\n",
       "      <td>1520099</td>\n",
       "      <td>132806727</td>\n",
       "      <td>2020-07-09 13:16:41</td>\n",
       "      <td>2020-07-09 13:17:00</td>\n",
       "      <td>00:00:19</td>\n",
       "    </tr>\n",
       "    <tr>\n",
       "      <th>132806737</th>\n",
       "      <td>1520099</td>\n",
       "      <td>132806735</td>\n",
       "      <td>2020-07-09 13:20:03</td>\n",
       "      <td>2020-07-09 13:20:15</td>\n",
       "      <td>00:00:12</td>\n",
       "    </tr>\n",
       "  </tbody>\n",
       "</table>\n",
       "<p>492711 rows × 5 columns</p>\n",
       "</div>"
      ],
      "text/plain": [
       "            pen_id   visit_id               start                 end  \\\n",
       "id                                                                      \n",
       "68764535         9     793527 2014-10-24 02:04:59 2014-10-25 00:44:42   \n",
       "68765453         7     795317 2014-10-29 23:32:39 2014-10-29 23:42:20   \n",
       "68765467         8     795341 2014-10-29 23:40:54 2014-10-29 23:42:10   \n",
       "68765513         1     795405 2014-10-30 00:13:50 2014-10-30 00:15:08   \n",
       "68765521         1     795417 2014-10-30 00:16:53 2014-10-30 00:21:26   \n",
       "...            ...        ...                 ...                 ...   \n",
       "132777685  1520099  132777683 2020-07-02 20:22:28 2020-07-02 20:22:44   \n",
       "132794703  1520099  132794701 2020-07-06 17:42:18 2020-07-06 17:43:00   \n",
       "132806721  1520099  132806719 2020-07-09 13:12:28 2020-07-09 13:12:46   \n",
       "132806729  1520099  132806727 2020-07-09 13:16:41 2020-07-09 13:17:00   \n",
       "132806737  1520099  132806735 2020-07-09 13:20:03 2020-07-09 13:20:15   \n",
       "\n",
       "          time_spent  \n",
       "id                    \n",
       "68764535    22:39:43  \n",
       "68765453    00:09:41  \n",
       "68765467    00:01:16  \n",
       "68765513    00:01:18  \n",
       "68765521    00:04:33  \n",
       "...              ...  \n",
       "132777685   00:00:16  \n",
       "132794703   00:00:42  \n",
       "132806721   00:00:18  \n",
       "132806729   00:00:19  \n",
       "132806737   00:00:12  \n",
       "\n",
       "[492711 rows x 5 columns]"
      ]
     },
     "execution_count": 32,
     "metadata": {},
     "output_type": "execute_result"
    }
   ],
   "source": [
    "pensCheckouts['time_spent'] = pensCheckouts['end'] - pensCheckouts['start']\n",
    "less_day = pensCheckouts['time_spent'] < '1day'\n",
    "pensCheckouts[less_day]\n",
    "\n",
    "# def mask_time(time):\n",
    "#     pensCheckouts['time_spent'] = pensCheckouts['end'] - pensCheckouts['start']\n",
    "#     less_time = pensCheckouts['time_spent'] < time\n",
    "#     return pensCheckouts[less_time]\n",
    "\n",
    "# mask_time('1day')"
   ]
  },
  {
   "cell_type": "code",
   "execution_count": 33,
   "metadata": {},
   "outputs": [
    {
     "data": {
      "text/html": [
       "<div>\n",
       "<style scoped>\n",
       "    .dataframe tbody tr th:only-of-type {\n",
       "        vertical-align: middle;\n",
       "    }\n",
       "\n",
       "    .dataframe tbody tr th {\n",
       "        vertical-align: top;\n",
       "    }\n",
       "\n",
       "    .dataframe thead th {\n",
       "        text-align: right;\n",
       "    }\n",
       "</style>\n",
       "<table border=\"1\" class=\"dataframe\">\n",
       "  <thead>\n",
       "    <tr style=\"text-align: right;\">\n",
       "      <th></th>\n",
       "      <th>pen_id</th>\n",
       "      <th>visit_id</th>\n",
       "      <th>start</th>\n",
       "      <th>end</th>\n",
       "      <th>time_spent</th>\n",
       "    </tr>\n",
       "    <tr>\n",
       "      <th>id</th>\n",
       "      <th></th>\n",
       "      <th></th>\n",
       "      <th></th>\n",
       "      <th></th>\n",
       "      <th></th>\n",
       "    </tr>\n",
       "  </thead>\n",
       "  <tbody>\n",
       "    <tr>\n",
       "      <th>68774043</th>\n",
       "      <td>3</td>\n",
       "      <td>814815</td>\n",
       "      <td>2014-11-12 17:40:42</td>\n",
       "      <td>2014-11-12 17:40:42</td>\n",
       "      <td>00:00:00</td>\n",
       "    </tr>\n",
       "    <tr>\n",
       "      <th>68802389</th>\n",
       "      <td>1509677</td>\n",
       "      <td>1509689</td>\n",
       "      <td>2014-12-15 15:07:56</td>\n",
       "      <td>2014-12-15 15:07:56</td>\n",
       "      <td>00:00:00</td>\n",
       "    </tr>\n",
       "    <tr>\n",
       "      <th>68775359</th>\n",
       "      <td>3</td>\n",
       "      <td>905243</td>\n",
       "      <td>2014-11-13 20:20:51</td>\n",
       "      <td>2014-11-13 20:20:51</td>\n",
       "      <td>00:00:00</td>\n",
       "    </tr>\n",
       "    <tr>\n",
       "      <th>68775357</th>\n",
       "      <td>3</td>\n",
       "      <td>904949</td>\n",
       "      <td>2014-11-13 20:15:55</td>\n",
       "      <td>2014-11-13 20:15:55</td>\n",
       "      <td>00:00:00</td>\n",
       "    </tr>\n",
       "    <tr>\n",
       "      <th>68775355</th>\n",
       "      <td>3</td>\n",
       "      <td>904839</td>\n",
       "      <td>2014-11-13 20:14:04</td>\n",
       "      <td>2014-11-13 20:14:04</td>\n",
       "      <td>00:00:00</td>\n",
       "    </tr>\n",
       "    <tr>\n",
       "      <th>68777557</th>\n",
       "      <td>987051</td>\n",
       "      <td>1050199</td>\n",
       "      <td>2014-11-19 20:04:19</td>\n",
       "      <td>2014-11-19 20:04:19</td>\n",
       "      <td>00:00:00</td>\n",
       "    </tr>\n",
       "    <tr>\n",
       "      <th>68775353</th>\n",
       "      <td>3</td>\n",
       "      <td>904639</td>\n",
       "      <td>2014-11-13 20:10:20</td>\n",
       "      <td>2014-11-13 20:10:20</td>\n",
       "      <td>00:00:00</td>\n",
       "    </tr>\n",
       "    <tr>\n",
       "      <th>68774045</th>\n",
       "      <td>3</td>\n",
       "      <td>815709</td>\n",
       "      <td>2014-11-12 17:57:15</td>\n",
       "      <td>2014-11-12 17:57:15</td>\n",
       "      <td>00:00:00</td>\n",
       "    </tr>\n",
       "    <tr>\n",
       "      <th>68775135</th>\n",
       "      <td>3</td>\n",
       "      <td>836101</td>\n",
       "      <td>2014-11-13 00:02:56</td>\n",
       "      <td>2014-11-13 00:02:56</td>\n",
       "      <td>00:00:00</td>\n",
       "    </tr>\n",
       "    <tr>\n",
       "      <th>68775333</th>\n",
       "      <td>3</td>\n",
       "      <td>890721</td>\n",
       "      <td>2014-11-13 16:58:47</td>\n",
       "      <td>2014-11-13 16:58:47</td>\n",
       "      <td>00:00:00</td>\n",
       "    </tr>\n",
       "    <tr>\n",
       "      <th>68775331</th>\n",
       "      <td>3</td>\n",
       "      <td>890673</td>\n",
       "      <td>2014-11-13 16:57:59</td>\n",
       "      <td>2014-11-13 16:57:59</td>\n",
       "      <td>00:00:00</td>\n",
       "    </tr>\n",
       "    <tr>\n",
       "      <th>92248807</th>\n",
       "      <td>1520877</td>\n",
       "      <td>92248797</td>\n",
       "      <td>2016-01-09 16:49:19</td>\n",
       "      <td>2016-01-09 16:49:19</td>\n",
       "      <td>00:00:00</td>\n",
       "    </tr>\n",
       "    <tr>\n",
       "      <th>68774047</th>\n",
       "      <td>3</td>\n",
       "      <td>816743</td>\n",
       "      <td>2014-11-12 18:20:21</td>\n",
       "      <td>2014-11-12 18:20:22</td>\n",
       "      <td>00:00:01</td>\n",
       "    </tr>\n",
       "    <tr>\n",
       "      <th>85009991</th>\n",
       "      <td>1523789</td>\n",
       "      <td>85009883</td>\n",
       "      <td>2015-05-27 17:15:30</td>\n",
       "      <td>2015-05-27 17:15:31</td>\n",
       "      <td>00:00:01</td>\n",
       "    </tr>\n",
       "    <tr>\n",
       "      <th>94772971</th>\n",
       "      <td>1524547</td>\n",
       "      <td>94772969</td>\n",
       "      <td>2016-03-05 20:23:16</td>\n",
       "      <td>2016-03-05 20:23:17</td>\n",
       "      <td>00:00:01</td>\n",
       "    </tr>\n",
       "    <tr>\n",
       "      <th>68878175</th>\n",
       "      <td>1511587</td>\n",
       "      <td>1513365</td>\n",
       "      <td>2015-01-07 19:04:49</td>\n",
       "      <td>2015-01-07 19:04:50</td>\n",
       "      <td>00:00:01</td>\n",
       "    </tr>\n",
       "    <tr>\n",
       "      <th>68775343</th>\n",
       "      <td>3</td>\n",
       "      <td>894475</td>\n",
       "      <td>2014-11-13 17:51:55</td>\n",
       "      <td>2014-11-13 17:51:56</td>\n",
       "      <td>00:00:01</td>\n",
       "    </tr>\n",
       "    <tr>\n",
       "      <th>68775329</th>\n",
       "      <td>3</td>\n",
       "      <td>890601</td>\n",
       "      <td>2014-11-13 16:57:12</td>\n",
       "      <td>2014-11-13 16:57:13</td>\n",
       "      <td>00:00:01</td>\n",
       "    </tr>\n",
       "    <tr>\n",
       "      <th>68773483</th>\n",
       "      <td>3</td>\n",
       "      <td>799115</td>\n",
       "      <td>2014-11-05 23:45:03</td>\n",
       "      <td>2014-11-05 23:45:04</td>\n",
       "      <td>00:00:01</td>\n",
       "    </tr>\n",
       "    <tr>\n",
       "      <th>105586813</th>\n",
       "      <td>1520035</td>\n",
       "      <td>105586809</td>\n",
       "      <td>2016-07-26 19:42:42</td>\n",
       "      <td>2016-07-26 19:42:44</td>\n",
       "      <td>00:00:02</td>\n",
       "    </tr>\n",
       "  </tbody>\n",
       "</table>\n",
       "</div>"
      ],
      "text/plain": [
       "            pen_id   visit_id               start                 end  \\\n",
       "id                                                                      \n",
       "68774043         3     814815 2014-11-12 17:40:42 2014-11-12 17:40:42   \n",
       "68802389   1509677    1509689 2014-12-15 15:07:56 2014-12-15 15:07:56   \n",
       "68775359         3     905243 2014-11-13 20:20:51 2014-11-13 20:20:51   \n",
       "68775357         3     904949 2014-11-13 20:15:55 2014-11-13 20:15:55   \n",
       "68775355         3     904839 2014-11-13 20:14:04 2014-11-13 20:14:04   \n",
       "68777557    987051    1050199 2014-11-19 20:04:19 2014-11-19 20:04:19   \n",
       "68775353         3     904639 2014-11-13 20:10:20 2014-11-13 20:10:20   \n",
       "68774045         3     815709 2014-11-12 17:57:15 2014-11-12 17:57:15   \n",
       "68775135         3     836101 2014-11-13 00:02:56 2014-11-13 00:02:56   \n",
       "68775333         3     890721 2014-11-13 16:58:47 2014-11-13 16:58:47   \n",
       "68775331         3     890673 2014-11-13 16:57:59 2014-11-13 16:57:59   \n",
       "92248807   1520877   92248797 2016-01-09 16:49:19 2016-01-09 16:49:19   \n",
       "68774047         3     816743 2014-11-12 18:20:21 2014-11-12 18:20:22   \n",
       "85009991   1523789   85009883 2015-05-27 17:15:30 2015-05-27 17:15:31   \n",
       "94772971   1524547   94772969 2016-03-05 20:23:16 2016-03-05 20:23:17   \n",
       "68878175   1511587    1513365 2015-01-07 19:04:49 2015-01-07 19:04:50   \n",
       "68775343         3     894475 2014-11-13 17:51:55 2014-11-13 17:51:56   \n",
       "68775329         3     890601 2014-11-13 16:57:12 2014-11-13 16:57:13   \n",
       "68773483         3     799115 2014-11-05 23:45:03 2014-11-05 23:45:04   \n",
       "105586813  1520035  105586809 2016-07-26 19:42:42 2016-07-26 19:42:44   \n",
       "\n",
       "          time_spent  \n",
       "id                    \n",
       "68774043    00:00:00  \n",
       "68802389    00:00:00  \n",
       "68775359    00:00:00  \n",
       "68775357    00:00:00  \n",
       "68775355    00:00:00  \n",
       "68777557    00:00:00  \n",
       "68775353    00:00:00  \n",
       "68774045    00:00:00  \n",
       "68775135    00:00:00  \n",
       "68775333    00:00:00  \n",
       "68775331    00:00:00  \n",
       "92248807    00:00:00  \n",
       "68774047    00:00:01  \n",
       "85009991    00:00:01  \n",
       "94772971    00:00:01  \n",
       "68878175    00:00:01  \n",
       "68775343    00:00:01  \n",
       "68775329    00:00:01  \n",
       "68773483    00:00:01  \n",
       "105586813   00:00:02  "
      ]
     },
     "execution_count": 33,
     "metadata": {},
     "output_type": "execute_result"
    }
   ],
   "source": [
    "less_day_df = pensCheckouts[less_day]\n",
    "less_day_df.sort_values(['time_spent']).head(20)\n",
    "#there is a lot of goofy data"
   ]
  },
  {
   "cell_type": "code",
   "execution_count": 34,
   "metadata": {},
   "outputs": [
    {
     "data": {
      "text/plain": [
       "Timedelta('0 days 02:02:31.281114')"
      ]
     },
     "execution_count": 34,
     "metadata": {},
     "output_type": "execute_result"
    }
   ],
   "source": [
    "less_day_df['time_spent'].mean()\n",
    "#this is an average time with all the goofy times. now let's get rid of that----"
   ]
  },
  {
   "cell_type": "code",
   "execution_count": 35,
   "metadata": {},
   "outputs": [
    {
     "data": {
      "text/plain": [
       "Timedelta('0 days 01:30:50')"
      ]
     },
     "execution_count": 35,
     "metadata": {},
     "output_type": "execute_result"
    }
   ],
   "source": [
    "less_day_df['time_spent'].median()"
   ]
  },
  {
   "cell_type": "code",
   "execution_count": 36,
   "metadata": {},
   "outputs": [
    {
     "data": {
      "text/html": [
       "<div>\n",
       "<style scoped>\n",
       "    .dataframe tbody tr th:only-of-type {\n",
       "        vertical-align: middle;\n",
       "    }\n",
       "\n",
       "    .dataframe tbody tr th {\n",
       "        vertical-align: top;\n",
       "    }\n",
       "\n",
       "    .dataframe thead th {\n",
       "        text-align: right;\n",
       "    }\n",
       "</style>\n",
       "<table border=\"1\" class=\"dataframe\">\n",
       "  <thead>\n",
       "    <tr style=\"text-align: right;\">\n",
       "      <th></th>\n",
       "      <th>time_spent</th>\n",
       "    </tr>\n",
       "    <tr>\n",
       "      <th>id</th>\n",
       "      <th></th>\n",
       "    </tr>\n",
       "  </thead>\n",
       "  <tbody>\n",
       "    <tr>\n",
       "      <th>68764535</th>\n",
       "      <td>1359</td>\n",
       "    </tr>\n",
       "    <tr>\n",
       "      <th>68765453</th>\n",
       "      <td>9</td>\n",
       "    </tr>\n",
       "    <tr>\n",
       "      <th>68765467</th>\n",
       "      <td>1</td>\n",
       "    </tr>\n",
       "    <tr>\n",
       "      <th>68765513</th>\n",
       "      <td>1</td>\n",
       "    </tr>\n",
       "    <tr>\n",
       "      <th>68765521</th>\n",
       "      <td>4</td>\n",
       "    </tr>\n",
       "    <tr>\n",
       "      <th>...</th>\n",
       "      <td>...</td>\n",
       "    </tr>\n",
       "    <tr>\n",
       "      <th>132777685</th>\n",
       "      <td>0</td>\n",
       "    </tr>\n",
       "    <tr>\n",
       "      <th>132794703</th>\n",
       "      <td>0</td>\n",
       "    </tr>\n",
       "    <tr>\n",
       "      <th>132806721</th>\n",
       "      <td>0</td>\n",
       "    </tr>\n",
       "    <tr>\n",
       "      <th>132806729</th>\n",
       "      <td>0</td>\n",
       "    </tr>\n",
       "    <tr>\n",
       "      <th>132806737</th>\n",
       "      <td>0</td>\n",
       "    </tr>\n",
       "  </tbody>\n",
       "</table>\n",
       "<p>492711 rows × 1 columns</p>\n",
       "</div>"
      ],
      "text/plain": [
       "           time_spent\n",
       "id                   \n",
       "68764535         1359\n",
       "68765453            9\n",
       "68765467            1\n",
       "68765513            1\n",
       "68765521            4\n",
       "...               ...\n",
       "132777685           0\n",
       "132794703           0\n",
       "132806721           0\n",
       "132806729           0\n",
       "132806737           0\n",
       "\n",
       "[492711 rows x 1 columns]"
      ]
     },
     "execution_count": 36,
     "metadata": {},
     "output_type": "execute_result"
    }
   ],
   "source": [
    "min_spent = less_day_df[\"time_spent\"].map(lambda timedelta: timedelta.total_seconds() / 60)\n",
    "min_spent = min_spent.dropna().map(lambda seconds: math.floor(seconds))\n",
    "min_spent = min_spent.to_frame()\n",
    "min_spent"
   ]
  },
  {
   "cell_type": "code",
   "execution_count": 37,
   "metadata": {},
   "outputs": [
    {
     "data": {
      "text/plain": [
       "<matplotlib.axes._subplots.AxesSubplot at 0x7fb357c23e10>"
      ]
     },
     "execution_count": 37,
     "metadata": {},
     "output_type": "execute_result"
    },
    {
     "data": {
      "image/png": "[encoded data removed]",
      "text/plain": [
       "<Figure size 432x288 with 1 Axes>"
      ]
     },
     "metadata": {
      "needs_background": "light"
     },
     "output_type": "display_data"
    }
   ],
   "source": [
    "min_spent.groupby('time_spent').size().plot()\n",
    "#crazy numbers with a few seconds only"
   ]
  },
  {
   "cell_type": "code",
   "execution_count": 38,
   "metadata": {},
   "outputs": [
    {
     "data": {
      "text/plain": [
       "126.90362885266111"
      ]
     },
     "execution_count": 38,
     "metadata": {},
     "output_type": "execute_result"
    }
   ],
   "source": [
    "less_five = min_spent[min_spent['time_spent'] > 5]\n",
    "less_five['time_spent'].mean()\n",
    "#calculating only visits above 5 minutes - the average time for the whole db is about 2hours and 7 min"
   ]
  },
  {
   "cell_type": "code",
   "execution_count": 23,
   "metadata": {},
   "outputs": [
    {
     "data": {
      "text/html": [
       "<div>\n",
       "<style scoped>\n",
       "    .dataframe tbody tr th:only-of-type {\n",
       "        vertical-align: middle;\n",
       "    }\n",
       "\n",
       "    .dataframe tbody tr th {\n",
       "        vertical-align: top;\n",
       "    }\n",
       "\n",
       "    .dataframe thead th {\n",
       "        text-align: right;\n",
       "    }\n",
       "</style>\n",
       "<table border=\"1\" class=\"dataframe\">\n",
       "  <thead>\n",
       "    <tr style=\"text-align: right;\">\n",
       "      <th></th>\n",
       "      <th>pen_id</th>\n",
       "      <th>visit_id</th>\n",
       "      <th>start</th>\n",
       "      <th>end</th>\n",
       "      <th>time_spent</th>\n",
       "    </tr>\n",
       "    <tr>\n",
       "      <th>id</th>\n",
       "      <th></th>\n",
       "      <th></th>\n",
       "      <th></th>\n",
       "      <th></th>\n",
       "      <th></th>\n",
       "    </tr>\n",
       "  </thead>\n",
       "  <tbody>\n",
       "    <tr>\n",
       "      <th>126533273</th>\n",
       "      <td>1525671</td>\n",
       "      <td>126533271</td>\n",
       "      <td>2019-01-01 14:59:21</td>\n",
       "      <td>2019-01-01 14:59:59</td>\n",
       "      <td>00:00:38</td>\n",
       "    </tr>\n",
       "    <tr>\n",
       "      <th>126533283</th>\n",
       "      <td>1522073</td>\n",
       "      <td>126533281</td>\n",
       "      <td>2019-01-01 15:03:55</td>\n",
       "      <td>2019-01-01 17:10:08</td>\n",
       "      <td>02:06:13</td>\n",
       "    </tr>\n",
       "    <tr>\n",
       "      <th>126533543</th>\n",
       "      <td>1523883</td>\n",
       "      <td>126533535</td>\n",
       "      <td>2019-01-01 15:06:59</td>\n",
       "      <td>2019-01-01 16:55:44</td>\n",
       "      <td>01:48:45</td>\n",
       "    </tr>\n",
       "    <tr>\n",
       "      <th>126533727</th>\n",
       "      <td>1520165</td>\n",
       "      <td>126533721</td>\n",
       "      <td>2019-01-01 15:08:39</td>\n",
       "      <td>2019-01-01 17:07:43</td>\n",
       "      <td>01:59:04</td>\n",
       "    </tr>\n",
       "    <tr>\n",
       "      <th>126533763</th>\n",
       "      <td>1525239</td>\n",
       "      <td>126533753</td>\n",
       "      <td>2019-01-01 15:08:54</td>\n",
       "      <td>2019-01-01 17:09:13</td>\n",
       "      <td>02:00:19</td>\n",
       "    </tr>\n",
       "    <tr>\n",
       "      <th>...</th>\n",
       "      <td>...</td>\n",
       "      <td>...</td>\n",
       "      <td>...</td>\n",
       "      <td>...</td>\n",
       "      <td>...</td>\n",
       "    </tr>\n",
       "    <tr>\n",
       "      <th>129006279</th>\n",
       "      <td>1522407</td>\n",
       "      <td>129006277</td>\n",
       "      <td>2019-07-30 20:41:33</td>\n",
       "      <td>2019-07-30 21:39:45</td>\n",
       "      <td>00:58:12</td>\n",
       "    </tr>\n",
       "    <tr>\n",
       "      <th>129006283</th>\n",
       "      <td>1524941</td>\n",
       "      <td>129006281</td>\n",
       "      <td>2019-07-30 20:41:47</td>\n",
       "      <td>2019-07-30 21:39:15</td>\n",
       "      <td>00:57:28</td>\n",
       "    </tr>\n",
       "    <tr>\n",
       "      <th>129006777</th>\n",
       "      <td>1520651</td>\n",
       "      <td>129006775</td>\n",
       "      <td>2019-07-30 20:53:11</td>\n",
       "      <td>2019-07-30 20:53:30</td>\n",
       "      <td>00:00:19</td>\n",
       "    </tr>\n",
       "    <tr>\n",
       "      <th>129006903</th>\n",
       "      <td>1524633</td>\n",
       "      <td>129006901</td>\n",
       "      <td>2019-07-30 20:55:25</td>\n",
       "      <td>2019-07-30 21:37:29</td>\n",
       "      <td>00:42:04</td>\n",
       "    </tr>\n",
       "    <tr>\n",
       "      <th>129006907</th>\n",
       "      <td>1520651</td>\n",
       "      <td>129006905</td>\n",
       "      <td>2019-07-30 20:55:41</td>\n",
       "      <td>2019-07-30 21:37:39</td>\n",
       "      <td>00:41:58</td>\n",
       "    </tr>\n",
       "  </tbody>\n",
       "</table>\n",
       "<p>40659 rows × 5 columns</p>\n",
       "</div>"
      ],
      "text/plain": [
       "            pen_id   visit_id               start                 end  \\\n",
       "id                                                                      \n",
       "126533273  1525671  126533271 2019-01-01 14:59:21 2019-01-01 14:59:59   \n",
       "126533283  1522073  126533281 2019-01-01 15:03:55 2019-01-01 17:10:08   \n",
       "126533543  1523883  126533535 2019-01-01 15:06:59 2019-01-01 16:55:44   \n",
       "126533727  1520165  126533721 2019-01-01 15:08:39 2019-01-01 17:07:43   \n",
       "126533763  1525239  126533753 2019-01-01 15:08:54 2019-01-01 17:09:13   \n",
       "...            ...        ...                 ...                 ...   \n",
       "129006279  1522407  129006277 2019-07-30 20:41:33 2019-07-30 21:39:45   \n",
       "129006283  1524941  129006281 2019-07-30 20:41:47 2019-07-30 21:39:15   \n",
       "129006777  1520651  129006775 2019-07-30 20:53:11 2019-07-30 20:53:30   \n",
       "129006903  1524633  129006901 2019-07-30 20:55:25 2019-07-30 21:37:29   \n",
       "129006907  1520651  129006905 2019-07-30 20:55:41 2019-07-30 21:37:39   \n",
       "\n",
       "          time_spent  \n",
       "id                    \n",
       "126533273   00:00:38  \n",
       "126533283   02:06:13  \n",
       "126533543   01:48:45  \n",
       "126533727   01:59:04  \n",
       "126533763   02:00:19  \n",
       "...              ...  \n",
       "129006279   00:58:12  \n",
       "129006283   00:57:28  \n",
       "129006777   00:00:19  \n",
       "129006903   00:42:04  \n",
       "129006907   00:41:58  \n",
       "\n",
       "[40659 rows x 5 columns]"
      ]
     },
     "execution_count": 23,
     "metadata": {},
     "output_type": "execute_result"
    }
   ],
   "source": [
    "#zooming to Adam timeframe \n",
    "start_date = '01-01-2019'\n",
    "end_date = '07-31-2019'\n",
    "mask = (less_day_df['start'] > start_date) & (less_day_df['start'] <= end_date)\n",
    "seven_average_time = less_day_df.loc[mask]\n",
    "seven_average_time"
   ]
  },
  {
   "cell_type": "code",
   "execution_count": 24,
   "metadata": {},
   "outputs": [
    {
     "name": "stdout",
     "output_type": "stream",
     "text": [
      "<class 'pandas.core.frame.DataFrame'>\n",
      "Int64Index: 40659 entries, 126533273 to 129006907\n",
      "Data columns (total 5 columns):\n",
      " #   Column      Non-Null Count  Dtype          \n",
      "---  ------      --------------  -----          \n",
      " 0   pen_id      40659 non-null  int64          \n",
      " 1   visit_id    40659 non-null  int64          \n",
      " 2   start       40659 non-null  datetime64[ns] \n",
      " 3   end         40659 non-null  datetime64[ns] \n",
      " 4   time_spent  40659 non-null  timedelta64[ns]\n",
      "dtypes: datetime64[ns](2), int64(2), timedelta64[ns](1)\n",
      "memory usage: 1.9 MB\n"
     ]
    }
   ],
   "source": [
    "seven_average_time.info()"
   ]
  },
  {
   "cell_type": "code",
   "execution_count": 25,
   "metadata": {},
   "outputs": [
    {
     "data": {
      "text/plain": [
       "<matplotlib.axes._subplots.AxesSubplot at 0x7fe2ab307e50>"
      ]
     },
     "execution_count": 25,
     "metadata": {},
     "output_type": "execute_result"
    },
    {
     "data": {
      "image/png": "[encoded data removed]",
      "text/plain": [
       "<Figure size 432x288 with 1 Axes>"
      ]
     },
     "metadata": {
      "needs_background": "light"
     },
     "output_type": "display_data"
    }
   ],
   "source": [
    "time_range = seven_average_time['time_spent'] < '1 days'\n",
    "range_in_min = seven_average_time[time_range]\n",
    "min_by_date = range_in_min[\"time_spent\"].map(lambda timedelta: timedelta.total_seconds() / 60)\n",
    "min_by_date = min_by_date.dropna().map(lambda seconds: math.floor(seconds))\n",
    "min_by_date = min_by_date.to_frame()\n",
    "min_by_date.groupby('time_spent').size().plot()"
   ]
  },
  {
   "cell_type": "code",
   "execution_count": 26,
   "metadata": {},
   "outputs": [
    {
     "data": {
      "text/plain": [
       "119.26680797167008"
      ]
     },
     "execution_count": 26,
     "metadata": {},
     "output_type": "execute_result"
    }
   ],
   "source": [
    "above_fivemin = min_by_date[min_by_date['time_spent'] > 5]\n",
    "above_fivemin['time_spent'].mean()\n",
    "#average time of greater than 5 min visits"
   ]
  },
  {
   "cell_type": "markdown",
   "metadata": {},
   "source": [
    "## what pens were checkout the most? "
   ]
  },
  {
   "cell_type": "code",
   "execution_count": 27,
   "metadata": {},
   "outputs": [
    {
     "data": {
      "text/plain": [
       "1525511    826\n",
       "1519959    721\n",
       "1523121    717\n",
       "1521555    715\n",
       "1523605    670\n",
       "          ... \n",
       "1520261      1\n",
       "1523533      1\n",
       "1520381      1\n",
       "1521241      1\n",
       "1526871      1\n",
       "Name: pen_id, Length: 3032, dtype: int64"
      ]
     },
     "execution_count": 27,
     "metadata": {},
     "output_type": "execute_result"
    }
   ],
   "source": [
    "pensCheckouts['pen_id'].value_counts()"
   ]
  },
  {
   "cell_type": "code",
   "execution_count": 24,
   "metadata": {},
   "outputs": [
    {
     "data": {
      "text/plain": [
       "pen_id\n",
       "1525511    826\n",
       "1519959    721\n",
       "1523121    717\n",
       "1521555    715\n",
       "1523605    670\n",
       "1524943    667\n",
       "1521201    666\n",
       "1520443    655\n",
       "1521453    647\n",
       "1524693    634\n",
       "dtype: int64"
      ]
     },
     "execution_count": 24,
     "metadata": {},
     "output_type": "execute_result"
    }
   ],
   "source": [
    "pensCheckouts.groupby('pen_id').size().nlargest(10)"
   ]
  },
  {
   "cell_type": "code",
   "execution_count": 25,
   "metadata": {},
   "outputs": [
    {
     "data": {
      "text/plain": [
       "pen_id\n",
       "1509671    1\n",
       "1509675    1\n",
       "1509679    1\n",
       "1520261    1\n",
       "1520375    1\n",
       "1520381    1\n",
       "1520391    1\n",
       "1520665    1\n",
       "1520931    1\n",
       "1521241    1\n",
       "dtype: int64"
      ]
     },
     "execution_count": 25,
     "metadata": {},
     "output_type": "execute_result"
    }
   ],
   "source": [
    "pensCheckouts.groupby('pen_id').size().nsmallest(10)"
   ]
  },
  {
   "cell_type": "code",
   "execution_count": 39,
   "metadata": {},
   "outputs": [
    {
     "data": {
      "text/plain": [
       "(array([-500000.,       0.,  500000., 1000000., 1500000., 2000000.,\n",
       "        2500000., 3000000., 3500000., 4000000., 4500000.]),\n",
       " <a list of 11 Text xticklabel objects>)"
      ]
     },
     "execution_count": 39,
     "metadata": {},
     "output_type": "execute_result"
    },
    {
     "data": {
      "image/png": "[encoded data removed]",
      "text/plain": [
       "<Figure size 432x288 with 1 Axes>"
      ]
     },
     "metadata": {
      "needs_background": "light"
     },
     "output_type": "display_data"
    }
   ],
   "source": [
    "pensCheckouts.groupby('pen_id').size().plot()\n",
    "plt.xticks(rotation=20)"
   ]
  },
  {
   "cell_type": "markdown",
   "metadata": {},
   "source": [
    "## how many ppl used the pen?"
   ]
  },
  {
   "cell_type": "code",
   "execution_count": 42,
   "metadata": {},
   "outputs": [
    {
     "data": {
      "text/plain": [
       "544582"
      ]
     },
     "execution_count": 42,
     "metadata": {},
     "output_type": "execute_result"
    }
   ],
   "source": [
    "pensCheckouts['visit_id'].value_counts().count()\n",
    "#what does it means repeat visit_id?"
   ]
  },
  {
   "cell_type": "code",
   "execution_count": 41,
   "metadata": {},
   "outputs": [
    {
     "data": {
      "text/html": [
       "<div>\n",
       "<style scoped>\n",
       "    .dataframe tbody tr th:only-of-type {\n",
       "        vertical-align: middle;\n",
       "    }\n",
       "\n",
       "    .dataframe tbody tr th {\n",
       "        vertical-align: top;\n",
       "    }\n",
       "\n",
       "    .dataframe thead th {\n",
       "        text-align: right;\n",
       "    }\n",
       "</style>\n",
       "<table border=\"1\" class=\"dataframe\">\n",
       "  <thead>\n",
       "    <tr style=\"text-align: right;\">\n",
       "      <th></th>\n",
       "      <th>pen_id</th>\n",
       "      <th>visit_id</th>\n",
       "      <th>start</th>\n",
       "      <th>end</th>\n",
       "      <th>time_spent</th>\n",
       "    </tr>\n",
       "    <tr>\n",
       "      <th>id</th>\n",
       "      <th></th>\n",
       "      <th></th>\n",
       "      <th></th>\n",
       "      <th></th>\n",
       "      <th></th>\n",
       "    </tr>\n",
       "  </thead>\n",
       "  <tbody>\n",
       "    <tr>\n",
       "      <th>68762351</th>\n",
       "      <td>8</td>\n",
       "      <td>793401</td>\n",
       "      <td>2014-10-23 15:36:51</td>\n",
       "      <td>2014-10-25 00:44:42</td>\n",
       "      <td>1 days 09:07:51</td>\n",
       "    </tr>\n",
       "    <tr>\n",
       "      <th>68762353</th>\n",
       "      <td>3</td>\n",
       "      <td>793449</td>\n",
       "      <td>2014-10-23 16:25:42</td>\n",
       "      <td>2014-10-25 00:44:42</td>\n",
       "      <td>1 days 08:19:00</td>\n",
       "    </tr>\n",
       "    <tr>\n",
       "      <th>68764535</th>\n",
       "      <td>9</td>\n",
       "      <td>793527</td>\n",
       "      <td>2014-10-24 02:04:59</td>\n",
       "      <td>2014-10-25 00:44:42</td>\n",
       "      <td>0 days 22:39:43</td>\n",
       "    </tr>\n",
       "    <tr>\n",
       "      <th>68764585</th>\n",
       "      <td>2</td>\n",
       "      <td>793571</td>\n",
       "      <td>2014-10-24 15:05:23</td>\n",
       "      <td>2014-10-27 17:53:29</td>\n",
       "      <td>3 days 02:48:06</td>\n",
       "    </tr>\n",
       "    <tr>\n",
       "      <th>68764655</th>\n",
       "      <td>7</td>\n",
       "      <td>793681</td>\n",
       "      <td>2014-10-25 00:02:19</td>\n",
       "      <td>2014-10-27 17:53:29</td>\n",
       "      <td>2 days 17:51:10</td>\n",
       "    </tr>\n",
       "    <tr>\n",
       "      <th>...</th>\n",
       "      <td>...</td>\n",
       "      <td>...</td>\n",
       "      <td>...</td>\n",
       "      <td>...</td>\n",
       "      <td>...</td>\n",
       "    </tr>\n",
       "    <tr>\n",
       "      <th>132777685</th>\n",
       "      <td>1520099</td>\n",
       "      <td>132777683</td>\n",
       "      <td>2020-07-02 20:22:28</td>\n",
       "      <td>2020-07-02 20:22:44</td>\n",
       "      <td>0 days 00:00:16</td>\n",
       "    </tr>\n",
       "    <tr>\n",
       "      <th>132794703</th>\n",
       "      <td>1520099</td>\n",
       "      <td>132794701</td>\n",
       "      <td>2020-07-06 17:42:18</td>\n",
       "      <td>2020-07-06 17:43:00</td>\n",
       "      <td>0 days 00:00:42</td>\n",
       "    </tr>\n",
       "    <tr>\n",
       "      <th>132806721</th>\n",
       "      <td>1520099</td>\n",
       "      <td>132806719</td>\n",
       "      <td>2020-07-09 13:12:28</td>\n",
       "      <td>2020-07-09 13:12:46</td>\n",
       "      <td>0 days 00:00:18</td>\n",
       "    </tr>\n",
       "    <tr>\n",
       "      <th>132806729</th>\n",
       "      <td>1520099</td>\n",
       "      <td>132806727</td>\n",
       "      <td>2020-07-09 13:16:41</td>\n",
       "      <td>2020-07-09 13:17:00</td>\n",
       "      <td>0 days 00:00:19</td>\n",
       "    </tr>\n",
       "    <tr>\n",
       "      <th>132806737</th>\n",
       "      <td>1520099</td>\n",
       "      <td>132806735</td>\n",
       "      <td>2020-07-09 13:20:03</td>\n",
       "      <td>2020-07-09 13:20:15</td>\n",
       "      <td>0 days 00:00:12</td>\n",
       "    </tr>\n",
       "  </tbody>\n",
       "</table>\n",
       "<p>544582 rows × 5 columns</p>\n",
       "</div>"
      ],
      "text/plain": [
       "            pen_id   visit_id               start                 end  \\\n",
       "id                                                                      \n",
       "68762351         8     793401 2014-10-23 15:36:51 2014-10-25 00:44:42   \n",
       "68762353         3     793449 2014-10-23 16:25:42 2014-10-25 00:44:42   \n",
       "68764535         9     793527 2014-10-24 02:04:59 2014-10-25 00:44:42   \n",
       "68764585         2     793571 2014-10-24 15:05:23 2014-10-27 17:53:29   \n",
       "68764655         7     793681 2014-10-25 00:02:19 2014-10-27 17:53:29   \n",
       "...            ...        ...                 ...                 ...   \n",
       "132777685  1520099  132777683 2020-07-02 20:22:28 2020-07-02 20:22:44   \n",
       "132794703  1520099  132794701 2020-07-06 17:42:18 2020-07-06 17:43:00   \n",
       "132806721  1520099  132806719 2020-07-09 13:12:28 2020-07-09 13:12:46   \n",
       "132806729  1520099  132806727 2020-07-09 13:16:41 2020-07-09 13:17:00   \n",
       "132806737  1520099  132806735 2020-07-09 13:20:03 2020-07-09 13:20:15   \n",
       "\n",
       "               time_spent  \n",
       "id                         \n",
       "68762351  1 days 09:07:51  \n",
       "68762353  1 days 08:19:00  \n",
       "68764535  0 days 22:39:43  \n",
       "68764585  3 days 02:48:06  \n",
       "68764655  2 days 17:51:10  \n",
       "...                   ...  \n",
       "132777685 0 days 00:00:16  \n",
       "132794703 0 days 00:00:42  \n",
       "132806721 0 days 00:00:18  \n",
       "132806729 0 days 00:00:19  \n",
       "132806737 0 days 00:00:12  \n",
       "\n",
       "[544582 rows x 5 columns]"
      ]
     },
     "execution_count": 41,
     "metadata": {},
     "output_type": "execute_result"
    }
   ],
   "source": [
    "pensCheckouts[~pensCheckouts['visit_id'].duplicated()]"
   ]
  },
  {
   "cell_type": "markdown",
   "metadata": {},
   "source": [
    "# how many Pens along the years"
   ]
  },
  {
   "cell_type": "code",
   "execution_count": 8,
   "metadata": {},
   "outputs": [
    {
     "data": {
      "text/plain": [
       "1694"
      ]
     },
     "execution_count": 8,
     "metadata": {},
     "output_type": "execute_result"
    }
   ],
   "source": [
    "pensCheckouts2015 = pensCheckouts[pensCheckouts['start'].dt.year == 2015]\n",
    "pensCheckouts2015['pen_id'].nunique()"
   ]
  },
  {
   "cell_type": "code",
   "execution_count": 9,
   "metadata": {},
   "outputs": [
    {
     "data": {
      "text/plain": [
       "2179"
      ]
     },
     "execution_count": 9,
     "metadata": {},
     "output_type": "execute_result"
    }
   ],
   "source": [
    "pensCheckouts2016 = pensCheckouts[pensCheckouts['start'].dt.year == 2016]\n",
    "pensCheckouts2016['pen_id'].nunique()"
   ]
  },
  {
   "cell_type": "code",
   "execution_count": 10,
   "metadata": {},
   "outputs": [
    {
     "data": {
      "text/plain": [
       "1498"
      ]
     },
     "execution_count": 10,
     "metadata": {},
     "output_type": "execute_result"
    }
   ],
   "source": [
    "pensCheckouts2017 = pensCheckouts[pensCheckouts['start'].dt.year == 2017]\n",
    "pensCheckouts2017['pen_id'].nunique()"
   ]
  },
  {
   "cell_type": "code",
   "execution_count": 11,
   "metadata": {},
   "outputs": [
    {
     "data": {
      "text/plain": [
       "1536"
      ]
     },
     "execution_count": 11,
     "metadata": {},
     "output_type": "execute_result"
    }
   ],
   "source": [
    "pensCheckouts2018 = pensCheckouts[pensCheckouts['start'].dt.year == 2018]\n",
    "pensCheckouts2018['pen_id'].nunique()"
   ]
  },
  {
   "cell_type": "code",
   "execution_count": 12,
   "metadata": {},
   "outputs": [
    {
     "data": {
      "text/plain": [
       "915"
      ]
     },
     "execution_count": 12,
     "metadata": {},
     "output_type": "execute_result"
    }
   ],
   "source": [
    "pensCheckouts2019 = pensCheckouts[pensCheckouts['start'].dt.year == 2019]\n",
    "pensCheckouts2019['pen_id'].nunique()"
   ]
  },
  {
   "cell_type": "code",
   "execution_count": 93,
   "metadata": {},
   "outputs": [],
   "source": [
    "total_pens= [{2015: 1694, 2016: 2179, 2017: 1498, 2018: 1536, 2019: 915}]\n",
    "\n",
    "pens_in_years = pd.DataFrame(total_pens)\n",
    "pens_in_years = pens_in_years.transpose()"
   ]
  },
  {
   "cell_type": "code",
   "execution_count": 69,
   "metadata": {},
   "outputs": [],
   "source": [
    "pens_in_years['year'] = pd.to_datetime(pens_in_years['year']).dt.to_period('Y')"
   ]
  },
  {
   "cell_type": "code",
   "execution_count": 76,
   "metadata": {},
   "outputs": [],
   "source": [
    "# checkout_by_year = checkout_by_year.to_frame()\n",
    "checkout_by_year = checkout_by_year.rename({'start': 'count'}, axis=1)"
   ]
  },
  {
   "cell_type": "code",
   "execution_count": 81,
   "metadata": {},
   "outputs": [],
   "source": []
  },
  {
   "cell_type": "code",
   "execution_count": 82,
   "metadata": {},
   "outputs": [],
   "source": [
    "checkout_by_year = checkout_by_year[['year', 'count']]"
   ]
  },
  {
   "cell_type": "code",
   "execution_count": 87,
   "metadata": {},
   "outputs": [
    {
     "data": {
      "text/plain": [
       "<matplotlib.axes._subplots.AxesSubplot at 0x7fdc6f5f15d0>"
      ]
     },
     "execution_count": 87,
     "metadata": {},
     "output_type": "execute_result"
    },
    {
     "data": {
      "image/png": "[encoded data removed]",
      "text/plain": [
       "<Figure size 432x288 with 1 Axes>"
      ]
     },
     "metadata": {
      "needs_background": "light"
     },
     "output_type": "display_data"
    },
    {
     "data": {
      "image/png": "[encoded data removed]",
      "text/plain": [
       "<Figure size 432x288 with 1 Axes>"
      ]
     },
     "metadata": {
      "needs_background": "light"
     },
     "output_type": "display_data"
    }
   ],
   "source": [
    "# pens_checkouts_merge = checkout_by_year.merge(pens_in_years, how='inner')\n",
    "# pens_checkouts_merge.plot()\n",
    "checkout_by_year.plot()\n",
    "pens_in_years.plot()"
   ]
  },
  {
   "cell_type": "markdown",
   "metadata": {},
   "source": [
    "## summerize findings"
   ]
  },
  {
   "cell_type": "code",
   "execution_count": 6,
   "metadata": {},
   "outputs": [],
   "source": [
    "findings = [{'total_checkouts': '556,337', 'how_many_visitors_used_the_pen': '544,582', 'the_most_used_pen': 1525511, 'the_most_checkout_in_months': '2016-02 with 15,110 checkouts',\n",
    "             'by_year': '2016', 'by_day': 'saturday', 'median_time_use': '90 minutes', 'average_time_use': '127 minutes'},\n",
    "           {'the_most_used_pen': 1519959, 'the_most_checkout_in_months': '2017-04 with 14,874 checkouts', 'by_year': '2015',\n",
    "           'by_day': 'sunday'},\n",
    "           {'the_most_used_pen': 1523121, 'the_most_checkout_in_months': '2015-12 with 14,705 checkouts', 'by_year': '2017',\n",
    "           'by_day': 'friday'}] \n",
    "\n",
    "\n",
    "checkout_finding = pd.DataFrame(findings)"
   ]
  },
  {
   "cell_type": "code",
   "execution_count": 7,
   "metadata": {},
   "outputs": [
    {
     "data": {
      "text/html": [
       "<div>\n",
       "<style scoped>\n",
       "    .dataframe tbody tr th:only-of-type {\n",
       "        vertical-align: middle;\n",
       "    }\n",
       "\n",
       "    .dataframe tbody tr th {\n",
       "        vertical-align: top;\n",
       "    }\n",
       "\n",
       "    .dataframe thead th {\n",
       "        text-align: right;\n",
       "    }\n",
       "</style>\n",
       "<table border=\"1\" class=\"dataframe\">\n",
       "  <thead>\n",
       "    <tr style=\"text-align: right;\">\n",
       "      <th></th>\n",
       "      <th>0</th>\n",
       "      <th>1</th>\n",
       "      <th>2</th>\n",
       "    </tr>\n",
       "  </thead>\n",
       "  <tbody>\n",
       "    <tr>\n",
       "      <th>total_checkouts</th>\n",
       "      <td>556,337</td>\n",
       "      <td>NaN</td>\n",
       "      <td>NaN</td>\n",
       "    </tr>\n",
       "    <tr>\n",
       "      <th>how_many_visitors_used_the_pen</th>\n",
       "      <td>544,582</td>\n",
       "      <td>NaN</td>\n",
       "      <td>NaN</td>\n",
       "    </tr>\n",
       "    <tr>\n",
       "      <th>the_most_used_pen</th>\n",
       "      <td>1525511</td>\n",
       "      <td>1519959</td>\n",
       "      <td>1523121</td>\n",
       "    </tr>\n",
       "    <tr>\n",
       "      <th>the_most_checkout_in_months</th>\n",
       "      <td>2016-02 with 15,110 checkouts</td>\n",
       "      <td>2017-04 with 14,874 checkouts</td>\n",
       "      <td>2015-12 with 14,705 checkouts</td>\n",
       "    </tr>\n",
       "    <tr>\n",
       "      <th>by_year</th>\n",
       "      <td>2016</td>\n",
       "      <td>2015</td>\n",
       "      <td>2017</td>\n",
       "    </tr>\n",
       "    <tr>\n",
       "      <th>by_day</th>\n",
       "      <td>saturday</td>\n",
       "      <td>sunday</td>\n",
       "      <td>friday</td>\n",
       "    </tr>\n",
       "    <tr>\n",
       "      <th>median_time_use</th>\n",
       "      <td>90 minutes</td>\n",
       "      <td>NaN</td>\n",
       "      <td>NaN</td>\n",
       "    </tr>\n",
       "    <tr>\n",
       "      <th>average_time_use</th>\n",
       "      <td>127 minutes</td>\n",
       "      <td>NaN</td>\n",
       "      <td>NaN</td>\n",
       "    </tr>\n",
       "  </tbody>\n",
       "</table>\n",
       "</div>"
      ],
      "text/plain": [
       "                                                            0  \\\n",
       "total_checkouts                                       556,337   \n",
       "how_many_visitors_used_the_pen                        544,582   \n",
       "the_most_used_pen                                     1525511   \n",
       "the_most_checkout_in_months     2016-02 with 15,110 checkouts   \n",
       "by_year                                                  2016   \n",
       "by_day                                               saturday   \n",
       "median_time_use                                    90 minutes   \n",
       "average_time_use                                  127 minutes   \n",
       "\n",
       "                                                            1  \\\n",
       "total_checkouts                                           NaN   \n",
       "how_many_visitors_used_the_pen                            NaN   \n",
       "the_most_used_pen                                     1519959   \n",
       "the_most_checkout_in_months     2017-04 with 14,874 checkouts   \n",
       "by_year                                                  2015   \n",
       "by_day                                                 sunday   \n",
       "median_time_use                                           NaN   \n",
       "average_time_use                                          NaN   \n",
       "\n",
       "                                                            2  \n",
       "total_checkouts                                           NaN  \n",
       "how_many_visitors_used_the_pen                            NaN  \n",
       "the_most_used_pen                                     1523121  \n",
       "the_most_checkout_in_months     2015-12 with 14,705 checkouts  \n",
       "by_year                                                  2017  \n",
       "by_day                                                 friday  \n",
       "median_time_use                                           NaN  \n",
       "average_time_use                                          NaN  "
      ]
     },
     "execution_count": 7,
     "metadata": {},
     "output_type": "execute_result"
    }
   ],
   "source": [
    "checkout_finding.transpose()"
   ]
  },
  {
   "cell_type": "code",
   "execution_count": null,
   "metadata": {},
   "outputs": [],
   "source": []
  }
 ],
 "metadata": {
  "kernelspec": {
   "display_name": "Python 3",
   "language": "python",
   "name": "python3"
  },
  "language_info": {
   "codemirror_mode": {
    "name": "ipython",
    "version": 3
   },
   "file_extension": ".py",
   "mimetype": "text/x-python",
   "name": "python",
   "nbconvert_exporter": "python",
   "pygments_lexer": "ipython3",
   "version": "3.7.6"
  }
 },
 "nbformat": 4,
 "nbformat_minor": 4
}
