{
 "cells": [
  {
   "cell_type": "code",
   "execution_count": 1,
   "metadata": {},
   "outputs": [],
   "source": [
    "import mysql.connector as sql\n",
    "import pandas as pd\n",
    "import datetime as dt\n",
    "import numpy as np\n",
    "from sorted_months_weekdays import *\n",
    "from sort_dataframeby_monthorweek import *\n",
    "import matplotlib.pyplot as plt\n",
    "import math\n",
    "import json\n",
    "from pandas.io.json import json_normalize"
   ]
  },
  {
   "cell_type": "code",
   "execution_count": 2,
   "metadata": {},
   "outputs": [],
   "source": [
    "db_connection = sql.connect(host='localhost', database='collection_visits', user='pandas', password='password')\n",
    "\n",
    "visits = pd.read_sql('SELECT * FROM Visits', con=db_connection)\n",
    "visits['created'] = pd.to_datetime(visits['created'], unit='s')\n",
    "visits['lastmodified'] = pd.to_datetime(visits['lastmodified'], unit='s')\n",
    "visits['registered'] = visits['registered'].replace(0, np.nan)\n",
    "visits['registered'] = pd.to_datetime(visits['registered'], unit='s')\n",
    "visits['deleted'] = visits['deleted'].replace(0, np.nan)\n",
    "visits['deleted'] = pd.to_datetime(visits['deleted'], unit='s')\n",
    "visits['paired'] = visits['paired'].replace(0, np.nan)\n",
    "visits['paired'] = pd.to_datetime(visits['paired'], unit='s')\n",
    "visits['created_ip'].replace(0, np.nan, inplace=True)\n",
    "visits['registered_ip'].replace(0, np.nan, inplace=True)\n",
    "visits['paired_ip'].replace(0, np.nan, inplace=True)\n",
    "visits['processed'].replace(0, np.nan, inplace=True)\n",
    "visits['purchased_by_user_id'].replace(0, np.nan, inplace=True)\n",
    "visits['exported'].replace(0, np.nan, inplace=True)\n",
    "visits['title'].fillna(value=np.nan, inplace=True)\n",
    "visits['note'].replace(r'^\\s*$', np.NaN, regex=True, inplace=True)"
   ]
  },
  {
   "cell_type": "code",
   "execution_count": 3,
   "metadata": {},
   "outputs": [],
   "source": [
    "pd.set_option('display.max_rows', 200)\n",
    "pd.set_option('display.max_columns', 50)\n",
    "pd.set_option(\"max_colwidth\", 1000)"
   ]
  },
  {
   "cell_type": "code",
   "execution_count": 4,
   "metadata": {},
   "outputs": [],
   "source": [
    "visits= visits.drop(['expires','created_ip', 'registered_ip', 'paired_ip', 'processed', 'purchased_by_user_id', 'note', 'exported', 'ignore_first_accessed', 'title'], axis=1)"
   ]
  },
  {
   "cell_type": "code",
   "execution_count": 5,
   "metadata": {},
   "outputs": [
    {
     "name": "stdout",
     "output_type": "stream",
     "text": [
      "<class 'pandas.core.frame.DataFrame'>\n",
      "RangeIndex: 716282 entries, 0 to 716281\n",
      "Data columns (total 10 columns):\n",
      " #   Column          Non-Null Count   Dtype         \n",
      "---  ------          --------------   -----         \n",
      " 0   id              716282 non-null  int64         \n",
      " 1   shortcode       716282 non-null  object        \n",
      " 2   user_id         716282 non-null  int64         \n",
      " 3   created         716282 non-null  datetime64[ns]\n",
      " 4   lastmodified    716282 non-null  datetime64[ns]\n",
      " 5   registered      545751 non-null  datetime64[ns]\n",
      " 6   paired          23132 non-null   datetime64[ns]\n",
      " 7   ticket          716282 non-null  object        \n",
      " 8   deleted         67 non-null      datetime64[ns]\n",
      " 9   first_accessed  142762 non-null  float64       \n",
      "dtypes: datetime64[ns](5), float64(1), int64(2), object(2)\n",
      "memory usage: 54.6+ MB\n"
     ]
    }
   ],
   "source": [
    "visits.info()"
   ]
  },
  {
   "cell_type": "code",
   "execution_count": 6,
   "metadata": {},
   "outputs": [
    {
     "data": {
      "text/html": [
       "<div>\n",
       "<style scoped>\n",
       "    .dataframe tbody tr th:only-of-type {\n",
       "        vertical-align: middle;\n",
       "    }\n",
       "\n",
       "    .dataframe tbody tr th {\n",
       "        vertical-align: top;\n",
       "    }\n",
       "\n",
       "    .dataframe thead th {\n",
       "        text-align: right;\n",
       "    }\n",
       "</style>\n",
       "<table border=\"1\" class=\"dataframe\">\n",
       "  <thead>\n",
       "    <tr style=\"text-align: right;\">\n",
       "      <th></th>\n",
       "      <th>id</th>\n",
       "      <th>shortcode</th>\n",
       "      <th>user_id</th>\n",
       "      <th>created</th>\n",
       "      <th>lastmodified</th>\n",
       "      <th>registered</th>\n",
       "      <th>paired</th>\n",
       "      <th>ticket</th>\n",
       "      <th>deleted</th>\n",
       "      <th>first_accessed</th>\n",
       "    </tr>\n",
       "  </thead>\n",
       "  <tbody>\n",
       "    <tr>\n",
       "      <th>0</th>\n",
       "      <td>794965</td>\n",
       "      <td>20141029u305</td>\n",
       "      <td>0</td>\n",
       "      <td>2014-10-29 21:10:47</td>\n",
       "      <td>2016-02-23 22:57:37</td>\n",
       "      <td>2014-10-29 21:10:47</td>\n",
       "      <td>2014-10-29 21:13:56</td>\n",
       "      <td>{\"tessitura_spoofing\":1,\"ticket_id\":\"794965\",\"performance_id\":\"71\",\"attended\":\"1\",\"date_attended\":\"2014-10-29T17:10:47-04:00\"}</td>\n",
       "      <td>2014-10-29 23:19:52</td>\n",
       "      <td>NaN</td>\n",
       "    </tr>\n",
       "    <tr>\n",
       "      <th>1</th>\n",
       "      <td>795317</td>\n",
       "      <td>foo001</td>\n",
       "      <td>0</td>\n",
       "      <td>2014-10-29 23:32:29</td>\n",
       "      <td>2016-02-23 22:57:37</td>\n",
       "      <td>2014-10-29 23:32:29</td>\n",
       "      <td>2014-10-29 23:33:06</td>\n",
       "      <td>{\"tessitura_spoofing\":1,\"ticket_id\":\"795317\",\"performance_id\":\"71\",\"attended\":\"1\",\"date_attended\":\"2014-10-29T19:32:29-04:00\"}</td>\n",
       "      <td>2014-10-29 23:35:18</td>\n",
       "      <td>NaN</td>\n",
       "    </tr>\n",
       "    <tr>\n",
       "      <th>2</th>\n",
       "      <td>795341</td>\n",
       "      <td>foo002</td>\n",
       "      <td>0</td>\n",
       "      <td>2014-10-29 23:40:51</td>\n",
       "      <td>2016-02-23 22:57:37</td>\n",
       "      <td>2014-10-29 23:40:51</td>\n",
       "      <td>2014-10-29 23:41:08</td>\n",
       "      <td>{\"tessitura_spoofing\":1,\"ticket_id\":\"795341\",\"performance_id\":\"71\",\"attended\":\"1\",\"date_attended\":\"2014-10-29T19:40:51-04:00\"}</td>\n",
       "      <td>2014-10-29 23:41:21</td>\n",
       "      <td>NaN</td>\n",
       "    </tr>\n",
       "    <tr>\n",
       "      <th>3</th>\n",
       "      <td>795351</td>\n",
       "      <td>foo003</td>\n",
       "      <td>0</td>\n",
       "      <td>2014-10-29 23:43:31</td>\n",
       "      <td>2016-02-23 22:57:37</td>\n",
       "      <td>2014-10-29 23:43:31</td>\n",
       "      <td>2014-10-29 23:44:28</td>\n",
       "      <td>{\"tessitura_spoofing\":1,\"ticket_id\":\"795351\",\"performance_id\":\"71\",\"attended\":\"1\",\"date_attended\":\"2014-10-29T19:43:31-04:00\"}</td>\n",
       "      <td>2014-10-29 23:44:34</td>\n",
       "      <td>NaN</td>\n",
       "    </tr>\n",
       "    <tr>\n",
       "      <th>4</th>\n",
       "      <td>795405</td>\n",
       "      <td>foo004</td>\n",
       "      <td>0</td>\n",
       "      <td>2014-10-30 00:13:47</td>\n",
       "      <td>2016-02-23 22:57:37</td>\n",
       "      <td>2014-10-30 00:13:47</td>\n",
       "      <td>2014-10-30 00:14:13</td>\n",
       "      <td>{\"tessitura_spoofing\":1,\"ticket_id\":\"795405\",\"performance_id\":\"71\",\"attended\":\"1\",\"date_attended\":\"2014-10-29T20:13:47-04:00\"}</td>\n",
       "      <td>2014-10-30 00:14:41</td>\n",
       "      <td>NaN</td>\n",
       "    </tr>\n",
       "    <tr>\n",
       "      <th>...</th>\n",
       "      <td>...</td>\n",
       "      <td>...</td>\n",
       "      <td>...</td>\n",
       "      <td>...</td>\n",
       "      <td>...</td>\n",
       "      <td>...</td>\n",
       "      <td>...</td>\n",
       "      <td>...</td>\n",
       "      <td>...</td>\n",
       "      <td>...</td>\n",
       "    </tr>\n",
       "    <tr>\n",
       "      <th>716277</th>\n",
       "      <td>132806719</td>\n",
       "      <td>56bs6</td>\n",
       "      <td>0</td>\n",
       "      <td>2020-07-09 13:11:50</td>\n",
       "      <td>2020-07-09 13:22:11</td>\n",
       "      <td>2020-07-09 13:12:12</td>\n",
       "      <td>NaT</td>\n",
       "      <td>{\"status\":\"Attendance recorded for ticket: 940560\",\"ticket_id\":\"940560\",\"shortcode\":\"56bs6\",\"performance_id\":\"4254\",\"performance_date\":\"2020-07-09T10:00:00-04:00\",\"date_attended\":\"Jul  9 2020  9:12AM\",\"attended\":\"1\",\"type\":null}</td>\n",
       "      <td>NaT</td>\n",
       "      <td>1.594301e+09</td>\n",
       "    </tr>\n",
       "    <tr>\n",
       "      <th>716278</th>\n",
       "      <td>132806727</td>\n",
       "      <td>cvszd</td>\n",
       "      <td>0</td>\n",
       "      <td>2020-07-09 13:16:19</td>\n",
       "      <td>2020-07-09 13:22:42</td>\n",
       "      <td>2020-07-09 13:16:32</td>\n",
       "      <td>NaT</td>\n",
       "      <td>{\"status\":\"Attendance recorded for ticket: 940561\",\"ticket_id\":\"940561\",\"shortcode\":\"cvszd\",\"performance_id\":\"4254\",\"performance_date\":\"2020-07-09T10:00:00-04:00\",\"date_attended\":\"Jul  9 2020  9:16AM\",\"attended\":\"1\",\"type\":null}</td>\n",
       "      <td>NaT</td>\n",
       "      <td>1.594301e+09</td>\n",
       "    </tr>\n",
       "    <tr>\n",
       "      <th>716279</th>\n",
       "      <td>132806735</td>\n",
       "      <td>zrbqg</td>\n",
       "      <td>0</td>\n",
       "      <td>2020-07-09 13:19:41</td>\n",
       "      <td>2020-07-09 13:22:54</td>\n",
       "      <td>2020-07-09 13:19:58</td>\n",
       "      <td>NaT</td>\n",
       "      <td>{\"status\":\"Attendance recorded for ticket: 940562\",\"ticket_id\":\"940562\",\"shortcode\":\"zrbqg\",\"performance_id\":\"4254\",\"performance_date\":\"2020-07-09T10:00:00-04:00\",\"date_attended\":\"Jul  9 2020  9:19AM\",\"attended\":\"1\",\"type\":null}</td>\n",
       "      <td>NaT</td>\n",
       "      <td>1.594301e+09</td>\n",
       "    </tr>\n",
       "    <tr>\n",
       "      <th>716280</th>\n",
       "      <td>132806749</td>\n",
       "      <td>Jr656</td>\n",
       "      <td>0</td>\n",
       "      <td>2020-07-09 13:40:43</td>\n",
       "      <td>2020-07-09 13:40:43</td>\n",
       "      <td>2020-07-09 13:40:42</td>\n",
       "      <td>NaT</td>\n",
       "      <td>{\"status\":\"Attendance recorded for ticket: 940563\",\"ticket_id\":\"940563\",\"shortcode\":\"Jr656\",\"performance_id\":\"4254\",\"performance_date\":\"2020-07-09T10:00:00-04:00\",\"date_attended\":\"Jul  9 2020  9:40AM\",\"attended\":\"1\",\"type\":null}</td>\n",
       "      <td>NaT</td>\n",
       "      <td>NaN</td>\n",
       "    </tr>\n",
       "    <tr>\n",
       "      <th>716281</th>\n",
       "      <td>132806751</td>\n",
       "      <td>3xp65</td>\n",
       "      <td>0</td>\n",
       "      <td>2020-07-09 13:41:06</td>\n",
       "      <td>2020-07-09 13:41:06</td>\n",
       "      <td>NaT</td>\n",
       "      <td>NaT</td>\n",
       "      <td>{\"ticket_id\":\"940564\",\"shortcode\":\"3xp65\",\"performance_id\":\"4254\",\"performance_date\":\"2020-07-09T10:00:00-04:00\",\"date_attended\":\"\",\"prepair\":\"0\",\"attended\":\"0\",\"type\":null}</td>\n",
       "      <td>NaT</td>\n",
       "      <td>NaN</td>\n",
       "    </tr>\n",
       "  </tbody>\n",
       "</table>\n",
       "<p>716282 rows × 10 columns</p>\n",
       "</div>"
      ],
      "text/plain": [
       "               id     shortcode  user_id             created  \\\n",
       "0          794965  20141029u305        0 2014-10-29 21:10:47   \n",
       "1          795317        foo001        0 2014-10-29 23:32:29   \n",
       "2          795341        foo002        0 2014-10-29 23:40:51   \n",
       "3          795351        foo003        0 2014-10-29 23:43:31   \n",
       "4          795405        foo004        0 2014-10-30 00:13:47   \n",
       "...           ...           ...      ...                 ...   \n",
       "716277  132806719         56bs6        0 2020-07-09 13:11:50   \n",
       "716278  132806727         cvszd        0 2020-07-09 13:16:19   \n",
       "716279  132806735         zrbqg        0 2020-07-09 13:19:41   \n",
       "716280  132806749         Jr656        0 2020-07-09 13:40:43   \n",
       "716281  132806751         3xp65        0 2020-07-09 13:41:06   \n",
       "\n",
       "              lastmodified          registered              paired  \\\n",
       "0      2016-02-23 22:57:37 2014-10-29 21:10:47 2014-10-29 21:13:56   \n",
       "1      2016-02-23 22:57:37 2014-10-29 23:32:29 2014-10-29 23:33:06   \n",
       "2      2016-02-23 22:57:37 2014-10-29 23:40:51 2014-10-29 23:41:08   \n",
       "3      2016-02-23 22:57:37 2014-10-29 23:43:31 2014-10-29 23:44:28   \n",
       "4      2016-02-23 22:57:37 2014-10-30 00:13:47 2014-10-30 00:14:13   \n",
       "...                    ...                 ...                 ...   \n",
       "716277 2020-07-09 13:22:11 2020-07-09 13:12:12                 NaT   \n",
       "716278 2020-07-09 13:22:42 2020-07-09 13:16:32                 NaT   \n",
       "716279 2020-07-09 13:22:54 2020-07-09 13:19:58                 NaT   \n",
       "716280 2020-07-09 13:40:43 2020-07-09 13:40:42                 NaT   \n",
       "716281 2020-07-09 13:41:06                 NaT                 NaT   \n",
       "\n",
       "                                                                                                                                                                                                                                      ticket  \\\n",
       "0                                                                                                             {\"tessitura_spoofing\":1,\"ticket_id\":\"794965\",\"performance_id\":\"71\",\"attended\":\"1\",\"date_attended\":\"2014-10-29T17:10:47-04:00\"}   \n",
       "1                                                                                                             {\"tessitura_spoofing\":1,\"ticket_id\":\"795317\",\"performance_id\":\"71\",\"attended\":\"1\",\"date_attended\":\"2014-10-29T19:32:29-04:00\"}   \n",
       "2                                                                                                             {\"tessitura_spoofing\":1,\"ticket_id\":\"795341\",\"performance_id\":\"71\",\"attended\":\"1\",\"date_attended\":\"2014-10-29T19:40:51-04:00\"}   \n",
       "3                                                                                                             {\"tessitura_spoofing\":1,\"ticket_id\":\"795351\",\"performance_id\":\"71\",\"attended\":\"1\",\"date_attended\":\"2014-10-29T19:43:31-04:00\"}   \n",
       "4                                                                                                             {\"tessitura_spoofing\":1,\"ticket_id\":\"795405\",\"performance_id\":\"71\",\"attended\":\"1\",\"date_attended\":\"2014-10-29T20:13:47-04:00\"}   \n",
       "...                                                                                                                                                                                                                                      ...   \n",
       "716277  {\"status\":\"Attendance recorded for ticket: 940560\",\"ticket_id\":\"940560\",\"shortcode\":\"56bs6\",\"performance_id\":\"4254\",\"performance_date\":\"2020-07-09T10:00:00-04:00\",\"date_attended\":\"Jul  9 2020  9:12AM\",\"attended\":\"1\",\"type\":null}   \n",
       "716278  {\"status\":\"Attendance recorded for ticket: 940561\",\"ticket_id\":\"940561\",\"shortcode\":\"cvszd\",\"performance_id\":\"4254\",\"performance_date\":\"2020-07-09T10:00:00-04:00\",\"date_attended\":\"Jul  9 2020  9:16AM\",\"attended\":\"1\",\"type\":null}   \n",
       "716279  {\"status\":\"Attendance recorded for ticket: 940562\",\"ticket_id\":\"940562\",\"shortcode\":\"zrbqg\",\"performance_id\":\"4254\",\"performance_date\":\"2020-07-09T10:00:00-04:00\",\"date_attended\":\"Jul  9 2020  9:19AM\",\"attended\":\"1\",\"type\":null}   \n",
       "716280  {\"status\":\"Attendance recorded for ticket: 940563\",\"ticket_id\":\"940563\",\"shortcode\":\"Jr656\",\"performance_id\":\"4254\",\"performance_date\":\"2020-07-09T10:00:00-04:00\",\"date_attended\":\"Jul  9 2020  9:40AM\",\"attended\":\"1\",\"type\":null}   \n",
       "716281                                                         {\"ticket_id\":\"940564\",\"shortcode\":\"3xp65\",\"performance_id\":\"4254\",\"performance_date\":\"2020-07-09T10:00:00-04:00\",\"date_attended\":\"\",\"prepair\":\"0\",\"attended\":\"0\",\"type\":null}   \n",
       "\n",
       "                   deleted  first_accessed  \n",
       "0      2014-10-29 23:19:52             NaN  \n",
       "1      2014-10-29 23:35:18             NaN  \n",
       "2      2014-10-29 23:41:21             NaN  \n",
       "3      2014-10-29 23:44:34             NaN  \n",
       "4      2014-10-30 00:14:41             NaN  \n",
       "...                    ...             ...  \n",
       "716277                 NaT    1.594301e+09  \n",
       "716278                 NaT    1.594301e+09  \n",
       "716279                 NaT    1.594301e+09  \n",
       "716280                 NaT             NaN  \n",
       "716281                 NaT             NaN  \n",
       "\n",
       "[716282 rows x 10 columns]"
      ]
     },
     "execution_count": 6,
     "metadata": {},
     "output_type": "execute_result"
    }
   ],
   "source": [
    "visits"
   ]
  },
  {
   "cell_type": "code",
   "execution_count": 7,
   "metadata": {},
   "outputs": [
    {
     "data": {
      "text/html": [
       "<div>\n",
       "<style scoped>\n",
       "    .dataframe tbody tr th:only-of-type {\n",
       "        vertical-align: middle;\n",
       "    }\n",
       "\n",
       "    .dataframe tbody tr th {\n",
       "        vertical-align: top;\n",
       "    }\n",
       "\n",
       "    .dataframe thead th {\n",
       "        text-align: right;\n",
       "    }\n",
       "</style>\n",
       "<table border=\"1\" class=\"dataframe\">\n",
       "  <thead>\n",
       "    <tr style=\"text-align: right;\">\n",
       "      <th></th>\n",
       "      <th>id</th>\n",
       "      <th>shortcode</th>\n",
       "      <th>user_id</th>\n",
       "      <th>created</th>\n",
       "      <th>lastmodified</th>\n",
       "      <th>registered</th>\n",
       "      <th>paired</th>\n",
       "      <th>ticket</th>\n",
       "      <th>deleted</th>\n",
       "      <th>first_accessed</th>\n",
       "    </tr>\n",
       "  </thead>\n",
       "  <tbody>\n",
       "  </tbody>\n",
       "</table>\n",
       "</div>"
      ],
      "text/plain": [
       "Empty DataFrame\n",
       "Columns: [id, shortcode, user_id, created, lastmodified, registered, paired, ticket, deleted, first_accessed]\n",
       "Index: []"
      ]
     },
     "execution_count": 7,
     "metadata": {},
     "output_type": "execute_result"
    }
   ],
   "source": [
    "visits[visits['id'].duplicated()]"
   ]
  },
  {
   "cell_type": "code",
   "execution_count": 8,
   "metadata": {},
   "outputs": [],
   "source": [
    "#Total visits: 716,282"
   ]
  },
  {
   "cell_type": "markdown",
   "metadata": {},
   "source": [
    "## Visits by time"
   ]
  },
  {
   "cell_type": "code",
   "execution_count": 9,
   "metadata": {},
   "outputs": [
    {
     "data": {
      "text/plain": [
       "created\n",
       "2016-07    23562\n",
       "2016-04    21719\n",
       "2016-08    20642\n",
       "2016-05    20540\n",
       "2016-03    19523\n",
       "Freq: M, Name: created, dtype: int64"
      ]
     },
     "execution_count": 9,
     "metadata": {},
     "output_type": "execute_result"
    }
   ],
   "source": [
    "visits_by_month = visits['created'].groupby(visits.created.dt.to_period(\"M\")).agg('count')\n",
    "visits_by_month.nlargest()"
   ]
  },
  {
   "cell_type": "code",
   "execution_count": 10,
   "metadata": {},
   "outputs": [
    {
     "data": {
      "text/plain": [
       "<matplotlib.legend.Legend at 0x7ffbbb828dd0>"
      ]
     },
     "execution_count": 10,
     "metadata": {},
     "output_type": "execute_result"
    },
    {
     "data": {
      "image/png": "[encoded data removed]",
      "text/plain": [
       "<Figure size 576x360 with 1 Axes>"
      ]
     },
     "metadata": {
      "needs_background": "light"
     },
     "output_type": "display_data"
    }
   ],
   "source": [
    "plt.figure(figsize=(8,5))\n",
    "plt.title('What month was with the most visits?', fontdict={'fontweight': 'bold', 'fontsize':18})\n",
    "\n",
    "visits_by_month.plot()\n",
    "plt.ylabel('Values count')\n",
    "plt.legend()\n",
    "# plt.savefig('monthly_visits.png', dpi=300)"
   ]
  },
  {
   "cell_type": "code",
   "execution_count": 11,
   "metadata": {},
   "outputs": [
    {
     "data": {
      "text/plain": [
       "<matplotlib.legend.Legend at 0x7ffbdb9556d0>"
      ]
     },
     "execution_count": 11,
     "metadata": {},
     "output_type": "execute_result"
    },
    {
     "data": {
      "image/png": "[encoded data removed]",
      "text/plain": [
       "<Figure size 360x360 with 1 Axes>"
      ]
     },
     "metadata": {},
     "output_type": "display_data"
    }
   ],
   "source": [
    "visits_by_year = visits['created'].groupby(visits.created.dt.to_period(\"Y\")).agg('count')\n",
    "\n",
    "plt.figure(figsize=(8,5))\n",
    "visits_by_year.plot.pie(y='created', figsize=(5, 5),autopct='%1.1f%%', startangle=90)\n",
    "plt.title('What year was the most visiits?', fontdict={'fontweight': 'bold', 'fontsize':18})\n",
    "plt.ylabel('Values count')\n",
    "plt.legend()\n",
    "# plt.savefig('yearly_activity.png', dpi=300)\n",
    "\n",
    "#this aligned with the activity most year, and raiise a question about checkout years"
   ]
  },
  {
   "cell_type": "code",
   "execution_count": 12,
   "metadata": {},
   "outputs": [
    {
     "data": {
      "text/plain": [
       "<matplotlib.legend.Legend at 0x7ffbc7a0c110>"
      ]
     },
     "execution_count": 12,
     "metadata": {},
     "output_type": "execute_result"
    },
    {
     "data": {
      "image/png": "[encoded data removed]",
      "text/plain": [
       "<Figure size 576x360 with 1 Axes>"
      ]
     },
     "metadata": {
      "needs_background": "light"
     },
     "output_type": "display_data"
    }
   ],
   "source": [
    "viisits_by_day = visits['created'].groupby(visits.created.dt.to_period(\"D\")).agg('count')\n",
    "\n",
    "plt.figure(figsize=(8,5))\n",
    "plt.title('What day was with most visits?', fontdict={'fontweight': 'bold', 'fontsize':18})\n",
    "viisits_by_day.plot()\n",
    "plt.xlabel('Dates')\n",
    "plt.ylabel('Values count')\n",
    "plt.legend()\n",
    "# plt.savefig('daily_registers.png', dpi=300)"
   ]
  },
  {
   "cell_type": "code",
   "execution_count": 13,
   "metadata": {},
   "outputs": [
    {
     "data": {
      "text/plain": [
       "created\n",
       "2016-09-24    1969\n",
       "2017-09-23    1827\n",
       "2016-03-12    1732\n",
       "2016-04-23    1522\n",
       "2016-08-06    1497\n",
       "2016-01-02    1388\n",
       "2016-07-23    1365\n",
       "2016-04-02    1346\n",
       "2016-03-05    1340\n",
       "2016-03-19    1300\n",
       "Freq: D, Name: created, dtype: int64"
      ]
     },
     "execution_count": 13,
     "metadata": {},
     "output_type": "execute_result"
    }
   ],
   "source": [
    "viisits_by_day.nlargest(10)"
   ]
  },
  {
   "cell_type": "markdown",
   "metadata": {},
   "source": [
    "## average time\n",
    "### if last modified gives the timestamp of activition online"
   ]
  },
  {
   "cell_type": "code",
   "execution_count": 14,
   "metadata": {},
   "outputs": [],
   "source": [
    "start= visits['created']\n",
    "end = visits['lastmodified']\n",
    "\n",
    "timerange = end- start\n",
    "visits['timerange'] = timerange"
   ]
  },
  {
   "cell_type": "code",
   "execution_count": 15,
   "metadata": {},
   "outputs": [
    {
     "data": {
      "text/plain": [
       "Timedelta('57 days 09:02:24.557383')"
      ]
     },
     "execution_count": 15,
     "metadata": {},
     "output_type": "execute_result"
    }
   ],
   "source": [
    "visits['timerange'].mean()"
   ]
  },
  {
   "cell_type": "markdown",
   "metadata": {},
   "source": [
    "## Ticket Column"
   ]
  },
  {
   "cell_type": "code",
   "execution_count": 16,
   "metadata": {},
   "outputs": [],
   "source": [
    "ticket_parse = visits['ticket']"
   ]
  },
  {
   "cell_type": "code",
   "execution_count": 17,
   "metadata": {},
   "outputs": [
    {
     "name": "stdout",
     "output_type": "stream",
     "text": [
      "\n",
      "\n",
      "\n",
      "\n",
      "\n",
      "\n",
      "\n",
      "\n",
      "\n",
      "\n",
      "\n",
      "\n",
      "\n",
      "\n",
      "\n",
      "\n",
      "\n",
      "\n",
      "\n",
      "\n",
      "\n",
      "\n",
      "\n",
      "\n",
      "\n",
      "\n",
      "\n",
      "\n",
      "\n",
      "\n",
      "\n",
      "\n",
      "\n",
      "\n",
      "\n",
      "\n"
     ]
    }
   ],
   "source": [
    "def parse(string):\n",
    "    if string is None:\n",
    "        return {}\n",
    "    else:\n",
    "        try:\n",
    "            return json.loads(string)\n",
    "        except ValueError:\n",
    "            print(string)\n",
    "            return {}\n",
    "        \n",
    "    \n",
    "json_str = ticket_parse.map(parse)"
   ]
  },
  {
   "cell_type": "code",
   "execution_count": 18,
   "metadata": {},
   "outputs": [],
   "source": [
    "visits['ticket_id'] = json_str.map(lambda row: row.get('ticket_id'))"
   ]
  },
  {
   "cell_type": "code",
   "execution_count": 19,
   "metadata": {},
   "outputs": [],
   "source": [
    "visits_clean = visits[['id', 'shortcode', 'ticket_id', 'user_id', 'created', 'lastmodified', 'registered', 'paired', 'deleted', 'first_accessed']]"
   ]
  },
  {
   "cell_type": "code",
   "execution_count": 20,
   "metadata": {},
   "outputs": [
    {
     "data": {
      "text/html": [
       "<div>\n",
       "<style scoped>\n",
       "    .dataframe tbody tr th:only-of-type {\n",
       "        vertical-align: middle;\n",
       "    }\n",
       "\n",
       "    .dataframe tbody tr th {\n",
       "        vertical-align: top;\n",
       "    }\n",
       "\n",
       "    .dataframe thead th {\n",
       "        text-align: right;\n",
       "    }\n",
       "</style>\n",
       "<table border=\"1\" class=\"dataframe\">\n",
       "  <thead>\n",
       "    <tr style=\"text-align: right;\">\n",
       "      <th></th>\n",
       "      <th>id</th>\n",
       "      <th>shortcode</th>\n",
       "      <th>ticket_id</th>\n",
       "      <th>user_id</th>\n",
       "      <th>created</th>\n",
       "      <th>lastmodified</th>\n",
       "      <th>registered</th>\n",
       "      <th>paired</th>\n",
       "      <th>deleted</th>\n",
       "      <th>first_accessed</th>\n",
       "    </tr>\n",
       "  </thead>\n",
       "  <tbody>\n",
       "    <tr>\n",
       "      <th>0</th>\n",
       "      <td>794965</td>\n",
       "      <td>20141029u305</td>\n",
       "      <td>794965</td>\n",
       "      <td>0</td>\n",
       "      <td>2014-10-29 21:10:47</td>\n",
       "      <td>2016-02-23 22:57:37</td>\n",
       "      <td>2014-10-29 21:10:47</td>\n",
       "      <td>2014-10-29 21:13:56</td>\n",
       "      <td>2014-10-29 23:19:52</td>\n",
       "      <td>NaN</td>\n",
       "    </tr>\n",
       "    <tr>\n",
       "      <th>1</th>\n",
       "      <td>795317</td>\n",
       "      <td>foo001</td>\n",
       "      <td>795317</td>\n",
       "      <td>0</td>\n",
       "      <td>2014-10-29 23:32:29</td>\n",
       "      <td>2016-02-23 22:57:37</td>\n",
       "      <td>2014-10-29 23:32:29</td>\n",
       "      <td>2014-10-29 23:33:06</td>\n",
       "      <td>2014-10-29 23:35:18</td>\n",
       "      <td>NaN</td>\n",
       "    </tr>\n",
       "    <tr>\n",
       "      <th>2</th>\n",
       "      <td>795341</td>\n",
       "      <td>foo002</td>\n",
       "      <td>795341</td>\n",
       "      <td>0</td>\n",
       "      <td>2014-10-29 23:40:51</td>\n",
       "      <td>2016-02-23 22:57:37</td>\n",
       "      <td>2014-10-29 23:40:51</td>\n",
       "      <td>2014-10-29 23:41:08</td>\n",
       "      <td>2014-10-29 23:41:21</td>\n",
       "      <td>NaN</td>\n",
       "    </tr>\n",
       "    <tr>\n",
       "      <th>3</th>\n",
       "      <td>795351</td>\n",
       "      <td>foo003</td>\n",
       "      <td>795351</td>\n",
       "      <td>0</td>\n",
       "      <td>2014-10-29 23:43:31</td>\n",
       "      <td>2016-02-23 22:57:37</td>\n",
       "      <td>2014-10-29 23:43:31</td>\n",
       "      <td>2014-10-29 23:44:28</td>\n",
       "      <td>2014-10-29 23:44:34</td>\n",
       "      <td>NaN</td>\n",
       "    </tr>\n",
       "    <tr>\n",
       "      <th>4</th>\n",
       "      <td>795405</td>\n",
       "      <td>foo004</td>\n",
       "      <td>795405</td>\n",
       "      <td>0</td>\n",
       "      <td>2014-10-30 00:13:47</td>\n",
       "      <td>2016-02-23 22:57:37</td>\n",
       "      <td>2014-10-30 00:13:47</td>\n",
       "      <td>2014-10-30 00:14:13</td>\n",
       "      <td>2014-10-30 00:14:41</td>\n",
       "      <td>NaN</td>\n",
       "    </tr>\n",
       "    <tr>\n",
       "      <th>...</th>\n",
       "      <td>...</td>\n",
       "      <td>...</td>\n",
       "      <td>...</td>\n",
       "      <td>...</td>\n",
       "      <td>...</td>\n",
       "      <td>...</td>\n",
       "      <td>...</td>\n",
       "      <td>...</td>\n",
       "      <td>...</td>\n",
       "      <td>...</td>\n",
       "    </tr>\n",
       "    <tr>\n",
       "      <th>716277</th>\n",
       "      <td>132806719</td>\n",
       "      <td>56bs6</td>\n",
       "      <td>940560</td>\n",
       "      <td>0</td>\n",
       "      <td>2020-07-09 13:11:50</td>\n",
       "      <td>2020-07-09 13:22:11</td>\n",
       "      <td>2020-07-09 13:12:12</td>\n",
       "      <td>NaT</td>\n",
       "      <td>NaT</td>\n",
       "      <td>1.594301e+09</td>\n",
       "    </tr>\n",
       "    <tr>\n",
       "      <th>716278</th>\n",
       "      <td>132806727</td>\n",
       "      <td>cvszd</td>\n",
       "      <td>940561</td>\n",
       "      <td>0</td>\n",
       "      <td>2020-07-09 13:16:19</td>\n",
       "      <td>2020-07-09 13:22:42</td>\n",
       "      <td>2020-07-09 13:16:32</td>\n",
       "      <td>NaT</td>\n",
       "      <td>NaT</td>\n",
       "      <td>1.594301e+09</td>\n",
       "    </tr>\n",
       "    <tr>\n",
       "      <th>716279</th>\n",
       "      <td>132806735</td>\n",
       "      <td>zrbqg</td>\n",
       "      <td>940562</td>\n",
       "      <td>0</td>\n",
       "      <td>2020-07-09 13:19:41</td>\n",
       "      <td>2020-07-09 13:22:54</td>\n",
       "      <td>2020-07-09 13:19:58</td>\n",
       "      <td>NaT</td>\n",
       "      <td>NaT</td>\n",
       "      <td>1.594301e+09</td>\n",
       "    </tr>\n",
       "    <tr>\n",
       "      <th>716280</th>\n",
       "      <td>132806749</td>\n",
       "      <td>Jr656</td>\n",
       "      <td>940563</td>\n",
       "      <td>0</td>\n",
       "      <td>2020-07-09 13:40:43</td>\n",
       "      <td>2020-07-09 13:40:43</td>\n",
       "      <td>2020-07-09 13:40:42</td>\n",
       "      <td>NaT</td>\n",
       "      <td>NaT</td>\n",
       "      <td>NaN</td>\n",
       "    </tr>\n",
       "    <tr>\n",
       "      <th>716281</th>\n",
       "      <td>132806751</td>\n",
       "      <td>3xp65</td>\n",
       "      <td>940564</td>\n",
       "      <td>0</td>\n",
       "      <td>2020-07-09 13:41:06</td>\n",
       "      <td>2020-07-09 13:41:06</td>\n",
       "      <td>NaT</td>\n",
       "      <td>NaT</td>\n",
       "      <td>NaT</td>\n",
       "      <td>NaN</td>\n",
       "    </tr>\n",
       "  </tbody>\n",
       "</table>\n",
       "<p>716282 rows × 10 columns</p>\n",
       "</div>"
      ],
      "text/plain": [
       "               id     shortcode ticket_id  user_id             created  \\\n",
       "0          794965  20141029u305    794965        0 2014-10-29 21:10:47   \n",
       "1          795317        foo001    795317        0 2014-10-29 23:32:29   \n",
       "2          795341        foo002    795341        0 2014-10-29 23:40:51   \n",
       "3          795351        foo003    795351        0 2014-10-29 23:43:31   \n",
       "4          795405        foo004    795405        0 2014-10-30 00:13:47   \n",
       "...           ...           ...       ...      ...                 ...   \n",
       "716277  132806719         56bs6    940560        0 2020-07-09 13:11:50   \n",
       "716278  132806727         cvszd    940561        0 2020-07-09 13:16:19   \n",
       "716279  132806735         zrbqg    940562        0 2020-07-09 13:19:41   \n",
       "716280  132806749         Jr656    940563        0 2020-07-09 13:40:43   \n",
       "716281  132806751         3xp65    940564        0 2020-07-09 13:41:06   \n",
       "\n",
       "              lastmodified          registered              paired  \\\n",
       "0      2016-02-23 22:57:37 2014-10-29 21:10:47 2014-10-29 21:13:56   \n",
       "1      2016-02-23 22:57:37 2014-10-29 23:32:29 2014-10-29 23:33:06   \n",
       "2      2016-02-23 22:57:37 2014-10-29 23:40:51 2014-10-29 23:41:08   \n",
       "3      2016-02-23 22:57:37 2014-10-29 23:43:31 2014-10-29 23:44:28   \n",
       "4      2016-02-23 22:57:37 2014-10-30 00:13:47 2014-10-30 00:14:13   \n",
       "...                    ...                 ...                 ...   \n",
       "716277 2020-07-09 13:22:11 2020-07-09 13:12:12                 NaT   \n",
       "716278 2020-07-09 13:22:42 2020-07-09 13:16:32                 NaT   \n",
       "716279 2020-07-09 13:22:54 2020-07-09 13:19:58                 NaT   \n",
       "716280 2020-07-09 13:40:43 2020-07-09 13:40:42                 NaT   \n",
       "716281 2020-07-09 13:41:06                 NaT                 NaT   \n",
       "\n",
       "                   deleted  first_accessed  \n",
       "0      2014-10-29 23:19:52             NaN  \n",
       "1      2014-10-29 23:35:18             NaN  \n",
       "2      2014-10-29 23:41:21             NaN  \n",
       "3      2014-10-29 23:44:34             NaN  \n",
       "4      2014-10-30 00:14:41             NaN  \n",
       "...                    ...             ...  \n",
       "716277                 NaT    1.594301e+09  \n",
       "716278                 NaT    1.594301e+09  \n",
       "716279                 NaT    1.594301e+09  \n",
       "716280                 NaT             NaN  \n",
       "716281                 NaT             NaN  \n",
       "\n",
       "[716282 rows x 10 columns]"
      ]
     },
     "execution_count": 20,
     "metadata": {},
     "output_type": "execute_result"
    }
   ],
   "source": [
    "visits_clean\n",
    "##clean , might choose to clean first_accessed and paired"
   ]
  },
  {
   "cell_type": "markdown",
   "metadata": {},
   "source": [
    "## summerizing fundings"
   ]
  },
  {
   "cell_type": "code",
   "execution_count": 47,
   "metadata": {},
   "outputs": [],
   "source": [
    "findings = [{'Total visits': '716,282','most_visit_year': '2016', 'most_visit_month': '2016-07 with 23,562', 'most_visit_day': '2016-09-24 with 1,969'},\n",
    "           {'most_visit_year': '2017', 'most_visit_month': '2016-04 with 21,719', 'most_visit_day': '2017-09-23 with 1,827'}, \n",
    "            {'most_visit_year': '2015', 'most_visit_month': '2016-08 with 20,642', 'most_visit_day': '2016-03-12 with 1,732'}]\n",
    "\n",
    "\n",
    "visits_finding = pd.DataFrame(findings)"
   ]
  },
  {
   "cell_type": "code",
   "execution_count": 48,
   "metadata": {},
   "outputs": [
    {
     "data": {
      "text/html": [
       "<div>\n",
       "<style scoped>\n",
       "    .dataframe tbody tr th:only-of-type {\n",
       "        vertical-align: middle;\n",
       "    }\n",
       "\n",
       "    .dataframe tbody tr th {\n",
       "        vertical-align: top;\n",
       "    }\n",
       "\n",
       "    .dataframe thead th {\n",
       "        text-align: right;\n",
       "    }\n",
       "</style>\n",
       "<table border=\"1\" class=\"dataframe\">\n",
       "  <thead>\n",
       "    <tr style=\"text-align: right;\">\n",
       "      <th></th>\n",
       "      <th>Total visits</th>\n",
       "      <th>most_visit_year</th>\n",
       "      <th>most_visit_month</th>\n",
       "      <th>most_visit_day</th>\n",
       "    </tr>\n",
       "  </thead>\n",
       "  <tbody>\n",
       "    <tr>\n",
       "      <th>0</th>\n",
       "      <td>716,282</td>\n",
       "      <td>2016</td>\n",
       "      <td>2016-07 with 23,562</td>\n",
       "      <td>2016-09-24 with 1,969</td>\n",
       "    </tr>\n",
       "    <tr>\n",
       "      <th>1</th>\n",
       "      <td>NaN</td>\n",
       "      <td>2017</td>\n",
       "      <td>2016-04 with 21,719</td>\n",
       "      <td>2017-09-23 with 1,827</td>\n",
       "    </tr>\n",
       "    <tr>\n",
       "      <th>2</th>\n",
       "      <td>NaN</td>\n",
       "      <td>2015</td>\n",
       "      <td>2016-08 with 20,642</td>\n",
       "      <td>2016-03-12 with 1,732</td>\n",
       "    </tr>\n",
       "  </tbody>\n",
       "</table>\n",
       "</div>"
      ],
      "text/plain": [
       "  Total visits most_visit_year     most_visit_month         most_visit_day\n",
       "0      716,282            2016  2016-07 with 23,562  2016-09-24 with 1,969\n",
       "1          NaN            2017  2016-04 with 21,719  2017-09-23 with 1,827\n",
       "2          NaN            2015  2016-08 with 20,642  2016-03-12 with 1,732"
      ]
     },
     "execution_count": 48,
     "metadata": {},
     "output_type": "execute_result"
    }
   ],
   "source": [
    "visits_finding"
   ]
  },
  {
   "cell_type": "code",
   "execution_count": 23,
   "metadata": {},
   "outputs": [
    {
     "data": {
      "text/html": [
       "<div>\n",
       "<style scoped>\n",
       "    .dataframe tbody tr th:only-of-type {\n",
       "        vertical-align: middle;\n",
       "    }\n",
       "\n",
       "    .dataframe tbody tr th {\n",
       "        vertical-align: top;\n",
       "    }\n",
       "\n",
       "    .dataframe thead th {\n",
       "        text-align: right;\n",
       "    }\n",
       "</style>\n",
       "<table border=\"1\" class=\"dataframe\">\n",
       "  <thead>\n",
       "    <tr style=\"text-align: right;\">\n",
       "      <th></th>\n",
       "      <th>id</th>\n",
       "      <th>shortcode</th>\n",
       "      <th>user_id</th>\n",
       "      <th>created</th>\n",
       "      <th>lastmodified</th>\n",
       "      <th>registered</th>\n",
       "      <th>paired</th>\n",
       "      <th>ticket</th>\n",
       "      <th>deleted</th>\n",
       "      <th>first_accessed</th>\n",
       "      <th>timerange</th>\n",
       "      <th>ticket_id</th>\n",
       "    </tr>\n",
       "  </thead>\n",
       "  <tbody>\n",
       "  </tbody>\n",
       "</table>\n",
       "</div>"
      ],
      "text/plain": [
       "Empty DataFrame\n",
       "Columns: [id, shortcode, user_id, created, lastmodified, registered, paired, ticket, deleted, first_accessed, timerange, ticket_id]\n",
       "Index: []"
      ]
     },
     "execution_count": 23,
     "metadata": {},
     "output_type": "execute_result"
    }
   ],
   "source": [
    "visits[visits['ticket_id'] == 793449]"
   ]
  },
  {
   "cell_type": "code",
   "execution_count": null,
   "metadata": {},
   "outputs": [],
   "source": []
  }
 ],
 "metadata": {
  "kernelspec": {
   "display_name": "Python 3",
   "language": "python",
   "name": "python3"
  },
  "language_info": {
   "codemirror_mode": {
    "name": "ipython",
    "version": 3
   },
   "file_extension": ".py",
   "mimetype": "text/x-python",
   "name": "python",
   "nbconvert_exporter": "python",
   "pygments_lexer": "ipython3",
   "version": "3.7.6"
  }
 },
 "nbformat": 4,
 "nbformat_minor": 4
}
