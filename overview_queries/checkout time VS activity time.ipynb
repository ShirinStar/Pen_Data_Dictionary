{
 "cells": [
  {
   "cell_type": "code",
   "execution_count": 3,
   "metadata": {},
   "outputs": [],
   "source": [
    "import mysql.connector as sql\n",
    "import pandas as pd\n",
    "import datetime as dt\n",
    "import numpy as np\n",
    "from sorted_months_weekdays import *\n",
    "from sort_dataframeby_monthorweek import *\n",
    "import matplotlib.pyplot as plt\n",
    "import math"
   ]
  },
  {
   "cell_type": "code",
   "execution_count": 4,
   "metadata": {},
   "outputs": [],
   "source": [
    "db_connection = sql.connect(host='localhost', database='collection_visits', user='pandas', password='password')\n",
    "\n",
    "pensActivity = pd.read_sql('SELECT * FROM PensActivity', con=db_connection)\n",
    "pensActivity['created'] = pd.to_datetime(pensActivity['created'], unit='s').dt.tz_localize('utc').dt.tz_convert('US/Eastern')\n",
    "pensActivity['lastmodified'] = pd.to_datetime(pensActivity['lastmodified'], unit='s').dt.tz_localize('utc').dt.tz_convert('US/Eastern')\n",
    "pensActivity['created'].replace(0, np.nan, inplace=True)\n",
    "pensActivity['lastmodified'].replace(0, np.nan, inplace=True)\n",
    "pensActivity['notes'].replace(r'^\\s*$', np.NaN, regex=True, inplace=True)\n",
    "pensActivity['notes'] = pensActivity['notes'].astype('category')\n",
    "pensActivity.sort_values(by='created', inplace=True)\n",
    "\n",
    "pensCheckouts = pd.read_sql('SELECT * FROM PensCheckouts', con=db_connection)\n",
    "pensCheckouts['start'] = pd.to_datetime(pensCheckouts['start'], unit='s').dt.tz_localize('utc').dt.tz_convert('US/Eastern')\n",
    "pensCheckouts['start'].replace(0, np.nan, inplace=True)\n",
    "pensCheckouts['end'].replace(0, np.nan, inplace=True)\n",
    "pensCheckouts['end'] = pd.to_datetime(pensCheckouts['end'], unit='s').dt.tz_localize('utc').dt.tz_convert('US/Eastern')\n",
    "pensCheckouts['start_ip'].replace(0, np.nan, inplace=True)\n",
    "pensCheckouts['end_ip'].replace(0, np.nan, inplace=True)\n",
    "pensCheckouts['start_ip'] = pensCheckouts['start_ip'].astype('category')\n",
    "pensCheckouts['end_ip'] = pensCheckouts['end_ip'].astype('category')\n",
    "\n",
    "pensCheckouts.set_index('id', inplace=True)\n",
    "pensCheckouts.sort_index(inplace=True)\n",
    "###DROPED COLUMNS####\n",
    "pensCheckouts.drop(['start_ip', 'end_ip'], axis=1, inplace=True)"
   ]
  },
  {
   "cell_type": "code",
   "execution_count": 5,
   "metadata": {},
   "outputs": [],
   "source": [
    "pd.set_option('display.max_rows', 200)\n",
    "pd.set_option('display.max_columns', 50)"
   ]
  },
  {
   "cell_type": "code",
   "execution_count": null,
   "metadata": {},
   "outputs": [],
   "source": []
  },
  {
   "cell_type": "markdown",
   "metadata": {},
   "source": [
    "## comparing number of uses"
   ]
  },
  {
   "cell_type": "code",
   "execution_count": 4,
   "metadata": {
    "scrolled": true
   },
   "outputs": [],
   "source": [
    "activity_pen_id = pensActivity['pen_id']\n",
    "activity_id_count = activity_pen_id.value_counts()\n",
    "activity_id_count = activity_id_count.rename('value_pens_activity')"
   ]
  },
  {
   "cell_type": "code",
   "execution_count": 5,
   "metadata": {},
   "outputs": [],
   "source": [
    "checkout_pen_id = pensCheckouts['pen_id']\n",
    "checkout_id_count = checkout_pen_id.value_counts()\n",
    "checkout_id_count = checkout_id_count.rename('value_pens_checkout')"
   ]
  },
  {
   "cell_type": "code",
   "execution_count": 7,
   "metadata": {},
   "outputs": [
    {
     "data": {
      "text/html": [
       "<div>\n",
       "<style scoped>\n",
       "    .dataframe tbody tr th:only-of-type {\n",
       "        vertical-align: middle;\n",
       "    }\n",
       "\n",
       "    .dataframe tbody tr th {\n",
       "        vertical-align: top;\n",
       "    }\n",
       "\n",
       "    .dataframe thead th {\n",
       "        text-align: right;\n",
       "    }\n",
       "</style>\n",
       "<table border=\"1\" class=\"dataframe\">\n",
       "  <thead>\n",
       "    <tr style=\"text-align: right;\">\n",
       "      <th></th>\n",
       "      <th>value_pens_checkout</th>\n",
       "      <th>value_pens_activity</th>\n",
       "    </tr>\n",
       "  </thead>\n",
       "  <tbody>\n",
       "    <tr>\n",
       "      <th>0</th>\n",
       "      <td>2.0</td>\n",
       "      <td>1.0</td>\n",
       "    </tr>\n",
       "    <tr>\n",
       "      <th>1</th>\n",
       "      <td>6.0</td>\n",
       "      <td>NaN</td>\n",
       "    </tr>\n",
       "    <tr>\n",
       "      <th>2</th>\n",
       "      <td>7.0</td>\n",
       "      <td>NaN</td>\n",
       "    </tr>\n",
       "    <tr>\n",
       "      <th>3</th>\n",
       "      <td>49.0</td>\n",
       "      <td>1.0</td>\n",
       "    </tr>\n",
       "    <tr>\n",
       "      <th>4</th>\n",
       "      <td>5.0</td>\n",
       "      <td>NaN</td>\n",
       "    </tr>\n",
       "    <tr>\n",
       "      <th>...</th>\n",
       "      <td>...</td>\n",
       "      <td>...</td>\n",
       "    </tr>\n",
       "    <tr>\n",
       "      <th>3860045</th>\n",
       "      <td>130.0</td>\n",
       "      <td>267.0</td>\n",
       "    </tr>\n",
       "    <tr>\n",
       "      <th>3860047</th>\n",
       "      <td>84.0</td>\n",
       "      <td>180.0</td>\n",
       "    </tr>\n",
       "    <tr>\n",
       "      <th>3860067</th>\n",
       "      <td>466.0</td>\n",
       "      <td>629.0</td>\n",
       "    </tr>\n",
       "    <tr>\n",
       "      <th>3860071</th>\n",
       "      <td>100.0</td>\n",
       "      <td>185.0</td>\n",
       "    </tr>\n",
       "    <tr>\n",
       "      <th>3860073</th>\n",
       "      <td>80.0</td>\n",
       "      <td>168.0</td>\n",
       "    </tr>\n",
       "  </tbody>\n",
       "</table>\n",
       "<p>3035 rows × 2 columns</p>\n",
       "</div>"
      ],
      "text/plain": [
       "         value_pens_checkout  value_pens_activity\n",
       "0                        2.0                  1.0\n",
       "1                        6.0                  NaN\n",
       "2                        7.0                  NaN\n",
       "3                       49.0                  1.0\n",
       "4                        5.0                  NaN\n",
       "...                      ...                  ...\n",
       "3860045                130.0                267.0\n",
       "3860047                 84.0                180.0\n",
       "3860067                466.0                629.0\n",
       "3860071                100.0                185.0\n",
       "3860073                 80.0                168.0\n",
       "\n",
       "[3035 rows x 2 columns]"
      ]
     },
     "execution_count": 7,
     "metadata": {},
     "output_type": "execute_result"
    }
   ],
   "source": [
    "counts_by_ids = pd.concat([checkout_id_count, activity_id_count], axis=1, sort=False)\n",
    "counts_by_ids"
   ]
  },
  {
   "cell_type": "code",
   "execution_count": 38,
   "metadata": {},
   "outputs": [
    {
     "data": {
      "text/plain": [
       "<matplotlib.legend.Legend at 0x7fa97e359410>"
      ]
     },
     "execution_count": 38,
     "metadata": {},
     "output_type": "execute_result"
    },
    {
     "data": {
      "image/png": "[encoded data removed]",
      "text/plain": [
       "<Figure size 432x288 with 1 Axes>"
      ]
     },
     "metadata": {
      "needs_background": "light"
     },
     "output_type": "display_data"
    }
   ],
   "source": [
    "counts_by_ids.plot()\n",
    "plt.xticks(rotation=30)\n",
    "plt.xlabel('IDs Number')\n",
    "plt.ylabel('Value counts')\n",
    "plt.title('Comparing count Pens id Activity vs. Checkout', fontdict={'fontweight': 'bold', 'fontsize':18})\n",
    "plt.legend()\n",
    "# plt.savefig('count_pens_checkout_activity.png', dpi=300)\n",
    "\n",
    "#this might gives the relation between how many times a pen was checkout and how many times the same pen was activated"
   ]
  },
  {
   "cell_type": "markdown",
   "metadata": {},
   "source": [
    "## why 2017 is less popular in checkout but more active in activity "
   ]
  },
  {
   "cell_type": "code",
   "execution_count": 3,
   "metadata": {
    "scrolled": true
   },
   "outputs": [
    {
     "data": {
      "text/plain": [
       "start\n",
       "2014-10      20\n",
       "2014-11     154\n",
       "2014-12      63\n",
       "2015-01      30\n",
       "2015-02     126\n",
       "           ... \n",
       "2019-12    9811\n",
       "2020-01    9066\n",
       "2020-02    7595\n",
       "2020-03     854\n",
       "2020-07      36\n",
       "Freq: M, Name: start, Length: 67, dtype: int64"
      ]
     },
     "execution_count": 3,
     "metadata": {},
     "output_type": "execute_result"
    }
   ],
   "source": [
    "checkout_monthly_value = pensCheckouts['start'].groupby(pensCheckouts.start.dt.to_period(\"M\")).agg('count')\n",
    "checkout_monthly_value"
   ]
  },
  {
   "cell_type": "code",
   "execution_count": 4,
   "metadata": {},
   "outputs": [
    {
     "data": {
      "text/plain": [
       "created\n",
       "2014-12       52\n",
       "2015-01       27\n",
       "2015-02      760\n",
       "2015-03    16414\n",
       "2015-04    19576\n",
       "           ...  \n",
       "2020-02     6327\n",
       "2020-03      716\n",
       "2020-04        5\n",
       "2020-06        1\n",
       "2020-07        9\n",
       "Freq: M, Name: created, Length: 67, dtype: int64"
      ]
     },
     "execution_count": 4,
     "metadata": {},
     "output_type": "execute_result"
    }
   ],
   "source": [
    "activity_monthly_value = pensActivity['created'].groupby(pensActivity.created.dt.to_period(\"M\")).agg('count')\n",
    "activity_monthly_value"
   ]
  },
  {
   "cell_type": "code",
   "execution_count": 5,
   "metadata": {},
   "outputs": [
    {
     "data": {
      "text/html": [
       "<div>\n",
       "<style scoped>\n",
       "    .dataframe tbody tr th:only-of-type {\n",
       "        vertical-align: middle;\n",
       "    }\n",
       "\n",
       "    .dataframe tbody tr th {\n",
       "        vertical-align: top;\n",
       "    }\n",
       "\n",
       "    .dataframe thead th {\n",
       "        text-align: right;\n",
       "    }\n",
       "</style>\n",
       "<table border=\"1\" class=\"dataframe\">\n",
       "  <thead>\n",
       "    <tr style=\"text-align: right;\">\n",
       "      <th></th>\n",
       "      <th>checkout_counts</th>\n",
       "      <th>activity_counts</th>\n",
       "    </tr>\n",
       "  </thead>\n",
       "  <tbody>\n",
       "    <tr>\n",
       "      <th>2014-10</th>\n",
       "      <td>20.0</td>\n",
       "      <td>NaN</td>\n",
       "    </tr>\n",
       "    <tr>\n",
       "      <th>2014-11</th>\n",
       "      <td>154.0</td>\n",
       "      <td>NaN</td>\n",
       "    </tr>\n",
       "    <tr>\n",
       "      <th>2014-12</th>\n",
       "      <td>63.0</td>\n",
       "      <td>52.0</td>\n",
       "    </tr>\n",
       "    <tr>\n",
       "      <th>2015-01</th>\n",
       "      <td>30.0</td>\n",
       "      <td>27.0</td>\n",
       "    </tr>\n",
       "    <tr>\n",
       "      <th>2015-02</th>\n",
       "      <td>126.0</td>\n",
       "      <td>760.0</td>\n",
       "    </tr>\n",
       "    <tr>\n",
       "      <th>...</th>\n",
       "      <td>...</td>\n",
       "      <td>...</td>\n",
       "    </tr>\n",
       "    <tr>\n",
       "      <th>2020-02</th>\n",
       "      <td>7595.0</td>\n",
       "      <td>6327.0</td>\n",
       "    </tr>\n",
       "    <tr>\n",
       "      <th>2020-03</th>\n",
       "      <td>854.0</td>\n",
       "      <td>716.0</td>\n",
       "    </tr>\n",
       "    <tr>\n",
       "      <th>2020-04</th>\n",
       "      <td>NaN</td>\n",
       "      <td>5.0</td>\n",
       "    </tr>\n",
       "    <tr>\n",
       "      <th>2020-06</th>\n",
       "      <td>NaN</td>\n",
       "      <td>1.0</td>\n",
       "    </tr>\n",
       "    <tr>\n",
       "      <th>2020-07</th>\n",
       "      <td>36.0</td>\n",
       "      <td>9.0</td>\n",
       "    </tr>\n",
       "  </tbody>\n",
       "</table>\n",
       "<p>69 rows × 2 columns</p>\n",
       "</div>"
      ],
      "text/plain": [
       "         checkout_counts  activity_counts\n",
       "2014-10             20.0              NaN\n",
       "2014-11            154.0              NaN\n",
       "2014-12             63.0             52.0\n",
       "2015-01             30.0             27.0\n",
       "2015-02            126.0            760.0\n",
       "...                  ...              ...\n",
       "2020-02           7595.0           6327.0\n",
       "2020-03            854.0            716.0\n",
       "2020-04              NaN              5.0\n",
       "2020-06              NaN              1.0\n",
       "2020-07             36.0              9.0\n",
       "\n",
       "[69 rows x 2 columns]"
      ]
     },
     "execution_count": 5,
     "metadata": {},
     "output_type": "execute_result"
    }
   ],
   "source": [
    "join_monthly_value = pd.concat([checkout_monthly_value, activity_monthly_value], axis=1)\n",
    "join_monthly_value = join_monthly_value.rename({'start': 'checkout_counts', 'created': 'activity_counts'}, axis=1)\n",
    "join_monthly_value"
   ]
  },
  {
   "cell_type": "code",
   "execution_count": 23,
   "metadata": {},
   "outputs": [
    {
     "data": {
      "text/plain": [
       "<matplotlib.legend.Legend at 0x7fad95703e50>"
      ]
     },
     "execution_count": 23,
     "metadata": {},
     "output_type": "execute_result"
    },
    {
     "data": {
      "text/plain": [
       "<Figure size 576x360 with 0 Axes>"
      ]
     },
     "metadata": {},
     "output_type": "display_data"
    },
    {
     "data": {
      "image/png": "[encoded data removed]",
      "text/plain": [
       "<Figure size 432x288 with 1 Axes>"
      ]
     },
     "metadata": {
      "needs_background": "light"
     },
     "output_type": "display_data"
    }
   ],
   "source": [
    "plt.figure(figsize=(8,5))\n",
    "join_monthly_value.plot()\n",
    "plt.xlabel('Date')\n",
    "plt.ylabel('Value counts')\n",
    "plt.title('Monthly Activity vs. Checkout values', fontdict={'fontweight': 'bold', 'fontsize':18})\n",
    "plt.legend()\n",
    "# plt.savefig(Monthly_value_checkout_activity.png', dpi=300)"
   ]
  },
  {
   "cell_type": "code",
   "execution_count": null,
   "metadata": {},
   "outputs": [],
   "source": []
  }
 ],
 "metadata": {
  "kernelspec": {
   "display_name": "Python 3",
   "language": "python",
   "name": "python3"
  },
  "language_info": {
   "codemirror_mode": {
    "name": "ipython",
    "version": 3
   },
   "file_extension": ".py",
   "mimetype": "text/x-python",
   "name": "python",
   "nbconvert_exporter": "python",
   "pygments_lexer": "ipython3",
   "version": "3.7.6"
  }
 },
 "nbformat": 4,
 "nbformat_minor": 4
}
