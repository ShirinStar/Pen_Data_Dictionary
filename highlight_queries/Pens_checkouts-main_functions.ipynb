{
 "cells": [
  {
   "cell_type": "code",
   "execution_count": 1,
   "metadata": {},
   "outputs": [],
   "source": [
    "import mysql.connector as sql\n",
    "import pandas as pd\n",
    "import datetime as dt\n",
    "import numpy as np\n",
    "from sorted_months_weekdays import *\n",
    "from sort_dataframeby_monthorweek import *\n",
    "import math"
   ]
  },
  {
   "cell_type": "code",
   "execution_count": 3,
   "metadata": {},
   "outputs": [],
   "source": [
    "db_connection = sql.connect(host='localhost', database='collection_visits', user='pandas', password='password')\n",
    "\n",
    "pensCheckouts = pd.read_sql('SELECT * FROM PensCheckouts', con=db_connection)\n",
    "pensCheckouts['start'] = pd.to_datetime(pensCheckouts['start'], unit='s').dt.tz_localize('utc').dt.tz_convert('US/Eastern')\n",
    "pensCheckouts['start'].replace(0, np.nan, inplace=True)\n",
    "pensCheckouts['end'].replace(0, np.nan, inplace=True)\n",
    "pensCheckouts['end'] = pd.to_datetime(pensCheckouts['end'], unit='s').dt.tz_localize('utc').dt.tz_convert('US/Eastern')\n",
    "pensCheckouts['start_ip'].replace(0, np.nan, inplace=True)\n",
    "pensCheckouts['end_ip'].replace(0, np.nan, inplace=True)\n",
    "pensCheckouts['start_ip'] = pensCheckouts['start_ip'].astype('category')\n",
    "pensCheckouts['end_ip'] = pensCheckouts['end_ip'].astype('category')\n",
    "pensCheckouts.set_index('id', inplace=True)\n",
    "pensCheckouts.sort_index(inplace=True)\n",
    "\n",
    "pd.set_option('display.max_rows', 200)\n",
    "pd.set_option('display.max_columns', 50)"
   ]
  },
  {
   "cell_type": "code",
   "execution_count": 4,
   "metadata": {},
   "outputs": [
    {
     "data": {
      "text/html": [
       "<div>\n",
       "<style scoped>\n",
       "    .dataframe tbody tr th:only-of-type {\n",
       "        vertical-align: middle;\n",
       "    }\n",
       "\n",
       "    .dataframe tbody tr th {\n",
       "        vertical-align: top;\n",
       "    }\n",
       "\n",
       "    .dataframe thead th {\n",
       "        text-align: right;\n",
       "    }\n",
       "</style>\n",
       "<table border=\"1\" class=\"dataframe\">\n",
       "  <thead>\n",
       "    <tr style=\"text-align: right;\">\n",
       "      <th></th>\n",
       "      <th>pen_id</th>\n",
       "      <th>visit_id</th>\n",
       "      <th>start</th>\n",
       "      <th>end</th>\n",
       "      <th>start_ip</th>\n",
       "      <th>end_ip</th>\n",
       "    </tr>\n",
       "    <tr>\n",
       "      <th>id</th>\n",
       "      <th></th>\n",
       "      <th></th>\n",
       "      <th></th>\n",
       "      <th></th>\n",
       "      <th></th>\n",
       "      <th></th>\n",
       "    </tr>\n",
       "  </thead>\n",
       "  <tbody>\n",
       "    <tr>\n",
       "      <th>68762351</th>\n",
       "      <td>8</td>\n",
       "      <td>793401</td>\n",
       "      <td>2014-10-23 11:36:51-04:00</td>\n",
       "      <td>2014-10-24 20:44:42-04:00</td>\n",
       "      <td>NaN</td>\n",
       "      <td>NaN</td>\n",
       "    </tr>\n",
       "    <tr>\n",
       "      <th>68762353</th>\n",
       "      <td>3</td>\n",
       "      <td>793449</td>\n",
       "      <td>2014-10-23 12:25:42-04:00</td>\n",
       "      <td>2014-10-24 20:44:42-04:00</td>\n",
       "      <td>NaN</td>\n",
       "      <td>NaN</td>\n",
       "    </tr>\n",
       "    <tr>\n",
       "      <th>68764535</th>\n",
       "      <td>9</td>\n",
       "      <td>793527</td>\n",
       "      <td>2014-10-23 22:04:59-04:00</td>\n",
       "      <td>2014-10-24 20:44:42-04:00</td>\n",
       "      <td>NaN</td>\n",
       "      <td>NaN</td>\n",
       "    </tr>\n",
       "    <tr>\n",
       "      <th>68764585</th>\n",
       "      <td>2</td>\n",
       "      <td>793571</td>\n",
       "      <td>2014-10-24 11:05:23-04:00</td>\n",
       "      <td>2014-10-27 13:53:29-04:00</td>\n",
       "      <td>NaN</td>\n",
       "      <td>NaN</td>\n",
       "    </tr>\n",
       "    <tr>\n",
       "      <th>68764655</th>\n",
       "      <td>7</td>\n",
       "      <td>793681</td>\n",
       "      <td>2014-10-24 20:02:19-04:00</td>\n",
       "      <td>2014-10-27 13:53:29-04:00</td>\n",
       "      <td>NaN</td>\n",
       "      <td>NaN</td>\n",
       "    </tr>\n",
       "    <tr>\n",
       "      <th>...</th>\n",
       "      <td>...</td>\n",
       "      <td>...</td>\n",
       "      <td>...</td>\n",
       "      <td>...</td>\n",
       "      <td>...</td>\n",
       "      <td>...</td>\n",
       "    </tr>\n",
       "    <tr>\n",
       "      <th>132777685</th>\n",
       "      <td>1520099</td>\n",
       "      <td>132777683</td>\n",
       "      <td>2020-07-02 16:22:28-04:00</td>\n",
       "      <td>2020-07-02 16:22:44-04:00</td>\n",
       "      <td>1.198075e+09</td>\n",
       "      <td>1.198075e+09</td>\n",
       "    </tr>\n",
       "    <tr>\n",
       "      <th>132794703</th>\n",
       "      <td>1520099</td>\n",
       "      <td>132794701</td>\n",
       "      <td>2020-07-06 13:42:18-04:00</td>\n",
       "      <td>2020-07-06 13:43:00-04:00</td>\n",
       "      <td>1.198075e+09</td>\n",
       "      <td>1.198075e+09</td>\n",
       "    </tr>\n",
       "    <tr>\n",
       "      <th>132806721</th>\n",
       "      <td>1520099</td>\n",
       "      <td>132806719</td>\n",
       "      <td>2020-07-09 09:12:28-04:00</td>\n",
       "      <td>2020-07-09 09:12:46-04:00</td>\n",
       "      <td>1.198075e+09</td>\n",
       "      <td>1.198075e+09</td>\n",
       "    </tr>\n",
       "    <tr>\n",
       "      <th>132806729</th>\n",
       "      <td>1520099</td>\n",
       "      <td>132806727</td>\n",
       "      <td>2020-07-09 09:16:41-04:00</td>\n",
       "      <td>2020-07-09 09:17:00-04:00</td>\n",
       "      <td>1.198075e+09</td>\n",
       "      <td>1.198075e+09</td>\n",
       "    </tr>\n",
       "    <tr>\n",
       "      <th>132806737</th>\n",
       "      <td>1520099</td>\n",
       "      <td>132806735</td>\n",
       "      <td>2020-07-09 09:20:03-04:00</td>\n",
       "      <td>2020-07-09 09:20:15-04:00</td>\n",
       "      <td>1.198075e+09</td>\n",
       "      <td>1.198075e+09</td>\n",
       "    </tr>\n",
       "  </tbody>\n",
       "</table>\n",
       "<p>556337 rows × 6 columns</p>\n",
       "</div>"
      ],
      "text/plain": [
       "            pen_id   visit_id                     start  \\\n",
       "id                                                        \n",
       "68762351         8     793401 2014-10-23 11:36:51-04:00   \n",
       "68762353         3     793449 2014-10-23 12:25:42-04:00   \n",
       "68764535         9     793527 2014-10-23 22:04:59-04:00   \n",
       "68764585         2     793571 2014-10-24 11:05:23-04:00   \n",
       "68764655         7     793681 2014-10-24 20:02:19-04:00   \n",
       "...            ...        ...                       ...   \n",
       "132777685  1520099  132777683 2020-07-02 16:22:28-04:00   \n",
       "132794703  1520099  132794701 2020-07-06 13:42:18-04:00   \n",
       "132806721  1520099  132806719 2020-07-09 09:12:28-04:00   \n",
       "132806729  1520099  132806727 2020-07-09 09:16:41-04:00   \n",
       "132806737  1520099  132806735 2020-07-09 09:20:03-04:00   \n",
       "\n",
       "                                end      start_ip        end_ip  \n",
       "id                                                               \n",
       "68762351  2014-10-24 20:44:42-04:00           NaN           NaN  \n",
       "68762353  2014-10-24 20:44:42-04:00           NaN           NaN  \n",
       "68764535  2014-10-24 20:44:42-04:00           NaN           NaN  \n",
       "68764585  2014-10-27 13:53:29-04:00           NaN           NaN  \n",
       "68764655  2014-10-27 13:53:29-04:00           NaN           NaN  \n",
       "...                             ...           ...           ...  \n",
       "132777685 2020-07-02 16:22:44-04:00  1.198075e+09  1.198075e+09  \n",
       "132794703 2020-07-06 13:43:00-04:00  1.198075e+09  1.198075e+09  \n",
       "132806721 2020-07-09 09:12:46-04:00  1.198075e+09  1.198075e+09  \n",
       "132806729 2020-07-09 09:17:00-04:00  1.198075e+09  1.198075e+09  \n",
       "132806737 2020-07-09 09:20:15-04:00  1.198075e+09  1.198075e+09  \n",
       "\n",
       "[556337 rows x 6 columns]"
      ]
     },
     "execution_count": 4,
     "metadata": {},
     "output_type": "execute_result"
    }
   ],
   "source": [
    "pensCheckouts"
   ]
  },
  {
   "cell_type": "markdown",
   "metadata": {},
   "source": [
    "## what is the average time for pen uses"
   ]
  },
  {
   "cell_type": "code",
   "execution_count": 7,
   "metadata": {},
   "outputs": [],
   "source": [
    "def checkout_average_time():\n",
    "    pensCheckouts['time_spent'] = pensCheckouts['end'] - pensCheckouts['start']\n",
    "    less_day = pensCheckouts['time_spent'] < '1day'\n",
    "    less_day_df = pensCheckouts[less_day]\n",
    "    min_spent = less_day_df[\"time_spent\"].map(lambda timedelta: timedelta.total_seconds() / 60)\n",
    "    min_spent = min_spent.dropna().map(lambda seconds: math.floor(seconds))\n",
    "    min_spent = min_spent.to_frame()\n",
    "    more_than_five_min = min_spent[min_spent['time_spent'] > 5]\n",
    "    return more_than_five_min['time_spent'].mean()"
   ]
  },
  {
   "cell_type": "code",
   "execution_count": 8,
   "metadata": {},
   "outputs": [
    {
     "data": {
      "text/plain": [
       "126.90362885266111"
      ]
     },
     "execution_count": 8,
     "metadata": {},
     "output_type": "execute_result"
    }
   ],
   "source": [
    "checkout_average_time()"
   ]
  },
  {
   "cell_type": "markdown",
   "metadata": {},
   "source": [
    "## how many Pens per year"
   ]
  },
  {
   "cell_type": "code",
   "execution_count": 9,
   "metadata": {},
   "outputs": [],
   "source": [
    "def number_pens_per_year(year):\n",
    "    yearly_pensCheckouts = pensCheckouts[pensCheckouts['start'].dt.year == year]\n",
    "    return yearly_pensCheckouts['pen_id'].nunique()"
   ]
  },
  {
   "cell_type": "code",
   "execution_count": 10,
   "metadata": {},
   "outputs": [
    {
     "data": {
      "text/plain": [
       "1694"
      ]
     },
     "execution_count": 10,
     "metadata": {},
     "output_type": "execute_result"
    }
   ],
   "source": [
    "number_pens_per_year(2015)"
   ]
  }
 ],
 "metadata": {
  "kernelspec": {
   "display_name": "Python 3",
   "language": "python",
   "name": "python3"
  },
  "language_info": {
   "codemirror_mode": {
    "name": "ipython",
    "version": 3
   },
   "file_extension": ".py",
   "mimetype": "text/x-python",
   "name": "python",
   "nbconvert_exporter": "python",
   "pygments_lexer": "ipython3",
   "version": "3.7.6"
  }
 },
 "nbformat": 4,
 "nbformat_minor": 4
}
