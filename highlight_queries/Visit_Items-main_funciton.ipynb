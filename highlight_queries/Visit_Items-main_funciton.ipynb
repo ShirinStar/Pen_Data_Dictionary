{
 "cells": [
  {
   "cell_type": "code",
   "execution_count": 21,
   "metadata": {},
   "outputs": [],
   "source": [
    "import mysql.connector as sql\n",
    "import pandas as pd\n",
    "import datetime as dt\n",
    "import numpy as np\n",
    "from sorted_months_weekdays import *\n",
    "from sort_dataframeby_monthorweek import *\n",
    "import matplotlib.pyplot as plt"
   ]
  },
  {
   "cell_type": "code",
   "execution_count": 22,
   "metadata": {},
   "outputs": [],
   "source": [
    "db_connection = sql.connect(host='localhost', database='collection_visits', user='pandas', password='password')\n",
    "\n",
    "visitsItems = pd.read_sql('SELECT * FROM VisitsItems', con=db_connection)\n",
    "visitsItems['created'] = pd.to_datetime(visitsItems['created'], unit='s').dt.tz_localize('utc').dt.tz_convert('US/Eastern')\n",
    "visitsItems['lastmodified'] = pd.to_datetime(visitsItems['lastmodified'], unit='s').dt.tz_localize('utc').dt.tz_convert('US/Eastern')\n",
    "visitsItems['deleted'].replace(0, np.nan, inplace=True)\n",
    "visitsItems['deleted'] = pd.to_datetime(visitsItems['deleted'], unit='s').dt.tz_localize('utc').dt.tz_convert('US/Eastern')\n",
    "visitsItems['title'].replace(r'^\\s*$', np.NaN, regex=True, inplace=True)\n",
    "visitsItems['description'].replace(r'^\\s*$', np.NaN, regex=True, inplace=True)\n",
    "visitsItems['title'] = visitsItems['title'].astype('category')\n",
    "visitsItems['description'] = visitsItems['description'].astype('category')\n",
    "\n",
    "pd.set_option('display.max_rows', 600)\n",
    "pd.set_option('display.max_columns', 50)\n",
    "pd.set_option(\"max_colwidth\", 1000)"
   ]
  },
  {
   "cell_type": "code",
   "execution_count": 23,
   "metadata": {},
   "outputs": [],
   "source": [
    "visitsItems.set_index('created', inplace=True)\n",
    "visitsItem_openinghours = visitsItems.between_time('10:00', '18:00')\n",
    "visitsItems.reset_index(inplace=True)\n",
    "visitsItem_openinghours.reset_index(inplace=True)"
   ]
  },
  {
   "cell_type": "markdown",
   "metadata": {},
   "source": [
    "# collected per year"
   ]
  },
  {
   "cell_type": "code",
   "execution_count": 5,
   "metadata": {},
   "outputs": [
    {
     "name": "stderr",
     "output_type": "stream",
     "text": [
      "/Users/shirin/opt/anaconda3/lib/python3.7/site-packages/pandas/core/arrays/datetimes.py:1102: UserWarning: Converting to PeriodArray/Index representation will drop timezone information.\n",
      "  UserWarning,\n"
     ]
    },
    {
     "data": {
      "text/plain": [
       "created\n",
       "2014        972\n",
       "2015    2848435\n",
       "2016    7588938\n",
       "2017    3344537\n",
       "2018    1581586\n",
       "2019    1304527\n",
       "2020     241677\n",
       "Freq: A-DEC, Name: created, dtype: int64"
      ]
     },
     "execution_count": 5,
     "metadata": {},
     "output_type": "execute_result"
    }
   ],
   "source": [
    "visitsItems_collected = visitsItem_openinghours[visitsItem_openinghours['action_id'] == 1]\n",
    "visitsItems_collected['created'].groupby(visitsItems_collected.created.dt.to_period(\"Y\")).agg('count')"
   ]
  },
  {
   "cell_type": "markdown",
   "metadata": {},
   "source": [
    "## created per year"
   ]
  },
  {
   "cell_type": "code",
   "execution_count": 7,
   "metadata": {},
   "outputs": [
    {
     "data": {
      "text/plain": [
       "created\n",
       "2014        37\n",
       "2015     96250\n",
       "2016    129156\n",
       "2017     75204\n",
       "2018     29831\n",
       "2019     25738\n",
       "2020      3356\n",
       "Freq: A-DEC, Name: created, dtype: int64"
      ]
     },
     "execution_count": 7,
     "metadata": {},
     "output_type": "execute_result"
    }
   ],
   "source": [
    "visitsItems_created = visitsItem_openinghours[visitsItem_openinghours['action_id'] == 2]\n",
    "visitsItems_created['created'].groupby(visitsItems_created.created.dt.to_period(\"Y\")).agg('count')"
   ]
  },
  {
   "cell_type": "markdown",
   "metadata": {},
   "source": [
    "## average items per user w/o user==0"
   ]
  },
  {
   "cell_type": "code",
   "execution_count": 8,
   "metadata": {},
   "outputs": [],
   "source": [
    "visitsItems_not_zero = visitsItem_openinghours[visitsItem_openinghours['user_id'] != 0]\n",
    "visitsItems_not_zero_and_action1 = visitsItems_not_zero[visitsItems_not_zero['action_id'] == 1]\n",
    "visitsItems_action1 = visitsItems[visitsItems['action_id'] == 1]\n"
   ]
  },
  {
   "cell_type": "code",
   "execution_count": 11,
   "metadata": {},
   "outputs": [
    {
     "name": "stderr",
     "output_type": "stream",
     "text": [
      "/Users/shirin/opt/anaconda3/lib/python3.7/site-packages/ipykernel_launcher.py:4: SettingWithCopyWarning: \n",
      "A value is trying to be set on a copy of a slice from a DataFrame\n",
      "\n",
      "See the caveats in the documentation: https://pandas.pydata.org/pandas-docs/stable/user_guide/indexing.html#returning-a-view-versus-a-copy\n",
      "  after removing the cwd from sys.path.\n"
     ]
    },
    {
     "data": {
      "text/plain": [
       "69.01548492257538"
      ]
     },
     "execution_count": 11,
     "metadata": {},
     "output_type": "execute_result"
    }
   ],
   "source": [
    "group_visit_items= visitsItems_not_zero_and_action1.groupby(['user_id']).agg('sum')\n",
    "group_visit_items.reset_index(inplace=True)\n",
    "group_visit_count = group_visit_items[['user_id', 'action_id']]\n",
    "group_visit_count.sort_values(by=\"action_id\", ascending=False, inplace=True)\n",
    "group_visit_count['action_id'].mean()"
   ]
  },
  {
   "cell_type": "markdown",
   "metadata": {},
   "source": [
    "## collected vs created"
   ]
  },
  {
   "cell_type": "code",
   "execution_count": 24,
   "metadata": {},
   "outputs": [
    {
     "name": "stderr",
     "output_type": "stream",
     "text": [
      "/Users/shirin/opt/anaconda3/lib/python3.7/site-packages/pandas/core/arrays/datetimes.py:1102: UserWarning: Converting to PeriodArray/Index representation will drop timezone information.\n",
      "  UserWarning,\n"
     ]
    },
    {
     "data": {
      "text/html": [
       "<div>\n",
       "<style scoped>\n",
       "    .dataframe tbody tr th:only-of-type {\n",
       "        vertical-align: middle;\n",
       "    }\n",
       "\n",
       "    .dataframe tbody tr th {\n",
       "        vertical-align: top;\n",
       "    }\n",
       "\n",
       "    .dataframe thead tr th {\n",
       "        text-align: left;\n",
       "    }\n",
       "\n",
       "    .dataframe thead tr:last-of-type th {\n",
       "        text-align: right;\n",
       "    }\n",
       "</style>\n",
       "<table border=\"1\" class=\"dataframe\">\n",
       "  <thead>\n",
       "    <tr>\n",
       "      <th></th>\n",
       "      <th colspan=\"2\" halign=\"left\">count_of_action</th>\n",
       "    </tr>\n",
       "    <tr>\n",
       "      <th></th>\n",
       "      <th colspan=\"2\" halign=\"left\">count</th>\n",
       "    </tr>\n",
       "    <tr>\n",
       "      <th>action_id</th>\n",
       "      <th>1</th>\n",
       "      <th>2</th>\n",
       "    </tr>\n",
       "    <tr>\n",
       "      <th>created</th>\n",
       "      <th></th>\n",
       "      <th></th>\n",
       "    </tr>\n",
       "  </thead>\n",
       "  <tbody>\n",
       "    <tr>\n",
       "      <th>2014</th>\n",
       "      <td>972</td>\n",
       "      <td>37</td>\n",
       "    </tr>\n",
       "    <tr>\n",
       "      <th>2015</th>\n",
       "      <td>2848435</td>\n",
       "      <td>96250</td>\n",
       "    </tr>\n",
       "    <tr>\n",
       "      <th>2016</th>\n",
       "      <td>7588938</td>\n",
       "      <td>129156</td>\n",
       "    </tr>\n",
       "    <tr>\n",
       "      <th>2017</th>\n",
       "      <td>3344537</td>\n",
       "      <td>75204</td>\n",
       "    </tr>\n",
       "    <tr>\n",
       "      <th>2018</th>\n",
       "      <td>1581586</td>\n",
       "      <td>29831</td>\n",
       "    </tr>\n",
       "    <tr>\n",
       "      <th>2019</th>\n",
       "      <td>1304527</td>\n",
       "      <td>25738</td>\n",
       "    </tr>\n",
       "    <tr>\n",
       "      <th>2020</th>\n",
       "      <td>241677</td>\n",
       "      <td>3356</td>\n",
       "    </tr>\n",
       "  </tbody>\n",
       "</table>\n",
       "</div>"
      ],
      "text/plain": [
       "          count_of_action        \n",
       "                    count        \n",
       "action_id               1       2\n",
       "created                          \n",
       "2014                  972      37\n",
       "2015              2848435   96250\n",
       "2016              7588938  129156\n",
       "2017              3344537   75204\n",
       "2018              1581586   29831\n",
       "2019              1304527   25738\n",
       "2020               241677    3356"
      ]
     },
     "execution_count": 24,
     "metadata": {},
     "output_type": "execute_result"
    }
   ],
   "source": [
    "visitsItem_openinghours = visitsItem_openinghours[visitsItem_openinghours['created'] > '2010']\n",
    "visitsItem_openinghours['created'] = visitsItem_openinghours['created'].dt.to_period(\"Y\")\n",
    "grouped_year_action = visitsItem_openinghours.groupby(['action_id', 'created']).agg({'created': ['count']})\n",
    "grouped_year_action.rename({'created': 'count_of_action'}, axis=1, inplace=True)\n",
    "grouped_year_action = grouped_year_action.unstack(level=0)\n",
    "grouped_year_action"
   ]
  },
  {
   "cell_type": "code",
   "execution_count": null,
   "metadata": {},
   "outputs": [],
   "source": []
  }
 ],
 "metadata": {
  "kernelspec": {
   "display_name": "Python 3",
   "language": "python",
   "name": "python3"
  },
  "language_info": {
   "codemirror_mode": {
    "name": "ipython",
    "version": 3
   },
   "file_extension": ".py",
   "mimetype": "text/x-python",
   "name": "python",
   "nbconvert_exporter": "python",
   "pygments_lexer": "ipython3",
   "version": "3.7.6"
  }
 },
 "nbformat": 4,
 "nbformat_minor": 4
}
