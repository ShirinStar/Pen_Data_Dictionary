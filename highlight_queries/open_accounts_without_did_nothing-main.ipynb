{
 "cells": [
  {
   "cell_type": "code",
   "execution_count": 1,
   "metadata": {},
   "outputs": [],
   "source": [
    "import mysql.connector as sql\n",
    "import pandas as pd\n",
    "import datetime as dt\n",
    "import numpy as np\n",
    "from sorted_months_weekdays import *\n",
    "from sort_dataframeby_monthorweek import *\n",
    "import matplotlib.pyplot as plt\n",
    "import math\n",
    "import json\n",
    "from pandas.io.json import json_normalize\n",
    "import requests\n",
    "import matplotlib.dates as mdates\n",
    "from datetime import date, timedelta"
   ]
  },
  {
   "cell_type": "code",
   "execution_count": 2,
   "metadata": {},
   "outputs": [],
   "source": [
    "db_connection = sql.connect(host='localhost', database='collection_visits', user='pandas', password='password')\n",
    "\n",
    "visits = pd.read_sql('SELECT * FROM Visits', con=db_connection)\n",
    "visits['created'] = pd.to_datetime(visits['created'], unit='s')\n",
    "visits['lastmodified'] = pd.to_datetime(visits['lastmodified'], unit='s').dt.tz_localize('utc').dt.tz_convert('US/Eastern')\n",
    "visits['registered'] = visits['registered'].replace(0, np.nan)\n",
    "visits['registered'] = pd.to_datetime(visits['registered'], unit='s').dt.tz_localize('utc').dt.tz_convert('US/Eastern')\n",
    "visits['deleted'] = visits['deleted'].replace(0, np.nan)\n",
    "visits['deleted'] = pd.to_datetime(visits['deleted'], unit='s').dt.tz_localize('utc').dt.tz_convert('US/Eastern')\n",
    "visits['paired'] = visits['paired'].replace(0, np.nan)\n",
    "visits['paired'] = pd.to_datetime(visits['paired'], unit='s').dt.tz_localize('utc').dt.tz_convert('US/Eastern')\n",
    "visits['created_ip'].replace(0, np.nan, inplace=True)\n",
    "visits['registered_ip'].replace(0, np.nan, inplace=True)\n",
    "visits['paired_ip'].replace(0, np.nan, inplace=True)\n",
    "visits['exported'].replace(0, np.nan, inplace=True)\n",
    "visits['title'].fillna(value=np.nan, inplace=True)\n",
    "visits['note'].replace(r'^\\s*$', np.NaN, regex=True, inplace=True)\n",
    "\n",
    "db_connection = sql.connect(host='localhost', database='collection_visits', user='pandas', password='password')\n",
    "\n",
    "pensActivity = pd.read_sql('SELECT * FROM PensActivity', con=db_connection)\n",
    "pensActivity['created'] = pd.to_datetime(pensActivity['created'], unit='s').dt.tz_localize('utc').dt.tz_convert('US/Eastern')\n",
    "pensActivity['lastmodified'] = pd.to_datetime(pensActivity['lastmodified'], unit='s').dt.tz_localize('utc').dt.tz_convert('US/Eastern')\n",
    "pensActivity['created'].replace(0, np.nan, inplace=True)\n",
    "pensActivity['lastmodified'].replace(0, np.nan, inplace=True)\n",
    "pensActivity['notes'].replace(r'^\\s*$', np.NaN, regex=True, inplace=True)\n",
    "pensActivity['notes'] = pensActivity['notes'].astype('category')\n",
    "pensActivity.sort_values(by='created', inplace=True)"
   ]
  },
  {
   "cell_type": "code",
   "execution_count": 3,
   "metadata": {},
   "outputs": [],
   "source": [
    "visits= visits[visits['created'] > '2014']\n",
    "visits_opening_hours = visits.set_index('created')\n",
    "visits_opening_hours = visits_opening_hours.between_time('10:00', '18:00')\n",
    "visits_opening_hours.reset_index(inplace=True)\n",
    "pensActivity = pensActivity[pensActivity['created'] > '2014']\n",
    "activity_openhours = pensActivity.set_index('created')\n",
    "activity_openhours = activity_openhours.between_time('10:00', '18:00')\n",
    "activity_openhours.reset_index(inplace=True)"
   ]
  },
  {
   "cell_type": "code",
   "execution_count": 8,
   "metadata": {},
   "outputs": [],
   "source": [
    "visits_clean = visits_opening_hours[['id', 'shortcode', 'user_id', 'created']]\n",
    "visits_clean = visits_clean.rename({'id': 'visit_id'},axis=1)\n",
    "visits_clean\n",
    "\n",
    "pensActivity_clean = activity_openhours[['visit_id', 'created', 'count_items']]"
   ]
  },
  {
   "cell_type": "code",
   "execution_count": 9,
   "metadata": {},
   "outputs": [],
   "source": [
    "activity_visits = pensActivity_clean.merge(visits_clean, on='visit_id', how='right', suffixes=('_activity', '_visits'))\n",
    "activity_visits['count_items'].fillna(value=0, inplace=True)"
   ]
  },
  {
   "cell_type": "code",
   "execution_count": 10,
   "metadata": {},
   "outputs": [
    {
     "data": {
      "text/plain": [
       "402042"
      ]
     },
     "execution_count": 10,
     "metadata": {},
     "output_type": "execute_result"
    }
   ],
   "source": [
    "visitors_collected_something = activity_visits[activity_visits['count_items'] != 0] \n",
    "visitors_collected_something['shortcode'].count()"
   ]
  },
  {
   "cell_type": "code",
   "execution_count": 11,
   "metadata": {},
   "outputs": [
    {
     "data": {
      "text/plain": [
       "88047"
      ]
     },
     "execution_count": 11,
     "metadata": {},
     "output_type": "execute_result"
    }
   ],
   "source": [
    "collected_nothing = activity_visits[activity_visits['count_items'] == 0] \n",
    "collected_nothing['shortcode'].count()"
   ]
  },
  {
   "cell_type": "code",
   "execution_count": 13,
   "metadata": {},
   "outputs": [
    {
     "data": {
      "text/plain": [
       "visit_id            23582\n",
       "created_activity    23040\n",
       "count_items         23582\n",
       "shortcode           23582\n",
       "user_id             23582\n",
       "created_visits      23582\n",
       "dtype: int64"
      ]
     },
     "execution_count": 13,
     "metadata": {},
     "output_type": "execute_result"
    }
   ],
   "source": [
    "have_account = activity_visits[activity_visits['user_id'] != 0]\n",
    "have_account.count()"
   ]
  },
  {
   "cell_type": "code",
   "execution_count": 17,
   "metadata": {},
   "outputs": [
    {
     "data": {
      "text/plain": [
       "23040"
      ]
     },
     "execution_count": 17,
     "metadata": {},
     "output_type": "execute_result"
    }
   ],
   "source": [
    "collected_something_and_have_account = visitors_collected_something[visitors_collected_something['user_id'] != 0]\n",
    "collected_something_and_have_account['shortcode'].count()"
   ]
  },
  {
   "cell_type": "code",
   "execution_count": 18,
   "metadata": {},
   "outputs": [
    {
     "data": {
      "text/plain": [
       "5.865556334910283"
      ]
     },
     "execution_count": 18,
     "metadata": {},
     "output_type": "execute_result"
    }
   ],
   "source": [
    "have_account['shortcode'].count() / visitors_collected_something['shortcode'].count() * 100"
   ]
  },
  {
   "cell_type": "code",
   "execution_count": 21,
   "metadata": {},
   "outputs": [],
   "source": [
    "did_something_engagment_yearly = collected_something_and_have_account['created_visits'].groupby(collected_something_and_have_account.created_visits.dt.to_period('Y')).agg('count')\n",
    "did_something_engagment_yearly = did_something_engagment_yearly.to_frame()\n",
    "did_something_engagment_yearly.rename({'created_visits': 'value'}, axis=1, inplace=True)\n",
    "did_something_engagment_yearly['total_visits'] = visits['created'].groupby(visits.created.dt.to_period('Y')).agg('count')\n",
    "did_something_engagment_yearly"
   ]
  },
  {
   "cell_type": "code",
   "execution_count": 27,
   "metadata": {},
   "outputs": [
    {
     "data": {
      "text/html": [
       "<div>\n",
       "<style scoped>\n",
       "    .dataframe tbody tr th:only-of-type {\n",
       "        vertical-align: middle;\n",
       "    }\n",
       "\n",
       "    .dataframe tbody tr th {\n",
       "        vertical-align: top;\n",
       "    }\n",
       "\n",
       "    .dataframe thead th {\n",
       "        text-align: right;\n",
       "    }\n",
       "</style>\n",
       "<table border=\"1\" class=\"dataframe\">\n",
       "  <thead>\n",
       "    <tr style=\"text-align: right;\">\n",
       "      <th></th>\n",
       "      <th>total collected AND opened account</th>\n",
       "      <th>total_visits</th>\n",
       "      <th>percentage</th>\n",
       "    </tr>\n",
       "    <tr>\n",
       "      <th>created_visits</th>\n",
       "      <th></th>\n",
       "      <th></th>\n",
       "      <th></th>\n",
       "    </tr>\n",
       "  </thead>\n",
       "  <tbody>\n",
       "    <tr>\n",
       "      <th>2015</th>\n",
       "      <td>9408</td>\n",
       "      <td>119850</td>\n",
       "      <td>7.849812</td>\n",
       "    </tr>\n",
       "    <tr>\n",
       "      <th>2016</th>\n",
       "      <td>7562</td>\n",
       "      <td>212266</td>\n",
       "      <td>3.562511</td>\n",
       "    </tr>\n",
       "    <tr>\n",
       "      <th>2017</th>\n",
       "      <td>3487</td>\n",
       "      <td>140780</td>\n",
       "      <td>2.476914</td>\n",
       "    </tr>\n",
       "    <tr>\n",
       "      <th>2018</th>\n",
       "      <td>1393</td>\n",
       "      <td>127028</td>\n",
       "      <td>1.096609</td>\n",
       "    </tr>\n",
       "    <tr>\n",
       "      <th>2019</th>\n",
       "      <td>1079</td>\n",
       "      <td>98745</td>\n",
       "      <td>1.092714</td>\n",
       "    </tr>\n",
       "    <tr>\n",
       "      <th>2020</th>\n",
       "      <td>111</td>\n",
       "      <td>17426</td>\n",
       "      <td>0.636979</td>\n",
       "    </tr>\n",
       "  </tbody>\n",
       "</table>\n",
       "</div>"
      ],
      "text/plain": [
       "                total collected AND opened account  total_visits  percentage\n",
       "created_visits                                                              \n",
       "2015                                          9408        119850    7.849812\n",
       "2016                                          7562        212266    3.562511\n",
       "2017                                          3487        140780    2.476914\n",
       "2018                                          1393        127028    1.096609\n",
       "2019                                          1079         98745    1.092714\n",
       "2020                                           111         17426    0.636979"
      ]
     },
     "execution_count": 27,
     "metadata": {},
     "output_type": "execute_result"
    }
   ],
   "source": [
    "did_something_engagment_yearly['percentage'] = collected_something_and_have_account['created_visits'].groupby(collected_something_and_have_account.created_visits.dt.to_period('Y')).agg('count') / visits['created'].groupby(visits.created.dt.to_period('Y')).agg('count') *100\n",
    "did_something_engagment_yearly= did_something_engagment_yearly[['value', 'total_visits', 'percentage']]\n",
    "did_something_engagment_yearly.rename({'value': 'total collected AND opened account'}, axis=1, inplace=True)\n",
    "did_something_engagment_yearly"
   ]
  },
  {
   "cell_type": "code",
   "execution_count": null,
   "metadata": {},
   "outputs": [],
   "source": []
  }
 ],
 "metadata": {
  "kernelspec": {
   "display_name": "Python 3",
   "language": "python",
   "name": "python3"
  },
  "language_info": {
   "codemirror_mode": {
    "name": "ipython",
    "version": 3
   },
   "file_extension": ".py",
   "mimetype": "text/x-python",
   "name": "python",
   "nbconvert_exporter": "python",
   "pygments_lexer": "ipython3",
   "version": "3.7.6"
  }
 },
 "nbformat": 4,
 "nbformat_minor": 4
}
